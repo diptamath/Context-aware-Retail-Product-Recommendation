{
 "cells": [
  {
   "cell_type": "code",
   "execution_count": 1,
   "metadata": {},
   "outputs": [],
   "source": [
    "# ! pip install fastparquet\n",
    "# ! pip install ipynb\n",
    "# ! pip install lightgbm\n",
    "# ! pip install xgboost\n",
    "# ! pip install scikit-optimize\n",
    "# ! pip install lightgbm --install-option=--gpu"
   ]
  },
  {
   "cell_type": "code",
   "execution_count": 2,
   "metadata": {},
   "outputs": [],
   "source": [
    "# from ipynb.fs.full.data_merge_utils import reduce_mem_usage, merge_data\n"
   ]
  },
  {
   "cell_type": "code",
   "execution_count": 3,
   "metadata": {},
   "outputs": [],
   "source": [
    "import pandas as pd\n",
    "import swifter\n",
    "import numpy as np\n",
    "from glob import glob\n",
    "import datetime, json\n",
    "import gc\n",
    "from skopt import gp_minimize\n",
    "from skopt.space import Real, Integer, Categorical\n",
    "from sklearn.impute import SimpleImputer\n",
    "import lightgbm as lgb\n",
    "from scipy.stats import randint as sp_randint\n",
    "from scipy.stats import uniform as sp_uniform\n",
    "from sklearn.model_selection import RandomizedSearchCV, GridSearchCV\n",
    "import matplotlib.pyplot as plt\n",
    "from sklearn.metrics import precision_score, recall_score, f1_score\n",
    "import os\n"
   ]
  },
  {
   "cell_type": "code",
   "execution_count": 4,
   "metadata": {},
   "outputs": [],
   "source": [
    "import pyximport\n",
    "pyximport.install(reload_support=True)\n",
    "from mrr import mrr as mrr_cython"
   ]
  },
  {
   "cell_type": "code",
   "execution_count": null,
   "metadata": {},
   "outputs": [],
   "source": []
  },
  {
   "cell_type": "code",
   "execution_count": 5,
   "metadata": {},
   "outputs": [],
   "source": [
    "def check_folder(path, point_allowed_path=False):\n",
    "    split_folder = os.path.split(path)\n",
    "    if not point_allowed_path:\n",
    "        if '.' in split_folder[1]:\n",
    "            # path is a file\n",
    "            path = split_folder[0]\n",
    "    if not os.path.exists(path):\n",
    "        print(f'{path} folder created')\n",
    "        os.makedirs(path, exist_ok=True)"
   ]
  },
  {
   "cell_type": "code",
   "execution_count": 6,
   "metadata": {},
   "outputs": [],
   "source": [
    "def reduce_mem_usage(df):\n",
    "    start_mem = df.memory_usage().sum() / 1024 ** 2\n",
    "    print('Memory usage of dataframe is {:.2f} MB'.format(start_mem))\n",
    "\n",
    "    for col in df.columns:\n",
    "#         print(col)\n",
    "        col_type = df[col].dtype\n",
    "                \n",
    "        if col_type != object:\n",
    "            c_min = df[col].min()\n",
    "            c_max = df[col].max()\n",
    "            if str(col_type)[:3] == 'int':\n",
    "                if c_min > np.iinfo(np.int8).min and c_max < np.iinfo(np.int8).max:\n",
    "                    df[col] = df[col].astype(np.int8)\n",
    "                elif c_min > np.iinfo(np.int16).min and c_max < np.iinfo(np.int16).max:\n",
    "                    df[col] = df[col].astype(np.int16)\n",
    "                elif c_min > np.iinfo(np.int32).min and c_max < np.iinfo(np.int32).max:\n",
    "                    df[col] = df[col].astype(np.int32)\n",
    "                elif c_min > np.iinfo(np.int64).min and c_max < np.iinfo(np.int64).max:\n",
    "                    df[col] = df[col].astype(np.int64)\n",
    "            else:\n",
    "                if c_min > np.finfo(np.float16).min and c_max < np.finfo(np.float16).max:\n",
    "                    df[col] = df[col].astype(np.float16)\n",
    "                elif c_min > np.finfo(np.float32).min and c_max < np.finfo(np.float32).max:\n",
    "                    df[col] = df[col].astype(np.float32)\n",
    "                else:\n",
    "                    df[col] = df[col].astype(np.float64)\n",
    "        else:\n",
    "            df[col] = df[col].astype('category')\n",
    "\n",
    "    end_mem = df.memory_usage(deep=True).sum() / 1024 ** 2\n",
    "    print('Memory usage after optimization is: {:.2f} MB'.format(end_mem))\n",
    "    print('Decreased by {:.1f}%'.format(100 * (start_mem - end_mem) / start_mem))\n",
    "\n",
    "    return df\n"
   ]
  },
  {
   "cell_type": "code",
   "execution_count": 7,
   "metadata": {},
   "outputs": [],
   "source": [
    "def merge_data(train_data, val_data, merge_data_path_list, done_files=[], merge_cols='', flag=0):\n",
    "    compulsory_cols = [\"query_id\", \"user_id\", \"session_id\", \"product_id\"]\n",
    "    for path in merge_data_path_list:\n",
    "        print(\"Merging file...\", path.split('/')[-1])\n",
    "        prev_cols_train = set(train_data.columns.tolist())\n",
    "        prev_cols_val = set(val_data.columns.tolist())\n",
    "        d = pd.read_csv(path)\n",
    "#         d = reduce_mem_usage(d)\n",
    "        if 'is_click' in d.columns.tolist():\n",
    "            d = d.drop('is_click', 1)\n",
    "        if flag==0:\n",
    "            merge_cols = [d.columns[0]]\n",
    "            \n",
    "        for col in d.columns.tolist():\n",
    "            if col in train_data.columns.tolist() and col not in compulsory_cols and col not in merge_cols:\n",
    "                d = d.drop(col, 1)\n",
    "            \n",
    "        train_data = train_data.merge(d, on=merge_cols, how='left')\n",
    "        val_data = val_data.merge(d, on=merge_cols, how='left')\n",
    "#         print(\"Train: \", train_data.shape, \"Val: \", val_data.shape)\n",
    "        done_files.append(path)\n",
    "        del d\n",
    "        gc.collect()\n",
    "#     print(\"Train: \", train_data.shape, \"Val: \", val_data.shape)\n",
    "    \n",
    "    return train_data, val_data\n"
   ]
  },
  {
   "cell_type": "code",
   "execution_count": 8,
   "metadata": {},
   "outputs": [],
   "source": [
    "train = pd.read_parquet(\"../data_phase1/train.parquet\")\n",
    "sub = pd.read_csv(\"../data_phase1/validation_labelled.csv\")\n",
    "# test = pd.read_parquet(\"../data_phase2/test.parquet\")\n",
    "test = pd.read_csv(\"../data_phase2/test_labelled.csv\")\n"
   ]
  },
  {
   "cell_type": "code",
   "execution_count": 9,
   "metadata": {},
   "outputs": [
    {
     "data": {
      "text/html": [
       "<div>\n",
       "<style scoped>\n",
       "    .dataframe tbody tr th:only-of-type {\n",
       "        vertical-align: middle;\n",
       "    }\n",
       "\n",
       "    .dataframe tbody tr th {\n",
       "        vertical-align: top;\n",
       "    }\n",
       "\n",
       "    .dataframe thead th {\n",
       "        text-align: right;\n",
       "    }\n",
       "</style>\n",
       "<table border=\"1\" class=\"dataframe\">\n",
       "  <thead>\n",
       "    <tr style=\"text-align: right;\">\n",
       "      <th></th>\n",
       "      <th>query_id</th>\n",
       "      <th>user_id</th>\n",
       "      <th>session_id</th>\n",
       "      <th>product_id</th>\n",
       "      <th>page_type</th>\n",
       "      <th>previous_page_type</th>\n",
       "      <th>device_category</th>\n",
       "      <th>device_platform</th>\n",
       "      <th>user_tier</th>\n",
       "      <th>user_country</th>\n",
       "      <th>context_type</th>\n",
       "      <th>context_value</th>\n",
       "      <th>product_price</th>\n",
       "      <th>week</th>\n",
       "      <th>week_day</th>\n",
       "      <th>is_click</th>\n",
       "    </tr>\n",
       "  </thead>\n",
       "  <tbody>\n",
       "    <tr>\n",
       "      <th>0</th>\n",
       "      <td>98e0eab61242fe3a3a1b89e86f8d039c2142d251715e4c...</td>\n",
       "      <td>9c4893579eaa3288b19ea38ee2a1b09c50bcf6055e654d...</td>\n",
       "      <td>a5c080817feadbe1f8b734de7298ecb1a9f25af7263d8f...</td>\n",
       "      <td>acaad5328549fd88eb9dd0307701d77685f58f581e857c...</td>\n",
       "      <td>06a7f8e972f61aeb0e06335699518079a444e4450ff766...</td>\n",
       "      <td>c9f34437ce0e536fefd11a34b9a411b541d2dabfec872a...</td>\n",
       "      <td>bf2241c08d92d32a6782b4041a2c11ca58882ca88454b3...</td>\n",
       "      <td>702e4598004745673c0f6b50387bef9e1d5f503bd8c1c0...</td>\n",
       "      <td>d74a5cebc23c56af60a5768c22d44b52f598629d4011fa...</td>\n",
       "      <td>931b19eb9eb42f7d672a924ad811ceb9ba5bea5651db82...</td>\n",
       "      <td>product_id</td>\n",
       "      <td>377006e274eb6c69d6277c15c0fb1b5f6755cc4e3c1411...</td>\n",
       "      <td>0.001446</td>\n",
       "      <td>6</td>\n",
       "      <td>0</td>\n",
       "      <td>1</td>\n",
       "    </tr>\n",
       "    <tr>\n",
       "      <th>1</th>\n",
       "      <td>7a5977a6080a4d10ef00674a3c082be5e835f6120f4af0...</td>\n",
       "      <td>8850e62730045d14c6ce3dcdf724d7ec57279163e84b2b...</td>\n",
       "      <td>c5339b7bf4f2d00d594c2d142fa916dd560577c48a2c0b...</td>\n",
       "      <td>11545d1e007c4a46cbea3f7a4bcd385b9bf3ec5da3f2c4...</td>\n",
       "      <td>e5d360d8f63d7420e05f82f1ee4e6124dd5c466233de76...</td>\n",
       "      <td>c9f34437ce0e536fefd11a34b9a411b541d2dabfec872a...</td>\n",
       "      <td>d6538f13ace825448d0af4fa5e58d2d08fa2d0850e5e14...</td>\n",
       "      <td>d6538f13ace825448d0af4fa5e58d2d08fa2d0850e5e14...</td>\n",
       "      <td>d74a5cebc23c56af60a5768c22d44b52f598629d4011fa...</td>\n",
       "      <td>f319f71fd9b14532cf715e601fe3b5c2473b58d4302e88...</td>\n",
       "      <td>None</td>\n",
       "      <td>d74a5cebc23c56af60a5768c22d44b52f598629d4011fa...</td>\n",
       "      <td>0.000546</td>\n",
       "      <td>3</td>\n",
       "      <td>3</td>\n",
       "      <td>0</td>\n",
       "    </tr>\n",
       "    <tr>\n",
       "      <th>2</th>\n",
       "      <td>d358ea82df3f33cbdc43ab56b948870dbae79009818e8b...</td>\n",
       "      <td>43ab15c21ab524413ebd8f258e6d25090c6ed29262bc01...</td>\n",
       "      <td>ac3351e98b7a0379976b0fff69eee2c137678cd546f63f...</td>\n",
       "      <td>130cd96240984dffb489a0beff5f1a19c35aa3503a437b...</td>\n",
       "      <td>06a7f8e972f61aeb0e06335699518079a444e4450ff766...</td>\n",
       "      <td>14fc80e2d6821260d291ff47ce6d8d7534d4cb5aa4ab0d...</td>\n",
       "      <td>bf2241c08d92d32a6782b4041a2c11ca58882ca88454b3...</td>\n",
       "      <td>702e4598004745673c0f6b50387bef9e1d5f503bd8c1c0...</td>\n",
       "      <td>d74a5cebc23c56af60a5768c22d44b52f598629d4011fa...</td>\n",
       "      <td>f319f71fd9b14532cf715e601fe3b5c2473b58d4302e88...</td>\n",
       "      <td>product_id</td>\n",
       "      <td>be8709433a124cd0dd2b4bd94625c11fce002fb9a5a98b...</td>\n",
       "      <td>0.000345</td>\n",
       "      <td>4</td>\n",
       "      <td>0</td>\n",
       "      <td>0</td>\n",
       "    </tr>\n",
       "    <tr>\n",
       "      <th>3</th>\n",
       "      <td>47b19f66ae013d4e024affc87e764b1e2cc47a50a310e4...</td>\n",
       "      <td>7b15b0c5148da9c3059a9a029274313503bbd74b1a9b3e...</td>\n",
       "      <td>55457801ffab26697767a2a760391c5e267a1c15ba767c...</td>\n",
       "      <td>0b56fff48269b91b8c528c7be80fa0be72db26d2cde9b0...</td>\n",
       "      <td>06a7f8e972f61aeb0e06335699518079a444e4450ff766...</td>\n",
       "      <td>c9f34437ce0e536fefd11a34b9a411b541d2dabfec872a...</td>\n",
       "      <td>bf2241c08d92d32a6782b4041a2c11ca58882ca88454b3...</td>\n",
       "      <td>702e4598004745673c0f6b50387bef9e1d5f503bd8c1c0...</td>\n",
       "      <td>d74a5cebc23c56af60a5768c22d44b52f598629d4011fa...</td>\n",
       "      <td>95d5a1bd42a07143383299c081524278a16ef5ce55507c...</td>\n",
       "      <td>product_id</td>\n",
       "      <td>f4b2b5bae8b12dd4f61c448583dc1be3b8d313250bb54c...</td>\n",
       "      <td>0.000877</td>\n",
       "      <td>6</td>\n",
       "      <td>3</td>\n",
       "      <td>0</td>\n",
       "    </tr>\n",
       "    <tr>\n",
       "      <th>4</th>\n",
       "      <td>1b4b60c5901518ed9b3dfd874c3e2aed9438af26614c61...</td>\n",
       "      <td>869503954efbebf02deac4ac64c55dc18a5f6c3a89ce9b...</td>\n",
       "      <td>c46ee54191ca86da3d3034fddec1ea229f406af72f8ffa...</td>\n",
       "      <td>e30d9734d1d431babd5bab5bdd678900374d1ee26d4625...</td>\n",
       "      <td>06a7f8e972f61aeb0e06335699518079a444e4450ff766...</td>\n",
       "      <td>c9f34437ce0e536fefd11a34b9a411b541d2dabfec872a...</td>\n",
       "      <td>bf2241c08d92d32a6782b4041a2c11ca58882ca88454b3...</td>\n",
       "      <td>702e4598004745673c0f6b50387bef9e1d5f503bd8c1c0...</td>\n",
       "      <td>d74a5cebc23c56af60a5768c22d44b52f598629d4011fa...</td>\n",
       "      <td>d4fc57514de1c54e45fe3bac161bfcae2459b1de087c53...</td>\n",
       "      <td>product_id</td>\n",
       "      <td>b91927a2b993d4faaa275f13fb5b81f8dbe706a4b58979...</td>\n",
       "      <td>0.000918</td>\n",
       "      <td>5</td>\n",
       "      <td>2</td>\n",
       "      <td>1</td>\n",
       "    </tr>\n",
       "  </tbody>\n",
       "</table>\n",
       "</div>"
      ],
      "text/plain": [
       "                                            query_id  \\\n",
       "0  98e0eab61242fe3a3a1b89e86f8d039c2142d251715e4c...   \n",
       "1  7a5977a6080a4d10ef00674a3c082be5e835f6120f4af0...   \n",
       "2  d358ea82df3f33cbdc43ab56b948870dbae79009818e8b...   \n",
       "3  47b19f66ae013d4e024affc87e764b1e2cc47a50a310e4...   \n",
       "4  1b4b60c5901518ed9b3dfd874c3e2aed9438af26614c61...   \n",
       "\n",
       "                                             user_id  \\\n",
       "0  9c4893579eaa3288b19ea38ee2a1b09c50bcf6055e654d...   \n",
       "1  8850e62730045d14c6ce3dcdf724d7ec57279163e84b2b...   \n",
       "2  43ab15c21ab524413ebd8f258e6d25090c6ed29262bc01...   \n",
       "3  7b15b0c5148da9c3059a9a029274313503bbd74b1a9b3e...   \n",
       "4  869503954efbebf02deac4ac64c55dc18a5f6c3a89ce9b...   \n",
       "\n",
       "                                          session_id  \\\n",
       "0  a5c080817feadbe1f8b734de7298ecb1a9f25af7263d8f...   \n",
       "1  c5339b7bf4f2d00d594c2d142fa916dd560577c48a2c0b...   \n",
       "2  ac3351e98b7a0379976b0fff69eee2c137678cd546f63f...   \n",
       "3  55457801ffab26697767a2a760391c5e267a1c15ba767c...   \n",
       "4  c46ee54191ca86da3d3034fddec1ea229f406af72f8ffa...   \n",
       "\n",
       "                                          product_id  \\\n",
       "0  acaad5328549fd88eb9dd0307701d77685f58f581e857c...   \n",
       "1  11545d1e007c4a46cbea3f7a4bcd385b9bf3ec5da3f2c4...   \n",
       "2  130cd96240984dffb489a0beff5f1a19c35aa3503a437b...   \n",
       "3  0b56fff48269b91b8c528c7be80fa0be72db26d2cde9b0...   \n",
       "4  e30d9734d1d431babd5bab5bdd678900374d1ee26d4625...   \n",
       "\n",
       "                                           page_type  \\\n",
       "0  06a7f8e972f61aeb0e06335699518079a444e4450ff766...   \n",
       "1  e5d360d8f63d7420e05f82f1ee4e6124dd5c466233de76...   \n",
       "2  06a7f8e972f61aeb0e06335699518079a444e4450ff766...   \n",
       "3  06a7f8e972f61aeb0e06335699518079a444e4450ff766...   \n",
       "4  06a7f8e972f61aeb0e06335699518079a444e4450ff766...   \n",
       "\n",
       "                                  previous_page_type  \\\n",
       "0  c9f34437ce0e536fefd11a34b9a411b541d2dabfec872a...   \n",
       "1  c9f34437ce0e536fefd11a34b9a411b541d2dabfec872a...   \n",
       "2  14fc80e2d6821260d291ff47ce6d8d7534d4cb5aa4ab0d...   \n",
       "3  c9f34437ce0e536fefd11a34b9a411b541d2dabfec872a...   \n",
       "4  c9f34437ce0e536fefd11a34b9a411b541d2dabfec872a...   \n",
       "\n",
       "                                     device_category  \\\n",
       "0  bf2241c08d92d32a6782b4041a2c11ca58882ca88454b3...   \n",
       "1  d6538f13ace825448d0af4fa5e58d2d08fa2d0850e5e14...   \n",
       "2  bf2241c08d92d32a6782b4041a2c11ca58882ca88454b3...   \n",
       "3  bf2241c08d92d32a6782b4041a2c11ca58882ca88454b3...   \n",
       "4  bf2241c08d92d32a6782b4041a2c11ca58882ca88454b3...   \n",
       "\n",
       "                                     device_platform  \\\n",
       "0  702e4598004745673c0f6b50387bef9e1d5f503bd8c1c0...   \n",
       "1  d6538f13ace825448d0af4fa5e58d2d08fa2d0850e5e14...   \n",
       "2  702e4598004745673c0f6b50387bef9e1d5f503bd8c1c0...   \n",
       "3  702e4598004745673c0f6b50387bef9e1d5f503bd8c1c0...   \n",
       "4  702e4598004745673c0f6b50387bef9e1d5f503bd8c1c0...   \n",
       "\n",
       "                                           user_tier  \\\n",
       "0  d74a5cebc23c56af60a5768c22d44b52f598629d4011fa...   \n",
       "1  d74a5cebc23c56af60a5768c22d44b52f598629d4011fa...   \n",
       "2  d74a5cebc23c56af60a5768c22d44b52f598629d4011fa...   \n",
       "3  d74a5cebc23c56af60a5768c22d44b52f598629d4011fa...   \n",
       "4  d74a5cebc23c56af60a5768c22d44b52f598629d4011fa...   \n",
       "\n",
       "                                        user_country context_type  \\\n",
       "0  931b19eb9eb42f7d672a924ad811ceb9ba5bea5651db82...   product_id   \n",
       "1  f319f71fd9b14532cf715e601fe3b5c2473b58d4302e88...         None   \n",
       "2  f319f71fd9b14532cf715e601fe3b5c2473b58d4302e88...   product_id   \n",
       "3  95d5a1bd42a07143383299c081524278a16ef5ce55507c...   product_id   \n",
       "4  d4fc57514de1c54e45fe3bac161bfcae2459b1de087c53...   product_id   \n",
       "\n",
       "                                       context_value  product_price  week  \\\n",
       "0  377006e274eb6c69d6277c15c0fb1b5f6755cc4e3c1411...       0.001446     6   \n",
       "1  d74a5cebc23c56af60a5768c22d44b52f598629d4011fa...       0.000546     3   \n",
       "2  be8709433a124cd0dd2b4bd94625c11fce002fb9a5a98b...       0.000345     4   \n",
       "3  f4b2b5bae8b12dd4f61c448583dc1be3b8d313250bb54c...       0.000877     6   \n",
       "4  b91927a2b993d4faaa275f13fb5b81f8dbe706a4b58979...       0.000918     5   \n",
       "\n",
       "   week_day  is_click  \n",
       "0         0         1  \n",
       "1         3         0  \n",
       "2         0         0  \n",
       "3         3         0  \n",
       "4         2         1  "
      ]
     },
     "execution_count": 9,
     "metadata": {},
     "output_type": "execute_result"
    }
   ],
   "source": [
    "t = pd.read_parquet(\"../data_phase2/test.parquet\")\n",
    "test = t.merge(test, on=[\"query_id\", \"product_id\"], how=\"left\")\n",
    "test.head()"
   ]
  },
  {
   "cell_type": "code",
   "execution_count": 10,
   "metadata": {},
   "outputs": [
    {
     "data": {
      "text/html": [
       "<div>\n",
       "<style scoped>\n",
       "    .dataframe tbody tr th:only-of-type {\n",
       "        vertical-align: middle;\n",
       "    }\n",
       "\n",
       "    .dataframe tbody tr th {\n",
       "        vertical-align: top;\n",
       "    }\n",
       "\n",
       "    .dataframe thead th {\n",
       "        text-align: right;\n",
       "    }\n",
       "</style>\n",
       "<table border=\"1\" class=\"dataframe\">\n",
       "  <thead>\n",
       "    <tr style=\"text-align: right;\">\n",
       "      <th></th>\n",
       "      <th>query_id</th>\n",
       "      <th>user_id</th>\n",
       "      <th>session_id</th>\n",
       "      <th>product_id</th>\n",
       "      <th>page_type</th>\n",
       "      <th>previous_page_type</th>\n",
       "      <th>device_category</th>\n",
       "      <th>device_platform</th>\n",
       "      <th>user_tier</th>\n",
       "      <th>user_country</th>\n",
       "      <th>context_type</th>\n",
       "      <th>context_value</th>\n",
       "      <th>product_price</th>\n",
       "      <th>week</th>\n",
       "      <th>week_day</th>\n",
       "      <th>is_click</th>\n",
       "    </tr>\n",
       "  </thead>\n",
       "  <tbody>\n",
       "    <tr>\n",
       "      <th>0</th>\n",
       "      <td>45dbde6284f13d59b04c5d2a5ab2513c896ba8f7a7dde0...</td>\n",
       "      <td>4d66a7c430e1f1f7da454f4e8c4bf3e7cf2435741329c0...</td>\n",
       "      <td>b677570c68f211d9543e96fe46750b66ebdfaa0fb2df0e...</td>\n",
       "      <td>d52833e4925f40de987bb732847a8dbc07c2ba1e33711a...</td>\n",
       "      <td>06a7f8e972f61aeb0e06335699518079a444e4450ff766...</td>\n",
       "      <td>c9f34437ce0e536fefd11a34b9a411b541d2dabfec872a...</td>\n",
       "      <td>bf2241c08d92d32a6782b4041a2c11ca58882ca88454b3...</td>\n",
       "      <td>702e4598004745673c0f6b50387bef9e1d5f503bd8c1c0...</td>\n",
       "      <td>d74a5cebc23c56af60a5768c22d44b52f598629d4011fa...</td>\n",
       "      <td>95d5a1bd42a07143383299c081524278a16ef5ce55507c...</td>\n",
       "      <td>product_id</td>\n",
       "      <td>c57422a708323b02f078708e3f5b1e841bb07434bc2adc...</td>\n",
       "      <td>0.000453</td>\n",
       "      <td>8</td>\n",
       "      <td>0</td>\n",
       "      <td>0</td>\n",
       "    </tr>\n",
       "    <tr>\n",
       "      <th>1</th>\n",
       "      <td>6728f8b02604af603d65faa0a2a4e36307f2498c4bdd88...</td>\n",
       "      <td>9ff86157cc29dd17330d2e714318770884adf936794c66...</td>\n",
       "      <td>d1f1a8e13d81de690a968db95dd1960482143f59e6c69b...</td>\n",
       "      <td>ca58ed0a66cb8990221552d0d93de82713641b66465a86...</td>\n",
       "      <td>06a7f8e972f61aeb0e06335699518079a444e4450ff766...</td>\n",
       "      <td>c9f34437ce0e536fefd11a34b9a411b541d2dabfec872a...</td>\n",
       "      <td>bf2241c08d92d32a6782b4041a2c11ca58882ca88454b3...</td>\n",
       "      <td>702e4598004745673c0f6b50387bef9e1d5f503bd8c1c0...</td>\n",
       "      <td>d74a5cebc23c56af60a5768c22d44b52f598629d4011fa...</td>\n",
       "      <td>c45f0825291fd1a087ef31abbcf9fd0ef10c915edf3041...</td>\n",
       "      <td>product_id</td>\n",
       "      <td>950d471ac609e50a31ecca7c731e9673a32588deb34da4...</td>\n",
       "      <td>0.614475</td>\n",
       "      <td>9</td>\n",
       "      <td>0</td>\n",
       "      <td>0</td>\n",
       "    </tr>\n",
       "    <tr>\n",
       "      <th>2</th>\n",
       "      <td>9d1d782fab18c98c8a8d4dab9cbc0cb3f786b5d5e5fd24...</td>\n",
       "      <td>b67c2b47e18777596747b94d0ae3e4a9f023a406fa5b5e...</td>\n",
       "      <td>d572b385d62d7eaaa4872e07ed2771b107d4db0b547212...</td>\n",
       "      <td>6374ef1b29e3046f9ae1607cd62cde1eb6305d4d9b1de5...</td>\n",
       "      <td>06a7f8e972f61aeb0e06335699518079a444e4450ff766...</td>\n",
       "      <td>14fc80e2d6821260d291ff47ce6d8d7534d4cb5aa4ab0d...</td>\n",
       "      <td>d6538f13ace825448d0af4fa5e58d2d08fa2d0850e5e14...</td>\n",
       "      <td>d6538f13ace825448d0af4fa5e58d2d08fa2d0850e5e14...</td>\n",
       "      <td>d74a5cebc23c56af60a5768c22d44b52f598629d4011fa...</td>\n",
       "      <td>58f6d97120664752ed0851301aa78457fe882f67453c58...</td>\n",
       "      <td>product_id</td>\n",
       "      <td>6209104dbe997824b92e3118504acb2ebc863ae3fc27e0...</td>\n",
       "      <td>0.001199</td>\n",
       "      <td>8</td>\n",
       "      <td>3</td>\n",
       "      <td>1</td>\n",
       "    </tr>\n",
       "    <tr>\n",
       "      <th>3</th>\n",
       "      <td>f23d6751b37c235047a64a20ffe732483f487743dc8812...</td>\n",
       "      <td>8e28240e0b0c5629959d76727906afa17ea5d89821cbac...</td>\n",
       "      <td>c5df0c490099d1e4a20173ecbb67880998bc4faf8210a9...</td>\n",
       "      <td>e74667d17676e39561716943bc7cf8ba8a94ce96a0dc41...</td>\n",
       "      <td>06a7f8e972f61aeb0e06335699518079a444e4450ff766...</td>\n",
       "      <td>c9f34437ce0e536fefd11a34b9a411b541d2dabfec872a...</td>\n",
       "      <td>bf2241c08d92d32a6782b4041a2c11ca58882ca88454b3...</td>\n",
       "      <td>702e4598004745673c0f6b50387bef9e1d5f503bd8c1c0...</td>\n",
       "      <td>d74a5cebc23c56af60a5768c22d44b52f598629d4011fa...</td>\n",
       "      <td>f319f71fd9b14532cf715e601fe3b5c2473b58d4302e88...</td>\n",
       "      <td>product_id</td>\n",
       "      <td>ce3d41b4ed9d444fdd9385ee6b1b1639abb497a13c9385...</td>\n",
       "      <td>0.000418</td>\n",
       "      <td>7</td>\n",
       "      <td>6</td>\n",
       "      <td>0</td>\n",
       "    </tr>\n",
       "    <tr>\n",
       "      <th>4</th>\n",
       "      <td>fe162740ab90f69597b14253e6f0fc6fb87ad8e2146cd8...</td>\n",
       "      <td>2173a7fa04d32abcb18cf8652e427f13a21156f7ff0bf5...</td>\n",
       "      <td>1e5f3aaf57b4863421d5019fe834f5e6979876f3d44e43...</td>\n",
       "      <td>a85298cf45012b8bfe8e5ec39108361e6083cad362dff3...</td>\n",
       "      <td>06a7f8e972f61aeb0e06335699518079a444e4450ff766...</td>\n",
       "      <td>c9f34437ce0e536fefd11a34b9a411b541d2dabfec872a...</td>\n",
       "      <td>d6538f13ace825448d0af4fa5e58d2d08fa2d0850e5e14...</td>\n",
       "      <td>d6538f13ace825448d0af4fa5e58d2d08fa2d0850e5e14...</td>\n",
       "      <td>d74a5cebc23c56af60a5768c22d44b52f598629d4011fa...</td>\n",
       "      <td>ea2f413bd8fda0b91a814a68aa520044b204796991a343...</td>\n",
       "      <td>product_id</td>\n",
       "      <td>05f1468cf95e2cb32ddeff813e8466e3bc7b798724e4e6...</td>\n",
       "      <td>0.000148</td>\n",
       "      <td>4</td>\n",
       "      <td>2</td>\n",
       "      <td>0</td>\n",
       "    </tr>\n",
       "  </tbody>\n",
       "</table>\n",
       "</div>"
      ],
      "text/plain": [
       "                                            query_id  \\\n",
       "0  45dbde6284f13d59b04c5d2a5ab2513c896ba8f7a7dde0...   \n",
       "1  6728f8b02604af603d65faa0a2a4e36307f2498c4bdd88...   \n",
       "2  9d1d782fab18c98c8a8d4dab9cbc0cb3f786b5d5e5fd24...   \n",
       "3  f23d6751b37c235047a64a20ffe732483f487743dc8812...   \n",
       "4  fe162740ab90f69597b14253e6f0fc6fb87ad8e2146cd8...   \n",
       "\n",
       "                                             user_id  \\\n",
       "0  4d66a7c430e1f1f7da454f4e8c4bf3e7cf2435741329c0...   \n",
       "1  9ff86157cc29dd17330d2e714318770884adf936794c66...   \n",
       "2  b67c2b47e18777596747b94d0ae3e4a9f023a406fa5b5e...   \n",
       "3  8e28240e0b0c5629959d76727906afa17ea5d89821cbac...   \n",
       "4  2173a7fa04d32abcb18cf8652e427f13a21156f7ff0bf5...   \n",
       "\n",
       "                                          session_id  \\\n",
       "0  b677570c68f211d9543e96fe46750b66ebdfaa0fb2df0e...   \n",
       "1  d1f1a8e13d81de690a968db95dd1960482143f59e6c69b...   \n",
       "2  d572b385d62d7eaaa4872e07ed2771b107d4db0b547212...   \n",
       "3  c5df0c490099d1e4a20173ecbb67880998bc4faf8210a9...   \n",
       "4  1e5f3aaf57b4863421d5019fe834f5e6979876f3d44e43...   \n",
       "\n",
       "                                          product_id  \\\n",
       "0  d52833e4925f40de987bb732847a8dbc07c2ba1e33711a...   \n",
       "1  ca58ed0a66cb8990221552d0d93de82713641b66465a86...   \n",
       "2  6374ef1b29e3046f9ae1607cd62cde1eb6305d4d9b1de5...   \n",
       "3  e74667d17676e39561716943bc7cf8ba8a94ce96a0dc41...   \n",
       "4  a85298cf45012b8bfe8e5ec39108361e6083cad362dff3...   \n",
       "\n",
       "                                           page_type  \\\n",
       "0  06a7f8e972f61aeb0e06335699518079a444e4450ff766...   \n",
       "1  06a7f8e972f61aeb0e06335699518079a444e4450ff766...   \n",
       "2  06a7f8e972f61aeb0e06335699518079a444e4450ff766...   \n",
       "3  06a7f8e972f61aeb0e06335699518079a444e4450ff766...   \n",
       "4  06a7f8e972f61aeb0e06335699518079a444e4450ff766...   \n",
       "\n",
       "                                  previous_page_type  \\\n",
       "0  c9f34437ce0e536fefd11a34b9a411b541d2dabfec872a...   \n",
       "1  c9f34437ce0e536fefd11a34b9a411b541d2dabfec872a...   \n",
       "2  14fc80e2d6821260d291ff47ce6d8d7534d4cb5aa4ab0d...   \n",
       "3  c9f34437ce0e536fefd11a34b9a411b541d2dabfec872a...   \n",
       "4  c9f34437ce0e536fefd11a34b9a411b541d2dabfec872a...   \n",
       "\n",
       "                                     device_category  \\\n",
       "0  bf2241c08d92d32a6782b4041a2c11ca58882ca88454b3...   \n",
       "1  bf2241c08d92d32a6782b4041a2c11ca58882ca88454b3...   \n",
       "2  d6538f13ace825448d0af4fa5e58d2d08fa2d0850e5e14...   \n",
       "3  bf2241c08d92d32a6782b4041a2c11ca58882ca88454b3...   \n",
       "4  d6538f13ace825448d0af4fa5e58d2d08fa2d0850e5e14...   \n",
       "\n",
       "                                     device_platform  \\\n",
       "0  702e4598004745673c0f6b50387bef9e1d5f503bd8c1c0...   \n",
       "1  702e4598004745673c0f6b50387bef9e1d5f503bd8c1c0...   \n",
       "2  d6538f13ace825448d0af4fa5e58d2d08fa2d0850e5e14...   \n",
       "3  702e4598004745673c0f6b50387bef9e1d5f503bd8c1c0...   \n",
       "4  d6538f13ace825448d0af4fa5e58d2d08fa2d0850e5e14...   \n",
       "\n",
       "                                           user_tier  \\\n",
       "0  d74a5cebc23c56af60a5768c22d44b52f598629d4011fa...   \n",
       "1  d74a5cebc23c56af60a5768c22d44b52f598629d4011fa...   \n",
       "2  d74a5cebc23c56af60a5768c22d44b52f598629d4011fa...   \n",
       "3  d74a5cebc23c56af60a5768c22d44b52f598629d4011fa...   \n",
       "4  d74a5cebc23c56af60a5768c22d44b52f598629d4011fa...   \n",
       "\n",
       "                                        user_country context_type  \\\n",
       "0  95d5a1bd42a07143383299c081524278a16ef5ce55507c...   product_id   \n",
       "1  c45f0825291fd1a087ef31abbcf9fd0ef10c915edf3041...   product_id   \n",
       "2  58f6d97120664752ed0851301aa78457fe882f67453c58...   product_id   \n",
       "3  f319f71fd9b14532cf715e601fe3b5c2473b58d4302e88...   product_id   \n",
       "4  ea2f413bd8fda0b91a814a68aa520044b204796991a343...   product_id   \n",
       "\n",
       "                                       context_value  product_price  week  \\\n",
       "0  c57422a708323b02f078708e3f5b1e841bb07434bc2adc...       0.000453     8   \n",
       "1  950d471ac609e50a31ecca7c731e9673a32588deb34da4...       0.614475     9   \n",
       "2  6209104dbe997824b92e3118504acb2ebc863ae3fc27e0...       0.001199     8   \n",
       "3  ce3d41b4ed9d444fdd9385ee6b1b1639abb497a13c9385...       0.000418     7   \n",
       "4  05f1468cf95e2cb32ddeff813e8466e3bc7b798724e4e6...       0.000148     4   \n",
       "\n",
       "   week_day  is_click  \n",
       "0         0         0  \n",
       "1         0         0  \n",
       "2         3         1  \n",
       "3         6         0  \n",
       "4         2         0  "
      ]
     },
     "execution_count": 10,
     "metadata": {},
     "output_type": "execute_result"
    }
   ],
   "source": [
    "s = pd.read_parquet(\"../data_phase1/validation.parquet\")\n",
    "sub = s.merge(sub, on=[\"query_id\", \"product_id\"], how=\"left\")\n",
    "sub.head()"
   ]
  },
  {
   "cell_type": "code",
   "execution_count": 11,
   "metadata": {},
   "outputs": [],
   "source": [
    "sub_labels = sub[\"is_click\"].values\n",
    "test_labels = test[\"is_click\"].values"
   ]
  },
  {
   "cell_type": "code",
   "execution_count": 12,
   "metadata": {},
   "outputs": [],
   "source": [
    "train = train.fillna(value={\"context_type\": \"NA\"})\n",
    "sub = sub.fillna(value={\"context_type\": \"NA\"})\n",
    "test = test.fillna(value={\"context_type\": \"NA\"})\n"
   ]
  },
  {
   "cell_type": "code",
   "execution_count": 13,
   "metadata": {},
   "outputs": [],
   "source": [
    "pd.options.display.max_rows = None\n",
    "pd.options.display.max_columns = None"
   ]
  },
  {
   "cell_type": "code",
   "execution_count": 14,
   "metadata": {},
   "outputs": [
    {
     "name": "stdout",
     "output_type": "stream",
     "text": [
      "Memory usage of dataframe is 428.22 MB\n",
      "Memory usage after optimization is: 360.08 MB\n",
      "Decreased by 15.9%\n",
      "Memory usage of dataframe is 89.13 MB\n",
      "Memory usage after optimization is: 121.67 MB\n",
      "Decreased by -36.5%\n",
      "Memory usage of dataframe is 89.13 MB\n",
      "Memory usage after optimization is: 120.70 MB\n",
      "Decreased by -35.4%\n"
     ]
    }
   ],
   "source": [
    "train = reduce_mem_usage(train)\n",
    "sub = reduce_mem_usage(sub)\n",
    "test = reduce_mem_usage(test)\n"
   ]
  },
  {
   "cell_type": "code",
   "execution_count": 15,
   "metadata": {},
   "outputs": [
    {
     "data": {
      "text/plain": [
       "93"
      ]
     },
     "execution_count": 15,
     "metadata": {},
     "output_type": "execute_result"
    }
   ],
   "source": [
    "gc.collect()"
   ]
  },
  {
   "cell_type": "code",
   "execution_count": 16,
   "metadata": {},
   "outputs": [
    {
     "data": {
      "text/plain": [
       "((3507990, 16), (687192, 16), (687192, 16))"
      ]
     },
     "execution_count": 16,
     "metadata": {},
     "output_type": "execute_result"
    }
   ],
   "source": [
    "train.shape, sub.shape, test.shape"
   ]
  },
  {
   "cell_type": "code",
   "execution_count": null,
   "metadata": {},
   "outputs": [],
   "source": []
  },
  {
   "cell_type": "code",
   "execution_count": 17,
   "metadata": {},
   "outputs": [],
   "source": [
    "BASE_PATH = \"../preprocessed_data/\""
   ]
  },
  {
   "cell_type": "code",
   "execution_count": 18,
   "metadata": {},
   "outputs": [],
   "source": [
    "pc_sim_train = pd.read_csv(BASE_PATH+\"train_product_context_sim.csv\")\n",
    "pc_sim_sub = pd.read_csv(BASE_PATH+\"val_product_context_sim.csv\")\n",
    "pc_sim_test = pd.read_csv(BASE_PATH+\"test_product_context_sim.csv\")\n",
    "pc_sim_sub = pc_sim_sub.fillna(0.0)\n",
    "pc_sim_test = pc_sim_test.fillna(0.0)\n"
   ]
  },
  {
   "cell_type": "code",
   "execution_count": 19,
   "metadata": {},
   "outputs": [
    {
     "data": {
      "text/plain": [
       "query_id                      0\n",
       "session_id                    0\n",
       "user_id                       0\n",
       "product_id                    0\n",
       "product_context_similarity    0\n",
       "dtype: int64"
      ]
     },
     "execution_count": 19,
     "metadata": {},
     "output_type": "execute_result"
    }
   ],
   "source": [
    "pc_sim_test.isnull().sum()"
   ]
  },
  {
   "cell_type": "code",
   "execution_count": 20,
   "metadata": {},
   "outputs": [],
   "source": [
    "train = train.merge(pc_sim_train, on=[\"query_id\", \"user_id\", \"session_id\", \"product_id\"], how=\"left\")\n",
    "sub = sub.merge(pc_sim_sub, on=[\"query_id\", \"user_id\", \"session_id\", \"product_id\"], how=\"left\")\n",
    "test = test.merge(pc_sim_test, on=[\"query_id\", \"user_id\", \"session_id\", \"product_id\"], how=\"left\")\n"
   ]
  },
  {
   "cell_type": "code",
   "execution_count": 21,
   "metadata": {},
   "outputs": [
    {
     "data": {
      "text/plain": [
       "count    687192.000000\n",
       "mean          0.725715\n",
       "std           0.213147\n",
       "min           0.000000\n",
       "25%           0.650830\n",
       "50%           0.772573\n",
       "75%           0.870120\n",
       "max           1.000000\n",
       "Name: product_context_similarity, dtype: float64"
      ]
     },
     "execution_count": 21,
     "metadata": {},
     "output_type": "execute_result"
    }
   ],
   "source": [
    "sub[\"product_context_similarity\"].describe()"
   ]
  },
  {
   "cell_type": "code",
   "execution_count": 22,
   "metadata": {},
   "outputs": [
    {
     "data": {
      "text/plain": [
       "count    687192.000000\n",
       "mean          0.594677\n",
       "std           0.339222\n",
       "min           0.000000\n",
       "25%           0.456010\n",
       "50%           0.725984\n",
       "75%           0.845484\n",
       "max           1.000000\n",
       "Name: product_context_similarity, dtype: float64"
      ]
     },
     "execution_count": 22,
     "metadata": {},
     "output_type": "execute_result"
    }
   ],
   "source": [
    "test[\"product_context_similarity\"].describe()"
   ]
  },
  {
   "cell_type": "code",
   "execution_count": 23,
   "metadata": {},
   "outputs": [],
   "source": [
    "# # sub = sub[[\"query_id\", \"product_id\", \"product_context_similarity\", \"is_click\"]]\n",
    "# sub = test[[\"query_id\", \"product_id\", \"product_context_similarity\", \"is_click\"]]\n"
   ]
  },
  {
   "cell_type": "code",
   "execution_count": 24,
   "metadata": {},
   "outputs": [],
   "source": [
    "# sub = sub[[\"query_id\", \"product_id\", \"product_context_similarity\", \"is_click\"]]\n",
    "sub = test[[\"query_id\", \"product_id\", \"product_context_similarity\", \"is_click\"]]\n"
   ]
  },
  {
   "cell_type": "code",
   "execution_count": 25,
   "metadata": {},
   "outputs": [
    {
     "data": {
      "text/html": [
       "<div>\n",
       "<style scoped>\n",
       "    .dataframe tbody tr th:only-of-type {\n",
       "        vertical-align: middle;\n",
       "    }\n",
       "\n",
       "    .dataframe tbody tr th {\n",
       "        vertical-align: top;\n",
       "    }\n",
       "\n",
       "    .dataframe thead th {\n",
       "        text-align: right;\n",
       "    }\n",
       "</style>\n",
       "<table border=\"1\" class=\"dataframe\">\n",
       "  <thead>\n",
       "    <tr style=\"text-align: right;\">\n",
       "      <th></th>\n",
       "      <th>query_id</th>\n",
       "      <th>product_id</th>\n",
       "      <th>preds</th>\n",
       "      <th>model_rank</th>\n",
       "    </tr>\n",
       "  </thead>\n",
       "  <tbody>\n",
       "    <tr>\n",
       "      <th>0</th>\n",
       "      <td>00000996d07006b045bc134b757f2825b0c79870d41521...</td>\n",
       "      <td>eec511e70b3423d23bf07b10f7710f7d3d6bd24f2d00ee...</td>\n",
       "      <td>0.5</td>\n",
       "      <td>6</td>\n",
       "    </tr>\n",
       "    <tr>\n",
       "      <th>1</th>\n",
       "      <td>00000996d07006b045bc134b757f2825b0c79870d41521...</td>\n",
       "      <td>b7ce11578ac78da80b8afbe384dd5a90ed269e83ecb325...</td>\n",
       "      <td>0.5</td>\n",
       "      <td>1</td>\n",
       "    </tr>\n",
       "  </tbody>\n",
       "</table>\n",
       "</div>"
      ],
      "text/plain": [
       "                                            query_id  \\\n",
       "0  00000996d07006b045bc134b757f2825b0c79870d41521...   \n",
       "1  00000996d07006b045bc134b757f2825b0c79870d41521...   \n",
       "\n",
       "                                          product_id  preds  model_rank  \n",
       "0  eec511e70b3423d23bf07b10f7710f7d3d6bd24f2d00ee...    0.5           6  \n",
       "1  b7ce11578ac78da80b8afbe384dd5a90ed269e83ecb325...    0.5           1  "
      ]
     },
     "execution_count": 25,
     "metadata": {},
     "output_type": "execute_result"
    }
   ],
   "source": [
    "temp = pd.read_csv(\"../submission/LGBClassifier_29_6_21_best_params_v2_test.csv\")\n",
    "# temp = pd.read_csv(\"../submission/XGBClassifier_27_6_21_best_params.csv\")\n",
    "temp = temp.rename(columns={\"rank\": \"model_rank\"})\n",
    "temp.head(2)"
   ]
  },
  {
   "cell_type": "code",
   "execution_count": 26,
   "metadata": {},
   "outputs": [
    {
     "data": {
      "text/html": [
       "<div>\n",
       "<style scoped>\n",
       "    .dataframe tbody tr th:only-of-type {\n",
       "        vertical-align: middle;\n",
       "    }\n",
       "\n",
       "    .dataframe tbody tr th {\n",
       "        vertical-align: top;\n",
       "    }\n",
       "\n",
       "    .dataframe thead th {\n",
       "        text-align: right;\n",
       "    }\n",
       "</style>\n",
       "<table border=\"1\" class=\"dataframe\">\n",
       "  <thead>\n",
       "    <tr style=\"text-align: right;\">\n",
       "      <th></th>\n",
       "      <th>query_id</th>\n",
       "      <th>product_id</th>\n",
       "      <th>product_context_similarity</th>\n",
       "      <th>is_click</th>\n",
       "      <th>preds</th>\n",
       "      <th>model_rank</th>\n",
       "    </tr>\n",
       "  </thead>\n",
       "  <tbody>\n",
       "    <tr>\n",
       "      <th>85679</th>\n",
       "      <td>00000996d07006b045bc134b757f2825b0c79870d41521...</td>\n",
       "      <td>eec511e70b3423d23bf07b10f7710f7d3d6bd24f2d00ee...</td>\n",
       "      <td>0.922885</td>\n",
       "      <td>0</td>\n",
       "      <td>0.5</td>\n",
       "      <td>6</td>\n",
       "    </tr>\n",
       "    <tr>\n",
       "      <th>189379</th>\n",
       "      <td>00000996d07006b045bc134b757f2825b0c79870d41521...</td>\n",
       "      <td>b7ce11578ac78da80b8afbe384dd5a90ed269e83ecb325...</td>\n",
       "      <td>0.766910</td>\n",
       "      <td>0</td>\n",
       "      <td>0.5</td>\n",
       "      <td>1</td>\n",
       "    </tr>\n",
       "    <tr>\n",
       "      <th>384222</th>\n",
       "      <td>00000996d07006b045bc134b757f2825b0c79870d41521...</td>\n",
       "      <td>d5a043852bc53331c656b9102334e90f2e5238f638062b...</td>\n",
       "      <td>0.845101</td>\n",
       "      <td>1</td>\n",
       "      <td>0.5</td>\n",
       "      <td>5</td>\n",
       "    </tr>\n",
       "    <tr>\n",
       "      <th>616173</th>\n",
       "      <td>00000996d07006b045bc134b757f2825b0c79870d41521...</td>\n",
       "      <td>3eebef491448c1c1e38d696538b3e38245a63a6896f717...</td>\n",
       "      <td>0.761883</td>\n",
       "      <td>0</td>\n",
       "      <td>0.5</td>\n",
       "      <td>2</td>\n",
       "    </tr>\n",
       "    <tr>\n",
       "      <th>131171</th>\n",
       "      <td>00000996d07006b045bc134b757f2825b0c79870d41521...</td>\n",
       "      <td>cc6ce8a7f2a3c3216597d7813a221cabf0f531690c8147...</td>\n",
       "      <td>0.921114</td>\n",
       "      <td>0</td>\n",
       "      <td>0.5</td>\n",
       "      <td>4</td>\n",
       "    </tr>\n",
       "  </tbody>\n",
       "</table>\n",
       "</div>"
      ],
      "text/plain": [
       "                                                 query_id  \\\n",
       "85679   00000996d07006b045bc134b757f2825b0c79870d41521...   \n",
       "189379  00000996d07006b045bc134b757f2825b0c79870d41521...   \n",
       "384222  00000996d07006b045bc134b757f2825b0c79870d41521...   \n",
       "616173  00000996d07006b045bc134b757f2825b0c79870d41521...   \n",
       "131171  00000996d07006b045bc134b757f2825b0c79870d41521...   \n",
       "\n",
       "                                               product_id  \\\n",
       "85679   eec511e70b3423d23bf07b10f7710f7d3d6bd24f2d00ee...   \n",
       "189379  b7ce11578ac78da80b8afbe384dd5a90ed269e83ecb325...   \n",
       "384222  d5a043852bc53331c656b9102334e90f2e5238f638062b...   \n",
       "616173  3eebef491448c1c1e38d696538b3e38245a63a6896f717...   \n",
       "131171  cc6ce8a7f2a3c3216597d7813a221cabf0f531690c8147...   \n",
       "\n",
       "        product_context_similarity  is_click  preds  model_rank  \n",
       "85679                     0.922885         0    0.5           6  \n",
       "189379                    0.766910         0    0.5           1  \n",
       "384222                    0.845101         1    0.5           5  \n",
       "616173                    0.761883         0    0.5           2  \n",
       "131171                    0.921114         0    0.5           4  "
      ]
     },
     "execution_count": 26,
     "metadata": {},
     "output_type": "execute_result"
    }
   ],
   "source": [
    "sub = sub.merge(temp, on=[\"query_id\", \"product_id\"], how=\"left\")\n",
    "sub = sub.sort_values(\"query_id\")\n",
    "sub.head()\n",
    "\n",
    "# test = test.merge(temp, on=[\"query_id\", \"product_id\"], how=\"left\")\n",
    "# test = test.sort_values(\"query_id\")\n",
    "# test.head()"
   ]
  },
  {
   "cell_type": "code",
   "execution_count": 27,
   "metadata": {},
   "outputs": [],
   "source": [
    "# sub.to_csv(\"ensemble_submission.csv\", index=False)"
   ]
  },
  {
   "cell_type": "code",
   "execution_count": 28,
   "metadata": {},
   "outputs": [
    {
     "data": {
      "text/html": [
       "<div>\n",
       "<style scoped>\n",
       "    .dataframe tbody tr th:only-of-type {\n",
       "        vertical-align: middle;\n",
       "    }\n",
       "\n",
       "    .dataframe tbody tr th {\n",
       "        vertical-align: top;\n",
       "    }\n",
       "\n",
       "    .dataframe thead th {\n",
       "        text-align: right;\n",
       "    }\n",
       "</style>\n",
       "<table border=\"1\" class=\"dataframe\">\n",
       "  <thead>\n",
       "    <tr style=\"text-align: right;\">\n",
       "      <th></th>\n",
       "      <th>query_id</th>\n",
       "      <th>max_product_context_similarity</th>\n",
       "    </tr>\n",
       "  </thead>\n",
       "  <tbody>\n",
       "    <tr>\n",
       "      <th>0</th>\n",
       "      <td>00000996d07006b045bc134b757f2825b0c79870d41521...</td>\n",
       "      <td>0.999976</td>\n",
       "    </tr>\n",
       "    <tr>\n",
       "      <th>1</th>\n",
       "      <td>00009794cfc2ea322c5b4969570ea541e1f63c0ec91e84...</td>\n",
       "      <td>0.000000</td>\n",
       "    </tr>\n",
       "    <tr>\n",
       "      <th>2</th>\n",
       "      <td>000168140d358496df8ebc627efe3bdd586b4c56339cf3...</td>\n",
       "      <td>0.922838</td>\n",
       "    </tr>\n",
       "    <tr>\n",
       "      <th>3</th>\n",
       "      <td>0001a2283d6f0ccad5f1dab18451a63d0f8c49bc62b337...</td>\n",
       "      <td>0.922239</td>\n",
       "    </tr>\n",
       "    <tr>\n",
       "      <th>4</th>\n",
       "      <td>0002fd07dd0c3bc94d0ae9f39a816d34aff440548fadd7...</td>\n",
       "      <td>0.893655</td>\n",
       "    </tr>\n",
       "  </tbody>\n",
       "</table>\n",
       "</div>"
      ],
      "text/plain": [
       "                                            query_id  \\\n",
       "0  00000996d07006b045bc134b757f2825b0c79870d41521...   \n",
       "1  00009794cfc2ea322c5b4969570ea541e1f63c0ec91e84...   \n",
       "2  000168140d358496df8ebc627efe3bdd586b4c56339cf3...   \n",
       "3  0001a2283d6f0ccad5f1dab18451a63d0f8c49bc62b337...   \n",
       "4  0002fd07dd0c3bc94d0ae9f39a816d34aff440548fadd7...   \n",
       "\n",
       "   max_product_context_similarity  \n",
       "0                        0.999976  \n",
       "1                        0.000000  \n",
       "2                        0.922838  \n",
       "3                        0.922239  \n",
       "4                        0.893655  "
      ]
     },
     "execution_count": 28,
     "metadata": {},
     "output_type": "execute_result"
    }
   ],
   "source": [
    "max_df = pd.DataFrame(sub.groupby([\"query_id\"])[\"product_context_similarity\"].max()).reset_index()\n",
    "# max_df = pd.DataFrame(test.groupby([\"query_id\"])[\"product_context_similarity\"].max()).reset_index()\n",
    "max_df = max_df.rename(columns={\"product_context_similarity\": \"max_product_context_similarity\"})\n",
    "max_df.head()"
   ]
  },
  {
   "cell_type": "code",
   "execution_count": 29,
   "metadata": {},
   "outputs": [
    {
     "data": {
      "text/html": [
       "<div>\n",
       "<style scoped>\n",
       "    .dataframe tbody tr th:only-of-type {\n",
       "        vertical-align: middle;\n",
       "    }\n",
       "\n",
       "    .dataframe tbody tr th {\n",
       "        vertical-align: top;\n",
       "    }\n",
       "\n",
       "    .dataframe thead th {\n",
       "        text-align: right;\n",
       "    }\n",
       "</style>\n",
       "<table border=\"1\" class=\"dataframe\">\n",
       "  <thead>\n",
       "    <tr style=\"text-align: right;\">\n",
       "      <th></th>\n",
       "      <th>query_id</th>\n",
       "      <th>product_id</th>\n",
       "      <th>product_context_similarity</th>\n",
       "      <th>is_click</th>\n",
       "      <th>preds</th>\n",
       "      <th>model_rank</th>\n",
       "      <th>max_product_context_similarity</th>\n",
       "    </tr>\n",
       "  </thead>\n",
       "  <tbody>\n",
       "    <tr>\n",
       "      <th>0</th>\n",
       "      <td>00000996d07006b045bc134b757f2825b0c79870d41521...</td>\n",
       "      <td>eec511e70b3423d23bf07b10f7710f7d3d6bd24f2d00ee...</td>\n",
       "      <td>0.922885</td>\n",
       "      <td>0</td>\n",
       "      <td>0.5</td>\n",
       "      <td>6</td>\n",
       "      <td>0.999976</td>\n",
       "    </tr>\n",
       "    <tr>\n",
       "      <th>1</th>\n",
       "      <td>00000996d07006b045bc134b757f2825b0c79870d41521...</td>\n",
       "      <td>b7ce11578ac78da80b8afbe384dd5a90ed269e83ecb325...</td>\n",
       "      <td>0.766910</td>\n",
       "      <td>0</td>\n",
       "      <td>0.5</td>\n",
       "      <td>1</td>\n",
       "      <td>0.999976</td>\n",
       "    </tr>\n",
       "    <tr>\n",
       "      <th>2</th>\n",
       "      <td>00000996d07006b045bc134b757f2825b0c79870d41521...</td>\n",
       "      <td>d5a043852bc53331c656b9102334e90f2e5238f638062b...</td>\n",
       "      <td>0.845101</td>\n",
       "      <td>1</td>\n",
       "      <td>0.5</td>\n",
       "      <td>5</td>\n",
       "      <td>0.999976</td>\n",
       "    </tr>\n",
       "    <tr>\n",
       "      <th>3</th>\n",
       "      <td>00000996d07006b045bc134b757f2825b0c79870d41521...</td>\n",
       "      <td>3eebef491448c1c1e38d696538b3e38245a63a6896f717...</td>\n",
       "      <td>0.761883</td>\n",
       "      <td>0</td>\n",
       "      <td>0.5</td>\n",
       "      <td>2</td>\n",
       "      <td>0.999976</td>\n",
       "    </tr>\n",
       "    <tr>\n",
       "      <th>4</th>\n",
       "      <td>00000996d07006b045bc134b757f2825b0c79870d41521...</td>\n",
       "      <td>cc6ce8a7f2a3c3216597d7813a221cabf0f531690c8147...</td>\n",
       "      <td>0.921114</td>\n",
       "      <td>0</td>\n",
       "      <td>0.5</td>\n",
       "      <td>4</td>\n",
       "      <td>0.999976</td>\n",
       "    </tr>\n",
       "  </tbody>\n",
       "</table>\n",
       "</div>"
      ],
      "text/plain": [
       "                                            query_id  \\\n",
       "0  00000996d07006b045bc134b757f2825b0c79870d41521...   \n",
       "1  00000996d07006b045bc134b757f2825b0c79870d41521...   \n",
       "2  00000996d07006b045bc134b757f2825b0c79870d41521...   \n",
       "3  00000996d07006b045bc134b757f2825b0c79870d41521...   \n",
       "4  00000996d07006b045bc134b757f2825b0c79870d41521...   \n",
       "\n",
       "                                          product_id  \\\n",
       "0  eec511e70b3423d23bf07b10f7710f7d3d6bd24f2d00ee...   \n",
       "1  b7ce11578ac78da80b8afbe384dd5a90ed269e83ecb325...   \n",
       "2  d5a043852bc53331c656b9102334e90f2e5238f638062b...   \n",
       "3  3eebef491448c1c1e38d696538b3e38245a63a6896f717...   \n",
       "4  cc6ce8a7f2a3c3216597d7813a221cabf0f531690c8147...   \n",
       "\n",
       "   product_context_similarity  is_click  preds  model_rank  \\\n",
       "0                    0.922885         0    0.5           6   \n",
       "1                    0.766910         0    0.5           1   \n",
       "2                    0.845101         1    0.5           5   \n",
       "3                    0.761883         0    0.5           2   \n",
       "4                    0.921114         0    0.5           4   \n",
       "\n",
       "   max_product_context_similarity  \n",
       "0                        0.999976  \n",
       "1                        0.999976  \n",
       "2                        0.999976  \n",
       "3                        0.999976  \n",
       "4                        0.999976  "
      ]
     },
     "execution_count": 29,
     "metadata": {},
     "output_type": "execute_result"
    }
   ],
   "source": [
    "sub = sub.merge(max_df, on=[\"query_id\"], how=\"left\")\n",
    "sub.head()\n",
    "# test = test.merge(max_df, on=[\"query_id\"], how=\"left\")\n",
    "# test.head()\n"
   ]
  },
  {
   "cell_type": "code",
   "execution_count": 30,
   "metadata": {},
   "outputs": [],
   "source": [
    "def apply_rank(row, col):\n",
    "    return (6-row[col])+1\n"
   ]
  },
  {
   "cell_type": "code",
   "execution_count": 31,
   "metadata": {},
   "outputs": [
    {
     "data": {
      "text/html": [
       "<div>\n",
       "<style scoped>\n",
       "    .dataframe tbody tr th:only-of-type {\n",
       "        vertical-align: middle;\n",
       "    }\n",
       "\n",
       "    .dataframe tbody tr th {\n",
       "        vertical-align: top;\n",
       "    }\n",
       "\n",
       "    .dataframe thead th {\n",
       "        text-align: right;\n",
       "    }\n",
       "</style>\n",
       "<table border=\"1\" class=\"dataframe\">\n",
       "  <thead>\n",
       "    <tr style=\"text-align: right;\">\n",
       "      <th></th>\n",
       "      <th>query_id</th>\n",
       "      <th>product_id</th>\n",
       "      <th>product_context_similarity</th>\n",
       "      <th>is_click</th>\n",
       "      <th>preds</th>\n",
       "      <th>model_rank</th>\n",
       "      <th>max_product_context_similarity</th>\n",
       "      <th>pcs_rank</th>\n",
       "    </tr>\n",
       "  </thead>\n",
       "  <tbody>\n",
       "    <tr>\n",
       "      <th>0</th>\n",
       "      <td>00000996d07006b045bc134b757f2825b0c79870d41521...</td>\n",
       "      <td>eec511e70b3423d23bf07b10f7710f7d3d6bd24f2d00ee...</td>\n",
       "      <td>0.922885</td>\n",
       "      <td>0</td>\n",
       "      <td>0.5</td>\n",
       "      <td>6</td>\n",
       "      <td>0.999976</td>\n",
       "      <td>2</td>\n",
       "    </tr>\n",
       "    <tr>\n",
       "      <th>1</th>\n",
       "      <td>00000996d07006b045bc134b757f2825b0c79870d41521...</td>\n",
       "      <td>b7ce11578ac78da80b8afbe384dd5a90ed269e83ecb325...</td>\n",
       "      <td>0.766910</td>\n",
       "      <td>0</td>\n",
       "      <td>0.5</td>\n",
       "      <td>1</td>\n",
       "      <td>0.999976</td>\n",
       "      <td>5</td>\n",
       "    </tr>\n",
       "    <tr>\n",
       "      <th>2</th>\n",
       "      <td>00000996d07006b045bc134b757f2825b0c79870d41521...</td>\n",
       "      <td>d5a043852bc53331c656b9102334e90f2e5238f638062b...</td>\n",
       "      <td>0.845101</td>\n",
       "      <td>1</td>\n",
       "      <td>0.5</td>\n",
       "      <td>5</td>\n",
       "      <td>0.999976</td>\n",
       "      <td>4</td>\n",
       "    </tr>\n",
       "    <tr>\n",
       "      <th>3</th>\n",
       "      <td>00000996d07006b045bc134b757f2825b0c79870d41521...</td>\n",
       "      <td>3eebef491448c1c1e38d696538b3e38245a63a6896f717...</td>\n",
       "      <td>0.761883</td>\n",
       "      <td>0</td>\n",
       "      <td>0.5</td>\n",
       "      <td>2</td>\n",
       "      <td>0.999976</td>\n",
       "      <td>6</td>\n",
       "    </tr>\n",
       "    <tr>\n",
       "      <th>4</th>\n",
       "      <td>00000996d07006b045bc134b757f2825b0c79870d41521...</td>\n",
       "      <td>cc6ce8a7f2a3c3216597d7813a221cabf0f531690c8147...</td>\n",
       "      <td>0.921114</td>\n",
       "      <td>0</td>\n",
       "      <td>0.5</td>\n",
       "      <td>4</td>\n",
       "      <td>0.999976</td>\n",
       "      <td>3</td>\n",
       "    </tr>\n",
       "    <tr>\n",
       "      <th>5</th>\n",
       "      <td>00000996d07006b045bc134b757f2825b0c79870d41521...</td>\n",
       "      <td>009fbcce12d627c870fc0b262c5ddd4b67e897d34928bf...</td>\n",
       "      <td>0.999976</td>\n",
       "      <td>0</td>\n",
       "      <td>0.5</td>\n",
       "      <td>3</td>\n",
       "      <td>0.999976</td>\n",
       "      <td>1</td>\n",
       "    </tr>\n",
       "  </tbody>\n",
       "</table>\n",
       "</div>"
      ],
      "text/plain": [
       "                                            query_id  \\\n",
       "0  00000996d07006b045bc134b757f2825b0c79870d41521...   \n",
       "1  00000996d07006b045bc134b757f2825b0c79870d41521...   \n",
       "2  00000996d07006b045bc134b757f2825b0c79870d41521...   \n",
       "3  00000996d07006b045bc134b757f2825b0c79870d41521...   \n",
       "4  00000996d07006b045bc134b757f2825b0c79870d41521...   \n",
       "5  00000996d07006b045bc134b757f2825b0c79870d41521...   \n",
       "\n",
       "                                          product_id  \\\n",
       "0  eec511e70b3423d23bf07b10f7710f7d3d6bd24f2d00ee...   \n",
       "1  b7ce11578ac78da80b8afbe384dd5a90ed269e83ecb325...   \n",
       "2  d5a043852bc53331c656b9102334e90f2e5238f638062b...   \n",
       "3  3eebef491448c1c1e38d696538b3e38245a63a6896f717...   \n",
       "4  cc6ce8a7f2a3c3216597d7813a221cabf0f531690c8147...   \n",
       "5  009fbcce12d627c870fc0b262c5ddd4b67e897d34928bf...   \n",
       "\n",
       "   product_context_similarity  is_click  preds  model_rank  \\\n",
       "0                    0.922885         0    0.5           6   \n",
       "1                    0.766910         0    0.5           1   \n",
       "2                    0.845101         1    0.5           5   \n",
       "3                    0.761883         0    0.5           2   \n",
       "4                    0.921114         0    0.5           4   \n",
       "5                    0.999976         0    0.5           3   \n",
       "\n",
       "   max_product_context_similarity  pcs_rank  \n",
       "0                        0.999976         2  \n",
       "1                        0.999976         5  \n",
       "2                        0.999976         4  \n",
       "3                        0.999976         6  \n",
       "4                        0.999976         3  \n",
       "5                        0.999976         1  "
      ]
     },
     "execution_count": 31,
     "metadata": {},
     "output_type": "execute_result"
    }
   ],
   "source": [
    "sub[\"pcs_rank\"] = sub.groupby('query_id')['product_context_similarity'].rank(method='first').apply(int)\n",
    "sub[\"pcs_rank\"] = sub.swifter.apply(lambda x: apply_rank(x, \"pcs_rank\"), 1)\n",
    "sub.head(6)\n",
    "# test[\"pcs_rank\"] = test.groupby('query_id')['product_context_similarity'].rank(method='first').apply(int)\n",
    "# test[\"pcs_rank\"] = test.swifter.apply(lambda x: apply_rank(x, \"pcs_rank\"), 1)\n",
    "# test.head(6)"
   ]
  },
  {
   "cell_type": "code",
   "execution_count": 32,
   "metadata": {},
   "outputs": [],
   "source": [
    "def get_final_rank(row, threshold=0.52):\n",
    "    pcs_rank = row[\"pcs_rank\"]\n",
    "    model_rank = row[\"model_rank\"]\n",
    "    return pcs_rank if row[\"max_product_context_similarity\"]>threshold else model_rank\n"
   ]
  },
  {
   "cell_type": "code",
   "execution_count": 33,
   "metadata": {},
   "outputs": [],
   "source": [
    "def get_final_preds(row, threshold=0.52):\n",
    "    pcs_rank = row[\"pcs_rank\"]\n",
    "    model_rank = row[\"model_rank\"]\n",
    "    return row[\"product_context_similarity\"] if row[\"max_product_context_similarity\"]>threshold else row[\"preds\"]\n"
   ]
  },
  {
   "cell_type": "code",
   "execution_count": null,
   "metadata": {},
   "outputs": [],
   "source": []
  },
  {
   "cell_type": "code",
   "execution_count": 34,
   "metadata": {},
   "outputs": [
    {
     "data": {
      "application/vnd.jupyter.widget-view+json": {
       "model_id": "573a0281b6354a7c8f228691cb31e7da",
       "version_major": 2,
       "version_minor": 0
      },
      "text/plain": [
       "HBox(children=(HTML(value='Pandas Apply'), FloatProgress(value=0.0, max=687192.0), HTML(value='')))"
      ]
     },
     "metadata": {},
     "output_type": "display_data"
    },
    {
     "name": "stdout",
     "output_type": "stream",
     "text": [
      "\n"
     ]
    },
    {
     "data": {
      "application/vnd.jupyter.widget-view+json": {
       "model_id": "19640ce414664f48a270eb478753b6b2",
       "version_major": 2,
       "version_minor": 0
      },
      "text/plain": [
       "HBox(children=(HTML(value='Pandas Apply'), FloatProgress(value=0.0, max=687192.0), HTML(value='')))"
      ]
     },
     "metadata": {},
     "output_type": "display_data"
    },
    {
     "name": "stdout",
     "output_type": "stream",
     "text": [
      "\n"
     ]
    }
   ],
   "source": [
    "sub[\"final_preds\"] = sub.swifter.apply(lambda x: get_final_preds(x), 1)\n",
    "sub[\"final_rank\"] = sub.swifter.apply(lambda x: get_final_rank(x), 1)\n"
   ]
  },
  {
   "cell_type": "code",
   "execution_count": 35,
   "metadata": {},
   "outputs": [],
   "source": [
    "def compute_mean_reciprocal_rank(rs):\n",
    "    '''\n",
    "    rs: 2d array\n",
    "    >>> rs = [[0, 0, 1], [0, 1, 0], [1, 0, 0]]\n",
    "    >>> mean_reciprocal_rank(rs)\n",
    "    0.61111111111111105\n",
    "    >>> rs = np.array([[0, 0, 0], [0, 1, 0], [1, 0, 0]])\n",
    "    >>> mean_reciprocal_rank(rs)\n",
    "    0.5\n",
    "    >>> rs = [[0, 0, 0, 1], [1, 0, 0], [1, 0, 0]]\n",
    "    >>> mean_reciprocal_rank(rs)\n",
    "    0.75\n",
    "    '''\n",
    "\n",
    "    rs = (np.asarray(r).nonzero()[0] for r in rs)\n",
    "    return np.mean([1. / (r[0] + 1) if r.size else 0. for r in rs])\n"
   ]
  },
  {
   "cell_type": "code",
   "execution_count": 36,
   "metadata": {},
   "outputs": [],
   "source": [
    "def evaluate(val_df, col):\n",
    "    grouped_val = val_df.groupby('query_id')\n",
    "    rss = []\n",
    "    for _, group in grouped_val:\n",
    "\n",
    "        scores = group[col]\n",
    "        sorted_arg = np.flip(np.argsort(scores))\n",
    "        rss.append( group['is_click'].values[sorted_arg])\n",
    "        \n",
    "    mrr = compute_mean_reciprocal_rank(rss)\n",
    "    print(\"MRR\", mrr)\n",
    "    return mrr\n",
    "\n"
   ]
  },
  {
   "cell_type": "code",
   "execution_count": 37,
   "metadata": {},
   "outputs": [
    {
     "data": {
      "text/plain": [
       "Index(['query_id', 'product_id', 'product_context_similarity', 'is_click',\n",
       "       'preds', 'model_rank', 'max_product_context_similarity', 'pcs_rank',\n",
       "       'final_preds', 'final_rank'],\n",
       "      dtype='object')"
      ]
     },
     "execution_count": 37,
     "metadata": {},
     "output_type": "execute_result"
    }
   ],
   "source": [
    "sub.columns"
   ]
  },
  {
   "cell_type": "code",
   "execution_count": 38,
   "metadata": {},
   "outputs": [],
   "source": [
    "# evaluate(sub, \"preds\")"
   ]
  },
  {
   "cell_type": "code",
   "execution_count": 39,
   "metadata": {},
   "outputs": [],
   "source": [
    "import numpy as np\n",
    "\n",
    "thresholds = np.arange(0.3, 0.8, 0.03)\n"
   ]
  },
  {
   "cell_type": "code",
   "execution_count": 40,
   "metadata": {},
   "outputs": [],
   "source": [
    "# sub[\"final_preds\"] = sub.swifter.apply(lambda x: get_final_preds(x, threshold=0.77), 1)\n",
    "# evaluate(sub, \"final_preds\")"
   ]
  },
  {
   "cell_type": "code",
   "execution_count": 41,
   "metadata": {},
   "outputs": [
    {
     "data": {
      "application/vnd.jupyter.widget-view+json": {
       "model_id": "f731a991aca44ff4a36822866617448a",
       "version_major": 2,
       "version_minor": 0
      },
      "text/plain": [
       "HBox(children=(HTML(value='Pandas Apply'), FloatProgress(value=0.0, max=687192.0), HTML(value='')))"
      ]
     },
     "metadata": {},
     "output_type": "display_data"
    },
    {
     "name": "stdout",
     "output_type": "stream",
     "text": [
      "\n",
      "Threshold 0.3\n",
      "MRR 0.47605778297768314\n"
     ]
    },
    {
     "data": {
      "application/vnd.jupyter.widget-view+json": {
       "model_id": "00c6c4830669473a9c1a300a3700052e",
       "version_major": 2,
       "version_minor": 0
      },
      "text/plain": [
       "HBox(children=(HTML(value='Pandas Apply'), FloatProgress(value=0.0, max=687192.0), HTML(value='')))"
      ]
     },
     "metadata": {},
     "output_type": "display_data"
    },
    {
     "name": "stdout",
     "output_type": "stream",
     "text": [
      "\n",
      "Threshold 0.32999999999999996\n",
      "MRR 0.4760633127277384\n"
     ]
    },
    {
     "data": {
      "application/vnd.jupyter.widget-view+json": {
       "model_id": "07c680fe2eba47bfb273833d7a1492c7",
       "version_major": 2,
       "version_minor": 0
      },
      "text/plain": [
       "HBox(children=(HTML(value='Pandas Apply'), FloatProgress(value=0.0, max=687192.0), HTML(value='')))"
      ]
     },
     "metadata": {},
     "output_type": "display_data"
    },
    {
     "name": "stdout",
     "output_type": "stream",
     "text": [
      "\n",
      "Threshold 0.35999999999999993\n",
      "MRR 0.47606185753035535\n"
     ]
    },
    {
     "data": {
      "application/vnd.jupyter.widget-view+json": {
       "model_id": "4972339891e442f7945d44cd16b332f0",
       "version_major": 2,
       "version_minor": 0
      },
      "text/plain": [
       "HBox(children=(HTML(value='Pandas Apply'), FloatProgress(value=0.0, max=687192.0), HTML(value='')))"
      ]
     },
     "metadata": {},
     "output_type": "display_data"
    },
    {
     "name": "stdout",
     "output_type": "stream",
     "text": [
      "\n",
      "Threshold 0.3899999999999999\n",
      "MRR 0.4760627306487852\n"
     ]
    },
    {
     "data": {
      "application/vnd.jupyter.widget-view+json": {
       "model_id": "3dfc1d0bb35e4de4851ce145d0c8f651",
       "version_major": 2,
       "version_minor": 0
      },
      "text/plain": [
       "HBox(children=(HTML(value='Pandas Apply'), FloatProgress(value=0.0, max=687192.0), HTML(value='')))"
      ]
     },
     "metadata": {},
     "output_type": "display_data"
    },
    {
     "name": "stdout",
     "output_type": "stream",
     "text": [
      "\n",
      "Threshold 0.4199999999999999\n",
      "MRR 0.47605472706317886\n"
     ]
    },
    {
     "data": {
      "application/vnd.jupyter.widget-view+json": {
       "model_id": "26d52db38f1141ec91106eb7eceff2cf",
       "version_major": 2,
       "version_minor": 0
      },
      "text/plain": [
       "HBox(children=(HTML(value='Pandas Apply'), FloatProgress(value=0.0, max=687192.0), HTML(value='')))"
      ]
     },
     "metadata": {},
     "output_type": "display_data"
    },
    {
     "name": "stdout",
     "output_type": "stream",
     "text": [
      "\n",
      "Threshold 0.44999999999999984\n",
      "MRR 0.47603871989196606\n"
     ]
    },
    {
     "data": {
      "application/vnd.jupyter.widget-view+json": {
       "model_id": "8cd29b6c73834557bbabc404cf40e69c",
       "version_major": 2,
       "version_minor": 0
      },
      "text/plain": [
       "HBox(children=(HTML(value='Pandas Apply'), FloatProgress(value=0.0, max=687192.0), HTML(value='')))"
      ]
     },
     "metadata": {},
     "output_type": "display_data"
    },
    {
     "name": "stdout",
     "output_type": "stream",
     "text": [
      "\n",
      "Threshold 0.4799999999999998\n",
      "MRR 0.47603362670112576\n"
     ]
    },
    {
     "data": {
      "application/vnd.jupyter.widget-view+json": {
       "model_id": "2b93121153f44794833889756cba74b0",
       "version_major": 2,
       "version_minor": 0
      },
      "text/plain": [
       "HBox(children=(HTML(value='Pandas Apply'), FloatProgress(value=0.0, max=687192.0), HTML(value='')))"
      ]
     },
     "metadata": {},
     "output_type": "display_data"
    },
    {
     "name": "stdout",
     "output_type": "stream",
     "text": [
      "\n",
      "Threshold 0.5099999999999998\n",
      "MRR 0.4760186381680811\n"
     ]
    },
    {
     "data": {
      "application/vnd.jupyter.widget-view+json": {
       "model_id": "7832afeb02e440e2a501e22e7e784e0d",
       "version_major": 2,
       "version_minor": 0
      },
      "text/plain": [
       "HBox(children=(HTML(value='Pandas Apply'), FloatProgress(value=0.0, max=687192.0), HTML(value='')))"
      ]
     },
     "metadata": {},
     "output_type": "display_data"
    },
    {
     "name": "stdout",
     "output_type": "stream",
     "text": [
      "\n",
      "Threshold 0.5399999999999998\n",
      "MRR 0.47596028475302393\n"
     ]
    },
    {
     "data": {
      "application/vnd.jupyter.widget-view+json": {
       "model_id": "91dfad47281c47f48844fb87c05045c3",
       "version_major": 2,
       "version_minor": 0
      },
      "text/plain": [
       "HBox(children=(HTML(value='Pandas Apply'), FloatProgress(value=0.0, max=687192.0), HTML(value='')))"
      ]
     },
     "metadata": {},
     "output_type": "display_data"
    },
    {
     "name": "stdout",
     "output_type": "stream",
     "text": [
      "\n",
      "Threshold 0.5699999999999997\n",
      "MRR 0.4758769019429796\n"
     ]
    },
    {
     "data": {
      "application/vnd.jupyter.widget-view+json": {
       "model_id": "b74cd764380f46d39e74202c95fc285e",
       "version_major": 2,
       "version_minor": 0
      },
      "text/plain": [
       "HBox(children=(HTML(value='Pandas Apply'), FloatProgress(value=0.0, max=687192.0), HTML(value='')))"
      ]
     },
     "metadata": {},
     "output_type": "display_data"
    },
    {
     "name": "stdout",
     "output_type": "stream",
     "text": [
      "\n",
      "Threshold 0.5999999999999996\n",
      "MRR 0.4757590309549587\n"
     ]
    },
    {
     "data": {
      "application/vnd.jupyter.widget-view+json": {
       "model_id": "4b98050952844542a9560ecd053eb954",
       "version_major": 2,
       "version_minor": 0
      },
      "text/plain": [
       "HBox(children=(HTML(value='Pandas Apply'), FloatProgress(value=0.0, max=687192.0), HTML(value='')))"
      ]
     },
     "metadata": {},
     "output_type": "display_data"
    },
    {
     "name": "stdout",
     "output_type": "stream",
     "text": [
      "\n",
      "Threshold 0.6299999999999997\n",
      "MRR 0.4755384230317001\n"
     ]
    },
    {
     "data": {
      "application/vnd.jupyter.widget-view+json": {
       "model_id": "d1918e1584354a8091d4d34f14affa2d",
       "version_major": 2,
       "version_minor": 0
      },
      "text/plain": [
       "HBox(children=(HTML(value='Pandas Apply'), FloatProgress(value=0.0, max=687192.0), HTML(value='')))"
      ]
     },
     "metadata": {},
     "output_type": "display_data"
    },
    {
     "name": "stdout",
     "output_type": "stream",
     "text": [
      "\n",
      "Threshold 0.6599999999999997\n",
      "MRR 0.47508149105344644\n"
     ]
    },
    {
     "data": {
      "application/vnd.jupyter.widget-view+json": {
       "model_id": "b31cd93ee4474158b6af2098f85ec990",
       "version_major": 2,
       "version_minor": 0
      },
      "text/plain": [
       "HBox(children=(HTML(value='Pandas Apply'), FloatProgress(value=0.0, max=687192.0), HTML(value='')))"
      ]
     },
     "metadata": {},
     "output_type": "display_data"
    },
    {
     "name": "stdout",
     "output_type": "stream",
     "text": [
      "\n",
      "Threshold 0.6899999999999996\n",
      "MRR 0.47452385941629127\n"
     ]
    },
    {
     "data": {
      "application/vnd.jupyter.widget-view+json": {
       "model_id": "b66e867e1b7f4bc0bd67d307d6f053b2",
       "version_major": 2,
       "version_minor": 0
      },
      "text/plain": [
       "HBox(children=(HTML(value='Pandas Apply'), FloatProgress(value=0.0, max=687192.0), HTML(value='')))"
      ]
     },
     "metadata": {},
     "output_type": "display_data"
    },
    {
     "name": "stdout",
     "output_type": "stream",
     "text": [
      "\n",
      "Threshold 0.7199999999999995\n",
      "MRR 0.4730727365859906\n"
     ]
    },
    {
     "data": {
      "application/vnd.jupyter.widget-view+json": {
       "model_id": "38075b71f291451dbd370833edfe47ce",
       "version_major": 2,
       "version_minor": 0
      },
      "text/plain": [
       "HBox(children=(HTML(value='Pandas Apply'), FloatProgress(value=0.0, max=687192.0), HTML(value='')))"
      ]
     },
     "metadata": {},
     "output_type": "display_data"
    },
    {
     "name": "stdout",
     "output_type": "stream",
     "text": [
      "\n",
      "Threshold 0.7499999999999996\n",
      "MRR 0.4712322029360062\n"
     ]
    },
    {
     "data": {
      "application/vnd.jupyter.widget-view+json": {
       "model_id": "e5404b848fc6407ba4b33e6747887609",
       "version_major": 2,
       "version_minor": 0
      },
      "text/plain": [
       "HBox(children=(HTML(value='Pandas Apply'), FloatProgress(value=0.0, max=687192.0), HTML(value='')))"
      ]
     },
     "metadata": {},
     "output_type": "display_data"
    },
    {
     "name": "stdout",
     "output_type": "stream",
     "text": [
      "\n",
      "Threshold 0.7799999999999996\n",
      "MRR 0.4684505931384533\n"
     ]
    }
   ],
   "source": [
    "for threshold in thresholds:\n",
    "    sub[\"final_preds\"] = sub.swifter.apply(lambda x: get_final_preds(x, threshold=threshold), 1)\n",
    "    print(\"Threshold\", threshold)\n",
    "    evaluate(sub, \"final_preds\")\n",
    "    \n",
    "    "
   ]
  },
  {
   "cell_type": "code",
   "execution_count": 37,
   "metadata": {},
   "outputs": [
    {
     "data": {
      "application/vnd.jupyter.widget-view+json": {
       "model_id": "e8c98fcd4cf1497c812f25ce71834945",
       "version_major": 2,
       "version_minor": 0
      },
      "text/plain": [
       "HBox(children=(HTML(value='Pandas Apply'), FloatProgress(value=0.0, max=687192.0), HTML(value='')))"
      ]
     },
     "metadata": {},
     "output_type": "display_data"
    },
    {
     "name": "stdout",
     "output_type": "stream",
     "text": [
      "\n",
      "Threshold 0.4\n",
      "MRR 0.4760627306487852\n"
     ]
    },
    {
     "data": {
      "application/vnd.jupyter.widget-view+json": {
       "model_id": "ebbc67a9c45c41d49cbdf3aa714c91b3",
       "version_major": 2,
       "version_minor": 0
      },
      "text/plain": [
       "HBox(children=(HTML(value='Pandas Apply'), FloatProgress(value=0.0, max=687192.0), HTML(value='')))"
      ]
     },
     "metadata": {},
     "output_type": "display_data"
    },
    {
     "name": "stdout",
     "output_type": "stream",
     "text": [
      "\n",
      "Threshold 0.43000000000000005\n",
      "MRR 0.4760532718657958\n"
     ]
    },
    {
     "data": {
      "application/vnd.jupyter.widget-view+json": {
       "model_id": "116db751ad6849bf9933dcb40d536524",
       "version_major": 2,
       "version_minor": 0
      },
      "text/plain": [
       "HBox(children=(HTML(value='Pandas Apply'), FloatProgress(value=0.0, max=687192.0), HTML(value='')))"
      ]
     },
     "metadata": {},
     "output_type": "display_data"
    },
    {
     "name": "stdout",
     "output_type": "stream",
     "text": [
      "\n",
      "Threshold 0.4600000000000001\n",
      "MRR 0.4760289700695002\n"
     ]
    },
    {
     "data": {
      "application/vnd.jupyter.widget-view+json": {
       "model_id": "ba3e893b88aa40f8a69dcea4b3b83d52",
       "version_major": 2,
       "version_minor": 0
      },
      "text/plain": [
       "HBox(children=(HTML(value='Pandas Apply'), FloatProgress(value=0.0, max=687192.0), HTML(value='')))"
      ]
     },
     "metadata": {},
     "output_type": "display_data"
    },
    {
     "name": "stdout",
     "output_type": "stream",
     "text": [
      "\n",
      "Threshold 0.4900000000000001\n",
      "MRR 0.4760327535826959\n"
     ]
    },
    {
     "data": {
      "application/vnd.jupyter.widget-view+json": {
       "model_id": "ece373056d4544e9aa906af434d5ea3b",
       "version_major": 2,
       "version_minor": 0
      },
      "text/plain": [
       "HBox(children=(HTML(value='Pandas Apply'), FloatProgress(value=0.0, max=687192.0), HTML(value='')))"
      ]
     },
     "metadata": {},
     "output_type": "display_data"
    },
    {
     "name": "stdout",
     "output_type": "stream",
     "text": [
      "\n",
      "Threshold 0.5200000000000001\n",
      "MRR 0.4760214030431087\n"
     ]
    },
    {
     "data": {
      "application/vnd.jupyter.widget-view+json": {
       "model_id": "05a7a445f976486e8880bd8030a4b538",
       "version_major": 2,
       "version_minor": 0
      },
      "text/plain": [
       "HBox(children=(HTML(value='Pandas Apply'), FloatProgress(value=0.0, max=687192.0), HTML(value='')))"
      ]
     },
     "metadata": {},
     "output_type": "display_data"
    },
    {
     "name": "stdout",
     "output_type": "stream",
     "text": [
      "\n",
      "Threshold 0.5500000000000002\n",
      "MRR 0.4759624675490984\n"
     ]
    },
    {
     "data": {
      "application/vnd.jupyter.widget-view+json": {
       "model_id": "37dd0e3adcc04344a97e502d115d1b16",
       "version_major": 2,
       "version_minor": 0
      },
      "text/plain": [
       "HBox(children=(HTML(value='Pandas Apply'), FloatProgress(value=0.0, max=687192.0), HTML(value='')))"
      ]
     },
     "metadata": {},
     "output_type": "display_data"
    },
    {
     "name": "stdout",
     "output_type": "stream",
     "text": [
      "\n",
      "Threshold 0.5800000000000002\n",
      "MRR 0.4758037055146159\n"
     ]
    },
    {
     "data": {
      "application/vnd.jupyter.widget-view+json": {
       "model_id": "4408cb92a2d84a929bcaffdbc7bf5137",
       "version_major": 2,
       "version_minor": 0
      },
      "text/plain": [
       "HBox(children=(HTML(value='Pandas Apply'), FloatProgress(value=0.0, max=687192.0), HTML(value='')))"
      ]
     },
     "metadata": {},
     "output_type": "display_data"
    },
    {
     "name": "stdout",
     "output_type": "stream",
     "text": [
      "\n",
      "Threshold 0.6100000000000002\n",
      "MRR 0.47569645746749084\n"
     ]
    },
    {
     "data": {
      "application/vnd.jupyter.widget-view+json": {
       "model_id": "24cb7dd6a4894b55821dd1a25af6f8f6",
       "version_major": 2,
       "version_minor": 0
      },
      "text/plain": [
       "HBox(children=(HTML(value='Pandas Apply'), FloatProgress(value=0.0, max=687192.0), HTML(value='')))"
      ]
     },
     "metadata": {},
     "output_type": "display_data"
    },
    {
     "name": "stdout",
     "output_type": "stream",
     "text": [
      "\n",
      "Threshold 0.6400000000000002\n",
      "MRR 0.4754466000768344\n"
     ]
    },
    {
     "data": {
      "application/vnd.jupyter.widget-view+json": {
       "model_id": "f2875ac27e25438d907196247491ceff",
       "version_major": 2,
       "version_minor": 0
      },
      "text/plain": [
       "HBox(children=(HTML(value='Pandas Apply'), FloatProgress(value=0.0, max=687192.0), HTML(value='')))"
      ]
     },
     "metadata": {},
     "output_type": "display_data"
    },
    {
     "name": "stdout",
     "output_type": "stream",
     "text": [
      "\n",
      "Threshold 0.6700000000000003\n",
      "MRR 0.4749627469469959\n"
     ]
    },
    {
     "data": {
      "application/vnd.jupyter.widget-view+json": {
       "model_id": "6cf7e2b5ff8e4dd0a78df3ea17015861",
       "version_major": 2,
       "version_minor": 0
      },
      "text/plain": [
       "HBox(children=(HTML(value='Pandas Apply'), FloatProgress(value=0.0, max=687192.0), HTML(value='')))"
      ]
     },
     "metadata": {},
     "output_type": "display_data"
    },
    {
     "name": "stdout",
     "output_type": "stream",
     "text": [
      "\n",
      "Threshold 0.7000000000000003\n",
      "MRR 0.4739544406803339\n"
     ]
    },
    {
     "data": {
      "application/vnd.jupyter.widget-view+json": {
       "model_id": "201b1ef58748438d85cf2778ea603a9d",
       "version_major": 2,
       "version_minor": 0
      },
      "text/plain": [
       "HBox(children=(HTML(value='Pandas Apply'), FloatProgress(value=0.0, max=687192.0), HTML(value='')))"
      ]
     },
     "metadata": {},
     "output_type": "display_data"
    },
    {
     "name": "stdout",
     "output_type": "stream",
     "text": [
      "\n",
      "Threshold 0.7300000000000003\n",
      "MRR 0.47244249059942484\n"
     ]
    },
    {
     "data": {
      "application/vnd.jupyter.widget-view+json": {
       "model_id": "c97e9b54e1b140159c329bede4c2a317",
       "version_major": 2,
       "version_minor": 0
      },
      "text/plain": [
       "HBox(children=(HTML(value='Pandas Apply'), FloatProgress(value=0.0, max=687192.0), HTML(value='')))"
      ]
     },
     "metadata": {},
     "output_type": "display_data"
    },
    {
     "name": "stdout",
     "output_type": "stream",
     "text": [
      "\n",
      "Threshold 0.7600000000000003\n",
      "MRR 0.4708602544849183\n"
     ]
    },
    {
     "data": {
      "application/vnd.jupyter.widget-view+json": {
       "model_id": "0715b21db3234e7a86d01b9fa5a982d6",
       "version_major": 2,
       "version_minor": 0
      },
      "text/plain": [
       "HBox(children=(HTML(value='Pandas Apply'), FloatProgress(value=0.0, max=687192.0), HTML(value='')))"
      ]
     },
     "metadata": {},
     "output_type": "display_data"
    },
    {
     "name": "stdout",
     "output_type": "stream",
     "text": [
      "\n",
      "Threshold 0.7900000000000004\n",
      "MRR 0.46724583522508994\n"
     ]
    }
   ],
   "source": [
    "# for threshold in thresholds:\n",
    "#     sub[\"final_preds\"] = sub.swifter.apply(lambda x: get_final_preds(x, threshold=threshold), 1)\n",
    "#     print(\"Threshold\", threshold)\n",
    "#     evaluate(sub, \"final_preds\")\n",
    "    \n",
    "    "
   ]
  },
  {
   "cell_type": "code",
   "execution_count": 32,
   "metadata": {},
   "outputs": [
    {
     "data": {
      "text/plain": [
       "count    687192.000000\n",
       "mean          0.594677\n",
       "std           0.339222\n",
       "min           0.000000\n",
       "25%           0.456010\n",
       "50%           0.725984\n",
       "75%           0.845484\n",
       "max           1.000000\n",
       "Name: product_context_similarity, dtype: float64"
      ]
     },
     "execution_count": 32,
     "metadata": {},
     "output_type": "execute_result"
    }
   ],
   "source": [
    "test[\"product_context_similarity\"].describe()"
   ]
  },
  {
   "cell_type": "code",
   "execution_count": 1,
   "metadata": {},
   "outputs": [],
   "source": [
    "# thresholds = np.arange(0.25, 0.9, 0.01).tolist()\n",
    "\n",
    "# for t in thresholds:\n",
    "#     sub[\"final_preds\"] = sub.swifter.apply(lambda x: get_final_preds(x, t), 1)\n",
    "#     m = evaluate(sub)\n",
    "#     print(t, '->', m)\n"
   ]
  },
  {
   "cell_type": "code",
   "execution_count": null,
   "metadata": {},
   "outputs": [],
   "source": []
  },
  {
   "cell_type": "code",
   "execution_count": 27,
   "metadata": {},
   "outputs": [
    {
     "data": {
      "text/html": [
       "<div>\n",
       "<style scoped>\n",
       "    .dataframe tbody tr th:only-of-type {\n",
       "        vertical-align: middle;\n",
       "    }\n",
       "\n",
       "    .dataframe tbody tr th {\n",
       "        vertical-align: top;\n",
       "    }\n",
       "\n",
       "    .dataframe thead th {\n",
       "        text-align: right;\n",
       "    }\n",
       "</style>\n",
       "<table border=\"1\" class=\"dataframe\">\n",
       "  <thead>\n",
       "    <tr style=\"text-align: right;\">\n",
       "      <th></th>\n",
       "      <th>query_id</th>\n",
       "      <th>product_id</th>\n",
       "      <th>rank</th>\n",
       "    </tr>\n",
       "  </thead>\n",
       "  <tbody>\n",
       "    <tr>\n",
       "      <th>0</th>\n",
       "      <td>00004e487e05ff29ac41a930f9ed972fe4cbf6a7a17794...</td>\n",
       "      <td>d8a205200d4c2151fd2cf070ff7f44999d7a184faad30f...</td>\n",
       "      <td>3</td>\n",
       "    </tr>\n",
       "    <tr>\n",
       "      <th>1</th>\n",
       "      <td>00004e487e05ff29ac41a930f9ed972fe4cbf6a7a17794...</td>\n",
       "      <td>3d7014b28491366ce149339689c90331bd2c42e251713a...</td>\n",
       "      <td>6</td>\n",
       "    </tr>\n",
       "    <tr>\n",
       "      <th>2</th>\n",
       "      <td>00004e487e05ff29ac41a930f9ed972fe4cbf6a7a17794...</td>\n",
       "      <td>5ac7d91135ed2a6d44ec48ec586ceacbab3fc67d4bf319...</td>\n",
       "      <td>2</td>\n",
       "    </tr>\n",
       "    <tr>\n",
       "      <th>3</th>\n",
       "      <td>00004e487e05ff29ac41a930f9ed972fe4cbf6a7a17794...</td>\n",
       "      <td>998800d85572455b61c0e3eea04141a09e8793893aec9c...</td>\n",
       "      <td>5</td>\n",
       "    </tr>\n",
       "    <tr>\n",
       "      <th>4</th>\n",
       "      <td>00004e487e05ff29ac41a930f9ed972fe4cbf6a7a17794...</td>\n",
       "      <td>1455bc965260200d68107d43cf6282cbae75de2072a4aa...</td>\n",
       "      <td>4</td>\n",
       "    </tr>\n",
       "    <tr>\n",
       "      <th>5</th>\n",
       "      <td>00004e487e05ff29ac41a930f9ed972fe4cbf6a7a17794...</td>\n",
       "      <td>021ec483f69638ebc7d84b65d9bec6bb71f6ae809c87f0...</td>\n",
       "      <td>1</td>\n",
       "    </tr>\n",
       "    <tr>\n",
       "      <th>6</th>\n",
       "      <td>0000bd4862d5d5d470bebfe7a7b8049e25a5294d5325e7...</td>\n",
       "      <td>5e3c6a8a2a646fe07ecf653032bce7dca6a10061e74431...</td>\n",
       "      <td>1</td>\n",
       "    </tr>\n",
       "    <tr>\n",
       "      <th>7</th>\n",
       "      <td>0000bd4862d5d5d470bebfe7a7b8049e25a5294d5325e7...</td>\n",
       "      <td>26644354812bb4f72309900f74c272241933b5ac7e1645...</td>\n",
       "      <td>5</td>\n",
       "    </tr>\n",
       "    <tr>\n",
       "      <th>8</th>\n",
       "      <td>0000bd4862d5d5d470bebfe7a7b8049e25a5294d5325e7...</td>\n",
       "      <td>470af2db4a53e14583dc150d4d1efe800a13bca17d6d6e...</td>\n",
       "      <td>4</td>\n",
       "    </tr>\n",
       "    <tr>\n",
       "      <th>9</th>\n",
       "      <td>0000bd4862d5d5d470bebfe7a7b8049e25a5294d5325e7...</td>\n",
       "      <td>00c8a71376217298e89988e8b23a9ae0c197a596a3a8bf...</td>\n",
       "      <td>6</td>\n",
       "    </tr>\n",
       "    <tr>\n",
       "      <th>10</th>\n",
       "      <td>0000bd4862d5d5d470bebfe7a7b8049e25a5294d5325e7...</td>\n",
       "      <td>c567a3e652cd88621cfb05b36f6fda6a4dd8276e78d9d1...</td>\n",
       "      <td>2</td>\n",
       "    </tr>\n",
       "    <tr>\n",
       "      <th>11</th>\n",
       "      <td>0000bd4862d5d5d470bebfe7a7b8049e25a5294d5325e7...</td>\n",
       "      <td>9d5c2c7217dad87e8332134fa2e0cf9f630a1adf54993b...</td>\n",
       "      <td>3</td>\n",
       "    </tr>\n",
       "  </tbody>\n",
       "</table>\n",
       "</div>"
      ],
      "text/plain": [
       "                                             query_id  \\\n",
       "0   00004e487e05ff29ac41a930f9ed972fe4cbf6a7a17794...   \n",
       "1   00004e487e05ff29ac41a930f9ed972fe4cbf6a7a17794...   \n",
       "2   00004e487e05ff29ac41a930f9ed972fe4cbf6a7a17794...   \n",
       "3   00004e487e05ff29ac41a930f9ed972fe4cbf6a7a17794...   \n",
       "4   00004e487e05ff29ac41a930f9ed972fe4cbf6a7a17794...   \n",
       "5   00004e487e05ff29ac41a930f9ed972fe4cbf6a7a17794...   \n",
       "6   0000bd4862d5d5d470bebfe7a7b8049e25a5294d5325e7...   \n",
       "7   0000bd4862d5d5d470bebfe7a7b8049e25a5294d5325e7...   \n",
       "8   0000bd4862d5d5d470bebfe7a7b8049e25a5294d5325e7...   \n",
       "9   0000bd4862d5d5d470bebfe7a7b8049e25a5294d5325e7...   \n",
       "10  0000bd4862d5d5d470bebfe7a7b8049e25a5294d5325e7...   \n",
       "11  0000bd4862d5d5d470bebfe7a7b8049e25a5294d5325e7...   \n",
       "\n",
       "                                           product_id  rank  \n",
       "0   d8a205200d4c2151fd2cf070ff7f44999d7a184faad30f...     3  \n",
       "1   3d7014b28491366ce149339689c90331bd2c42e251713a...     6  \n",
       "2   5ac7d91135ed2a6d44ec48ec586ceacbab3fc67d4bf319...     2  \n",
       "3   998800d85572455b61c0e3eea04141a09e8793893aec9c...     5  \n",
       "4   1455bc965260200d68107d43cf6282cbae75de2072a4aa...     4  \n",
       "5   021ec483f69638ebc7d84b65d9bec6bb71f6ae809c87f0...     1  \n",
       "6   5e3c6a8a2a646fe07ecf653032bce7dca6a10061e74431...     1  \n",
       "7   26644354812bb4f72309900f74c272241933b5ac7e1645...     5  \n",
       "8   470af2db4a53e14583dc150d4d1efe800a13bca17d6d6e...     4  \n",
       "9   00c8a71376217298e89988e8b23a9ae0c197a596a3a8bf...     6  \n",
       "10  c567a3e652cd88621cfb05b36f6fda6a4dd8276e78d9d1...     2  \n",
       "11  9d5c2c7217dad87e8332134fa2e0cf9f630a1adf54993b...     3  "
      ]
     },
     "execution_count": 27,
     "metadata": {},
     "output_type": "execute_result"
    }
   ],
   "source": [
    "sub = sub[[\"query_id\", \"product_id\", \"final_rank\"]]\n",
    "sub = sub.rename(columns={\"final_rank\": \"rank\"})\n",
    "sub.head(12)\n",
    "# test = test[[\"query_id\", \"product_id\", \"final_rank\"]]\n",
    "# test = test.rename(columns={\"final_rank\": \"rank\"})\n",
    "# test.head(12)"
   ]
  },
  {
   "cell_type": "code",
   "execution_count": null,
   "metadata": {},
   "outputs": [],
   "source": []
  },
  {
   "cell_type": "code",
   "execution_count": 28,
   "metadata": {},
   "outputs": [],
   "source": [
    "# sub.to_csv(\"heuristic_XGB_30_6_21_v1.csv\", index=False)"
   ]
  },
  {
   "cell_type": "code",
   "execution_count": null,
   "metadata": {},
   "outputs": [],
   "source": []
  },
  {
   "cell_type": "code",
   "execution_count": null,
   "metadata": {},
   "outputs": [],
   "source": []
  }
 ],
 "metadata": {
  "kernelspec": {
   "display_name": "Python 3",
   "language": "python",
   "name": "python3"
  },
  "language_info": {
   "codemirror_mode": {
    "name": "ipython",
    "version": 3
   },
   "file_extension": ".py",
   "mimetype": "text/x-python",
   "name": "python",
   "nbconvert_exporter": "python",
   "pygments_lexer": "ipython3",
   "version": "3.7.8"
  }
 },
 "nbformat": 4,
 "nbformat_minor": 4
}
