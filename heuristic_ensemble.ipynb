{
 "cells": [
  {
   "cell_type": "code",
   "execution_count": 1,
   "metadata": {},
   "outputs": [],
   "source": [
    "# ! pip install fastparquet\n",
    "# ! pip install ipynb\n",
    "# ! pip install lightgbm\n",
    "# ! pip install xgboost\n",
    "# ! pip install scikit-optimize\n",
    "# ! pip install lightgbm --install-option=--gpu"
   ]
  },
  {
   "cell_type": "code",
   "execution_count": 2,
   "metadata": {},
   "outputs": [],
   "source": [
    "# from ipynb.fs.full.data_merge_utils import reduce_mem_usage, merge_data\n"
   ]
  },
  {
   "cell_type": "code",
   "execution_count": 3,
   "metadata": {},
   "outputs": [],
   "source": [
    "import pandas as pd\n",
    "import swifter\n",
    "import numpy as np\n",
    "from glob import glob\n",
    "import datetime, json\n",
    "import gc\n",
    "from skopt import gp_minimize\n",
    "from skopt.space import Real, Integer, Categorical\n",
    "from sklearn.impute import SimpleImputer\n",
    "import lightgbm as lgb\n",
    "from scipy.stats import randint as sp_randint\n",
    "from scipy.stats import uniform as sp_uniform\n",
    "from sklearn.model_selection import RandomizedSearchCV, GridSearchCV\n",
    "import matplotlib.pyplot as plt\n",
    "from sklearn.metrics import precision_score, recall_score, f1_score\n",
    "import os\n"
   ]
  },
  {
   "cell_type": "code",
   "execution_count": 4,
   "metadata": {},
   "outputs": [],
   "source": [
    "import pyximport\n",
    "pyximport.install(reload_support=True)\n",
    "from mrr import mrr as mrr_cython"
   ]
  },
  {
   "cell_type": "code",
   "execution_count": null,
   "metadata": {},
   "outputs": [],
   "source": []
  },
  {
   "cell_type": "code",
   "execution_count": 5,
   "metadata": {},
   "outputs": [],
   "source": [
    "def check_folder(path, point_allowed_path=False):\n",
    "    split_folder = os.path.split(path)\n",
    "    if not point_allowed_path:\n",
    "        if '.' in split_folder[1]:\n",
    "            # path is a file\n",
    "            path = split_folder[0]\n",
    "    if not os.path.exists(path):\n",
    "        print(f'{path} folder created')\n",
    "        os.makedirs(path, exist_ok=True)"
   ]
  },
  {
   "cell_type": "code",
   "execution_count": 6,
   "metadata": {},
   "outputs": [],
   "source": [
    "def reduce_mem_usage(df):\n",
    "    start_mem = df.memory_usage().sum() / 1024 ** 2\n",
    "    print('Memory usage of dataframe is {:.2f} MB'.format(start_mem))\n",
    "\n",
    "    for col in df.columns:\n",
    "#         print(col)\n",
    "        col_type = df[col].dtype\n",
    "                \n",
    "        if col_type != object:\n",
    "            c_min = df[col].min()\n",
    "            c_max = df[col].max()\n",
    "            if str(col_type)[:3] == 'int':\n",
    "                if c_min > np.iinfo(np.int8).min and c_max < np.iinfo(np.int8).max:\n",
    "                    df[col] = df[col].astype(np.int8)\n",
    "                elif c_min > np.iinfo(np.int16).min and c_max < np.iinfo(np.int16).max:\n",
    "                    df[col] = df[col].astype(np.int16)\n",
    "                elif c_min > np.iinfo(np.int32).min and c_max < np.iinfo(np.int32).max:\n",
    "                    df[col] = df[col].astype(np.int32)\n",
    "                elif c_min > np.iinfo(np.int64).min and c_max < np.iinfo(np.int64).max:\n",
    "                    df[col] = df[col].astype(np.int64)\n",
    "            else:\n",
    "                if c_min > np.finfo(np.float16).min and c_max < np.finfo(np.float16).max:\n",
    "                    df[col] = df[col].astype(np.float16)\n",
    "                elif c_min > np.finfo(np.float32).min and c_max < np.finfo(np.float32).max:\n",
    "                    df[col] = df[col].astype(np.float32)\n",
    "                else:\n",
    "                    df[col] = df[col].astype(np.float64)\n",
    "        else:\n",
    "            df[col] = df[col].astype('category')\n",
    "\n",
    "    end_mem = df.memory_usage(deep=True).sum() / 1024 ** 2\n",
    "    print('Memory usage after optimization is: {:.2f} MB'.format(end_mem))\n",
    "    print('Decreased by {:.1f}%'.format(100 * (start_mem - end_mem) / start_mem))\n",
    "\n",
    "    return df\n"
   ]
  },
  {
   "cell_type": "code",
   "execution_count": 7,
   "metadata": {},
   "outputs": [],
   "source": [
    "def merge_data(train_data, val_data, merge_data_path_list, done_files=[], merge_cols='', flag=0):\n",
    "    compulsory_cols = [\"query_id\", \"user_id\", \"session_id\", \"product_id\"]\n",
    "    for path in merge_data_path_list:\n",
    "        print(\"Merging file...\", path.split('/')[-1])\n",
    "        prev_cols_train = set(train_data.columns.tolist())\n",
    "        prev_cols_val = set(val_data.columns.tolist())\n",
    "        d = pd.read_csv(path)\n",
    "#         d = reduce_mem_usage(d)\n",
    "        if 'is_click' in d.columns.tolist():\n",
    "            d = d.drop('is_click', 1)\n",
    "        if flag==0:\n",
    "            merge_cols = [d.columns[0]]\n",
    "            \n",
    "        for col in d.columns.tolist():\n",
    "            if col in train_data.columns.tolist() and col not in compulsory_cols and col not in merge_cols:\n",
    "                d = d.drop(col, 1)\n",
    "            \n",
    "        train_data = train_data.merge(d, on=merge_cols, how='left')\n",
    "        val_data = val_data.merge(d, on=merge_cols, how='left')\n",
    "#         print(\"Train: \", train_data.shape, \"Val: \", val_data.shape)\n",
    "        done_files.append(path)\n",
    "        del d\n",
    "        gc.collect()\n",
    "#     print(\"Train: \", train_data.shape, \"Val: \", val_data.shape)\n",
    "    \n",
    "    return train_data, val_data\n"
   ]
  },
  {
   "cell_type": "code",
   "execution_count": null,
   "metadata": {},
   "outputs": [],
   "source": []
  },
  {
   "cell_type": "code",
   "execution_count": 8,
   "metadata": {},
   "outputs": [],
   "source": [
    "train = pd.read_parquet(\"../data_phase1/train.parquet\")\n",
    "sub = pd.read_parquet(\"../data_phase1/validation.parquet\")\n",
    "test = pd.read_parquet(\"../data_phase2/test.parquet\")\n"
   ]
  },
  {
   "cell_type": "code",
   "execution_count": 9,
   "metadata": {},
   "outputs": [],
   "source": [
    "train = train.fillna(value={\"context_type\": \"NA\"})\n",
    "sub = sub.fillna(value={\"context_type\": \"NA\"})\n",
    "test = test.fillna(value={\"context_type\": \"NA\"})\n"
   ]
  },
  {
   "cell_type": "code",
   "execution_count": 10,
   "metadata": {},
   "outputs": [],
   "source": [
    "pd.options.display.max_rows = None\n",
    "pd.options.display.max_columns = None"
   ]
  },
  {
   "cell_type": "code",
   "execution_count": 11,
   "metadata": {},
   "outputs": [
    {
     "name": "stdout",
     "output_type": "stream",
     "text": [
      "Memory usage of dataframe is 428.22 MB\n",
      "Memory usage after optimization is: 360.08 MB\n",
      "Decreased by 15.9%\n",
      "Memory usage of dataframe is 78.64 MB\n",
      "Memory usage after optimization is: 115.77 MB\n",
      "Decreased by -47.2%\n",
      "Memory usage of dataframe is 78.64 MB\n",
      "Memory usage after optimization is: 114.80 MB\n",
      "Decreased by -46.0%\n"
     ]
    }
   ],
   "source": [
    "train = reduce_mem_usage(train)\n",
    "sub = reduce_mem_usage(sub)\n",
    "test = reduce_mem_usage(test)\n"
   ]
  },
  {
   "cell_type": "code",
   "execution_count": 12,
   "metadata": {},
   "outputs": [
    {
     "data": {
      "text/plain": [
       "93"
      ]
     },
     "execution_count": 12,
     "metadata": {},
     "output_type": "execute_result"
    }
   ],
   "source": [
    "gc.collect()"
   ]
  },
  {
   "cell_type": "code",
   "execution_count": 13,
   "metadata": {},
   "outputs": [
    {
     "data": {
      "text/plain": [
       "((3507990, 16), (687192, 15))"
      ]
     },
     "execution_count": 13,
     "metadata": {},
     "output_type": "execute_result"
    }
   ],
   "source": [
    "train.shape, sub.shape"
   ]
  },
  {
   "cell_type": "code",
   "execution_count": null,
   "metadata": {},
   "outputs": [],
   "source": []
  },
  {
   "cell_type": "code",
   "execution_count": 14,
   "metadata": {},
   "outputs": [],
   "source": [
    "BASE_PATH = \"../preprocessed_data/\""
   ]
  },
  {
   "cell_type": "code",
   "execution_count": 15,
   "metadata": {},
   "outputs": [],
   "source": [
    "pc_sim_train = pd.read_csv(BASE_PATH+\"train_product_context_sim.csv\")\n",
    "pc_sim_sub = pd.read_csv(BASE_PATH+\"val_product_context_sim.csv\")\n",
    "pc_sim_test = pd.read_csv(BASE_PATH+\"test_product_context_sim.csv\")\n",
    "pc_sim_sub = pc_sim_sub.fillna(0.0)\n",
    "pc_sim_test = pc_sim_test.fillna(0.0)\n"
   ]
  },
  {
   "cell_type": "code",
   "execution_count": 16,
   "metadata": {},
   "outputs": [
    {
     "data": {
      "text/plain": [
       "query_id                      0\n",
       "session_id                    0\n",
       "user_id                       0\n",
       "product_id                    0\n",
       "product_context_similarity    0\n",
       "dtype: int64"
      ]
     },
     "execution_count": 16,
     "metadata": {},
     "output_type": "execute_result"
    }
   ],
   "source": [
    "pc_sim_test.isnull().sum()"
   ]
  },
  {
   "cell_type": "code",
   "execution_count": 17,
   "metadata": {},
   "outputs": [],
   "source": [
    "train = train.merge(pc_sim_train, on=[\"query_id\", \"user_id\", \"session_id\", \"product_id\"], how=\"left\")\n",
    "sub = sub.merge(pc_sim_sub, on=[\"query_id\", \"user_id\", \"session_id\", \"product_id\"], how=\"left\")\n",
    "test = test.merge(pc_sim_test, on=[\"query_id\", \"user_id\", \"session_id\", \"product_id\"], how=\"left\")\n"
   ]
  },
  {
   "cell_type": "code",
   "execution_count": 18,
   "metadata": {},
   "outputs": [],
   "source": [
    "sub = test[[\"query_id\", \"product_id\", \"product_context_similarity\"]]"
   ]
  },
  {
   "cell_type": "code",
   "execution_count": 19,
   "metadata": {},
   "outputs": [
    {
     "data": {
      "text/html": [
       "<div>\n",
       "<style scoped>\n",
       "    .dataframe tbody tr th:only-of-type {\n",
       "        vertical-align: middle;\n",
       "    }\n",
       "\n",
       "    .dataframe tbody tr th {\n",
       "        vertical-align: top;\n",
       "    }\n",
       "\n",
       "    .dataframe thead th {\n",
       "        text-align: right;\n",
       "    }\n",
       "</style>\n",
       "<table border=\"1\" class=\"dataframe\">\n",
       "  <thead>\n",
       "    <tr style=\"text-align: right;\">\n",
       "      <th></th>\n",
       "      <th>query_id</th>\n",
       "      <th>product_id</th>\n",
       "      <th>preds</th>\n",
       "      <th>model_rank</th>\n",
       "    </tr>\n",
       "  </thead>\n",
       "  <tbody>\n",
       "    <tr>\n",
       "      <th>0</th>\n",
       "      <td>00000996d07006b045bc134b757f2825b0c79870d41521...</td>\n",
       "      <td>eec511e70b3423d23bf07b10f7710f7d3d6bd24f2d00ee...</td>\n",
       "      <td>0.505402</td>\n",
       "      <td>6</td>\n",
       "    </tr>\n",
       "    <tr>\n",
       "      <th>1</th>\n",
       "      <td>00000996d07006b045bc134b757f2825b0c79870d41521...</td>\n",
       "      <td>b7ce11578ac78da80b8afbe384dd5a90ed269e83ecb325...</td>\n",
       "      <td>0.560951</td>\n",
       "      <td>4</td>\n",
       "    </tr>\n",
       "  </tbody>\n",
       "</table>\n",
       "</div>"
      ],
      "text/plain": [
       "                                            query_id  \\\n",
       "0  00000996d07006b045bc134b757f2825b0c79870d41521...   \n",
       "1  00000996d07006b045bc134b757f2825b0c79870d41521...   \n",
       "\n",
       "                                          product_id     preds  model_rank  \n",
       "0  eec511e70b3423d23bf07b10f7710f7d3d6bd24f2d00ee...  0.505402           6  \n",
       "1  b7ce11578ac78da80b8afbe384dd5a90ed269e83ecb325...  0.560951           4  "
      ]
     },
     "execution_count": 19,
     "metadata": {},
     "output_type": "execute_result"
    }
   ],
   "source": [
    "temp = pd.read_csv(\"../submission/XGBClassifier_test_final.csv\")\n",
    "temp = temp.rename(columns={\"rank\": \"model_rank\"})\n",
    "# temp = temp.drop(\"rank\", 1)\n",
    "temp.head(2)"
   ]
  },
  {
   "cell_type": "code",
   "execution_count": 20,
   "metadata": {},
   "outputs": [],
   "source": [
    "# temp1 = pd.read_csv(\"../submission/XGBClassifier_27_6_21_best_params.csv\")\n",
    "# temp1 = temp1.rename(columns={\"preds\": \"preds2\"})\n",
    "# temp1 = temp1.drop(\"rank\", 1)\n",
    "# temp1.head(2)"
   ]
  },
  {
   "cell_type": "code",
   "execution_count": 21,
   "metadata": {},
   "outputs": [],
   "source": [
    "def apply_rank(row, col):\n",
    "    return (6-row[col])+1\n"
   ]
  },
  {
   "cell_type": "code",
   "execution_count": 22,
   "metadata": {},
   "outputs": [
    {
     "data": {
      "text/html": [
       "<div>\n",
       "<style scoped>\n",
       "    .dataframe tbody tr th:only-of-type {\n",
       "        vertical-align: middle;\n",
       "    }\n",
       "\n",
       "    .dataframe tbody tr th {\n",
       "        vertical-align: top;\n",
       "    }\n",
       "\n",
       "    .dataframe thead th {\n",
       "        text-align: right;\n",
       "    }\n",
       "</style>\n",
       "<table border=\"1\" class=\"dataframe\">\n",
       "  <thead>\n",
       "    <tr style=\"text-align: right;\">\n",
       "      <th></th>\n",
       "      <th>query_id</th>\n",
       "      <th>product_id</th>\n",
       "      <th>preds</th>\n",
       "      <th>model_rank</th>\n",
       "    </tr>\n",
       "  </thead>\n",
       "  <tbody>\n",
       "    <tr>\n",
       "      <th>0</th>\n",
       "      <td>00000996d07006b045bc134b757f2825b0c79870d41521...</td>\n",
       "      <td>eec511e70b3423d23bf07b10f7710f7d3d6bd24f2d00ee...</td>\n",
       "      <td>0.505402</td>\n",
       "      <td>1</td>\n",
       "    </tr>\n",
       "    <tr>\n",
       "      <th>1</th>\n",
       "      <td>00000996d07006b045bc134b757f2825b0c79870d41521...</td>\n",
       "      <td>b7ce11578ac78da80b8afbe384dd5a90ed269e83ecb325...</td>\n",
       "      <td>0.560951</td>\n",
       "      <td>3</td>\n",
       "    </tr>\n",
       "    <tr>\n",
       "      <th>2</th>\n",
       "      <td>00000996d07006b045bc134b757f2825b0c79870d41521...</td>\n",
       "      <td>d5a043852bc53331c656b9102334e90f2e5238f638062b...</td>\n",
       "      <td>0.522968</td>\n",
       "      <td>2</td>\n",
       "    </tr>\n",
       "    <tr>\n",
       "      <th>3</th>\n",
       "      <td>00000996d07006b045bc134b757f2825b0c79870d41521...</td>\n",
       "      <td>3eebef491448c1c1e38d696538b3e38245a63a6896f717...</td>\n",
       "      <td>0.566412</td>\n",
       "      <td>5</td>\n",
       "    </tr>\n",
       "    <tr>\n",
       "      <th>4</th>\n",
       "      <td>00000996d07006b045bc134b757f2825b0c79870d41521...</td>\n",
       "      <td>cc6ce8a7f2a3c3216597d7813a221cabf0f531690c8147...</td>\n",
       "      <td>0.564779</td>\n",
       "      <td>4</td>\n",
       "    </tr>\n",
       "  </tbody>\n",
       "</table>\n",
       "</div>"
      ],
      "text/plain": [
       "                                            query_id  \\\n",
       "0  00000996d07006b045bc134b757f2825b0c79870d41521...   \n",
       "1  00000996d07006b045bc134b757f2825b0c79870d41521...   \n",
       "2  00000996d07006b045bc134b757f2825b0c79870d41521...   \n",
       "3  00000996d07006b045bc134b757f2825b0c79870d41521...   \n",
       "4  00000996d07006b045bc134b757f2825b0c79870d41521...   \n",
       "\n",
       "                                          product_id     preds  model_rank  \n",
       "0  eec511e70b3423d23bf07b10f7710f7d3d6bd24f2d00ee...  0.505402           1  \n",
       "1  b7ce11578ac78da80b8afbe384dd5a90ed269e83ecb325...  0.560951           3  \n",
       "2  d5a043852bc53331c656b9102334e90f2e5238f638062b...  0.522968           2  \n",
       "3  3eebef491448c1c1e38d696538b3e38245a63a6896f717...  0.566412           5  \n",
       "4  cc6ce8a7f2a3c3216597d7813a221cabf0f531690c8147...  0.564779           4  "
      ]
     },
     "execution_count": 22,
     "metadata": {},
     "output_type": "execute_result"
    }
   ],
   "source": [
    "# temp = temp.merge(temp1, on=[\"query_id\", \"product_id\"], how=\"left\")\n",
    "# temp[\"preds\"] = (temp[\"preds1\"]+temp[\"preds2\"])/2\n",
    "# temp[\"model_rank\"] = temp.groupby('query_id')['preds'].rank(method='first').apply(int)\n",
    "temp[\"model_rank\"] = temp.swifter.apply(lambda x: apply_rank(x, \"model_rank\"), 1)\n",
    "# temp = temp.drop([\"preds1\", \"preds2\"], 1)\n",
    "temp.head()"
   ]
  },
  {
   "cell_type": "code",
   "execution_count": 23,
   "metadata": {},
   "outputs": [
    {
     "data": {
      "text/html": [
       "<div>\n",
       "<style scoped>\n",
       "    .dataframe tbody tr th:only-of-type {\n",
       "        vertical-align: middle;\n",
       "    }\n",
       "\n",
       "    .dataframe tbody tr th {\n",
       "        vertical-align: top;\n",
       "    }\n",
       "\n",
       "    .dataframe thead th {\n",
       "        text-align: right;\n",
       "    }\n",
       "</style>\n",
       "<table border=\"1\" class=\"dataframe\">\n",
       "  <thead>\n",
       "    <tr style=\"text-align: right;\">\n",
       "      <th></th>\n",
       "      <th>query_id</th>\n",
       "      <th>product_id</th>\n",
       "      <th>product_context_similarity</th>\n",
       "      <th>preds</th>\n",
       "      <th>model_rank</th>\n",
       "    </tr>\n",
       "  </thead>\n",
       "  <tbody>\n",
       "    <tr>\n",
       "      <th>85679</th>\n",
       "      <td>00000996d07006b045bc134b757f2825b0c79870d41521...</td>\n",
       "      <td>eec511e70b3423d23bf07b10f7710f7d3d6bd24f2d00ee...</td>\n",
       "      <td>0.922885</td>\n",
       "      <td>0.505402</td>\n",
       "      <td>1</td>\n",
       "    </tr>\n",
       "    <tr>\n",
       "      <th>189379</th>\n",
       "      <td>00000996d07006b045bc134b757f2825b0c79870d41521...</td>\n",
       "      <td>b7ce11578ac78da80b8afbe384dd5a90ed269e83ecb325...</td>\n",
       "      <td>0.766910</td>\n",
       "      <td>0.560951</td>\n",
       "      <td>3</td>\n",
       "    </tr>\n",
       "    <tr>\n",
       "      <th>384222</th>\n",
       "      <td>00000996d07006b045bc134b757f2825b0c79870d41521...</td>\n",
       "      <td>d5a043852bc53331c656b9102334e90f2e5238f638062b...</td>\n",
       "      <td>0.845101</td>\n",
       "      <td>0.522968</td>\n",
       "      <td>2</td>\n",
       "    </tr>\n",
       "    <tr>\n",
       "      <th>616173</th>\n",
       "      <td>00000996d07006b045bc134b757f2825b0c79870d41521...</td>\n",
       "      <td>3eebef491448c1c1e38d696538b3e38245a63a6896f717...</td>\n",
       "      <td>0.761883</td>\n",
       "      <td>0.566412</td>\n",
       "      <td>5</td>\n",
       "    </tr>\n",
       "    <tr>\n",
       "      <th>131171</th>\n",
       "      <td>00000996d07006b045bc134b757f2825b0c79870d41521...</td>\n",
       "      <td>cc6ce8a7f2a3c3216597d7813a221cabf0f531690c8147...</td>\n",
       "      <td>0.921114</td>\n",
       "      <td>0.564779</td>\n",
       "      <td>4</td>\n",
       "    </tr>\n",
       "  </tbody>\n",
       "</table>\n",
       "</div>"
      ],
      "text/plain": [
       "                                                 query_id  \\\n",
       "85679   00000996d07006b045bc134b757f2825b0c79870d41521...   \n",
       "189379  00000996d07006b045bc134b757f2825b0c79870d41521...   \n",
       "384222  00000996d07006b045bc134b757f2825b0c79870d41521...   \n",
       "616173  00000996d07006b045bc134b757f2825b0c79870d41521...   \n",
       "131171  00000996d07006b045bc134b757f2825b0c79870d41521...   \n",
       "\n",
       "                                               product_id  \\\n",
       "85679   eec511e70b3423d23bf07b10f7710f7d3d6bd24f2d00ee...   \n",
       "189379  b7ce11578ac78da80b8afbe384dd5a90ed269e83ecb325...   \n",
       "384222  d5a043852bc53331c656b9102334e90f2e5238f638062b...   \n",
       "616173  3eebef491448c1c1e38d696538b3e38245a63a6896f717...   \n",
       "131171  cc6ce8a7f2a3c3216597d7813a221cabf0f531690c8147...   \n",
       "\n",
       "        product_context_similarity     preds  model_rank  \n",
       "85679                     0.922885  0.505402           1  \n",
       "189379                    0.766910  0.560951           3  \n",
       "384222                    0.845101  0.522968           2  \n",
       "616173                    0.761883  0.566412           5  \n",
       "131171                    0.921114  0.564779           4  "
      ]
     },
     "execution_count": 23,
     "metadata": {},
     "output_type": "execute_result"
    }
   ],
   "source": [
    "sub = sub.merge(temp, on=[\"query_id\", \"product_id\"], how=\"left\")\n",
    "sub = sub.sort_values(\"query_id\")\n",
    "sub.head()"
   ]
  },
  {
   "cell_type": "code",
   "execution_count": 24,
   "metadata": {},
   "outputs": [
    {
     "data": {
      "text/html": [
       "<div>\n",
       "<style scoped>\n",
       "    .dataframe tbody tr th:only-of-type {\n",
       "        vertical-align: middle;\n",
       "    }\n",
       "\n",
       "    .dataframe tbody tr th {\n",
       "        vertical-align: top;\n",
       "    }\n",
       "\n",
       "    .dataframe thead th {\n",
       "        text-align: right;\n",
       "    }\n",
       "</style>\n",
       "<table border=\"1\" class=\"dataframe\">\n",
       "  <thead>\n",
       "    <tr style=\"text-align: right;\">\n",
       "      <th></th>\n",
       "      <th>query_id</th>\n",
       "      <th>max_product_context_similarity</th>\n",
       "    </tr>\n",
       "  </thead>\n",
       "  <tbody>\n",
       "    <tr>\n",
       "      <th>0</th>\n",
       "      <td>00000996d07006b045bc134b757f2825b0c79870d41521...</td>\n",
       "      <td>0.999976</td>\n",
       "    </tr>\n",
       "    <tr>\n",
       "      <th>1</th>\n",
       "      <td>00009794cfc2ea322c5b4969570ea541e1f63c0ec91e84...</td>\n",
       "      <td>0.000000</td>\n",
       "    </tr>\n",
       "    <tr>\n",
       "      <th>2</th>\n",
       "      <td>000168140d358496df8ebc627efe3bdd586b4c56339cf3...</td>\n",
       "      <td>0.922838</td>\n",
       "    </tr>\n",
       "    <tr>\n",
       "      <th>3</th>\n",
       "      <td>0001a2283d6f0ccad5f1dab18451a63d0f8c49bc62b337...</td>\n",
       "      <td>0.922239</td>\n",
       "    </tr>\n",
       "    <tr>\n",
       "      <th>4</th>\n",
       "      <td>0002fd07dd0c3bc94d0ae9f39a816d34aff440548fadd7...</td>\n",
       "      <td>0.893655</td>\n",
       "    </tr>\n",
       "  </tbody>\n",
       "</table>\n",
       "</div>"
      ],
      "text/plain": [
       "                                            query_id  \\\n",
       "0  00000996d07006b045bc134b757f2825b0c79870d41521...   \n",
       "1  00009794cfc2ea322c5b4969570ea541e1f63c0ec91e84...   \n",
       "2  000168140d358496df8ebc627efe3bdd586b4c56339cf3...   \n",
       "3  0001a2283d6f0ccad5f1dab18451a63d0f8c49bc62b337...   \n",
       "4  0002fd07dd0c3bc94d0ae9f39a816d34aff440548fadd7...   \n",
       "\n",
       "   max_product_context_similarity  \n",
       "0                        0.999976  \n",
       "1                        0.000000  \n",
       "2                        0.922838  \n",
       "3                        0.922239  \n",
       "4                        0.893655  "
      ]
     },
     "execution_count": 24,
     "metadata": {},
     "output_type": "execute_result"
    }
   ],
   "source": [
    "max_df = pd.DataFrame(sub.groupby([\"query_id\"])[\"product_context_similarity\"].max()).reset_index()\n",
    "max_df = max_df.rename(columns={\"product_context_similarity\": \"max_product_context_similarity\"})\n",
    "max_df.head()"
   ]
  },
  {
   "cell_type": "code",
   "execution_count": 25,
   "metadata": {},
   "outputs": [
    {
     "data": {
      "text/html": [
       "<div>\n",
       "<style scoped>\n",
       "    .dataframe tbody tr th:only-of-type {\n",
       "        vertical-align: middle;\n",
       "    }\n",
       "\n",
       "    .dataframe tbody tr th {\n",
       "        vertical-align: top;\n",
       "    }\n",
       "\n",
       "    .dataframe thead th {\n",
       "        text-align: right;\n",
       "    }\n",
       "</style>\n",
       "<table border=\"1\" class=\"dataframe\">\n",
       "  <thead>\n",
       "    <tr style=\"text-align: right;\">\n",
       "      <th></th>\n",
       "      <th>query_id</th>\n",
       "      <th>product_id</th>\n",
       "      <th>product_context_similarity</th>\n",
       "      <th>preds</th>\n",
       "      <th>model_rank</th>\n",
       "      <th>max_product_context_similarity</th>\n",
       "    </tr>\n",
       "  </thead>\n",
       "  <tbody>\n",
       "    <tr>\n",
       "      <th>0</th>\n",
       "      <td>00000996d07006b045bc134b757f2825b0c79870d41521...</td>\n",
       "      <td>eec511e70b3423d23bf07b10f7710f7d3d6bd24f2d00ee...</td>\n",
       "      <td>0.922885</td>\n",
       "      <td>0.505402</td>\n",
       "      <td>1</td>\n",
       "      <td>0.999976</td>\n",
       "    </tr>\n",
       "    <tr>\n",
       "      <th>1</th>\n",
       "      <td>00000996d07006b045bc134b757f2825b0c79870d41521...</td>\n",
       "      <td>b7ce11578ac78da80b8afbe384dd5a90ed269e83ecb325...</td>\n",
       "      <td>0.766910</td>\n",
       "      <td>0.560951</td>\n",
       "      <td>3</td>\n",
       "      <td>0.999976</td>\n",
       "    </tr>\n",
       "    <tr>\n",
       "      <th>2</th>\n",
       "      <td>00000996d07006b045bc134b757f2825b0c79870d41521...</td>\n",
       "      <td>d5a043852bc53331c656b9102334e90f2e5238f638062b...</td>\n",
       "      <td>0.845101</td>\n",
       "      <td>0.522968</td>\n",
       "      <td>2</td>\n",
       "      <td>0.999976</td>\n",
       "    </tr>\n",
       "    <tr>\n",
       "      <th>3</th>\n",
       "      <td>00000996d07006b045bc134b757f2825b0c79870d41521...</td>\n",
       "      <td>3eebef491448c1c1e38d696538b3e38245a63a6896f717...</td>\n",
       "      <td>0.761883</td>\n",
       "      <td>0.566412</td>\n",
       "      <td>5</td>\n",
       "      <td>0.999976</td>\n",
       "    </tr>\n",
       "    <tr>\n",
       "      <th>4</th>\n",
       "      <td>00000996d07006b045bc134b757f2825b0c79870d41521...</td>\n",
       "      <td>cc6ce8a7f2a3c3216597d7813a221cabf0f531690c8147...</td>\n",
       "      <td>0.921114</td>\n",
       "      <td>0.564779</td>\n",
       "      <td>4</td>\n",
       "      <td>0.999976</td>\n",
       "    </tr>\n",
       "  </tbody>\n",
       "</table>\n",
       "</div>"
      ],
      "text/plain": [
       "                                            query_id  \\\n",
       "0  00000996d07006b045bc134b757f2825b0c79870d41521...   \n",
       "1  00000996d07006b045bc134b757f2825b0c79870d41521...   \n",
       "2  00000996d07006b045bc134b757f2825b0c79870d41521...   \n",
       "3  00000996d07006b045bc134b757f2825b0c79870d41521...   \n",
       "4  00000996d07006b045bc134b757f2825b0c79870d41521...   \n",
       "\n",
       "                                          product_id  \\\n",
       "0  eec511e70b3423d23bf07b10f7710f7d3d6bd24f2d00ee...   \n",
       "1  b7ce11578ac78da80b8afbe384dd5a90ed269e83ecb325...   \n",
       "2  d5a043852bc53331c656b9102334e90f2e5238f638062b...   \n",
       "3  3eebef491448c1c1e38d696538b3e38245a63a6896f717...   \n",
       "4  cc6ce8a7f2a3c3216597d7813a221cabf0f531690c8147...   \n",
       "\n",
       "   product_context_similarity     preds  model_rank  \\\n",
       "0                    0.922885  0.505402           1   \n",
       "1                    0.766910  0.560951           3   \n",
       "2                    0.845101  0.522968           2   \n",
       "3                    0.761883  0.566412           5   \n",
       "4                    0.921114  0.564779           4   \n",
       "\n",
       "   max_product_context_similarity  \n",
       "0                        0.999976  \n",
       "1                        0.999976  \n",
       "2                        0.999976  \n",
       "3                        0.999976  \n",
       "4                        0.999976  "
      ]
     },
     "execution_count": 25,
     "metadata": {},
     "output_type": "execute_result"
    }
   ],
   "source": [
    "sub = sub.merge(max_df, on=[\"query_id\"], how=\"left\")\n",
    "sub.head()"
   ]
  },
  {
   "cell_type": "code",
   "execution_count": 26,
   "metadata": {},
   "outputs": [
    {
     "data": {
      "text/html": [
       "<div>\n",
       "<style scoped>\n",
       "    .dataframe tbody tr th:only-of-type {\n",
       "        vertical-align: middle;\n",
       "    }\n",
       "\n",
       "    .dataframe tbody tr th {\n",
       "        vertical-align: top;\n",
       "    }\n",
       "\n",
       "    .dataframe thead th {\n",
       "        text-align: right;\n",
       "    }\n",
       "</style>\n",
       "<table border=\"1\" class=\"dataframe\">\n",
       "  <thead>\n",
       "    <tr style=\"text-align: right;\">\n",
       "      <th></th>\n",
       "      <th>query_id</th>\n",
       "      <th>product_id</th>\n",
       "      <th>product_context_similarity</th>\n",
       "      <th>preds</th>\n",
       "      <th>model_rank</th>\n",
       "      <th>max_product_context_similarity</th>\n",
       "      <th>pcs_rank</th>\n",
       "    </tr>\n",
       "  </thead>\n",
       "  <tbody>\n",
       "    <tr>\n",
       "      <th>0</th>\n",
       "      <td>00000996d07006b045bc134b757f2825b0c79870d41521...</td>\n",
       "      <td>eec511e70b3423d23bf07b10f7710f7d3d6bd24f2d00ee...</td>\n",
       "      <td>0.922885</td>\n",
       "      <td>0.505402</td>\n",
       "      <td>1</td>\n",
       "      <td>0.999976</td>\n",
       "      <td>2</td>\n",
       "    </tr>\n",
       "    <tr>\n",
       "      <th>1</th>\n",
       "      <td>00000996d07006b045bc134b757f2825b0c79870d41521...</td>\n",
       "      <td>b7ce11578ac78da80b8afbe384dd5a90ed269e83ecb325...</td>\n",
       "      <td>0.766910</td>\n",
       "      <td>0.560951</td>\n",
       "      <td>3</td>\n",
       "      <td>0.999976</td>\n",
       "      <td>5</td>\n",
       "    </tr>\n",
       "    <tr>\n",
       "      <th>2</th>\n",
       "      <td>00000996d07006b045bc134b757f2825b0c79870d41521...</td>\n",
       "      <td>d5a043852bc53331c656b9102334e90f2e5238f638062b...</td>\n",
       "      <td>0.845101</td>\n",
       "      <td>0.522968</td>\n",
       "      <td>2</td>\n",
       "      <td>0.999976</td>\n",
       "      <td>4</td>\n",
       "    </tr>\n",
       "    <tr>\n",
       "      <th>3</th>\n",
       "      <td>00000996d07006b045bc134b757f2825b0c79870d41521...</td>\n",
       "      <td>3eebef491448c1c1e38d696538b3e38245a63a6896f717...</td>\n",
       "      <td>0.761883</td>\n",
       "      <td>0.566412</td>\n",
       "      <td>5</td>\n",
       "      <td>0.999976</td>\n",
       "      <td>6</td>\n",
       "    </tr>\n",
       "    <tr>\n",
       "      <th>4</th>\n",
       "      <td>00000996d07006b045bc134b757f2825b0c79870d41521...</td>\n",
       "      <td>cc6ce8a7f2a3c3216597d7813a221cabf0f531690c8147...</td>\n",
       "      <td>0.921114</td>\n",
       "      <td>0.564779</td>\n",
       "      <td>4</td>\n",
       "      <td>0.999976</td>\n",
       "      <td>3</td>\n",
       "    </tr>\n",
       "    <tr>\n",
       "      <th>5</th>\n",
       "      <td>00000996d07006b045bc134b757f2825b0c79870d41521...</td>\n",
       "      <td>009fbcce12d627c870fc0b262c5ddd4b67e897d34928bf...</td>\n",
       "      <td>0.999976</td>\n",
       "      <td>0.583490</td>\n",
       "      <td>6</td>\n",
       "      <td>0.999976</td>\n",
       "      <td>1</td>\n",
       "    </tr>\n",
       "  </tbody>\n",
       "</table>\n",
       "</div>"
      ],
      "text/plain": [
       "                                            query_id  \\\n",
       "0  00000996d07006b045bc134b757f2825b0c79870d41521...   \n",
       "1  00000996d07006b045bc134b757f2825b0c79870d41521...   \n",
       "2  00000996d07006b045bc134b757f2825b0c79870d41521...   \n",
       "3  00000996d07006b045bc134b757f2825b0c79870d41521...   \n",
       "4  00000996d07006b045bc134b757f2825b0c79870d41521...   \n",
       "5  00000996d07006b045bc134b757f2825b0c79870d41521...   \n",
       "\n",
       "                                          product_id  \\\n",
       "0  eec511e70b3423d23bf07b10f7710f7d3d6bd24f2d00ee...   \n",
       "1  b7ce11578ac78da80b8afbe384dd5a90ed269e83ecb325...   \n",
       "2  d5a043852bc53331c656b9102334e90f2e5238f638062b...   \n",
       "3  3eebef491448c1c1e38d696538b3e38245a63a6896f717...   \n",
       "4  cc6ce8a7f2a3c3216597d7813a221cabf0f531690c8147...   \n",
       "5  009fbcce12d627c870fc0b262c5ddd4b67e897d34928bf...   \n",
       "\n",
       "   product_context_similarity     preds  model_rank  \\\n",
       "0                    0.922885  0.505402           1   \n",
       "1                    0.766910  0.560951           3   \n",
       "2                    0.845101  0.522968           2   \n",
       "3                    0.761883  0.566412           5   \n",
       "4                    0.921114  0.564779           4   \n",
       "5                    0.999976  0.583490           6   \n",
       "\n",
       "   max_product_context_similarity  pcs_rank  \n",
       "0                        0.999976         2  \n",
       "1                        0.999976         5  \n",
       "2                        0.999976         4  \n",
       "3                        0.999976         6  \n",
       "4                        0.999976         3  \n",
       "5                        0.999976         1  "
      ]
     },
     "execution_count": 26,
     "metadata": {},
     "output_type": "execute_result"
    }
   ],
   "source": [
    "sub[\"pcs_rank\"] = sub.groupby('query_id')['product_context_similarity'].rank(method='first').apply(int)\n",
    "sub[\"pcs_rank\"] = sub.swifter.apply(lambda x: apply_rank(x, \"pcs_rank\"), 1)\n",
    "sub.head(6)"
   ]
  },
  {
   "cell_type": "code",
   "execution_count": 27,
   "metadata": {},
   "outputs": [
    {
     "data": {
      "text/plain": [
       "set()"
      ]
     },
     "execution_count": 27,
     "metadata": {},
     "output_type": "execute_result"
    }
   ],
   "source": [
    "set(sub.query_id.tolist()) - set(test.query_id.tolist())"
   ]
  },
  {
   "cell_type": "code",
   "execution_count": 28,
   "metadata": {},
   "outputs": [],
   "source": [
    "def get_final_rank(row, threshold=0.66):\n",
    "    pcs_rank = row[\"pcs_rank\"]\n",
    "    model_rank = row[\"model_rank\"]\n",
    "    return pcs_rank if row[\"max_product_context_similarity\"]>threshold else model_rank\n"
   ]
  },
  {
   "cell_type": "code",
   "execution_count": 29,
   "metadata": {},
   "outputs": [
    {
     "data": {
      "application/vnd.jupyter.widget-view+json": {
       "model_id": "b3a4bd98cf9d42c9a11696708e5c0bef",
       "version_major": 2,
       "version_minor": 0
      },
      "text/plain": [
       "HBox(children=(HTML(value='Pandas Apply'), FloatProgress(value=0.0, max=687192.0), HTML(value='')))"
      ]
     },
     "metadata": {},
     "output_type": "display_data"
    },
    {
     "name": "stdout",
     "output_type": "stream",
     "text": [
      "\n"
     ]
    }
   ],
   "source": [
    "sub[\"final_rank\"] = sub.swifter.apply(lambda x: get_final_rank(x), 1)\n",
    "# sub[\"final_rank\"] = sub.swifter.apply(lambda x: apply_rank(x, \"final_rank\"), 1)\n"
   ]
  },
  {
   "cell_type": "code",
   "execution_count": 30,
   "metadata": {},
   "outputs": [
    {
     "data": {
      "text/html": [
       "<div>\n",
       "<style scoped>\n",
       "    .dataframe tbody tr th:only-of-type {\n",
       "        vertical-align: middle;\n",
       "    }\n",
       "\n",
       "    .dataframe tbody tr th {\n",
       "        vertical-align: top;\n",
       "    }\n",
       "\n",
       "    .dataframe thead th {\n",
       "        text-align: right;\n",
       "    }\n",
       "</style>\n",
       "<table border=\"1\" class=\"dataframe\">\n",
       "  <thead>\n",
       "    <tr style=\"text-align: right;\">\n",
       "      <th></th>\n",
       "      <th>query_id</th>\n",
       "      <th>product_id</th>\n",
       "      <th>rank</th>\n",
       "    </tr>\n",
       "  </thead>\n",
       "  <tbody>\n",
       "    <tr>\n",
       "      <th>0</th>\n",
       "      <td>00000996d07006b045bc134b757f2825b0c79870d41521...</td>\n",
       "      <td>eec511e70b3423d23bf07b10f7710f7d3d6bd24f2d00ee...</td>\n",
       "      <td>2</td>\n",
       "    </tr>\n",
       "    <tr>\n",
       "      <th>1</th>\n",
       "      <td>00000996d07006b045bc134b757f2825b0c79870d41521...</td>\n",
       "      <td>b7ce11578ac78da80b8afbe384dd5a90ed269e83ecb325...</td>\n",
       "      <td>5</td>\n",
       "    </tr>\n",
       "    <tr>\n",
       "      <th>2</th>\n",
       "      <td>00000996d07006b045bc134b757f2825b0c79870d41521...</td>\n",
       "      <td>d5a043852bc53331c656b9102334e90f2e5238f638062b...</td>\n",
       "      <td>4</td>\n",
       "    </tr>\n",
       "    <tr>\n",
       "      <th>3</th>\n",
       "      <td>00000996d07006b045bc134b757f2825b0c79870d41521...</td>\n",
       "      <td>3eebef491448c1c1e38d696538b3e38245a63a6896f717...</td>\n",
       "      <td>6</td>\n",
       "    </tr>\n",
       "    <tr>\n",
       "      <th>4</th>\n",
       "      <td>00000996d07006b045bc134b757f2825b0c79870d41521...</td>\n",
       "      <td>cc6ce8a7f2a3c3216597d7813a221cabf0f531690c8147...</td>\n",
       "      <td>3</td>\n",
       "    </tr>\n",
       "    <tr>\n",
       "      <th>5</th>\n",
       "      <td>00000996d07006b045bc134b757f2825b0c79870d41521...</td>\n",
       "      <td>009fbcce12d627c870fc0b262c5ddd4b67e897d34928bf...</td>\n",
       "      <td>1</td>\n",
       "    </tr>\n",
       "    <tr>\n",
       "      <th>6</th>\n",
       "      <td>00009794cfc2ea322c5b4969570ea541e1f63c0ec91e84...</td>\n",
       "      <td>8a45dc566200a885fa5c9246fd0d2a008fdc760e4a3ba9...</td>\n",
       "      <td>6</td>\n",
       "    </tr>\n",
       "    <tr>\n",
       "      <th>7</th>\n",
       "      <td>00009794cfc2ea322c5b4969570ea541e1f63c0ec91e84...</td>\n",
       "      <td>3cb32bcf6e87883cfad9579d9c30f5161024f8fbf4c063...</td>\n",
       "      <td>5</td>\n",
       "    </tr>\n",
       "    <tr>\n",
       "      <th>8</th>\n",
       "      <td>00009794cfc2ea322c5b4969570ea541e1f63c0ec91e84...</td>\n",
       "      <td>f452b8c917747e477f4d28e0c34f63172f5f0f46a88daf...</td>\n",
       "      <td>3</td>\n",
       "    </tr>\n",
       "    <tr>\n",
       "      <th>9</th>\n",
       "      <td>00009794cfc2ea322c5b4969570ea541e1f63c0ec91e84...</td>\n",
       "      <td>ac5a5054a1e66360c95bec079fbbcaa4bc0e7eaa6133b5...</td>\n",
       "      <td>1</td>\n",
       "    </tr>\n",
       "    <tr>\n",
       "      <th>10</th>\n",
       "      <td>00009794cfc2ea322c5b4969570ea541e1f63c0ec91e84...</td>\n",
       "      <td>3d797878b2099dc8356f30636877683e226cfe5d52096b...</td>\n",
       "      <td>2</td>\n",
       "    </tr>\n",
       "    <tr>\n",
       "      <th>11</th>\n",
       "      <td>00009794cfc2ea322c5b4969570ea541e1f63c0ec91e84...</td>\n",
       "      <td>4b2bdf6018432cd94dd9657ef9eb412139ae6b89fb8321...</td>\n",
       "      <td>4</td>\n",
       "    </tr>\n",
       "  </tbody>\n",
       "</table>\n",
       "</div>"
      ],
      "text/plain": [
       "                                             query_id  \\\n",
       "0   00000996d07006b045bc134b757f2825b0c79870d41521...   \n",
       "1   00000996d07006b045bc134b757f2825b0c79870d41521...   \n",
       "2   00000996d07006b045bc134b757f2825b0c79870d41521...   \n",
       "3   00000996d07006b045bc134b757f2825b0c79870d41521...   \n",
       "4   00000996d07006b045bc134b757f2825b0c79870d41521...   \n",
       "5   00000996d07006b045bc134b757f2825b0c79870d41521...   \n",
       "6   00009794cfc2ea322c5b4969570ea541e1f63c0ec91e84...   \n",
       "7   00009794cfc2ea322c5b4969570ea541e1f63c0ec91e84...   \n",
       "8   00009794cfc2ea322c5b4969570ea541e1f63c0ec91e84...   \n",
       "9   00009794cfc2ea322c5b4969570ea541e1f63c0ec91e84...   \n",
       "10  00009794cfc2ea322c5b4969570ea541e1f63c0ec91e84...   \n",
       "11  00009794cfc2ea322c5b4969570ea541e1f63c0ec91e84...   \n",
       "\n",
       "                                           product_id  rank  \n",
       "0   eec511e70b3423d23bf07b10f7710f7d3d6bd24f2d00ee...     2  \n",
       "1   b7ce11578ac78da80b8afbe384dd5a90ed269e83ecb325...     5  \n",
       "2   d5a043852bc53331c656b9102334e90f2e5238f638062b...     4  \n",
       "3   3eebef491448c1c1e38d696538b3e38245a63a6896f717...     6  \n",
       "4   cc6ce8a7f2a3c3216597d7813a221cabf0f531690c8147...     3  \n",
       "5   009fbcce12d627c870fc0b262c5ddd4b67e897d34928bf...     1  \n",
       "6   8a45dc566200a885fa5c9246fd0d2a008fdc760e4a3ba9...     6  \n",
       "7   3cb32bcf6e87883cfad9579d9c30f5161024f8fbf4c063...     5  \n",
       "8   f452b8c917747e477f4d28e0c34f63172f5f0f46a88daf...     3  \n",
       "9   ac5a5054a1e66360c95bec079fbbcaa4bc0e7eaa6133b5...     1  \n",
       "10  3d797878b2099dc8356f30636877683e226cfe5d52096b...     2  \n",
       "11  4b2bdf6018432cd94dd9657ef9eb412139ae6b89fb8321...     4  "
      ]
     },
     "execution_count": 30,
     "metadata": {},
     "output_type": "execute_result"
    }
   ],
   "source": [
    "sub = sub[[\"query_id\", \"product_id\", \"final_rank\"]]\n",
    "sub = sub.rename(columns={\"final_rank\": \"rank\"})\n",
    "sub.head(12)"
   ]
  },
  {
   "cell_type": "code",
   "execution_count": 31,
   "metadata": {},
   "outputs": [],
   "source": [
    "sub.to_csv(\"heuristic_XGB_01_07_21_v3.csv\", index=False)"
   ]
  },
  {
   "cell_type": "code",
   "execution_count": 32,
   "metadata": {},
   "outputs": [
    {
     "data": {
      "text/plain": [
       "(687192, 3)"
      ]
     },
     "execution_count": 32,
     "metadata": {},
     "output_type": "execute_result"
    }
   ],
   "source": [
    "sub.shape"
   ]
  },
  {
   "cell_type": "code",
   "execution_count": null,
   "metadata": {},
   "outputs": [],
   "source": []
  },
  {
   "cell_type": "code",
   "execution_count": null,
   "metadata": {},
   "outputs": [],
   "source": []
  }
 ],
 "metadata": {
  "kernelspec": {
   "display_name": "Python 3",
   "language": "python",
   "name": "python3"
  },
  "language_info": {
   "codemirror_mode": {
    "name": "ipython",
    "version": 3
   },
   "file_extension": ".py",
   "mimetype": "text/x-python",
   "name": "python",
   "nbconvert_exporter": "python",
   "pygments_lexer": "ipython3",
   "version": "3.7.8"
  }
 },
 "nbformat": 4,
 "nbformat_minor": 4
}
