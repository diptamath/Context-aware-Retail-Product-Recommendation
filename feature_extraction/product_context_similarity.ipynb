{
 "cells": [
  {
   "cell_type": "code",
   "execution_count": 1,
   "metadata": {},
   "outputs": [],
   "source": [
    "# ! pip install fastparquet"
   ]
  },
  {
   "cell_type": "code",
   "execution_count": null,
   "metadata": {},
   "outputs": [],
   "source": []
  },
  {
   "cell_type": "code",
   "execution_count": 6,
   "metadata": {},
   "outputs": [],
   "source": [
    "import pandas as pd\n",
    "import swifter\n",
    "import numpy as np\n",
    "from glob import glob\n",
    "import json\n",
    "import gc\n"
   ]
  },
  {
   "cell_type": "code",
   "execution_count": 7,
   "metadata": {},
   "outputs": [],
   "source": [
    "train = pd.read_parquet(\"../data_phase1/train.parquet\")\n",
    "val = pd.read_parquet(\"../data_phase1/validation.parquet\")\n"
   ]
  },
  {
   "cell_type": "code",
   "execution_count": 8,
   "metadata": {},
   "outputs": [],
   "source": [
    "train[[\"context_type\"]] = train[[\"context_type\"]].fillna(value=\"NA\")\n",
    "val[[\"context_type\"]] = val[[\"context_type\"]].fillna(value=\"NA\")\n"
   ]
  },
  {
   "cell_type": "code",
   "execution_count": 12,
   "metadata": {},
   "outputs": [],
   "source": [
    "pd.options.display.max_rows=None\n",
    "pd.options.display.max_columns=None\n"
   ]
  },
  {
   "cell_type": "code",
   "execution_count": 9,
   "metadata": {},
   "outputs": [],
   "source": [
    "attribute_df = pd.read_parquet(\"../data_phase1/attributes.parquet\")"
   ]
  },
  {
   "cell_type": "code",
   "execution_count": 5,
   "metadata": {},
   "outputs": [],
   "source": [
    "max_date = attribute_df[\"start_online_date\"].max()\n",
    "min_date = attribute_df[\"start_online_date\"].min()\n"
   ]
  },
  {
   "cell_type": "code",
   "execution_count": 10,
   "metadata": {},
   "outputs": [],
   "source": [
    "attribute_df[\"start_online_date\"] = (attribute_df[\"start_online_date\"] - min_date) / (max_date - min_date)\n"
   ]
  },
  {
   "cell_type": "code",
   "execution_count": 13,
   "metadata": {},
   "outputs": [
    {
     "data": {
      "text/html": [
       "<div>\n",
       "<style scoped>\n",
       "    .dataframe tbody tr th:only-of-type {\n",
       "        vertical-align: middle;\n",
       "    }\n",
       "\n",
       "    .dataframe tbody tr th {\n",
       "        vertical-align: top;\n",
       "    }\n",
       "\n",
       "    .dataframe thead th {\n",
       "        text-align: right;\n",
       "    }\n",
       "</style>\n",
       "<table border=\"1\" class=\"dataframe\">\n",
       "  <thead>\n",
       "    <tr style=\"text-align: right;\">\n",
       "      <th></th>\n",
       "      <th>product_id</th>\n",
       "      <th>gender</th>\n",
       "      <th>main_colour</th>\n",
       "      <th>second_colour</th>\n",
       "      <th>season</th>\n",
       "      <th>collection</th>\n",
       "      <th>category_id_l1</th>\n",
       "      <th>category_id_l2</th>\n",
       "      <th>category_id_l3</th>\n",
       "      <th>brand_id</th>\n",
       "      <th>season_year</th>\n",
       "      <th>start_online_date</th>\n",
       "      <th>material_values</th>\n",
       "      <th>attribute_values</th>\n",
       "    </tr>\n",
       "  </thead>\n",
       "  <tbody>\n",
       "    <tr>\n",
       "      <th>0</th>\n",
       "      <td>0013f07ccdf212210c110e63f0de46e37669c17a4d855a...</td>\n",
       "      <td>a8c9cca4c116691f1e331a5058e84f05e31696bc4f611c...</td>\n",
       "      <td>7673fc4fdc325f3785a223787d2b32e381e8b4c1c8a765...</td>\n",
       "      <td>4737cd35940c2338e96c18a25aeb6848d46f0da795bce8...</td>\n",
       "      <td>847a067597e39838f1f85b0774f44e68b4d6e64d3ec4dd...</td>\n",
       "      <td>a3791e8d85c005b0d9d60d6d3b7e8edd2f256a5cc928d0...</td>\n",
       "      <td>abf367e49718254e068eee51a565fdcede2d741e4c7e33...</td>\n",
       "      <td>61fe255948ec07c4eb25c70f7144b54beddd00466ad866...</td>\n",
       "      <td>05f872d8b8ec85642ad49786d6e443c0df6e7df4bdcba3...</td>\n",
       "      <td>dd6ea8954a945ef0889f30d57b7fdb8d6aaad397e6c6ff...</td>\n",
       "      <td>c7c4ac6af030e54d02b9e4545e4223e76515c3ce4e498e...</td>\n",
       "      <td>0.331994</td>\n",
       "      <td>f61ecea9b45f1590e57706b88207449bdd4cb703b917ad...</td>\n",
       "      <td>8b45c5d5e010acf257787f2ce0c505857d94709c436991...</td>\n",
       "    </tr>\n",
       "    <tr>\n",
       "      <th>1</th>\n",
       "      <td>002239cd57f19f22e557030dff363dfbd1344d8f7ac829...</td>\n",
       "      <td>4a00d8b84bdb2ec2f219304d3883a46336f9fb38d2f1e6...</td>\n",
       "      <td>0f97dafafa5dc4bb18853ea00776dfcc52302f40411b50...</td>\n",
       "      <td>ca8c396e7422e324d4454a911e0319d07b85a4fb89b006...</td>\n",
       "      <td>9db35d237f5873f0410d3ca18c07430270086eb1e7838d...</td>\n",
       "      <td>a3791e8d85c005b0d9d60d6d3b7e8edd2f256a5cc928d0...</td>\n",
       "      <td>e54f8513b708db3afdbd4950bd3420579a8cddabf4c1b3...</td>\n",
       "      <td>3809cade495cd7dc289e6aee521d380549ebd3456f03bc...</td>\n",
       "      <td>fd021cd2dbaf0d7b6105a1b136cf5a094e025010a2096f...</td>\n",
       "      <td>a6536c6bc250d525ccd3b63a3ec483a33a2010422932a3...</td>\n",
       "      <td>ef7d8d2e02aec8c328dafde95486f7181c37d07be3d167...</td>\n",
       "      <td>0.066907</td>\n",
       "      <td>1675f293342bbb518ba3a5ad39399aa0a13580653d253e...</td>\n",
       "      <td>ca8c396e7422e324d4454a911e0319d07b85a4fb89b006...</td>\n",
       "    </tr>\n",
       "  </tbody>\n",
       "</table>\n",
       "</div>"
      ],
      "text/plain": [
       "                                          product_id  \\\n",
       "0  0013f07ccdf212210c110e63f0de46e37669c17a4d855a...   \n",
       "1  002239cd57f19f22e557030dff363dfbd1344d8f7ac829...   \n",
       "\n",
       "                                              gender  \\\n",
       "0  a8c9cca4c116691f1e331a5058e84f05e31696bc4f611c...   \n",
       "1  4a00d8b84bdb2ec2f219304d3883a46336f9fb38d2f1e6...   \n",
       "\n",
       "                                         main_colour  \\\n",
       "0  7673fc4fdc325f3785a223787d2b32e381e8b4c1c8a765...   \n",
       "1  0f97dafafa5dc4bb18853ea00776dfcc52302f40411b50...   \n",
       "\n",
       "                                       second_colour  \\\n",
       "0  4737cd35940c2338e96c18a25aeb6848d46f0da795bce8...   \n",
       "1  ca8c396e7422e324d4454a911e0319d07b85a4fb89b006...   \n",
       "\n",
       "                                              season  \\\n",
       "0  847a067597e39838f1f85b0774f44e68b4d6e64d3ec4dd...   \n",
       "1  9db35d237f5873f0410d3ca18c07430270086eb1e7838d...   \n",
       "\n",
       "                                          collection  \\\n",
       "0  a3791e8d85c005b0d9d60d6d3b7e8edd2f256a5cc928d0...   \n",
       "1  a3791e8d85c005b0d9d60d6d3b7e8edd2f256a5cc928d0...   \n",
       "\n",
       "                                      category_id_l1  \\\n",
       "0  abf367e49718254e068eee51a565fdcede2d741e4c7e33...   \n",
       "1  e54f8513b708db3afdbd4950bd3420579a8cddabf4c1b3...   \n",
       "\n",
       "                                      category_id_l2  \\\n",
       "0  61fe255948ec07c4eb25c70f7144b54beddd00466ad866...   \n",
       "1  3809cade495cd7dc289e6aee521d380549ebd3456f03bc...   \n",
       "\n",
       "                                      category_id_l3  \\\n",
       "0  05f872d8b8ec85642ad49786d6e443c0df6e7df4bdcba3...   \n",
       "1  fd021cd2dbaf0d7b6105a1b136cf5a094e025010a2096f...   \n",
       "\n",
       "                                            brand_id  \\\n",
       "0  dd6ea8954a945ef0889f30d57b7fdb8d6aaad397e6c6ff...   \n",
       "1  a6536c6bc250d525ccd3b63a3ec483a33a2010422932a3...   \n",
       "\n",
       "                                         season_year  start_online_date  \\\n",
       "0  c7c4ac6af030e54d02b9e4545e4223e76515c3ce4e498e...           0.331994   \n",
       "1  ef7d8d2e02aec8c328dafde95486f7181c37d07be3d167...           0.066907   \n",
       "\n",
       "                                     material_values  \\\n",
       "0  f61ecea9b45f1590e57706b88207449bdd4cb703b917ad...   \n",
       "1  1675f293342bbb518ba3a5ad39399aa0a13580653d253e...   \n",
       "\n",
       "                                    attribute_values  \n",
       "0  8b45c5d5e010acf257787f2ce0c505857d94709c436991...  \n",
       "1  ca8c396e7422e324d4454a911e0319d07b85a4fb89b006...  "
      ]
     },
     "execution_count": 13,
     "metadata": {},
     "output_type": "execute_result"
    }
   ],
   "source": [
    "attribute_df.head(2)"
   ]
  },
  {
   "cell_type": "code",
   "execution_count": 6,
   "metadata": {},
   "outputs": [],
   "source": [
    "train = train.merge(attribute_df, on='product_id', how='left')\n",
    "val = val.merge(attribute_df, on='product_id', how='left')\n"
   ]
  },
  {
   "cell_type": "code",
   "execution_count": 7,
   "metadata": {},
   "outputs": [
    {
     "data": {
      "text/html": [
       "<div>\n",
       "<style scoped>\n",
       "    .dataframe tbody tr th:only-of-type {\n",
       "        vertical-align: middle;\n",
       "    }\n",
       "\n",
       "    .dataframe tbody tr th {\n",
       "        vertical-align: top;\n",
       "    }\n",
       "\n",
       "    .dataframe thead th {\n",
       "        text-align: right;\n",
       "    }\n",
       "</style>\n",
       "<table border=\"1\" class=\"dataframe\">\n",
       "  <thead>\n",
       "    <tr style=\"text-align: right;\">\n",
       "      <th></th>\n",
       "      <th>query_id</th>\n",
       "      <th>user_id</th>\n",
       "      <th>session_id</th>\n",
       "      <th>product_id</th>\n",
       "      <th>page_type</th>\n",
       "      <th>previous_page_type</th>\n",
       "      <th>device_category</th>\n",
       "      <th>device_platform</th>\n",
       "      <th>user_tier</th>\n",
       "      <th>user_country</th>\n",
       "      <th>...</th>\n",
       "      <th>season</th>\n",
       "      <th>collection</th>\n",
       "      <th>category_id_l1</th>\n",
       "      <th>category_id_l2</th>\n",
       "      <th>category_id_l3</th>\n",
       "      <th>brand_id</th>\n",
       "      <th>season_year</th>\n",
       "      <th>start_online_date</th>\n",
       "      <th>material_values</th>\n",
       "      <th>attribute_values</th>\n",
       "    </tr>\n",
       "  </thead>\n",
       "  <tbody>\n",
       "    <tr>\n",
       "      <th>0</th>\n",
       "      <td>92d4dd491a874a2cf92c8d311a44a42b597c64a5ede23d...</td>\n",
       "      <td>e5e4c71b1b9456dafece1338762d4ee3db698cf32c384c...</td>\n",
       "      <td>2740b0d77b4e6fafd75321f7d0794210afa8bd650955e7...</td>\n",
       "      <td>bf056e3841dd3a358c6aacb1f9e74e4c7c4adc62e33b45...</td>\n",
       "      <td>596618814963e496d74434df8b8fe3306892f2e4ce6aaa...</td>\n",
       "      <td>c9f34437ce0e536fefd11a34b9a411b541d2dabfec872a...</td>\n",
       "      <td>d6538f13ace825448d0af4fa5e58d2d08fa2d0850e5e14...</td>\n",
       "      <td>d6538f13ace825448d0af4fa5e58d2d08fa2d0850e5e14...</td>\n",
       "      <td>d74a5cebc23c56af60a5768c22d44b52f598629d4011fa...</td>\n",
       "      <td>fec032cb05435471f2305006f4a1ba994c9d2f4bcad8ef...</td>\n",
       "      <td>...</td>\n",
       "      <td>9db35d237f5873f0410d3ca18c07430270086eb1e7838d...</td>\n",
       "      <td>4c8006c7e513057a9138641abc2a9e65f4b014a8045259...</td>\n",
       "      <td>642878c18e40a1028b6610cd3396d4ee4fb6ad9623f5bb...</td>\n",
       "      <td>a37fdccd28723fba01a2f0a68d3bb1a3b847e550a7b0c2...</td>\n",
       "      <td>ca8c396e7422e324d4454a911e0319d07b85a4fb89b006...</td>\n",
       "      <td>206b88b91a241cc6ed5af856ce3ddda4dccf91ae2ec798...</td>\n",
       "      <td>dc1194ba428d5cd4c49f8a769a6577ac1042162da38bc1...</td>\n",
       "      <td>570.041667</td>\n",
       "      <td>f61ecea9b45f1590e57706b88207449bdd4cb703b917ad...</td>\n",
       "      <td>28d2b1e7b0970e2c58966c47b4c7ab7426e43a8689007e...</td>\n",
       "    </tr>\n",
       "    <tr>\n",
       "      <th>1</th>\n",
       "      <td>541a93bd95c3f4127a53e6b0d4b41db55ad9cb9e19d34a...</td>\n",
       "      <td>fca847f7eb5a5a21991421354b0f26afb4a517e540541f...</td>\n",
       "      <td>d5feab37634fd140e85b8f98dcb909a8779b4f0417c73a...</td>\n",
       "      <td>c6513ec49c8e04c265c907933799ff76f24c075c6308c4...</td>\n",
       "      <td>06a7f8e972f61aeb0e06335699518079a444e4450ff766...</td>\n",
       "      <td>d74a5cebc23c56af60a5768c22d44b52f598629d4011fa...</td>\n",
       "      <td>d6538f13ace825448d0af4fa5e58d2d08fa2d0850e5e14...</td>\n",
       "      <td>d6538f13ace825448d0af4fa5e58d2d08fa2d0850e5e14...</td>\n",
       "      <td>d179859aac8f7c1f88e1ee29b6655596873318c55127d3...</td>\n",
       "      <td>8c82855f15d05cd74fa59956434df17522fc68e4ce3900...</td>\n",
       "      <td>...</td>\n",
       "      <td>847a067597e39838f1f85b0774f44e68b4d6e64d3ec4dd...</td>\n",
       "      <td>4c8006c7e513057a9138641abc2a9e65f4b014a8045259...</td>\n",
       "      <td>f6bafdefb3c04b392adc1d139ea55a565c8829627bb7d3...</td>\n",
       "      <td>884c59e2814e352d318a8447c2f32a0370955af64838e3...</td>\n",
       "      <td>393b930ad3c40c6af1c14ce8572f39a3a2027ef70dd21e...</td>\n",
       "      <td>de60eee3c057eab83a9987275b3ecfb080026c3297b036...</td>\n",
       "      <td>ef7d8d2e02aec8c328dafde95486f7181c37d07be3d167...</td>\n",
       "      <td>208.041667</td>\n",
       "      <td>c4aebf95aa0044c5230c104faa9ef2b5ccfab836b764d4...</td>\n",
       "      <td>ca8c396e7422e324d4454a911e0319d07b85a4fb89b006...</td>\n",
       "    </tr>\n",
       "  </tbody>\n",
       "</table>\n",
       "<p>2 rows × 29 columns</p>\n",
       "</div>"
      ],
      "text/plain": [
       "                                            query_id  \\\n",
       "0  92d4dd491a874a2cf92c8d311a44a42b597c64a5ede23d...   \n",
       "1  541a93bd95c3f4127a53e6b0d4b41db55ad9cb9e19d34a...   \n",
       "\n",
       "                                             user_id  \\\n",
       "0  e5e4c71b1b9456dafece1338762d4ee3db698cf32c384c...   \n",
       "1  fca847f7eb5a5a21991421354b0f26afb4a517e540541f...   \n",
       "\n",
       "                                          session_id  \\\n",
       "0  2740b0d77b4e6fafd75321f7d0794210afa8bd650955e7...   \n",
       "1  d5feab37634fd140e85b8f98dcb909a8779b4f0417c73a...   \n",
       "\n",
       "                                          product_id  \\\n",
       "0  bf056e3841dd3a358c6aacb1f9e74e4c7c4adc62e33b45...   \n",
       "1  c6513ec49c8e04c265c907933799ff76f24c075c6308c4...   \n",
       "\n",
       "                                           page_type  \\\n",
       "0  596618814963e496d74434df8b8fe3306892f2e4ce6aaa...   \n",
       "1  06a7f8e972f61aeb0e06335699518079a444e4450ff766...   \n",
       "\n",
       "                                  previous_page_type  \\\n",
       "0  c9f34437ce0e536fefd11a34b9a411b541d2dabfec872a...   \n",
       "1  d74a5cebc23c56af60a5768c22d44b52f598629d4011fa...   \n",
       "\n",
       "                                     device_category  \\\n",
       "0  d6538f13ace825448d0af4fa5e58d2d08fa2d0850e5e14...   \n",
       "1  d6538f13ace825448d0af4fa5e58d2d08fa2d0850e5e14...   \n",
       "\n",
       "                                     device_platform  \\\n",
       "0  d6538f13ace825448d0af4fa5e58d2d08fa2d0850e5e14...   \n",
       "1  d6538f13ace825448d0af4fa5e58d2d08fa2d0850e5e14...   \n",
       "\n",
       "                                           user_tier  \\\n",
       "0  d74a5cebc23c56af60a5768c22d44b52f598629d4011fa...   \n",
       "1  d179859aac8f7c1f88e1ee29b6655596873318c55127d3...   \n",
       "\n",
       "                                        user_country  ...  \\\n",
       "0  fec032cb05435471f2305006f4a1ba994c9d2f4bcad8ef...  ...   \n",
       "1  8c82855f15d05cd74fa59956434df17522fc68e4ce3900...  ...   \n",
       "\n",
       "                                              season  \\\n",
       "0  9db35d237f5873f0410d3ca18c07430270086eb1e7838d...   \n",
       "1  847a067597e39838f1f85b0774f44e68b4d6e64d3ec4dd...   \n",
       "\n",
       "                                          collection  \\\n",
       "0  4c8006c7e513057a9138641abc2a9e65f4b014a8045259...   \n",
       "1  4c8006c7e513057a9138641abc2a9e65f4b014a8045259...   \n",
       "\n",
       "                                      category_id_l1  \\\n",
       "0  642878c18e40a1028b6610cd3396d4ee4fb6ad9623f5bb...   \n",
       "1  f6bafdefb3c04b392adc1d139ea55a565c8829627bb7d3...   \n",
       "\n",
       "                                      category_id_l2  \\\n",
       "0  a37fdccd28723fba01a2f0a68d3bb1a3b847e550a7b0c2...   \n",
       "1  884c59e2814e352d318a8447c2f32a0370955af64838e3...   \n",
       "\n",
       "                                      category_id_l3  \\\n",
       "0  ca8c396e7422e324d4454a911e0319d07b85a4fb89b006...   \n",
       "1  393b930ad3c40c6af1c14ce8572f39a3a2027ef70dd21e...   \n",
       "\n",
       "                                            brand_id  \\\n",
       "0  206b88b91a241cc6ed5af856ce3ddda4dccf91ae2ec798...   \n",
       "1  de60eee3c057eab83a9987275b3ecfb080026c3297b036...   \n",
       "\n",
       "                                         season_year start_online_date  \\\n",
       "0  dc1194ba428d5cd4c49f8a769a6577ac1042162da38bc1...        570.041667   \n",
       "1  ef7d8d2e02aec8c328dafde95486f7181c37d07be3d167...        208.041667   \n",
       "\n",
       "                                     material_values  \\\n",
       "0  f61ecea9b45f1590e57706b88207449bdd4cb703b917ad...   \n",
       "1  c4aebf95aa0044c5230c104faa9ef2b5ccfab836b764d4...   \n",
       "\n",
       "                                    attribute_values  \n",
       "0  28d2b1e7b0970e2c58966c47b4c7ab7426e43a8689007e...  \n",
       "1  ca8c396e7422e324d4454a911e0319d07b85a4fb89b006...  \n",
       "\n",
       "[2 rows x 29 columns]"
      ]
     },
     "execution_count": 7,
     "metadata": {},
     "output_type": "execute_result"
    }
   ],
   "source": [
    "train.head(2)"
   ]
  },
  {
   "cell_type": "code",
   "execution_count": null,
   "metadata": {},
   "outputs": [],
   "source": []
  },
  {
   "cell_type": "code",
   "execution_count": 8,
   "metadata": {},
   "outputs": [],
   "source": [
    "def reduce_mem_usage(df):\n",
    "    start_mem = df.memory_usage().sum() / 1024 ** 2\n",
    "    print('Memory usage of dataframe is {:.2f} MB'.format(start_mem))\n",
    "\n",
    "    for col in df.columns:\n",
    "        col_type = df[col].dtype\n",
    "\n",
    "        if col_type != object:\n",
    "            c_min = df[col].min()\n",
    "            c_max = df[col].max()\n",
    "            if str(col_type)[:3] == 'int':\n",
    "                if c_min > np.iinfo(np.int8).min and c_max < np.iinfo(np.int8).max:\n",
    "                    df[col] = df[col].astype(np.int8)\n",
    "                elif c_min > np.iinfo(np.int16).min and c_max < np.iinfo(np.int16).max:\n",
    "                    df[col] = df[col].astype(np.int16)\n",
    "                elif c_min > np.iinfo(np.int32).min and c_max < np.iinfo(np.int32).max:\n",
    "                    df[col] = df[col].astype(np.int32)\n",
    "                elif c_min > np.iinfo(np.int64).min and c_max < np.iinfo(np.int64).max:\n",
    "                    df[col] = df[col].astype(np.int64)\n",
    "            else:\n",
    "                if c_min > np.finfo(np.float16).min and c_max < np.finfo(np.float16).max:\n",
    "                    df[col] = df[col].astype(np.float16)\n",
    "                elif c_min > np.finfo(np.float32).min and c_max < np.finfo(np.float32).max:\n",
    "                    df[col] = df[col].astype(np.float32)\n",
    "                else:\n",
    "                    df[col] = df[col].astype(np.float64)\n",
    "        else:\n",
    "            df[col] = df[col].astype('category')\n",
    "\n",
    "    end_mem = df.memory_usage().sum() / 1024 ** 2\n",
    "    print('Memory usage after optimization is: {:.2f} MB'.format(end_mem))\n",
    "    print('Decreased by {:.1f}%'.format(100 * (start_mem - end_mem) / start_mem))\n",
    "\n",
    "    return df\n"
   ]
  },
  {
   "cell_type": "code",
   "execution_count": 9,
   "metadata": {},
   "outputs": [
    {
     "name": "stdout",
     "output_type": "stream",
     "text": [
      "Memory usage of dataframe is 802.92 MB\n",
      "Memory usage after optimization is: 274.46 MB\n",
      "Decreased by 65.8%\n",
      "Memory usage of dataframe is 152.04 MB\n",
      "Memory usage after optimization is: 67.06 MB\n",
      "Decreased by 55.9%\n"
     ]
    }
   ],
   "source": [
    "train = reduce_mem_usage(train)\n",
    "val = reduce_mem_usage(val)\n"
   ]
  },
  {
   "cell_type": "code",
   "execution_count": 10,
   "metadata": {},
   "outputs": [
    {
     "data": {
      "text/plain": [
       "22"
      ]
     },
     "execution_count": 10,
     "metadata": {},
     "output_type": "execute_result"
    }
   ],
   "source": [
    "gc.collect()"
   ]
  },
  {
   "cell_type": "code",
   "execution_count": 11,
   "metadata": {},
   "outputs": [
    {
     "data": {
      "text/plain": [
       "((3507990, 29), (687192, 28))"
      ]
     },
     "execution_count": 11,
     "metadata": {},
     "output_type": "execute_result"
    }
   ],
   "source": [
    "train.shape, val.shape"
   ]
  },
  {
   "cell_type": "code",
   "execution_count": 12,
   "metadata": {},
   "outputs": [
    {
     "data": {
      "text/plain": [
       "(0.2680312283337116, 0.06548863649368286)"
      ]
     },
     "execution_count": 12,
     "metadata": {},
     "output_type": "execute_result"
    }
   ],
   "source": [
    "train.memory_usage().sum()/(1024*1024*1024), val.memory_usage().sum()/(1024*1024*1024)"
   ]
  },
  {
   "cell_type": "code",
   "execution_count": null,
   "metadata": {},
   "outputs": [],
   "source": []
  },
  {
   "cell_type": "code",
   "execution_count": 13,
   "metadata": {},
   "outputs": [
    {
     "data": {
      "text/plain": [
       "['designer_id', 'product_id', 'designer_id,category_id', 'NA', 'category_id']\n",
       "Categories (5, object): ['designer_id', 'product_id', 'designer_id,category_id', 'NA', 'category_id']"
      ]
     },
     "execution_count": 13,
     "metadata": {},
     "output_type": "execute_result"
    }
   ],
   "source": [
    "train.context_type.unique()"
   ]
  },
  {
   "cell_type": "code",
   "execution_count": null,
   "metadata": {},
   "outputs": [],
   "source": []
  },
  {
   "cell_type": "code",
   "execution_count": 14,
   "metadata": {},
   "outputs": [],
   "source": [
    "def similarity_util(df1, df2):\n",
    "    res = []\n",
    "\n",
    "    if df1['gender'].values[0] == df2['gender'].values[0]:\n",
    "        res.append(1)\n",
    "    else:\n",
    "        res.append(0)\n",
    "        \n",
    "    if df1['main_colour'].values[0] == df2['main_colour'].values[0]:\n",
    "        res.append(1)\n",
    "    else:\n",
    "        res.append(0)    \n",
    "    \n",
    "    if df1['second_colour'].values[0] == df2['second_colour'].values[0]:\n",
    "        res.append(1)\n",
    "    else:\n",
    "        res.append(0)   \n",
    "        \n",
    "    if df1['season'].values[0] == df2['season'].values[0]:\n",
    "        res.append(1)\n",
    "    else:\n",
    "        res.append(0)          \n",
    "        \n",
    "    if df1['collection'].values[0] == df2['collection'].values[0]:\n",
    "        res.append(1)\n",
    "    else:\n",
    "        res.append(0)          \n",
    "        \n",
    "    if df1['category_id_l1'].values[0] == df2['category_id_l1'].values[0]:\n",
    "        res.append(1)\n",
    "    else:\n",
    "        res.append(0)           \n",
    "        \n",
    "    if df1['category_id_l2'].values[0] == df2['category_id_l2'].values[0]:\n",
    "        res.append(1)\n",
    "    else:\n",
    "        res.append(0)       \n",
    "    \n",
    "    if df1['category_id_l3'].values[0] == df2['category_id_l3'].values[0]:\n",
    "        res.append(1)\n",
    "    else:\n",
    "        res.append(0)          \n",
    "    \n",
    "    \n",
    "    if df1['brand_id'].values[0] == df2['brand_id'].values[0]:\n",
    "        res.append(1)\n",
    "    else:\n",
    "        res.append(0)     \n",
    "    \n",
    "    if df1['season_year'].values[0] == df2['season_year'].values[0]:\n",
    "        res.append(1)\n",
    "    else:\n",
    "        res.append(0)      \n",
    "    \n",
    "    a_mat = df1['material_values'].values[0].split(',')\n",
    "    b_mat = df2['material_values'].values[0].split(',')\n",
    "    commmon_length_mat = len(set(a_mat).intersection(set(b_mat)))\n",
    "    if commmon_length_mat>0:\n",
    "        res.append(commmon_length_mat/max(len(a_mat), len(b_mat)))\n",
    "    else:\n",
    "        res.append(0)\n",
    "        \n",
    "    a_attr = df1['attribute_values'].values[0].split(',')\n",
    "    b_attr = df2['attribute_values'].values[0].split(',')\n",
    "    common_length_attr = len(set(a_attr).intersection(set(b_attr)))\n",
    "    if common_length_attr>0:\n",
    "        res.append(common_length_attr/max(len(a_attr), len(b_attr)))\n",
    "    else:\n",
    "        res.append(0)\n",
    "        \n",
    "    \n",
    "    res.append(1.0 - abs(df1['start_online_date'].values[0] - df2['start_online_date'].values[0]))\n",
    "    \n",
    "    return res\n"
   ]
  },
  {
   "cell_type": "code",
   "execution_count": 15,
   "metadata": {},
   "outputs": [],
   "source": [
    "def jacquard_similarity(row, df):\n",
    "    product_id_1 = row[\"product_id\"]\n",
    "    context_type = row[\"context_type\"]\n",
    "    \n",
    "    if context_type in [\"product_id\", \"designer_id\"]:\n",
    "        product_id_2 = row[\"context_value\"]\n",
    "        df1 = df[df['product_id']==product_id_1]\n",
    "        df2 = df[df['product_id']==product_id_2]\n",
    "        if len(df2)>0:\n",
    "            res = similarity_util(df1, df2)\n",
    "            return sum(res)/len(res)\n",
    "    elif context_type==\"designer_id,category_id\":\n",
    "        product_id_2 = row[\"context_value\"].split(\",\")[0]\n",
    "        df1 = df[df['product_id']==product_id_1]\n",
    "        df2 = df[df['product_id']==product_id_2]\n",
    "        if len(df2)>0:\n",
    "            res = similarity_util(df1, df2)\n",
    "            return sum(res)/len(res)\n",
    "    else:\n",
    "        return None\n",
    "        \n",
    "    \n",
    "    "
   ]
  },
  {
   "cell_type": "code",
   "execution_count": null,
   "metadata": {},
   "outputs": [
    {
     "data": {
      "application/vnd.jupyter.widget-view+json": {
       "model_id": "b0e4c487960a45b880da2bbe322f6b16",
       "version_major": 2,
       "version_minor": 0
      },
      "text/plain": [
       "HBox(children=(HTML(value='Pandas Apply'), FloatProgress(value=0.0, max=3507990.0), HTML(value='')))"
      ]
     },
     "metadata": {},
     "output_type": "display_data"
    }
   ],
   "source": [
    "train[\"product_context_similarity\"] = train.swifter.apply(lambda x: jacquard_similarity(x, attribute_df), 1)\n"
   ]
  },
  {
   "cell_type": "code",
   "execution_count": null,
   "metadata": {},
   "outputs": [],
   "source": [
    "val[\"product_context_similarity\"] = val.swifter.apply(lambda x: jacquard_similarity(x, attribute_df), 1)\n"
   ]
  },
  {
   "cell_type": "code",
   "execution_count": null,
   "metadata": {},
   "outputs": [],
   "source": [
    "del attribute_df\n",
    "gc.collect()\n"
   ]
  },
  {
   "cell_type": "code",
   "execution_count": null,
   "metadata": {},
   "outputs": [],
   "source": [
    "# train.to_csv(\"train_product_context_sim.csv\", index=False)"
   ]
  },
  {
   "cell_type": "code",
   "execution_count": null,
   "metadata": {},
   "outputs": [],
   "source": [
    "# val.to_csv(\"val_product_context_sim.csv\", index=False)"
   ]
  },
  {
   "cell_type": "code",
   "execution_count": null,
   "metadata": {},
   "outputs": [],
   "source": []
  },
  {
   "cell_type": "code",
   "execution_count": null,
   "metadata": {},
   "outputs": [],
   "source": []
  }
 ],
 "metadata": {
  "kernelspec": {
   "display_name": "Python 3",
   "language": "python",
   "name": "python3"
  },
  "language_info": {
   "codemirror_mode": {
    "name": "ipython",
    "version": 3
   },
   "file_extension": ".py",
   "mimetype": "text/x-python",
   "name": "python",
   "nbconvert_exporter": "python",
   "pygments_lexer": "ipython3",
   "version": "3.7.8"
  }
 },
 "nbformat": 4,
 "nbformat_minor": 4
}
