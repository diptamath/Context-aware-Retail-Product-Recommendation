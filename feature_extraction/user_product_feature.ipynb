{
 "cells": [
  {
   "cell_type": "code",
   "execution_count": 1,
   "metadata": {},
   "outputs": [],
   "source": [
    "import pandas as pd\n",
    "from tqdm import tqdm\n",
    "import numpy as np\n",
    "import pickle\n",
    "import gc"
   ]
  },
  {
   "cell_type": "code",
   "execution_count": 2,
   "metadata": {},
   "outputs": [],
   "source": [
    "df = pd.read_parquet(\"../data_phase1/train.parquet\")"
   ]
  },
  {
   "cell_type": "code",
   "execution_count": 3,
   "metadata": {},
   "outputs": [
    {
     "data": {
      "text/html": [
       "<div>\n",
       "<style scoped>\n",
       "    .dataframe tbody tr th:only-of-type {\n",
       "        vertical-align: middle;\n",
       "    }\n",
       "\n",
       "    .dataframe tbody tr th {\n",
       "        vertical-align: top;\n",
       "    }\n",
       "\n",
       "    .dataframe thead th {\n",
       "        text-align: right;\n",
       "    }\n",
       "</style>\n",
       "<table border=\"1\" class=\"dataframe\">\n",
       "  <thead>\n",
       "    <tr style=\"text-align: right;\">\n",
       "      <th></th>\n",
       "      <th>query_id</th>\n",
       "      <th>user_id</th>\n",
       "      <th>session_id</th>\n",
       "      <th>product_id</th>\n",
       "      <th>page_type</th>\n",
       "      <th>previous_page_type</th>\n",
       "      <th>device_category</th>\n",
       "      <th>device_platform</th>\n",
       "      <th>user_tier</th>\n",
       "      <th>user_country</th>\n",
       "      <th>context_type</th>\n",
       "      <th>context_value</th>\n",
       "      <th>product_price</th>\n",
       "      <th>week</th>\n",
       "      <th>week_day</th>\n",
       "      <th>is_click</th>\n",
       "    </tr>\n",
       "  </thead>\n",
       "  <tbody>\n",
       "    <tr>\n",
       "      <th>0</th>\n",
       "      <td>92d4dd491a874a2cf92c8d311a44a42b597c64a5ede23d...</td>\n",
       "      <td>e5e4c71b1b9456dafece1338762d4ee3db698cf32c384c...</td>\n",
       "      <td>2740b0d77b4e6fafd75321f7d0794210afa8bd650955e7...</td>\n",
       "      <td>bf056e3841dd3a358c6aacb1f9e74e4c7c4adc62e33b45...</td>\n",
       "      <td>596618814963e496d74434df8b8fe3306892f2e4ce6aaa...</td>\n",
       "      <td>c9f34437ce0e536fefd11a34b9a411b541d2dabfec872a...</td>\n",
       "      <td>d6538f13ace825448d0af4fa5e58d2d08fa2d0850e5e14...</td>\n",
       "      <td>d6538f13ace825448d0af4fa5e58d2d08fa2d0850e5e14...</td>\n",
       "      <td>d74a5cebc23c56af60a5768c22d44b52f598629d4011fa...</td>\n",
       "      <td>fec032cb05435471f2305006f4a1ba994c9d2f4bcad8ef...</td>\n",
       "      <td>designer_id</td>\n",
       "      <td>e5315dbea15a033bc6974a0bccf5fae4a017648bcd92ab...</td>\n",
       "      <td>0.000263</td>\n",
       "      <td>7</td>\n",
       "      <td>6</td>\n",
       "      <td>0</td>\n",
       "    </tr>\n",
       "    <tr>\n",
       "      <th>1</th>\n",
       "      <td>541a93bd95c3f4127a53e6b0d4b41db55ad9cb9e19d34a...</td>\n",
       "      <td>fca847f7eb5a5a21991421354b0f26afb4a517e540541f...</td>\n",
       "      <td>d5feab37634fd140e85b8f98dcb909a8779b4f0417c73a...</td>\n",
       "      <td>c6513ec49c8e04c265c907933799ff76f24c075c6308c4...</td>\n",
       "      <td>06a7f8e972f61aeb0e06335699518079a444e4450ff766...</td>\n",
       "      <td>d74a5cebc23c56af60a5768c22d44b52f598629d4011fa...</td>\n",
       "      <td>d6538f13ace825448d0af4fa5e58d2d08fa2d0850e5e14...</td>\n",
       "      <td>d6538f13ace825448d0af4fa5e58d2d08fa2d0850e5e14...</td>\n",
       "      <td>d179859aac8f7c1f88e1ee29b6655596873318c55127d3...</td>\n",
       "      <td>8c82855f15d05cd74fa59956434df17522fc68e4ce3900...</td>\n",
       "      <td>product_id</td>\n",
       "      <td>61205c20046f2688cb7ed03cad29d5a5dbdc360ff48290...</td>\n",
       "      <td>0.012966</td>\n",
       "      <td>6</td>\n",
       "      <td>5</td>\n",
       "      <td>0</td>\n",
       "    </tr>\n",
       "    <tr>\n",
       "      <th>2</th>\n",
       "      <td>263ea1e38126fe0c7bfbff24a33b1a09f4dac4f8cd4bb4...</td>\n",
       "      <td>90ea15d8d96a9d3e7ab463d990e5f4565cac9477498d37...</td>\n",
       "      <td>18ae37a1a05faa7fd54818794a1a8e44073e00a56fa05f...</td>\n",
       "      <td>b4d5e28da10318aa7776b364528dc92f83ba45326018b5...</td>\n",
       "      <td>06a7f8e972f61aeb0e06335699518079a444e4450ff766...</td>\n",
       "      <td>c9f34437ce0e536fefd11a34b9a411b541d2dabfec872a...</td>\n",
       "      <td>bf2241c08d92d32a6782b4041a2c11ca58882ca88454b3...</td>\n",
       "      <td>702e4598004745673c0f6b50387bef9e1d5f503bd8c1c0...</td>\n",
       "      <td>d74a5cebc23c56af60a5768c22d44b52f598629d4011fa...</td>\n",
       "      <td>c94ddcb9053eae77ab9abec807ef2b0bb4efac14404d17...</td>\n",
       "      <td>product_id</td>\n",
       "      <td>3a519c0b692e93feff8810bbbd4654eb297379271a8a04...</td>\n",
       "      <td>0.002734</td>\n",
       "      <td>6</td>\n",
       "      <td>5</td>\n",
       "      <td>0</td>\n",
       "    </tr>\n",
       "    <tr>\n",
       "      <th>3</th>\n",
       "      <td>3727580d84ce2fbe42ff8bc6f732331f65ea659864a04c...</td>\n",
       "      <td>8f88d89f2a71e2adf42f885fa6adedd09bf039843b535c...</td>\n",
       "      <td>10667a5a6047aa173d13997cdcd996cbdaf9b0149f9655...</td>\n",
       "      <td>5a36f600d3c01763c28e2dafc53119fba7bcc6a867ab8f...</td>\n",
       "      <td>06a7f8e972f61aeb0e06335699518079a444e4450ff766...</td>\n",
       "      <td>c9f34437ce0e536fefd11a34b9a411b541d2dabfec872a...</td>\n",
       "      <td>d6538f13ace825448d0af4fa5e58d2d08fa2d0850e5e14...</td>\n",
       "      <td>d6538f13ace825448d0af4fa5e58d2d08fa2d0850e5e14...</td>\n",
       "      <td>d74a5cebc23c56af60a5768c22d44b52f598629d4011fa...</td>\n",
       "      <td>8c82855f15d05cd74fa59956434df17522fc68e4ce3900...</td>\n",
       "      <td>product_id</td>\n",
       "      <td>c739fd56b5999e40d7391008230454adb1e371d30c6973...</td>\n",
       "      <td>0.000070</td>\n",
       "      <td>5</td>\n",
       "      <td>5</td>\n",
       "      <td>0</td>\n",
       "    </tr>\n",
       "    <tr>\n",
       "      <th>4</th>\n",
       "      <td>1fcf5d263785455311cecf2f864eaa2eeca4da488383d9...</td>\n",
       "      <td>6b21688d90dfd9677fa7979dfc6da5b963c0e1e3d68a38...</td>\n",
       "      <td>8b39f00bfc9d45ed6f64dd39a72548936a157f9f03e7f4...</td>\n",
       "      <td>314d20e9e9ec3e97d1867c8bf8c6feb0c23d918021e175...</td>\n",
       "      <td>06a7f8e972f61aeb0e06335699518079a444e4450ff766...</td>\n",
       "      <td>c9f34437ce0e536fefd11a34b9a411b541d2dabfec872a...</td>\n",
       "      <td>bf2241c08d92d32a6782b4041a2c11ca58882ca88454b3...</td>\n",
       "      <td>702e4598004745673c0f6b50387bef9e1d5f503bd8c1c0...</td>\n",
       "      <td>d74a5cebc23c56af60a5768c22d44b52f598629d4011fa...</td>\n",
       "      <td>ea2f413bd8fda0b91a814a68aa520044b204796991a343...</td>\n",
       "      <td>product_id</td>\n",
       "      <td>ebe7ea6e59e7fbd292af5284048b53d356aac5b57d7557...</td>\n",
       "      <td>0.000090</td>\n",
       "      <td>3</td>\n",
       "      <td>4</td>\n",
       "      <td>0</td>\n",
       "    </tr>\n",
       "  </tbody>\n",
       "</table>\n",
       "</div>"
      ],
      "text/plain": [
       "                                            query_id  \\\n",
       "0  92d4dd491a874a2cf92c8d311a44a42b597c64a5ede23d...   \n",
       "1  541a93bd95c3f4127a53e6b0d4b41db55ad9cb9e19d34a...   \n",
       "2  263ea1e38126fe0c7bfbff24a33b1a09f4dac4f8cd4bb4...   \n",
       "3  3727580d84ce2fbe42ff8bc6f732331f65ea659864a04c...   \n",
       "4  1fcf5d263785455311cecf2f864eaa2eeca4da488383d9...   \n",
       "\n",
       "                                             user_id  \\\n",
       "0  e5e4c71b1b9456dafece1338762d4ee3db698cf32c384c...   \n",
       "1  fca847f7eb5a5a21991421354b0f26afb4a517e540541f...   \n",
       "2  90ea15d8d96a9d3e7ab463d990e5f4565cac9477498d37...   \n",
       "3  8f88d89f2a71e2adf42f885fa6adedd09bf039843b535c...   \n",
       "4  6b21688d90dfd9677fa7979dfc6da5b963c0e1e3d68a38...   \n",
       "\n",
       "                                          session_id  \\\n",
       "0  2740b0d77b4e6fafd75321f7d0794210afa8bd650955e7...   \n",
       "1  d5feab37634fd140e85b8f98dcb909a8779b4f0417c73a...   \n",
       "2  18ae37a1a05faa7fd54818794a1a8e44073e00a56fa05f...   \n",
       "3  10667a5a6047aa173d13997cdcd996cbdaf9b0149f9655...   \n",
       "4  8b39f00bfc9d45ed6f64dd39a72548936a157f9f03e7f4...   \n",
       "\n",
       "                                          product_id  \\\n",
       "0  bf056e3841dd3a358c6aacb1f9e74e4c7c4adc62e33b45...   \n",
       "1  c6513ec49c8e04c265c907933799ff76f24c075c6308c4...   \n",
       "2  b4d5e28da10318aa7776b364528dc92f83ba45326018b5...   \n",
       "3  5a36f600d3c01763c28e2dafc53119fba7bcc6a867ab8f...   \n",
       "4  314d20e9e9ec3e97d1867c8bf8c6feb0c23d918021e175...   \n",
       "\n",
       "                                           page_type  \\\n",
       "0  596618814963e496d74434df8b8fe3306892f2e4ce6aaa...   \n",
       "1  06a7f8e972f61aeb0e06335699518079a444e4450ff766...   \n",
       "2  06a7f8e972f61aeb0e06335699518079a444e4450ff766...   \n",
       "3  06a7f8e972f61aeb0e06335699518079a444e4450ff766...   \n",
       "4  06a7f8e972f61aeb0e06335699518079a444e4450ff766...   \n",
       "\n",
       "                                  previous_page_type  \\\n",
       "0  c9f34437ce0e536fefd11a34b9a411b541d2dabfec872a...   \n",
       "1  d74a5cebc23c56af60a5768c22d44b52f598629d4011fa...   \n",
       "2  c9f34437ce0e536fefd11a34b9a411b541d2dabfec872a...   \n",
       "3  c9f34437ce0e536fefd11a34b9a411b541d2dabfec872a...   \n",
       "4  c9f34437ce0e536fefd11a34b9a411b541d2dabfec872a...   \n",
       "\n",
       "                                     device_category  \\\n",
       "0  d6538f13ace825448d0af4fa5e58d2d08fa2d0850e5e14...   \n",
       "1  d6538f13ace825448d0af4fa5e58d2d08fa2d0850e5e14...   \n",
       "2  bf2241c08d92d32a6782b4041a2c11ca58882ca88454b3...   \n",
       "3  d6538f13ace825448d0af4fa5e58d2d08fa2d0850e5e14...   \n",
       "4  bf2241c08d92d32a6782b4041a2c11ca58882ca88454b3...   \n",
       "\n",
       "                                     device_platform  \\\n",
       "0  d6538f13ace825448d0af4fa5e58d2d08fa2d0850e5e14...   \n",
       "1  d6538f13ace825448d0af4fa5e58d2d08fa2d0850e5e14...   \n",
       "2  702e4598004745673c0f6b50387bef9e1d5f503bd8c1c0...   \n",
       "3  d6538f13ace825448d0af4fa5e58d2d08fa2d0850e5e14...   \n",
       "4  702e4598004745673c0f6b50387bef9e1d5f503bd8c1c0...   \n",
       "\n",
       "                                           user_tier  \\\n",
       "0  d74a5cebc23c56af60a5768c22d44b52f598629d4011fa...   \n",
       "1  d179859aac8f7c1f88e1ee29b6655596873318c55127d3...   \n",
       "2  d74a5cebc23c56af60a5768c22d44b52f598629d4011fa...   \n",
       "3  d74a5cebc23c56af60a5768c22d44b52f598629d4011fa...   \n",
       "4  d74a5cebc23c56af60a5768c22d44b52f598629d4011fa...   \n",
       "\n",
       "                                        user_country context_type  \\\n",
       "0  fec032cb05435471f2305006f4a1ba994c9d2f4bcad8ef...  designer_id   \n",
       "1  8c82855f15d05cd74fa59956434df17522fc68e4ce3900...   product_id   \n",
       "2  c94ddcb9053eae77ab9abec807ef2b0bb4efac14404d17...   product_id   \n",
       "3  8c82855f15d05cd74fa59956434df17522fc68e4ce3900...   product_id   \n",
       "4  ea2f413bd8fda0b91a814a68aa520044b204796991a343...   product_id   \n",
       "\n",
       "                                       context_value  product_price  week  \\\n",
       "0  e5315dbea15a033bc6974a0bccf5fae4a017648bcd92ab...       0.000263     7   \n",
       "1  61205c20046f2688cb7ed03cad29d5a5dbdc360ff48290...       0.012966     6   \n",
       "2  3a519c0b692e93feff8810bbbd4654eb297379271a8a04...       0.002734     6   \n",
       "3  c739fd56b5999e40d7391008230454adb1e371d30c6973...       0.000070     5   \n",
       "4  ebe7ea6e59e7fbd292af5284048b53d356aac5b57d7557...       0.000090     3   \n",
       "\n",
       "   week_day  is_click  \n",
       "0         6         0  \n",
       "1         5         0  \n",
       "2         5         0  \n",
       "3         5         0  \n",
       "4         4         0  "
      ]
     },
     "execution_count": 3,
     "metadata": {},
     "output_type": "execute_result"
    }
   ],
   "source": [
    "df.head()"
   ]
  },
  {
   "cell_type": "code",
   "execution_count": 4,
   "metadata": {},
   "outputs": [],
   "source": [
    "df1 = df[[\"user_id\", \"product_id\", \"is_click\"]]"
   ]
  },
  {
   "cell_type": "code",
   "execution_count": 5,
   "metadata": {},
   "outputs": [],
   "source": [
    "users = list(set(df1[\"user_id\"]))\n",
    "products = list(set(df1[\"product_id\"]))"
   ]
  },
  {
   "cell_type": "code",
   "execution_count": 6,
   "metadata": {},
   "outputs": [],
   "source": [
    "temp = [0]*len(products)"
   ]
  },
  {
   "cell_type": "code",
   "execution_count": 7,
   "metadata": {},
   "outputs": [],
   "source": [
    "dic = {u: temp for u in users}"
   ]
  },
  {
   "cell_type": "code",
   "execution_count": 8,
   "metadata": {},
   "outputs": [
    {
     "name": "stderr",
     "output_type": "stream",
     "text": [
      "3507990it [1:37:31, 599.53it/s]\n"
     ]
    }
   ],
   "source": [
    "for i, j, k in tqdm(zip(df1[\"user_id\"].values.tolist(), df1[\"product_id\"].values.tolist(), df1[\"is_click\"].values.tolist())):\n",
    "    if k==1:\n",
    "        dic[i][products.index(j)]+=1\n",
    "\n",
    "        "
   ]
  },
  {
   "cell_type": "code",
   "execution_count": 9,
   "metadata": {},
   "outputs": [
    {
     "data": {
      "text/plain": [
       "(208393, 408263)"
      ]
     },
     "execution_count": 9,
     "metadata": {},
     "output_type": "execute_result"
    }
   ],
   "source": [
    "len(users), len(products)"
   ]
  },
  {
   "cell_type": "code",
   "execution_count": 10,
   "metadata": {},
   "outputs": [
    {
     "data": {
      "text/plain": [
       "74"
      ]
     },
     "execution_count": 10,
     "metadata": {},
     "output_type": "execute_result"
    }
   ],
   "source": [
    "del df, df1\n",
    "gc.collect()"
   ]
  },
  {
   "cell_type": "code",
   "execution_count": 11,
   "metadata": {},
   "outputs": [],
   "source": [
    "# k = pd.DataFrame(dic)\n"
   ]
  },
  {
   "cell_type": "code",
   "execution_count": 12,
   "metadata": {},
   "outputs": [],
   "source": [
    "vals = list(dic.values())"
   ]
  },
  {
   "cell_type": "code",
   "execution_count": 13,
   "metadata": {},
   "outputs": [],
   "source": [
    "import scipy.sparse"
   ]
  },
  {
   "cell_type": "code",
   "execution_count": null,
   "metadata": {},
   "outputs": [],
   "source": [
    "sparse_matrix = scipy.sparse.csc_matrix(np.array(vals))"
   ]
  },
  {
   "cell_type": "code",
   "execution_count": null,
   "metadata": {},
   "outputs": [],
   "source": [
    "scipy.sparse.save_npz('user_product_matrix.npz', sparse_matrix)\n"
   ]
  },
  {
   "cell_type": "code",
   "execution_count": null,
   "metadata": {},
   "outputs": [],
   "source": [
    "# np.save('user_product_matrix.npy', np.array(vals))"
   ]
  },
  {
   "cell_type": "code",
   "execution_count": null,
   "metadata": {},
   "outputs": [],
   "source": [
    "with open('user_list.pkl', 'wb') as f:\n",
    "    pickle.dump(users, f)\n",
    "    "
   ]
  },
  {
   "cell_type": "code",
   "execution_count": null,
   "metadata": {},
   "outputs": [],
   "source": [
    "with open('product_list.pkl', 'wb') as f:\n",
    "    pickle.dump(products, f)\n",
    "    "
   ]
  },
  {
   "cell_type": "code",
   "execution_count": null,
   "metadata": {},
   "outputs": [],
   "source": []
  },
  {
   "cell_type": "code",
   "execution_count": null,
   "metadata": {},
   "outputs": [],
   "source": []
  }
 ],
 "metadata": {
  "kernelspec": {
   "display_name": "Python 3",
   "language": "python",
   "name": "python3"
  },
  "language_info": {
   "codemirror_mode": {
    "name": "ipython",
    "version": 3
   },
   "file_extension": ".py",
   "mimetype": "text/x-python",
   "name": "python",
   "nbconvert_exporter": "python",
   "pygments_lexer": "ipython3",
   "version": "3.7.8"
  }
 },
 "nbformat": 4,
 "nbformat_minor": 4
}
