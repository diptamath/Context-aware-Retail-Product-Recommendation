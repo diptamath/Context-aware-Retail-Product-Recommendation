{
 "cells": [
  {
   "cell_type": "code",
   "execution_count": 1,
   "metadata": {},
   "outputs": [],
   "source": [
    "# ! pip install fastparquet\n",
    "# ! pip install ipynb"
   ]
  },
  {
   "cell_type": "code",
   "execution_count": 42,
   "metadata": {},
   "outputs": [],
   "source": [
    "from ipynb.fs.full.data_merge_utils import reduce_mem_usage\n",
    "from ipynb.fs.full.data_merge_utils import merge_data\n"
   ]
  },
  {
   "cell_type": "code",
   "execution_count": 3,
   "metadata": {},
   "outputs": [],
   "source": [
    "import pandas as pd\n",
    "import swifter\n",
    "import numpy as np\n",
    "from glob import glob\n",
    "import json\n",
    "import gc\n"
   ]
  },
  {
   "cell_type": "code",
   "execution_count": 4,
   "metadata": {},
   "outputs": [],
   "source": [
    "train = pd.read_parquet(\"../data_phase1/train.parquet\")\n",
    "val = pd.read_parquet(\"../data_phase1/validation.parquet\")\n"
   ]
  },
  {
   "cell_type": "code",
   "execution_count": 5,
   "metadata": {},
   "outputs": [],
   "source": [
    "attribute_df = pd.read_parquet(\"../data_phase1/attributes.parquet\")"
   ]
  },
  {
   "cell_type": "code",
   "execution_count": 6,
   "metadata": {},
   "outputs": [],
   "source": [
    "train = train.merge(attribute_df, on='product_id', how='left')\n",
    "val = val.merge(attribute_df, on='product_id', how='left')\n"
   ]
  },
  {
   "cell_type": "code",
   "execution_count": 7,
   "metadata": {},
   "outputs": [
    {
     "data": {
      "text/html": [
       "<div>\n",
       "<style scoped>\n",
       "    .dataframe tbody tr th:only-of-type {\n",
       "        vertical-align: middle;\n",
       "    }\n",
       "\n",
       "    .dataframe tbody tr th {\n",
       "        vertical-align: top;\n",
       "    }\n",
       "\n",
       "    .dataframe thead th {\n",
       "        text-align: right;\n",
       "    }\n",
       "</style>\n",
       "<table border=\"1\" class=\"dataframe\">\n",
       "  <thead>\n",
       "    <tr style=\"text-align: right;\">\n",
       "      <th></th>\n",
       "      <th>query_id</th>\n",
       "      <th>user_id</th>\n",
       "      <th>session_id</th>\n",
       "      <th>product_id</th>\n",
       "      <th>page_type</th>\n",
       "      <th>previous_page_type</th>\n",
       "      <th>device_category</th>\n",
       "      <th>device_platform</th>\n",
       "      <th>user_tier</th>\n",
       "      <th>user_country</th>\n",
       "      <th>...</th>\n",
       "      <th>season</th>\n",
       "      <th>collection</th>\n",
       "      <th>category_id_l1</th>\n",
       "      <th>category_id_l2</th>\n",
       "      <th>category_id_l3</th>\n",
       "      <th>brand_id</th>\n",
       "      <th>season_year</th>\n",
       "      <th>start_online_date</th>\n",
       "      <th>material_values</th>\n",
       "      <th>attribute_values</th>\n",
       "    </tr>\n",
       "  </thead>\n",
       "  <tbody>\n",
       "    <tr>\n",
       "      <th>0</th>\n",
       "      <td>92d4dd491a874a2cf92c8d311a44a42b597c64a5ede23d...</td>\n",
       "      <td>e5e4c71b1b9456dafece1338762d4ee3db698cf32c384c...</td>\n",
       "      <td>2740b0d77b4e6fafd75321f7d0794210afa8bd650955e7...</td>\n",
       "      <td>bf056e3841dd3a358c6aacb1f9e74e4c7c4adc62e33b45...</td>\n",
       "      <td>596618814963e496d74434df8b8fe3306892f2e4ce6aaa...</td>\n",
       "      <td>c9f34437ce0e536fefd11a34b9a411b541d2dabfec872a...</td>\n",
       "      <td>d6538f13ace825448d0af4fa5e58d2d08fa2d0850e5e14...</td>\n",
       "      <td>d6538f13ace825448d0af4fa5e58d2d08fa2d0850e5e14...</td>\n",
       "      <td>d74a5cebc23c56af60a5768c22d44b52f598629d4011fa...</td>\n",
       "      <td>fec032cb05435471f2305006f4a1ba994c9d2f4bcad8ef...</td>\n",
       "      <td>...</td>\n",
       "      <td>9db35d237f5873f0410d3ca18c07430270086eb1e7838d...</td>\n",
       "      <td>4c8006c7e513057a9138641abc2a9e65f4b014a8045259...</td>\n",
       "      <td>642878c18e40a1028b6610cd3396d4ee4fb6ad9623f5bb...</td>\n",
       "      <td>a37fdccd28723fba01a2f0a68d3bb1a3b847e550a7b0c2...</td>\n",
       "      <td>ca8c396e7422e324d4454a911e0319d07b85a4fb89b006...</td>\n",
       "      <td>206b88b91a241cc6ed5af856ce3ddda4dccf91ae2ec798...</td>\n",
       "      <td>dc1194ba428d5cd4c49f8a769a6577ac1042162da38bc1...</td>\n",
       "      <td>570.041667</td>\n",
       "      <td>f61ecea9b45f1590e57706b88207449bdd4cb703b917ad...</td>\n",
       "      <td>28d2b1e7b0970e2c58966c47b4c7ab7426e43a8689007e...</td>\n",
       "    </tr>\n",
       "    <tr>\n",
       "      <th>1</th>\n",
       "      <td>541a93bd95c3f4127a53e6b0d4b41db55ad9cb9e19d34a...</td>\n",
       "      <td>fca847f7eb5a5a21991421354b0f26afb4a517e540541f...</td>\n",
       "      <td>d5feab37634fd140e85b8f98dcb909a8779b4f0417c73a...</td>\n",
       "      <td>c6513ec49c8e04c265c907933799ff76f24c075c6308c4...</td>\n",
       "      <td>06a7f8e972f61aeb0e06335699518079a444e4450ff766...</td>\n",
       "      <td>d74a5cebc23c56af60a5768c22d44b52f598629d4011fa...</td>\n",
       "      <td>d6538f13ace825448d0af4fa5e58d2d08fa2d0850e5e14...</td>\n",
       "      <td>d6538f13ace825448d0af4fa5e58d2d08fa2d0850e5e14...</td>\n",
       "      <td>d179859aac8f7c1f88e1ee29b6655596873318c55127d3...</td>\n",
       "      <td>8c82855f15d05cd74fa59956434df17522fc68e4ce3900...</td>\n",
       "      <td>...</td>\n",
       "      <td>847a067597e39838f1f85b0774f44e68b4d6e64d3ec4dd...</td>\n",
       "      <td>4c8006c7e513057a9138641abc2a9e65f4b014a8045259...</td>\n",
       "      <td>f6bafdefb3c04b392adc1d139ea55a565c8829627bb7d3...</td>\n",
       "      <td>884c59e2814e352d318a8447c2f32a0370955af64838e3...</td>\n",
       "      <td>393b930ad3c40c6af1c14ce8572f39a3a2027ef70dd21e...</td>\n",
       "      <td>de60eee3c057eab83a9987275b3ecfb080026c3297b036...</td>\n",
       "      <td>ef7d8d2e02aec8c328dafde95486f7181c37d07be3d167...</td>\n",
       "      <td>208.041667</td>\n",
       "      <td>c4aebf95aa0044c5230c104faa9ef2b5ccfab836b764d4...</td>\n",
       "      <td>ca8c396e7422e324d4454a911e0319d07b85a4fb89b006...</td>\n",
       "    </tr>\n",
       "  </tbody>\n",
       "</table>\n",
       "<p>2 rows × 29 columns</p>\n",
       "</div>"
      ],
      "text/plain": [
       "                                            query_id  \\\n",
       "0  92d4dd491a874a2cf92c8d311a44a42b597c64a5ede23d...   \n",
       "1  541a93bd95c3f4127a53e6b0d4b41db55ad9cb9e19d34a...   \n",
       "\n",
       "                                             user_id  \\\n",
       "0  e5e4c71b1b9456dafece1338762d4ee3db698cf32c384c...   \n",
       "1  fca847f7eb5a5a21991421354b0f26afb4a517e540541f...   \n",
       "\n",
       "                                          session_id  \\\n",
       "0  2740b0d77b4e6fafd75321f7d0794210afa8bd650955e7...   \n",
       "1  d5feab37634fd140e85b8f98dcb909a8779b4f0417c73a...   \n",
       "\n",
       "                                          product_id  \\\n",
       "0  bf056e3841dd3a358c6aacb1f9e74e4c7c4adc62e33b45...   \n",
       "1  c6513ec49c8e04c265c907933799ff76f24c075c6308c4...   \n",
       "\n",
       "                                           page_type  \\\n",
       "0  596618814963e496d74434df8b8fe3306892f2e4ce6aaa...   \n",
       "1  06a7f8e972f61aeb0e06335699518079a444e4450ff766...   \n",
       "\n",
       "                                  previous_page_type  \\\n",
       "0  c9f34437ce0e536fefd11a34b9a411b541d2dabfec872a...   \n",
       "1  d74a5cebc23c56af60a5768c22d44b52f598629d4011fa...   \n",
       "\n",
       "                                     device_category  \\\n",
       "0  d6538f13ace825448d0af4fa5e58d2d08fa2d0850e5e14...   \n",
       "1  d6538f13ace825448d0af4fa5e58d2d08fa2d0850e5e14...   \n",
       "\n",
       "                                     device_platform  \\\n",
       "0  d6538f13ace825448d0af4fa5e58d2d08fa2d0850e5e14...   \n",
       "1  d6538f13ace825448d0af4fa5e58d2d08fa2d0850e5e14...   \n",
       "\n",
       "                                           user_tier  \\\n",
       "0  d74a5cebc23c56af60a5768c22d44b52f598629d4011fa...   \n",
       "1  d179859aac8f7c1f88e1ee29b6655596873318c55127d3...   \n",
       "\n",
       "                                        user_country  ...  \\\n",
       "0  fec032cb05435471f2305006f4a1ba994c9d2f4bcad8ef...  ...   \n",
       "1  8c82855f15d05cd74fa59956434df17522fc68e4ce3900...  ...   \n",
       "\n",
       "                                              season  \\\n",
       "0  9db35d237f5873f0410d3ca18c07430270086eb1e7838d...   \n",
       "1  847a067597e39838f1f85b0774f44e68b4d6e64d3ec4dd...   \n",
       "\n",
       "                                          collection  \\\n",
       "0  4c8006c7e513057a9138641abc2a9e65f4b014a8045259...   \n",
       "1  4c8006c7e513057a9138641abc2a9e65f4b014a8045259...   \n",
       "\n",
       "                                      category_id_l1  \\\n",
       "0  642878c18e40a1028b6610cd3396d4ee4fb6ad9623f5bb...   \n",
       "1  f6bafdefb3c04b392adc1d139ea55a565c8829627bb7d3...   \n",
       "\n",
       "                                      category_id_l2  \\\n",
       "0  a37fdccd28723fba01a2f0a68d3bb1a3b847e550a7b0c2...   \n",
       "1  884c59e2814e352d318a8447c2f32a0370955af64838e3...   \n",
       "\n",
       "                                      category_id_l3  \\\n",
       "0  ca8c396e7422e324d4454a911e0319d07b85a4fb89b006...   \n",
       "1  393b930ad3c40c6af1c14ce8572f39a3a2027ef70dd21e...   \n",
       "\n",
       "                                            brand_id  \\\n",
       "0  206b88b91a241cc6ed5af856ce3ddda4dccf91ae2ec798...   \n",
       "1  de60eee3c057eab83a9987275b3ecfb080026c3297b036...   \n",
       "\n",
       "                                         season_year start_online_date  \\\n",
       "0  dc1194ba428d5cd4c49f8a769a6577ac1042162da38bc1...        570.041667   \n",
       "1  ef7d8d2e02aec8c328dafde95486f7181c37d07be3d167...        208.041667   \n",
       "\n",
       "                                     material_values  \\\n",
       "0  f61ecea9b45f1590e57706b88207449bdd4cb703b917ad...   \n",
       "1  c4aebf95aa0044c5230c104faa9ef2b5ccfab836b764d4...   \n",
       "\n",
       "                                    attribute_values  \n",
       "0  28d2b1e7b0970e2c58966c47b4c7ab7426e43a8689007e...  \n",
       "1  ca8c396e7422e324d4454a911e0319d07b85a4fb89b006...  \n",
       "\n",
       "[2 rows x 29 columns]"
      ]
     },
     "execution_count": 7,
     "metadata": {},
     "output_type": "execute_result"
    }
   ],
   "source": [
    "train.head(2)"
   ]
  },
  {
   "cell_type": "code",
   "execution_count": null,
   "metadata": {},
   "outputs": [],
   "source": []
  },
  {
   "cell_type": "code",
   "execution_count": 8,
   "metadata": {},
   "outputs": [
    {
     "name": "stdout",
     "output_type": "stream",
     "text": [
      "Memory usage of dataframe is 802.92 MB\n",
      "Memory usage after optimization is: 475.06 MB\n",
      "Decreased by 40.8%\n",
      "Memory usage of dataframe is 152.04 MB\n",
      "Memory usage after optimization is: 146.25 MB\n",
      "Decreased by 3.8%\n"
     ]
    }
   ],
   "source": [
    "train = reduce_mem_usage(train)\n",
    "val = reduce_mem_usage(val)\n"
   ]
  },
  {
   "cell_type": "code",
   "execution_count": 9,
   "metadata": {},
   "outputs": [
    {
     "data": {
      "text/plain": [
       "521"
      ]
     },
     "execution_count": 9,
     "metadata": {},
     "output_type": "execute_result"
    }
   ],
   "source": [
    "gc.collect()"
   ]
  },
  {
   "cell_type": "code",
   "execution_count": 10,
   "metadata": {},
   "outputs": [
    {
     "data": {
      "text/plain": [
       "((3507990, 29), (687192, 28))"
      ]
     },
     "execution_count": 10,
     "metadata": {},
     "output_type": "execute_result"
    }
   ],
   "source": [
    "train.shape, val.shape"
   ]
  },
  {
   "cell_type": "code",
   "execution_count": 11,
   "metadata": {},
   "outputs": [],
   "source": [
    "train['days_elapsed'] = (train['week'].astype(int)-1)*7 + train['week_day'].astype(int)\n",
    "val['days_elapsed'] = (val['week'].astype(int)-1)*7 + val['week_day'].astype(int)\n"
   ]
  },
  {
   "cell_type": "code",
   "execution_count": null,
   "metadata": {},
   "outputs": [],
   "source": []
  },
  {
   "cell_type": "markdown",
   "metadata": {},
   "source": [
    "# Data Merge"
   ]
  },
  {
   "cell_type": "code",
   "execution_count": 12,
   "metadata": {},
   "outputs": [],
   "source": [
    "BASE_PATH = \"../preprocessed_data/\"\n",
    "merge_paths = list(set(glob(BASE_PATH+\"*.csv\")) - \\\n",
    "                   set([BASE_PATH+\"session_wise_product_attribute_frequency_agg_features.csv\", \\\n",
    "                        BASE_PATH+\"product_click_features_by_session.csv\", \\\n",
    "                        BASE_PATH+\"product_material_attribute_one-hot.csv\"]))\n",
    "\n"
   ]
  },
  {
   "cell_type": "code",
   "execution_count": 13,
   "metadata": {},
   "outputs": [
    {
     "data": {
      "text/plain": [
       "22"
      ]
     },
     "execution_count": 13,
     "metadata": {},
     "output_type": "execute_result"
    }
   ],
   "source": [
    "len(merge_paths)"
   ]
  },
  {
   "cell_type": "code",
   "execution_count": 14,
   "metadata": {},
   "outputs": [
    {
     "name": "stdout",
     "output_type": "stream",
     "text": [
      "Train:  (3507990, 93) Val:  (687192, 92)\n"
     ]
    }
   ],
   "source": [
    "train, val = merge_data(train, val, merge_paths)\n"
   ]
  },
  {
   "cell_type": "code",
   "execution_count": null,
   "metadata": {},
   "outputs": [],
   "source": []
  },
  {
   "cell_type": "code",
   "execution_count": 15,
   "metadata": {},
   "outputs": [
    {
     "data": {
      "text/plain": [
       "(7.410801725462079, 1.4713629335165024)"
      ]
     },
     "execution_count": 15,
     "metadata": {},
     "output_type": "execute_result"
    }
   ],
   "source": [
    "train.memory_usage(deep=True).sum()/(1024*1024*1024), val.memory_usage(deep=True).sum()/(1024*1024*1024)"
   ]
  },
  {
   "cell_type": "code",
   "execution_count": null,
   "metadata": {},
   "outputs": [],
   "source": []
  },
  {
   "cell_type": "code",
   "execution_count": 16,
   "metadata": {},
   "outputs": [
    {
     "name": "stdout",
     "output_type": "stream",
     "text": [
      "Train:  (3507990, 112) Val:  (687192, 111)\n"
     ]
    }
   ],
   "source": [
    "train, val = merge_data(train, val, [BASE_PATH+\"session_wise_product_attribute_frequency_agg_features.csv\", \\\n",
    "                                     BASE_PATH+\"product_click_features_by_session.csv\"], merge_cols=[\"session_id\", \"product_id\"], flag=1)\n",
    "\n"
   ]
  },
  {
   "cell_type": "code",
   "execution_count": null,
   "metadata": {},
   "outputs": [],
   "source": []
  },
  {
   "cell_type": "code",
   "execution_count": null,
   "metadata": {},
   "outputs": [],
   "source": []
  },
  {
   "cell_type": "code",
   "execution_count": 17,
   "metadata": {},
   "outputs": [],
   "source": [
    "train[\"days_elapsed_since_first_user_action\"] = train[\"days_elapsed\"] - train[\"first_user_action_days_elapsed\"]\n",
    "val[\"days_elapsed_since_first_user_action\"] = val[\"days_elapsed\"] - val[\"first_user_action_days_elapsed\"]\n"
   ]
  },
  {
   "cell_type": "code",
   "execution_count": 18,
   "metadata": {},
   "outputs": [],
   "source": [
    "train[\"diff_prod_price_from_user_tier_mean\"] = train[\"product_price\"] - train[\"user_tier_mean_product_price\"]\n",
    "train[\"diff_prod_start_online_date_from_user_tier_mean\"] = train[\"product_price\"] - train[\"user_tier_mean_product_start_online_date\"]\n",
    "\n",
    "val[\"diff_prod_price_from_user_tier_mean\"] = val[\"product_price\"] - val[\"user_tier_mean_product_price\"]\n",
    "val[\"diff_prod_start_online_date_from_user_tier_mean\"] = val[\"product_price\"] - val[\"user_tier_mean_product_start_online_date\"]\n"
   ]
  },
  {
   "cell_type": "code",
   "execution_count": 19,
   "metadata": {},
   "outputs": [],
   "source": [
    "train[\"diff_start_online_date_from_user_tier_clicked_mean\"] = train[\"start_online_date\"] - train[\"user_tier_mean_click_product_price\"]\n",
    "train[\"diff_start_online_date_from_user_tier_clicked_mean\"] = train[\"start_online_date\"] - train[\"user_tier_mean_click_product_start_online_date\"]\n",
    "\n",
    "val[\"diff_start_online_date_from_user_tier_clicked_mean\"] = val[\"start_online_date\"] - val[\"user_tier_mean_click_product_price\"]\n",
    "val[\"diff_start_online_date_from_user_tier_clicked_mean\"] = val[\"start_online_date\"] - val[\"user_tier_mean_click_product_start_online_date\"]\n"
   ]
  },
  {
   "cell_type": "code",
   "execution_count": null,
   "metadata": {},
   "outputs": [],
   "source": []
  },
  {
   "cell_type": "code",
   "execution_count": 20,
   "metadata": {},
   "outputs": [],
   "source": [
    "train[\"diff_prod_price_from_session_mean\"] = train[\"product_price\"] - train[\"mean_session_product_price\"]\n",
    "train[\"diff_prod_price_from_query_mean\"] = train[\"product_price\"] - train[\"max_query_price\"]\n",
    "\n",
    "val[\"diff_prod_price_from_session_mean\"] = val[\"product_price\"] - val[\"mean_session_product_price\"]\n",
    "val[\"diff_prod_price_from_query_mean\"] = val[\"product_price\"] - val[\"max_query_price\"]\n"
   ]
  },
  {
   "cell_type": "code",
   "execution_count": 21,
   "metadata": {},
   "outputs": [],
   "source": [
    "dic = json.load(open(\"../preprocessed_data/average_click_values.json\", \"r\"))\n"
   ]
  },
  {
   "cell_type": "code",
   "execution_count": 22,
   "metadata": {},
   "outputs": [
    {
     "data": {
      "text/plain": [
       "{'mean_click_price': 0.0017881393432617188,\n",
       " 'mean_click_start_online_date': 414.747518851918}"
      ]
     },
     "execution_count": 22,
     "metadata": {},
     "output_type": "execute_result"
    }
   ],
   "source": [
    "dic"
   ]
  },
  {
   "cell_type": "code",
   "execution_count": 23,
   "metadata": {},
   "outputs": [],
   "source": [
    "train[\"diff_prod_price_from_click_mean\"] = train[\"product_price\"] - dic[\"mean_click_price\"]\n",
    "val[\"diff_prod_price_from_click_mean\"] = val[\"product_price\"] - dic[\"mean_click_price\"]\n"
   ]
  },
  {
   "cell_type": "code",
   "execution_count": 24,
   "metadata": {},
   "outputs": [],
   "source": [
    "train[\"diff_start_online_date_from_session_mean\"] = train[\"start_online_date\"] - train[\"session_start_online_date_mean\"]\n",
    "train[\"diff_start_online_date_from_query_mean\"] = train[\"start_online_date\"] - train[\"mean_query_start_online_date\"]\n",
    "\n",
    "val[\"diff_start_online_date_from_session_mean\"] = val[\"start_online_date\"] - val[\"session_start_online_date_mean\"]\n",
    "val[\"diff_start_online_date_from_query_mean\"] = val[\"start_online_date\"] - val[\"mean_query_start_online_date\"]\n"
   ]
  },
  {
   "cell_type": "code",
   "execution_count": 25,
   "metadata": {},
   "outputs": [],
   "source": [
    "train[\"diff_start_online_date_from_click_mean\"] = train[\"start_online_date\"] - dic[\"mean_click_start_online_date\"]\n",
    "val[\"diff_start_online_date_from_click_mean\"] = val[\"start_online_date\"] - dic[\"mean_click_start_online_date\"]\n"
   ]
  },
  {
   "cell_type": "code",
   "execution_count": 26,
   "metadata": {},
   "outputs": [
    {
     "data": {
      "text/plain": [
       "66"
      ]
     },
     "execution_count": 26,
     "metadata": {},
     "output_type": "execute_result"
    }
   ],
   "source": [
    "del attribute_df\n",
    "gc.collect()\n"
   ]
  },
  {
   "cell_type": "code",
   "execution_count": null,
   "metadata": {},
   "outputs": [],
   "source": []
  },
  {
   "cell_type": "code",
   "execution_count": 27,
   "metadata": {},
   "outputs": [],
   "source": [
    "train_rank_features = pd.read_csv(\"../preprocessed_data/rank_features/train_rank_features_and_query_prod_list.csv\")\n"
   ]
  },
  {
   "cell_type": "code",
   "execution_count": 28,
   "metadata": {},
   "outputs": [],
   "source": [
    "val_rank_features = pd.read_csv(\"../preprocessed_data/rank_features/val_rank_features_and_query_prod_list.csv\")\n"
   ]
  },
  {
   "cell_type": "code",
   "execution_count": 29,
   "metadata": {},
   "outputs": [],
   "source": [
    "train_rank_features = train_rank_features[['query_id', 'user_id', 'session_id', 'product_id', 'price_rank', \\\n",
    "                                           'start_online_date_rank', 'user_step']]\n",
    "val_rank_features = val_rank_features[['query_id', 'user_id', 'session_id', 'product_id', 'price_rank', \\\n",
    "                                           'start_online_date_rank', 'user_step']]\n"
   ]
  },
  {
   "cell_type": "code",
   "execution_count": 30,
   "metadata": {},
   "outputs": [],
   "source": [
    "train = train.merge(train_rank_features, on=[\"query_id\", \"user_id\", \"session_id\", \"product_id\"], how=\"left\")\n",
    "val = val.merge(val_rank_features, on=[\"query_id\", \"user_id\", \"session_id\", \"product_id\"], how=\"left\")\n"
   ]
  },
  {
   "cell_type": "code",
   "execution_count": 31,
   "metadata": {},
   "outputs": [
    {
     "data": {
      "text/plain": [
       "((3507990, 125), (687192, 124))"
      ]
     },
     "execution_count": 31,
     "metadata": {},
     "output_type": "execute_result"
    }
   ],
   "source": [
    "train.shape, val.shape"
   ]
  },
  {
   "cell_type": "code",
   "execution_count": 32,
   "metadata": {},
   "outputs": [
    {
     "data": {
      "text/plain": [
       "{'is_click'}"
      ]
     },
     "execution_count": 32,
     "metadata": {},
     "output_type": "execute_result"
    }
   ],
   "source": [
    "set(train.columns)-set(val.columns)"
   ]
  },
  {
   "cell_type": "code",
   "execution_count": 33,
   "metadata": {},
   "outputs": [
    {
     "data": {
      "text/plain": [
       "(8.546569777652621, 1.685558583587408)"
      ]
     },
     "execution_count": 33,
     "metadata": {},
     "output_type": "execute_result"
    }
   ],
   "source": [
    "train.memory_usage(deep=True).sum()/(1024*1024*1024), val.memory_usage(deep=True).sum()/(1024*1024*1024)\n"
   ]
  },
  {
   "cell_type": "code",
   "execution_count": null,
   "metadata": {},
   "outputs": [],
   "source": []
  },
  {
   "cell_type": "code",
   "execution_count": 34,
   "metadata": {},
   "outputs": [],
   "source": [
    "BASE_PATH = \"../preprocessed_data/clickout_features/\""
   ]
  },
  {
   "cell_type": "code",
   "execution_count": 35,
   "metadata": {},
   "outputs": [],
   "source": [
    "merge_paths = glob(BASE_PATH+\"*.csv\")\n",
    "done_files = []\n"
   ]
  },
  {
   "cell_type": "code",
   "execution_count": 36,
   "metadata": {},
   "outputs": [
    {
     "name": "stdout",
     "output_type": "stream",
     "text": [
      "Train:  (3507990, 175) Val:  (687192, 174)\n"
     ]
    }
   ],
   "source": [
    "train, val = merge_data(train, val, merge_paths)\n"
   ]
  },
  {
   "cell_type": "code",
   "execution_count": 37,
   "metadata": {},
   "outputs": [],
   "source": [
    "is_click = train.is_click.values\n",
    "train = train.drop([\"is_click\"], 1)\n",
    "train[\"is_click\"] = is_click"
   ]
  },
  {
   "cell_type": "code",
   "execution_count": 38,
   "metadata": {},
   "outputs": [
    {
     "data": {
      "text/plain": [
       "((3507990, 175), (687192, 174))"
      ]
     },
     "execution_count": 38,
     "metadata": {},
     "output_type": "execute_result"
    }
   ],
   "source": [
    "train.shape, val.shape"
   ]
  },
  {
   "cell_type": "code",
   "execution_count": 39,
   "metadata": {},
   "outputs": [
    {
     "data": {
      "text/plain": [
       "(10, 2)"
      ]
     },
     "execution_count": 39,
     "metadata": {},
     "output_type": "execute_result"
    }
   ],
   "source": [
    "train.memory_usage(deep=True).sum()//(1024*1024*1024), val.memory_usage(deep=True).sum()//(1024*1024*1024)"
   ]
  },
  {
   "cell_type": "code",
   "execution_count": null,
   "metadata": {},
   "outputs": [],
   "source": []
  },
  {
   "cell_type": "code",
   "execution_count": null,
   "metadata": {},
   "outputs": [],
   "source": []
  },
  {
   "cell_type": "code",
   "execution_count": null,
   "metadata": {},
   "outputs": [],
   "source": []
  },
  {
   "cell_type": "code",
   "execution_count": null,
   "metadata": {},
   "outputs": [],
   "source": []
  },
  {
   "cell_type": "code",
   "execution_count": null,
   "metadata": {},
   "outputs": [],
   "source": []
  },
  {
   "cell_type": "code",
   "execution_count": null,
   "metadata": {},
   "outputs": [],
   "source": []
  }
 ],
 "metadata": {
  "kernelspec": {
   "display_name": "Python 3",
   "language": "python",
   "name": "python3"
  },
  "language_info": {
   "codemirror_mode": {
    "name": "ipython",
    "version": 3
   },
   "file_extension": ".py",
   "mimetype": "text/x-python",
   "name": "python",
   "nbconvert_exporter": "python",
   "pygments_lexer": "ipython3",
   "version": "3.7.8"
  }
 },
 "nbformat": 4,
 "nbformat_minor": 4
}
