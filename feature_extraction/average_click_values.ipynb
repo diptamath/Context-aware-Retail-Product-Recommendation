{
 "cells": [
  {
   "cell_type": "code",
   "execution_count": 1,
   "metadata": {},
   "outputs": [],
   "source": [
    "# ! pip install fastparquet --user\n",
    "# ! pip install ordered-set\n",
    "# ! pip install swifter --user"
   ]
  },
  {
   "cell_type": "code",
   "execution_count": null,
   "metadata": {},
   "outputs": [],
   "source": []
  },
  {
   "cell_type": "code",
   "execution_count": 2,
   "metadata": {},
   "outputs": [],
   "source": [
    "import pandas as pd\n",
    "import json\n",
    "import swifter\n",
    "import numpy as np\n",
    "import gc\n",
    "\n"
   ]
  },
  {
   "cell_type": "code",
   "execution_count": 3,
   "metadata": {},
   "outputs": [],
   "source": [
    "train = pd.read_parquet(\"../data_phase1/train.parquet\")\n",
    "val = pd.read_parquet(\"../data_phase1/validation.parquet\")\n"
   ]
  },
  {
   "cell_type": "code",
   "execution_count": 4,
   "metadata": {},
   "outputs": [],
   "source": [
    "train = train.fillna(value={\"context_type\": \"NA\"})\n",
    "val = val.fillna(value={\"context_type\": \"NA\"})\n"
   ]
  },
  {
   "cell_type": "code",
   "execution_count": 5,
   "metadata": {},
   "outputs": [
    {
     "data": {
      "text/html": [
       "<div>\n",
       "<style scoped>\n",
       "    .dataframe tbody tr th:only-of-type {\n",
       "        vertical-align: middle;\n",
       "    }\n",
       "\n",
       "    .dataframe tbody tr th {\n",
       "        vertical-align: top;\n",
       "    }\n",
       "\n",
       "    .dataframe thead th {\n",
       "        text-align: right;\n",
       "    }\n",
       "</style>\n",
       "<table border=\"1\" class=\"dataframe\">\n",
       "  <thead>\n",
       "    <tr style=\"text-align: right;\">\n",
       "      <th></th>\n",
       "      <th>query_id</th>\n",
       "      <th>user_id</th>\n",
       "      <th>session_id</th>\n",
       "      <th>product_id</th>\n",
       "      <th>page_type</th>\n",
       "      <th>previous_page_type</th>\n",
       "      <th>device_category</th>\n",
       "      <th>device_platform</th>\n",
       "      <th>user_tier</th>\n",
       "      <th>user_country</th>\n",
       "      <th>context_type</th>\n",
       "      <th>context_value</th>\n",
       "    </tr>\n",
       "  </thead>\n",
       "  <tbody>\n",
       "    <tr>\n",
       "      <th>count</th>\n",
       "      <td>3507990</td>\n",
       "      <td>3507990</td>\n",
       "      <td>3507990</td>\n",
       "      <td>3507990</td>\n",
       "      <td>3507990</td>\n",
       "      <td>3507990</td>\n",
       "      <td>3507990</td>\n",
       "      <td>3507990</td>\n",
       "      <td>3507990</td>\n",
       "      <td>3507990</td>\n",
       "      <td>3507990</td>\n",
       "      <td>3507990</td>\n",
       "    </tr>\n",
       "    <tr>\n",
       "      <th>unique</th>\n",
       "      <td>584665</td>\n",
       "      <td>208393</td>\n",
       "      <td>317426</td>\n",
       "      <td>408263</td>\n",
       "      <td>5</td>\n",
       "      <td>23</td>\n",
       "      <td>3</td>\n",
       "      <td>2</td>\n",
       "      <td>6</td>\n",
       "      <td>196</td>\n",
       "      <td>5</td>\n",
       "      <td>189571</td>\n",
       "    </tr>\n",
       "    <tr>\n",
       "      <th>top</th>\n",
       "      <td>d82a97bd154ecf2314b23398516b8cf92d1a511fbfa394...</td>\n",
       "      <td>cc83479dd22e19ec45d08805a61b73d7f33a69feaf42be...</td>\n",
       "      <td>f3de26eced2c81d1b0d6da40c11c9f987fe066b5a4f4fd...</td>\n",
       "      <td>55e1495c40504b4b15a358f95e2cbede34d011b287c32b...</td>\n",
       "      <td>06a7f8e972f61aeb0e06335699518079a444e4450ff766...</td>\n",
       "      <td>c9f34437ce0e536fefd11a34b9a411b541d2dabfec872a...</td>\n",
       "      <td>bf2241c08d92d32a6782b4041a2c11ca58882ca88454b3...</td>\n",
       "      <td>702e4598004745673c0f6b50387bef9e1d5f503bd8c1c0...</td>\n",
       "      <td>d74a5cebc23c56af60a5768c22d44b52f598629d4011fa...</td>\n",
       "      <td>ea2f413bd8fda0b91a814a68aa520044b204796991a343...</td>\n",
       "      <td>product_id</td>\n",
       "      <td>d74a5cebc23c56af60a5768c22d44b52f598629d4011fa...</td>\n",
       "    </tr>\n",
       "    <tr>\n",
       "      <th>freq</th>\n",
       "      <td>6</td>\n",
       "      <td>4428</td>\n",
       "      <td>354</td>\n",
       "      <td>1728</td>\n",
       "      <td>3105120</td>\n",
       "      <td>2053848</td>\n",
       "      <td>1853280</td>\n",
       "      <td>1927596</td>\n",
       "      <td>2714292</td>\n",
       "      <td>520824</td>\n",
       "      <td>3105204</td>\n",
       "      <td>152514</td>\n",
       "    </tr>\n",
       "  </tbody>\n",
       "</table>\n",
       "</div>"
      ],
      "text/plain": [
       "                                                 query_id  \\\n",
       "count                                             3507990   \n",
       "unique                                             584665   \n",
       "top     d82a97bd154ecf2314b23398516b8cf92d1a511fbfa394...   \n",
       "freq                                                    6   \n",
       "\n",
       "                                                  user_id  \\\n",
       "count                                             3507990   \n",
       "unique                                             208393   \n",
       "top     cc83479dd22e19ec45d08805a61b73d7f33a69feaf42be...   \n",
       "freq                                                 4428   \n",
       "\n",
       "                                               session_id  \\\n",
       "count                                             3507990   \n",
       "unique                                             317426   \n",
       "top     f3de26eced2c81d1b0d6da40c11c9f987fe066b5a4f4fd...   \n",
       "freq                                                  354   \n",
       "\n",
       "                                               product_id  \\\n",
       "count                                             3507990   \n",
       "unique                                             408263   \n",
       "top     55e1495c40504b4b15a358f95e2cbede34d011b287c32b...   \n",
       "freq                                                 1728   \n",
       "\n",
       "                                                page_type  \\\n",
       "count                                             3507990   \n",
       "unique                                                  5   \n",
       "top     06a7f8e972f61aeb0e06335699518079a444e4450ff766...   \n",
       "freq                                              3105120   \n",
       "\n",
       "                                       previous_page_type  \\\n",
       "count                                             3507990   \n",
       "unique                                                 23   \n",
       "top     c9f34437ce0e536fefd11a34b9a411b541d2dabfec872a...   \n",
       "freq                                              2053848   \n",
       "\n",
       "                                          device_category  \\\n",
       "count                                             3507990   \n",
       "unique                                                  3   \n",
       "top     bf2241c08d92d32a6782b4041a2c11ca58882ca88454b3...   \n",
       "freq                                              1853280   \n",
       "\n",
       "                                          device_platform  \\\n",
       "count                                             3507990   \n",
       "unique                                                  2   \n",
       "top     702e4598004745673c0f6b50387bef9e1d5f503bd8c1c0...   \n",
       "freq                                              1927596   \n",
       "\n",
       "                                                user_tier  \\\n",
       "count                                             3507990   \n",
       "unique                                                  6   \n",
       "top     d74a5cebc23c56af60a5768c22d44b52f598629d4011fa...   \n",
       "freq                                              2714292   \n",
       "\n",
       "                                             user_country context_type  \\\n",
       "count                                             3507990      3507990   \n",
       "unique                                                196            5   \n",
       "top     ea2f413bd8fda0b91a814a68aa520044b204796991a343...   product_id   \n",
       "freq                                               520824      3105204   \n",
       "\n",
       "                                            context_value  \n",
       "count                                             3507990  \n",
       "unique                                             189571  \n",
       "top     d74a5cebc23c56af60a5768c22d44b52f598629d4011fa...  \n",
       "freq                                               152514  "
      ]
     },
     "execution_count": 5,
     "metadata": {},
     "output_type": "execute_result"
    }
   ],
   "source": [
    "train.describe(include='O')"
   ]
  },
  {
   "cell_type": "code",
   "execution_count": 6,
   "metadata": {},
   "outputs": [
    {
     "data": {
      "text/html": [
       "<div>\n",
       "<style scoped>\n",
       "    .dataframe tbody tr th:only-of-type {\n",
       "        vertical-align: middle;\n",
       "    }\n",
       "\n",
       "    .dataframe tbody tr th {\n",
       "        vertical-align: top;\n",
       "    }\n",
       "\n",
       "    .dataframe thead th {\n",
       "        text-align: right;\n",
       "    }\n",
       "</style>\n",
       "<table border=\"1\" class=\"dataframe\">\n",
       "  <thead>\n",
       "    <tr style=\"text-align: right;\">\n",
       "      <th></th>\n",
       "      <th>query_id</th>\n",
       "      <th>user_id</th>\n",
       "      <th>session_id</th>\n",
       "      <th>product_id</th>\n",
       "      <th>page_type</th>\n",
       "      <th>previous_page_type</th>\n",
       "      <th>device_category</th>\n",
       "      <th>device_platform</th>\n",
       "      <th>user_tier</th>\n",
       "      <th>user_country</th>\n",
       "      <th>context_type</th>\n",
       "      <th>context_value</th>\n",
       "    </tr>\n",
       "  </thead>\n",
       "  <tbody>\n",
       "    <tr>\n",
       "      <th>count</th>\n",
       "      <td>687192</td>\n",
       "      <td>687192</td>\n",
       "      <td>687192</td>\n",
       "      <td>687192</td>\n",
       "      <td>687192</td>\n",
       "      <td>687192</td>\n",
       "      <td>687192</td>\n",
       "      <td>687192</td>\n",
       "      <td>687192</td>\n",
       "      <td>687192</td>\n",
       "      <td>687192</td>\n",
       "      <td>687192</td>\n",
       "    </tr>\n",
       "    <tr>\n",
       "      <th>unique</th>\n",
       "      <td>114532</td>\n",
       "      <td>114532</td>\n",
       "      <td>114532</td>\n",
       "      <td>218525</td>\n",
       "      <td>5</td>\n",
       "      <td>22</td>\n",
       "      <td>3</td>\n",
       "      <td>2</td>\n",
       "      <td>6</td>\n",
       "      <td>188</td>\n",
       "      <td>5</td>\n",
       "      <td>66955</td>\n",
       "    </tr>\n",
       "    <tr>\n",
       "      <th>top</th>\n",
       "      <td>828a60abc3ef5fc6a845887b4f0f3dac34cc03f20b11bd...</td>\n",
       "      <td>37fa61f72b0b9c718809c513aade75ca4af96015dea1fd...</td>\n",
       "      <td>4abac0dd20bf1e0da03e35f403c5cf7611342714875527...</td>\n",
       "      <td>fe13af44356050cdc93ad3d5e458e24c5077e5bf7a4c12...</td>\n",
       "      <td>06a7f8e972f61aeb0e06335699518079a444e4450ff766...</td>\n",
       "      <td>c9f34437ce0e536fefd11a34b9a411b541d2dabfec872a...</td>\n",
       "      <td>bf2241c08d92d32a6782b4041a2c11ca58882ca88454b3...</td>\n",
       "      <td>702e4598004745673c0f6b50387bef9e1d5f503bd8c1c0...</td>\n",
       "      <td>d74a5cebc23c56af60a5768c22d44b52f598629d4011fa...</td>\n",
       "      <td>ea2f413bd8fda0b91a814a68aa520044b204796991a343...</td>\n",
       "      <td>product_id</td>\n",
       "      <td>d74a5cebc23c56af60a5768c22d44b52f598629d4011fa...</td>\n",
       "    </tr>\n",
       "    <tr>\n",
       "      <th>freq</th>\n",
       "      <td>6</td>\n",
       "      <td>6</td>\n",
       "      <td>6</td>\n",
       "      <td>398</td>\n",
       "      <td>666960</td>\n",
       "      <td>513864</td>\n",
       "      <td>411180</td>\n",
       "      <td>423654</td>\n",
       "      <td>605262</td>\n",
       "      <td>102696</td>\n",
       "      <td>666990</td>\n",
       "      <td>15342</td>\n",
       "    </tr>\n",
       "  </tbody>\n",
       "</table>\n",
       "</div>"
      ],
      "text/plain": [
       "                                                 query_id  \\\n",
       "count                                              687192   \n",
       "unique                                             114532   \n",
       "top     828a60abc3ef5fc6a845887b4f0f3dac34cc03f20b11bd...   \n",
       "freq                                                    6   \n",
       "\n",
       "                                                  user_id  \\\n",
       "count                                              687192   \n",
       "unique                                             114532   \n",
       "top     37fa61f72b0b9c718809c513aade75ca4af96015dea1fd...   \n",
       "freq                                                    6   \n",
       "\n",
       "                                               session_id  \\\n",
       "count                                              687192   \n",
       "unique                                             114532   \n",
       "top     4abac0dd20bf1e0da03e35f403c5cf7611342714875527...   \n",
       "freq                                                    6   \n",
       "\n",
       "                                               product_id  \\\n",
       "count                                              687192   \n",
       "unique                                             218525   \n",
       "top     fe13af44356050cdc93ad3d5e458e24c5077e5bf7a4c12...   \n",
       "freq                                                  398   \n",
       "\n",
       "                                                page_type  \\\n",
       "count                                              687192   \n",
       "unique                                                  5   \n",
       "top     06a7f8e972f61aeb0e06335699518079a444e4450ff766...   \n",
       "freq                                               666960   \n",
       "\n",
       "                                       previous_page_type  \\\n",
       "count                                              687192   \n",
       "unique                                                 22   \n",
       "top     c9f34437ce0e536fefd11a34b9a411b541d2dabfec872a...   \n",
       "freq                                               513864   \n",
       "\n",
       "                                          device_category  \\\n",
       "count                                              687192   \n",
       "unique                                                  3   \n",
       "top     bf2241c08d92d32a6782b4041a2c11ca58882ca88454b3...   \n",
       "freq                                               411180   \n",
       "\n",
       "                                          device_platform  \\\n",
       "count                                              687192   \n",
       "unique                                                  2   \n",
       "top     702e4598004745673c0f6b50387bef9e1d5f503bd8c1c0...   \n",
       "freq                                               423654   \n",
       "\n",
       "                                                user_tier  \\\n",
       "count                                              687192   \n",
       "unique                                                  6   \n",
       "top     d74a5cebc23c56af60a5768c22d44b52f598629d4011fa...   \n",
       "freq                                               605262   \n",
       "\n",
       "                                             user_country context_type  \\\n",
       "count                                              687192       687192   \n",
       "unique                                                188            5   \n",
       "top     ea2f413bd8fda0b91a814a68aa520044b204796991a343...   product_id   \n",
       "freq                                               102696       666990   \n",
       "\n",
       "                                            context_value  \n",
       "count                                              687192  \n",
       "unique                                              66955  \n",
       "top     d74a5cebc23c56af60a5768c22d44b52f598629d4011fa...  \n",
       "freq                                                15342  "
      ]
     },
     "execution_count": 6,
     "metadata": {},
     "output_type": "execute_result"
    }
   ],
   "source": [
    "val.describe(include='O')"
   ]
  },
  {
   "cell_type": "code",
   "execution_count": 7,
   "metadata": {},
   "outputs": [],
   "source": [
    "def reduce_mem_usage(df):\n",
    "    start_mem = df.memory_usage().sum() / 1024 ** 2\n",
    "    print('Memory usage of dataframe is {:.2f} MB'.format(start_mem))\n",
    "\n",
    "    for col in df.columns:\n",
    "        col_type = df[col].dtype\n",
    "\n",
    "        if col_type != object:\n",
    "            c_min = df[col].min()\n",
    "            c_max = df[col].max()\n",
    "            if str(col_type)[:3] == 'int':\n",
    "                if c_min > np.iinfo(np.int8).min and c_max < np.iinfo(np.int8).max:\n",
    "                    df[col] = df[col].astype(np.int8)\n",
    "                elif c_min > np.iinfo(np.int16).min and c_max < np.iinfo(np.int16).max:\n",
    "                    df[col] = df[col].astype(np.int16)\n",
    "                elif c_min > np.iinfo(np.int32).min and c_max < np.iinfo(np.int32).max:\n",
    "                    df[col] = df[col].astype(np.int32)\n",
    "                elif c_min > np.iinfo(np.int64).min and c_max < np.iinfo(np.int64).max:\n",
    "                    df[col] = df[col].astype(np.int64)\n",
    "            else:\n",
    "                if c_min > np.finfo(np.float16).min and c_max < np.finfo(np.float16).max:\n",
    "                    df[col] = df[col].astype(np.float16)\n",
    "                elif c_min > np.finfo(np.float32).min and c_max < np.finfo(np.float32).max:\n",
    "                    df[col] = df[col].astype(np.float32)\n",
    "                else:\n",
    "                    df[col] = df[col].astype(np.float64)\n",
    "        else:\n",
    "            df[col] = df[col].astype('category')\n",
    "\n",
    "    end_mem = df.memory_usage().sum() / 1024 ** 2\n",
    "    print('Memory usage after optimization is: {:.2f} MB'.format(end_mem))\n",
    "    print('Decreased by {:.1f}%'.format(100 * (start_mem - end_mem) / start_mem))\n",
    "\n",
    "    return df\n"
   ]
  },
  {
   "cell_type": "code",
   "execution_count": 8,
   "metadata": {},
   "outputs": [
    {
     "name": "stdout",
     "output_type": "stream",
     "text": [
      "Memory usage of dataframe is 428.22 MB\n",
      "Memory usage after optimization is: 175.85 MB\n",
      "Decreased by 58.9%\n",
      "Memory usage of dataframe is 78.64 MB\n",
      "Memory usage after optimization is: 47.95 MB\n",
      "Decreased by 39.0%\n"
     ]
    }
   ],
   "source": [
    "train = reduce_mem_usage(train)\n",
    "val = reduce_mem_usage(val)\n"
   ]
  },
  {
   "cell_type": "code",
   "execution_count": 9,
   "metadata": {},
   "outputs": [
    {
     "data": {
      "text/plain": [
       "22"
      ]
     },
     "execution_count": 9,
     "metadata": {},
     "output_type": "execute_result"
    }
   ],
   "source": [
    "gc.collect()"
   ]
  },
  {
   "cell_type": "code",
   "execution_count": null,
   "metadata": {},
   "outputs": [],
   "source": []
  },
  {
   "cell_type": "code",
   "execution_count": 10,
   "metadata": {},
   "outputs": [],
   "source": [
    "click_data = train[train[\"is_click\"]==1]"
   ]
  },
  {
   "cell_type": "code",
   "execution_count": 11,
   "metadata": {},
   "outputs": [
    {
     "data": {
      "text/plain": [
       "0.001788"
      ]
     },
     "execution_count": 11,
     "metadata": {},
     "output_type": "execute_result"
    }
   ],
   "source": [
    "mean_click_price = click_data[\"product_price\"].mean()\n",
    "mean_click_price"
   ]
  },
  {
   "cell_type": "code",
   "execution_count": null,
   "metadata": {},
   "outputs": [],
   "source": []
  },
  {
   "cell_type": "code",
   "execution_count": 12,
   "metadata": {},
   "outputs": [],
   "source": [
    "attribute_df = pd.read_parquet(\"../data_phase1/attributes.parquet\")"
   ]
  },
  {
   "cell_type": "code",
   "execution_count": 13,
   "metadata": {},
   "outputs": [
    {
     "data": {
      "text/html": [
       "<div>\n",
       "<style scoped>\n",
       "    .dataframe tbody tr th:only-of-type {\n",
       "        vertical-align: middle;\n",
       "    }\n",
       "\n",
       "    .dataframe tbody tr th {\n",
       "        vertical-align: top;\n",
       "    }\n",
       "\n",
       "    .dataframe thead th {\n",
       "        text-align: right;\n",
       "    }\n",
       "</style>\n",
       "<table border=\"1\" class=\"dataframe\">\n",
       "  <thead>\n",
       "    <tr style=\"text-align: right;\">\n",
       "      <th></th>\n",
       "      <th>product_id</th>\n",
       "      <th>start_online_date</th>\n",
       "    </tr>\n",
       "  </thead>\n",
       "  <tbody>\n",
       "    <tr>\n",
       "      <th>0</th>\n",
       "      <td>0013f07ccdf212210c110e63f0de46e37669c17a4d855a...</td>\n",
       "      <td>1067.041667</td>\n",
       "    </tr>\n",
       "    <tr>\n",
       "      <th>1</th>\n",
       "      <td>002239cd57f19f22e557030dff363dfbd1344d8f7ac829...</td>\n",
       "      <td>215.041667</td>\n",
       "    </tr>\n",
       "    <tr>\n",
       "      <th>2</th>\n",
       "      <td>0028022e1ecbbf92f03a1edb9accb58e7c682e7cd89897...</td>\n",
       "      <td>519.000000</td>\n",
       "    </tr>\n",
       "    <tr>\n",
       "      <th>3</th>\n",
       "      <td>00433de93d9cb6b08584423a6b54306abacef89fbddffe...</td>\n",
       "      <td>202.041667</td>\n",
       "    </tr>\n",
       "    <tr>\n",
       "      <th>4</th>\n",
       "      <td>009623ea17e53324f8f5a3f45f5b21b9a885ea2765de82...</td>\n",
       "      <td>211.041667</td>\n",
       "    </tr>\n",
       "  </tbody>\n",
       "</table>\n",
       "</div>"
      ],
      "text/plain": [
       "                                          product_id  start_online_date\n",
       "0  0013f07ccdf212210c110e63f0de46e37669c17a4d855a...        1067.041667\n",
       "1  002239cd57f19f22e557030dff363dfbd1344d8f7ac829...         215.041667\n",
       "2  0028022e1ecbbf92f03a1edb9accb58e7c682e7cd89897...         519.000000\n",
       "3  00433de93d9cb6b08584423a6b54306abacef89fbddffe...         202.041667\n",
       "4  009623ea17e53324f8f5a3f45f5b21b9a885ea2765de82...         211.041667"
      ]
     },
     "execution_count": 13,
     "metadata": {},
     "output_type": "execute_result"
    }
   ],
   "source": [
    "attribute_df = attribute_df[[\"product_id\", \"start_online_date\"]]\n",
    "attribute_df.head()"
   ]
  },
  {
   "cell_type": "code",
   "execution_count": 14,
   "metadata": {},
   "outputs": [
    {
     "data": {
      "text/plain": [
       "(443150, 443150)"
      ]
     },
     "execution_count": 14,
     "metadata": {},
     "output_type": "execute_result"
    }
   ],
   "source": [
    "attribute_df.product_id.nunique(), attribute_df.shape[0]"
   ]
  },
  {
   "cell_type": "code",
   "execution_count": null,
   "metadata": {},
   "outputs": [],
   "source": []
  },
  {
   "cell_type": "code",
   "execution_count": 15,
   "metadata": {},
   "outputs": [
    {
     "data": {
      "text/plain": [
       "(602158, 17)"
      ]
     },
     "execution_count": 15,
     "metadata": {},
     "output_type": "execute_result"
    }
   ],
   "source": [
    "click_data = click_data.merge(attribute_df, on=[\"product_id\"], how=\"left\")\n",
    "click_data.shape"
   ]
  },
  {
   "cell_type": "code",
   "execution_count": null,
   "metadata": {},
   "outputs": [],
   "source": []
  },
  {
   "cell_type": "code",
   "execution_count": 16,
   "metadata": {},
   "outputs": [
    {
     "data": {
      "text/plain": [
       "414.747518851918"
      ]
     },
     "execution_count": 16,
     "metadata": {},
     "output_type": "execute_result"
    }
   ],
   "source": [
    "mean_click_start_online_date = click_data[\"start_online_date\"].mean()\n",
    "mean_click_start_online_date"
   ]
  },
  {
   "cell_type": "code",
   "execution_count": null,
   "metadata": {},
   "outputs": [],
   "source": []
  },
  {
   "cell_type": "code",
   "execution_count": 19,
   "metadata": {},
   "outputs": [],
   "source": [
    "dic = {\"mean_click_price\": float(mean_click_price), \"mean_click_start_online_date\": float(mean_click_start_online_date)}\n"
   ]
  },
  {
   "cell_type": "code",
   "execution_count": 20,
   "metadata": {},
   "outputs": [],
   "source": [
    "json.dump(dic, open(\"../preprocessed_data/average_click_values.json\", \"w\"))"
   ]
  },
  {
   "cell_type": "code",
   "execution_count": null,
   "metadata": {},
   "outputs": [],
   "source": []
  },
  {
   "cell_type": "code",
   "execution_count": null,
   "metadata": {},
   "outputs": [],
   "source": []
  },
  {
   "cell_type": "code",
   "execution_count": null,
   "metadata": {},
   "outputs": [],
   "source": []
  },
  {
   "cell_type": "code",
   "execution_count": null,
   "metadata": {},
   "outputs": [],
   "source": []
  }
 ],
 "metadata": {
  "kernelspec": {
   "display_name": "Python 3",
   "language": "python",
   "name": "python3"
  },
  "language_info": {
   "codemirror_mode": {
    "name": "ipython",
    "version": 3
   },
   "file_extension": ".py",
   "mimetype": "text/x-python",
   "name": "python",
   "nbconvert_exporter": "python",
   "pygments_lexer": "ipython3",
   "version": "3.7.8"
  }
 },
 "nbformat": 4,
 "nbformat_minor": 4
}
