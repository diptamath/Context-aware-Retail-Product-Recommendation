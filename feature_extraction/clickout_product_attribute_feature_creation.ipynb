{
 "cells": [
  {
   "cell_type": "code",
   "execution_count": null,
   "metadata": {},
   "outputs": [],
   "source": [
    "# ! pip install fastparquet --user\n",
    "# ! pip install ordered-set\n",
    "# ! pip install swifter --user"
   ]
  },
  {
   "cell_type": "code",
   "execution_count": null,
   "metadata": {},
   "outputs": [],
   "source": []
  },
  {
   "cell_type": "code",
   "execution_count": null,
   "metadata": {},
   "outputs": [],
   "source": [
    "import pandas as pd\n",
    "import swifter\n",
    "import numpy as np\n",
    "import gc\n",
    "from tqdm import tqdm\n",
    "from collections import defaultdict\n",
    "from ordered_set import OrderedSet\n",
    "from sklearn.decomposition import TruncatedSVD\n",
    "from sklearn.preprocessing import MinMaxScaler, StandardScaler\n"
   ]
  },
  {
   "cell_type": "code",
   "execution_count": null,
   "metadata": {},
   "outputs": [],
   "source": [
    "train = pd.read_parquet(\"../data_phase1/train.parquet\")\n",
    "val = pd.read_parquet(\"../data_phase1/validation.parquet\")\n"
   ]
  },
  {
   "cell_type": "code",
   "execution_count": null,
   "metadata": {},
   "outputs": [],
   "source": [
    "train = train.fillna(value={\"context_type\": \"NA\"})\n",
    "val = val.fillna(value={\"context_type\": \"NA\"})\n"
   ]
  },
  {
   "cell_type": "code",
   "execution_count": null,
   "metadata": {},
   "outputs": [],
   "source": [
    "train.describe(include='O')"
   ]
  },
  {
   "cell_type": "code",
   "execution_count": null,
   "metadata": {},
   "outputs": [],
   "source": [
    "val.describe(include='O')"
   ]
  },
  {
   "cell_type": "code",
   "execution_count": null,
   "metadata": {},
   "outputs": [],
   "source": [
    "def reduce_mem_usage(df):\n",
    "    start_mem = df.memory_usage().sum() / 1024 ** 2\n",
    "    print('Memory usage of dataframe is {:.2f} MB'.format(start_mem))\n",
    "\n",
    "    for col in df.columns:\n",
    "        col_type = df[col].dtype\n",
    "\n",
    "        if col_type != object:\n",
    "            c_min = df[col].min()\n",
    "            c_max = df[col].max()\n",
    "            if str(col_type)[:3] == 'int':\n",
    "                if c_min > np.iinfo(np.int8).min and c_max < np.iinfo(np.int8).max:\n",
    "                    df[col] = df[col].astype(np.int8)\n",
    "                elif c_min > np.iinfo(np.int16).min and c_max < np.iinfo(np.int16).max:\n",
    "                    df[col] = df[col].astype(np.int16)\n",
    "                elif c_min > np.iinfo(np.int32).min and c_max < np.iinfo(np.int32).max:\n",
    "                    df[col] = df[col].astype(np.int32)\n",
    "                elif c_min > np.iinfo(np.int64).min and c_max < np.iinfo(np.int64).max:\n",
    "                    df[col] = df[col].astype(np.int64)\n",
    "            else:\n",
    "                if c_min > np.finfo(np.float16).min and c_max < np.finfo(np.float16).max:\n",
    "                    df[col] = df[col].astype(np.float16)\n",
    "                elif c_min > np.finfo(np.float32).min and c_max < np.finfo(np.float32).max:\n",
    "                    df[col] = df[col].astype(np.float32)\n",
    "                else:\n",
    "                    df[col] = df[col].astype(np.float64)\n",
    "        else:\n",
    "            df[col] = df[col].astype('category')\n",
    "\n",
    "    end_mem = df.memory_usage().sum() / 1024 ** 2\n",
    "    print('Memory usage after optimization is: {:.2f} MB'.format(end_mem))\n",
    "    print('Decreased by {:.1f}%'.format(100 * (start_mem - end_mem) / start_mem))\n",
    "\n",
    "    return df\n"
   ]
  },
  {
   "cell_type": "code",
   "execution_count": null,
   "metadata": {},
   "outputs": [],
   "source": [
    "train = reduce_mem_usage(train)\n",
    "val = reduce_mem_usage(val)\n"
   ]
  },
  {
   "cell_type": "code",
   "execution_count": null,
   "metadata": {},
   "outputs": [],
   "source": [
    "gc.collect()"
   ]
  },
  {
   "cell_type": "code",
   "execution_count": null,
   "metadata": {},
   "outputs": [],
   "source": []
  },
  {
   "cell_type": "code",
   "execution_count": null,
   "metadata": {},
   "outputs": [],
   "source": [
    "train = train.sort_values(by='query_id').reset_index(drop=True)\n",
    "val = val.sort_values(by='query_id').reset_index(drop=True)\n"
   ]
  },
  {
   "cell_type": "code",
   "execution_count": null,
   "metadata": {},
   "outputs": [],
   "source": [
    "train.head(10)"
   ]
  },
  {
   "cell_type": "code",
   "execution_count": null,
   "metadata": {},
   "outputs": [],
   "source": [
    "train.isnull().sum()"
   ]
  },
  {
   "cell_type": "code",
   "execution_count": null,
   "metadata": {},
   "outputs": [],
   "source": []
  },
  {
   "cell_type": "code",
   "execution_count": null,
   "metadata": {},
   "outputs": [],
   "source": [
    "data = pd.concat([train[list(set(train.columns)-set(['is_click']))], val], axis=0)\n",
    "data = data.reset_index(drop=True)"
   ]
  },
  {
   "cell_type": "code",
   "execution_count": null,
   "metadata": {},
   "outputs": [],
   "source": [
    "all_products = data.product_id.apply(str).tolist()"
   ]
  },
  {
   "cell_type": "code",
   "execution_count": null,
   "metadata": {},
   "outputs": [],
   "source": [
    "unique_products = OrderedSet(all_products)\n"
   ]
  },
  {
   "cell_type": "code",
   "execution_count": null,
   "metadata": {},
   "outputs": [],
   "source": [
    "train_session_interactions = dict(train.groupby('session_id')['product_id'].apply(list))\n",
    "val_session_interactions = dict(val.groupby('session_id')['product_id'].apply(list))\n",
    "\n",
    "train_session_actions = dict(train.groupby('session_id')['is_click'].apply(list))\n",
    "# val_session_actions = dict(val.groupby('session_id')['is_click'].apply(list))\n"
   ]
  },
  {
   "cell_type": "code",
   "execution_count": null,
   "metadata": {},
   "outputs": [],
   "source": [
    "train['days_elapsed'] = (train['week'].astype(int)-1)*7 + train['week_day'].astype(int)\n",
    "val['days_elapsed'] = (val['week'].astype(int)-1)*7 + val['week_day'].astype(int)"
   ]
  },
  {
   "cell_type": "code",
   "execution_count": null,
   "metadata": {},
   "outputs": [],
   "source": [
    "val['days_elapsed'] = val['days_elapsed'] - train['days_elapsed'].min()\n",
    "train['days_elapsed'] = train['days_elapsed'] - train['days_elapsed'].min()\n"
   ]
  },
  {
   "cell_type": "code",
   "execution_count": null,
   "metadata": {},
   "outputs": [],
   "source": [
    "val['days_elapsed'] = val['days_elapsed'] - train['days_elapsed'].min()\n",
    "val.days_elapsed.unique()"
   ]
  },
  {
   "cell_type": "code",
   "execution_count": null,
   "metadata": {},
   "outputs": [],
   "source": []
  },
  {
   "cell_type": "code",
   "execution_count": null,
   "metadata": {},
   "outputs": [],
   "source": [
    "gc.collect()"
   ]
  },
  {
   "cell_type": "code",
   "execution_count": null,
   "metadata": {},
   "outputs": [],
   "source": [
    "cols = [\n",
    " 'query_id',\n",
    " 'user_id',\n",
    " 'session_id',\n",
    " 'product_id',\n",
    " 'user_tier',\n",
    " 'week',\n",
    " 'week_day',\n",
    " 'days_elapsed'\n",
    "]\n"
   ]
  },
  {
   "cell_type": "code",
   "execution_count": null,
   "metadata": {},
   "outputs": [],
   "source": [
    "cols.append('is_click')\n",
    "train = train[cols]"
   ]
  },
  {
   "cell_type": "code",
   "execution_count": null,
   "metadata": {},
   "outputs": [],
   "source": []
  },
  {
   "cell_type": "code",
   "execution_count": null,
   "metadata": {},
   "outputs": [],
   "source": [
    "attribute_data = pd.read_parquet(\"../data_phase1/attributes.parquet\")"
   ]
  },
  {
   "cell_type": "code",
   "execution_count": null,
   "metadata": {},
   "outputs": [],
   "source": [
    "train_attr_data = train.merge(attribute_data, on='product_id', how='left')\n"
   ]
  },
  {
   "cell_type": "code",
   "execution_count": null,
   "metadata": {},
   "outputs": [],
   "source": [
    "is_click = train_attr_data.is_click.values\n",
    "train_attr_data = train_attr_data.drop(['is_click'], 1)\n",
    "train_attr_data['is_click'] = is_click\n"
   ]
  },
  {
   "cell_type": "code",
   "execution_count": null,
   "metadata": {},
   "outputs": [],
   "source": [
    "train_attr_data.head(2)"
   ]
  },
  {
   "cell_type": "code",
   "execution_count": null,
   "metadata": {},
   "outputs": [],
   "source": [
    "weekly_product_start_online_date = train_attr_data.groupby(['product_id', 'week']).agg({'start_online_date': 'mean'}).reset_index()\n",
    "weekly_product_start_online_date[\"week\"] = weekly_product_start_online_date[\"week\"].astype(str)\n",
    "weekly_product_start_online_date = pd.pivot_table(weekly_product_start_online_date, values=['start_online_date'], index=['product_id'],\n",
    "                    columns=['week'], aggfunc=np.mean)\n",
    "weekly_product_start_online_date.columns = weekly_product_start_online_date.columns.to_series().str.join('_')\n",
    "weekly_product_start_online_date = weekly_product_start_online_date.reset_index()\n",
    "weekly_product_start_online_date = weekly_product_start_online_date.rename(columns={\n",
    "                                                             \"start_online_date_1\": \"start_online_date_mean_clicked_out_week_1\",\n",
    "                                                             \"start_online_date_2\": \"start_online_date_mean_clicked_out_week_2\",\n",
    "                                                             \"start_online_date_3\": \"start_online_date_mean_clicked_out_week_3\",\n",
    "                                                             \"start_online_date_4\": \"start_online_date_mean_clicked_out_week_4\",\n",
    "                                                             \"start_online_date_5\": \"start_online_date_mean_clicked_out_week_5\",\n",
    "                                                             \"start_online_date_6\": \"start_online_date_mean_clicked_out_week_6\",\n",
    "                                                             \"start_online_date_7\": \"start_online_date_mean_clicked_out_week_7\",\n",
    "                                                             \"start_online_date_8\": \"start_online_date_mean_clicked_out_week_8\",})\n",
    "weekly_product_start_online_date.head()\n"
   ]
  },
  {
   "cell_type": "code",
   "execution_count": null,
   "metadata": {},
   "outputs": [],
   "source": [
    "# weekly_product_start_online_date.to_csv(\"../preprocessed_data/clickout_features/weekly_mean_product_start_online_date_clicked_out.csv\", index=False)\n",
    "\n"
   ]
  },
  {
   "cell_type": "code",
   "execution_count": null,
   "metadata": {},
   "outputs": [],
   "source": [
    "weekly_max_product_start_online_date = train_attr_data.groupby(['product_id', 'week']).agg({'start_online_date': 'max'}).reset_index()\n",
    "weekly_max_product_start_online_date[\"week\"] = weekly_max_product_start_online_date[\"week\"].astype(str)\n",
    "weekly_max_product_start_online_date = pd.pivot_table(weekly_max_product_start_online_date, values=['start_online_date'], index=['product_id'],\n",
    "                    columns=['week'], aggfunc=np.mean)\n",
    "weekly_max_product_start_online_date.columns = weekly_max_product_start_online_date.columns.to_series().str.join('_')\n",
    "weekly_max_product_start_online_date = weekly_max_product_start_online_date.reset_index()\n",
    "weekly_max_product_start_online_date = weekly_max_product_start_online_date.rename(columns={\n",
    "                                                             \"start_online_date_1\": \"start_online_date_max_clicked_out_week_1\",\n",
    "                                                             \"start_online_date_2\": \"start_online_date_max_clicked_out_week_2\",\n",
    "                                                             \"start_online_date_3\": \"start_online_date_max_clicked_out_week_3\",\n",
    "                                                             \"start_online_date_4\": \"start_online_date_max_clicked_out_week_4\",\n",
    "                                                             \"start_online_date_5\": \"start_online_date_max_clicked_out_week_5\",\n",
    "                                                             \"start_online_date_6\": \"start_online_date_max_clicked_out_week_6\",\n",
    "                                                             \"start_online_date_7\": \"start_online_date_max_clicked_out_week_7\",\n",
    "                                                             \"start_online_date_8\": \"start_online_date_max_clicked_out_week_8\",})\n",
    "weekly_max_product_start_online_date.head()\n"
   ]
  },
  {
   "cell_type": "code",
   "execution_count": null,
   "metadata": {},
   "outputs": [],
   "source": [
    "# weekly_max_product_start_online_date.to_csv(\"../preprocessed_data/clickout_features/weekly_max_product_start_online_date_clicked_out.csv\", index=False)\n"
   ]
  },
  {
   "cell_type": "code",
   "execution_count": null,
   "metadata": {},
   "outputs": [],
   "source": [
    "weekly_min_product_start_online_date = train_attr_data.groupby(['product_id', 'week']).agg({'start_online_date': 'min'}).reset_index()\n",
    "weekly_min_product_start_online_date[\"week\"] = weekly_min_product_start_online_date[\"week\"].astype(str)\n",
    "weekly_min_product_start_online_date = pd.pivot_table(weekly_min_product_start_online_date, values=['start_online_date'], index=['product_id'],\n",
    "                    columns=['week'], aggfunc=np.mean)\n",
    "weekly_min_product_start_online_date.columns = weekly_min_product_start_online_date.columns.to_series().str.join('_')\n",
    "weekly_min_product_start_online_date = weekly_min_product_start_online_date.reset_index()\n",
    "weekly_min_product_start_online_date = weekly_min_product_start_online_date.rename(columns={\n",
    "                                                             \"start_online_date_1\": \"start_online_date_min_clicked_out_week_1\",\n",
    "                                                             \"start_online_date_2\": \"start_online_date_min_clicked_out_week_2\",\n",
    "                                                             \"start_online_date_3\": \"start_online_date_min_clicked_out_week_3\",\n",
    "                                                             \"start_online_date_4\": \"start_online_date_min_clicked_out_week_4\",\n",
    "                                                             \"start_online_date_5\": \"start_online_date_min_clicked_out_week_5\",\n",
    "                                                             \"start_online_date_6\": \"start_online_date_min_clicked_out_week_6\",\n",
    "                                                             \"start_online_date_7\": \"start_online_date_min_clicked_out_week_7\",\n",
    "                                                             \"start_online_date_8\": \"start_online_date_min_clicked_out_week_8\",})\n",
    "weekly_min_product_start_online_date.head()\n"
   ]
  },
  {
   "cell_type": "code",
   "execution_count": null,
   "metadata": {},
   "outputs": [],
   "source": [
    "# weekly_min_product_start_online_date.to_csv(\"../preprocessed_data/clickout_features/weekly_min_product_start_online_date_clicked_out.csv\", index=False)\n"
   ]
  },
  {
   "cell_type": "code",
   "execution_count": null,
   "metadata": {},
   "outputs": [],
   "source": []
  },
  {
   "cell_type": "code",
   "execution_count": null,
   "metadata": {},
   "outputs": [],
   "source": [
    "main_colour_wise_click_perc = train_attr_data.groupby([\"main_colour\"]).agg({\"is_click\": \"count\"}).reset_index()\n",
    "sum_clicks = main_colour_wise_click_perc.is_click.sum()\n",
    "main_colour_wise_click_perc[\"is_click\"] = 100.0 * (main_colour_wise_click_perc[\"is_click\"]/sum_clicks)\n",
    "main_colour_wise_click_perc = main_colour_wise_click_perc.rename(columns={\"is_click\": \"percentage_main_colour_click\"})\n",
    "main_colour_wise_click_perc.head()\n"
   ]
  },
  {
   "cell_type": "code",
   "execution_count": null,
   "metadata": {},
   "outputs": [],
   "source": [
    "# main_colour_wise_click_perc.to_csv(\"../preprocessed_data/clickout_features/main_colour_click_percentage.csv\", index=False)\n",
    "\n"
   ]
  },
  {
   "cell_type": "code",
   "execution_count": null,
   "metadata": {},
   "outputs": [],
   "source": []
  },
  {
   "cell_type": "code",
   "execution_count": null,
   "metadata": {},
   "outputs": [],
   "source": [
    "second_colour_wise_click_perc = train_attr_data.groupby([\"second_colour\"]).agg({\"is_click\": \"count\"}).reset_index()\n",
    "sum_clicks = second_colour_wise_click_perc.is_click.sum()\n",
    "second_colour_wise_click_perc[\"is_click\"] = 100.0 * (second_colour_wise_click_perc[\"is_click\"]/sum_clicks)\n",
    "second_colour_wise_click_perc = second_colour_wise_click_perc.rename(columns={\"is_click\": \"percentage_second_colour_click\"})\n",
    "second_colour_wise_click_perc.head()\n"
   ]
  },
  {
   "cell_type": "code",
   "execution_count": null,
   "metadata": {},
   "outputs": [],
   "source": [
    "# second_colour_wise_click_perc.to_csv(\"../preprocessed_data/clickout_features/second_colour_click_percentage.csv\", index=False)\n",
    "\n"
   ]
  },
  {
   "cell_type": "code",
   "execution_count": null,
   "metadata": {},
   "outputs": [],
   "source": [
    "category_id_l1_wise_click_perc = train_attr_data.groupby([\"category_id_l1\"]).agg({\"is_click\": \"count\"}).reset_index()\n",
    "sum_clicks = category_id_l1_wise_click_perc.is_click.sum()\n",
    "category_id_l1_wise_click_perc[\"is_click\"] = 100.0 * (category_id_l1_wise_click_perc[\"is_click\"]/sum_clicks)\n",
    "category_id_l1_wise_click_perc = category_id_l1_wise_click_perc.rename(columns={\"is_click\": \"percentage_category_id_l1_click\"})\n",
    "category_id_l1_wise_click_perc.head()\n"
   ]
  },
  {
   "cell_type": "code",
   "execution_count": null,
   "metadata": {},
   "outputs": [],
   "source": [
    "category_id_l1_wise_click_perc.to_csv(\"../preprocessed_data/clickout_features/category_id_l1_click_percentage.csv\", index=False)\n"
   ]
  },
  {
   "cell_type": "code",
   "execution_count": null,
   "metadata": {},
   "outputs": [],
   "source": [
    "category_id_l2_wise_click_perc = train_attr_data.groupby([\"category_id_l2\"]).agg({\"is_click\": \"count\"}).reset_index()\n",
    "sum_clicks = category_id_l2_wise_click_perc.is_click.sum()\n",
    "category_id_l2_wise_click_perc[\"is_click\"] = 100.0 * (category_id_l2_wise_click_perc[\"is_click\"]/sum_clicks)\n",
    "category_id_l2_wise_click_perc = category_id_l2_wise_click_perc.rename(columns={\"is_click\": \"percentage_category_id_l2_click\"})\n",
    "category_id_l2_wise_click_perc.head()\n"
   ]
  },
  {
   "cell_type": "code",
   "execution_count": null,
   "metadata": {},
   "outputs": [],
   "source": [
    "# category_id_l2_wise_click_perc.to_csv(\"../preprocessed_data/clickout_features/category_id_l2_click_percentage.csv\", index=False)\n"
   ]
  },
  {
   "cell_type": "code",
   "execution_count": null,
   "metadata": {},
   "outputs": [],
   "source": [
    "category_id_l3_wise_click_perc = train_attr_data.groupby([\"category_id_l3\"]).agg({\"is_click\": \"count\"}).reset_index()\n",
    "sum_clicks = category_id_l3_wise_click_perc.is_click.sum()\n",
    "category_id_l3_wise_click_perc[\"is_click\"] = 100.0 * (category_id_l3_wise_click_perc[\"is_click\"]/sum_clicks)\n",
    "category_id_l3_wise_click_perc = category_id_l3_wise_click_perc.rename(columns={\"is_click\": \"percentage_category_id_l3_click\"})\n",
    "category_id_l3_wise_click_perc.head()\n"
   ]
  },
  {
   "cell_type": "code",
   "execution_count": null,
   "metadata": {},
   "outputs": [],
   "source": [
    "# category_id_l3_wise_click_perc.to_csv(\"../preprocessed_data/clickout_features/category_id_l3_click_percentage.csv\", index=False)\n"
   ]
  },
  {
   "cell_type": "code",
   "execution_count": null,
   "metadata": {},
   "outputs": [],
   "source": [
    "brand_id_wise_click_perc = train_attr_data.groupby([\"brand_id\"]).agg({\"is_click\": \"count\"}).reset_index()\n",
    "sum_clicks = brand_id_wise_click_perc.is_click.sum()\n",
    "brand_id_wise_click_perc[\"is_click\"] = 100.0 * (brand_id_wise_click_perc[\"is_click\"]/sum_clicks)\n",
    "brand_id_wise_click_perc = brand_id_wise_click_perc.rename(columns={\"is_click\": \"percentage_brand_id_click\"})\n",
    "brand_id_wise_click_perc.head()\n"
   ]
  },
  {
   "cell_type": "code",
   "execution_count": null,
   "metadata": {},
   "outputs": [],
   "source": [
    "# brand_id_wise_click_perc.to_csv(\"../preprocessed_data/clickout_features/brand_id_click_percentage.csv\", index=False)\n"
   ]
  },
  {
   "cell_type": "code",
   "execution_count": null,
   "metadata": {},
   "outputs": [],
   "source": [
    "season_year_wise_click_perc = train_attr_data.groupby([\"season_year\"]).agg({\"is_click\": \"count\"}).reset_index()\n",
    "sum_clicks = season_year_wise_click_perc.is_click.sum()\n",
    "season_year_wise_click_perc[\"is_click\"] = 100.0 * (season_year_wise_click_perc[\"is_click\"]/sum_clicks)\n",
    "season_year_wise_click_perc = season_year_wise_click_perc.rename(columns={\"is_click\": \"percentage_season_year_click\"})\n",
    "season_year_wise_click_perc.head()\n"
   ]
  },
  {
   "cell_type": "code",
   "execution_count": null,
   "metadata": {},
   "outputs": [],
   "source": [
    "# season_year_wise_click_perc.to_csv(\"../preprocessed_data/clickout_features/season_year_click_percentage.csv\", index=False)\n"
   ]
  },
  {
   "cell_type": "code",
   "execution_count": null,
   "metadata": {},
   "outputs": [],
   "source": [
    "# last_product_day_elapsed = train.groupby(['product_id', 'days_elapsed']).last()"
   ]
  },
  {
   "cell_type": "code",
   "execution_count": null,
   "metadata": {},
   "outputs": [],
   "source": []
  },
  {
   "cell_type": "code",
   "execution_count": null,
   "metadata": {},
   "outputs": [],
   "source": [
    "train_attr_data.groupby([\"\"])"
   ]
  },
  {
   "cell_type": "code",
   "execution_count": null,
   "metadata": {},
   "outputs": [],
   "source": []
  },
  {
   "cell_type": "code",
   "execution_count": null,
   "metadata": {},
   "outputs": [],
   "source": []
  },
  {
   "cell_type": "code",
   "execution_count": null,
   "metadata": {},
   "outputs": [],
   "source": []
  },
  {
   "cell_type": "code",
   "execution_count": null,
   "metadata": {},
   "outputs": [],
   "source": []
  },
  {
   "cell_type": "code",
   "execution_count": null,
   "metadata": {},
   "outputs": [],
   "source": []
  }
 ],
 "metadata": {
  "kernelspec": {
   "display_name": "Python 3",
   "language": "python",
   "name": "python3"
  },
  "language_info": {
   "codemirror_mode": {
    "name": "ipython",
    "version": 3
   },
   "file_extension": ".py",
   "mimetype": "text/x-python",
   "name": "python",
   "nbconvert_exporter": "python",
   "pygments_lexer": "ipython3",
   "version": "3.7.8"
  }
 },
 "nbformat": 4,
 "nbformat_minor": 4
}
