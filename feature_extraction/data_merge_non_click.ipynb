{
 "cells": [
  {
   "cell_type": "code",
   "execution_count": null,
   "metadata": {},
   "outputs": [],
   "source": [
    "# ! pip install fastparquet"
   ]
  },
  {
   "cell_type": "code",
   "execution_count": null,
   "metadata": {},
   "outputs": [],
   "source": []
  },
  {
   "cell_type": "code",
   "execution_count": 2,
   "metadata": {},
   "outputs": [],
   "source": [
    "import pandas as pd\n",
    "import swifter\n",
    "import numpy as np\n",
    "from glob import glob\n",
    "import json\n",
    "import gc\n"
   ]
  },
  {
   "cell_type": "code",
   "execution_count": 3,
   "metadata": {},
   "outputs": [],
   "source": [
    "train = pd.read_parquet(\"../data_phase1/train.parquet\")\n",
    "val = pd.read_parquet(\"../data_phase1/validation.parquet\")\n"
   ]
  },
  {
   "cell_type": "code",
   "execution_count": 4,
   "metadata": {},
   "outputs": [],
   "source": [
    "attribute_df = pd.read_parquet(\"../data_phase1/attributes.parquet\")"
   ]
  },
  {
   "cell_type": "code",
   "execution_count": 5,
   "metadata": {},
   "outputs": [],
   "source": [
    "train = train.merge(attribute_df, on='product_id', how='left')\n",
    "val = val.merge(attribute_df, on='product_id', how='left')\n"
   ]
  },
  {
   "cell_type": "code",
   "execution_count": 6,
   "metadata": {},
   "outputs": [
    {
     "data": {
      "text/html": [
       "<div>\n",
       "<style scoped>\n",
       "    .dataframe tbody tr th:only-of-type {\n",
       "        vertical-align: middle;\n",
       "    }\n",
       "\n",
       "    .dataframe tbody tr th {\n",
       "        vertical-align: top;\n",
       "    }\n",
       "\n",
       "    .dataframe thead th {\n",
       "        text-align: right;\n",
       "    }\n",
       "</style>\n",
       "<table border=\"1\" class=\"dataframe\">\n",
       "  <thead>\n",
       "    <tr style=\"text-align: right;\">\n",
       "      <th></th>\n",
       "      <th>query_id</th>\n",
       "      <th>user_id</th>\n",
       "      <th>session_id</th>\n",
       "      <th>product_id</th>\n",
       "      <th>page_type</th>\n",
       "      <th>previous_page_type</th>\n",
       "      <th>device_category</th>\n",
       "      <th>device_platform</th>\n",
       "      <th>user_tier</th>\n",
       "      <th>user_country</th>\n",
       "      <th>...</th>\n",
       "      <th>season</th>\n",
       "      <th>collection</th>\n",
       "      <th>category_id_l1</th>\n",
       "      <th>category_id_l2</th>\n",
       "      <th>category_id_l3</th>\n",
       "      <th>brand_id</th>\n",
       "      <th>season_year</th>\n",
       "      <th>start_online_date</th>\n",
       "      <th>material_values</th>\n",
       "      <th>attribute_values</th>\n",
       "    </tr>\n",
       "  </thead>\n",
       "  <tbody>\n",
       "    <tr>\n",
       "      <th>0</th>\n",
       "      <td>92d4dd491a874a2cf92c8d311a44a42b597c64a5ede23d...</td>\n",
       "      <td>e5e4c71b1b9456dafece1338762d4ee3db698cf32c384c...</td>\n",
       "      <td>2740b0d77b4e6fafd75321f7d0794210afa8bd650955e7...</td>\n",
       "      <td>bf056e3841dd3a358c6aacb1f9e74e4c7c4adc62e33b45...</td>\n",
       "      <td>596618814963e496d74434df8b8fe3306892f2e4ce6aaa...</td>\n",
       "      <td>c9f34437ce0e536fefd11a34b9a411b541d2dabfec872a...</td>\n",
       "      <td>d6538f13ace825448d0af4fa5e58d2d08fa2d0850e5e14...</td>\n",
       "      <td>d6538f13ace825448d0af4fa5e58d2d08fa2d0850e5e14...</td>\n",
       "      <td>d74a5cebc23c56af60a5768c22d44b52f598629d4011fa...</td>\n",
       "      <td>fec032cb05435471f2305006f4a1ba994c9d2f4bcad8ef...</td>\n",
       "      <td>...</td>\n",
       "      <td>9db35d237f5873f0410d3ca18c07430270086eb1e7838d...</td>\n",
       "      <td>4c8006c7e513057a9138641abc2a9e65f4b014a8045259...</td>\n",
       "      <td>642878c18e40a1028b6610cd3396d4ee4fb6ad9623f5bb...</td>\n",
       "      <td>a37fdccd28723fba01a2f0a68d3bb1a3b847e550a7b0c2...</td>\n",
       "      <td>ca8c396e7422e324d4454a911e0319d07b85a4fb89b006...</td>\n",
       "      <td>206b88b91a241cc6ed5af856ce3ddda4dccf91ae2ec798...</td>\n",
       "      <td>dc1194ba428d5cd4c49f8a769a6577ac1042162da38bc1...</td>\n",
       "      <td>570.041667</td>\n",
       "      <td>f61ecea9b45f1590e57706b88207449bdd4cb703b917ad...</td>\n",
       "      <td>28d2b1e7b0970e2c58966c47b4c7ab7426e43a8689007e...</td>\n",
       "    </tr>\n",
       "    <tr>\n",
       "      <th>1</th>\n",
       "      <td>541a93bd95c3f4127a53e6b0d4b41db55ad9cb9e19d34a...</td>\n",
       "      <td>fca847f7eb5a5a21991421354b0f26afb4a517e540541f...</td>\n",
       "      <td>d5feab37634fd140e85b8f98dcb909a8779b4f0417c73a...</td>\n",
       "      <td>c6513ec49c8e04c265c907933799ff76f24c075c6308c4...</td>\n",
       "      <td>06a7f8e972f61aeb0e06335699518079a444e4450ff766...</td>\n",
       "      <td>d74a5cebc23c56af60a5768c22d44b52f598629d4011fa...</td>\n",
       "      <td>d6538f13ace825448d0af4fa5e58d2d08fa2d0850e5e14...</td>\n",
       "      <td>d6538f13ace825448d0af4fa5e58d2d08fa2d0850e5e14...</td>\n",
       "      <td>d179859aac8f7c1f88e1ee29b6655596873318c55127d3...</td>\n",
       "      <td>8c82855f15d05cd74fa59956434df17522fc68e4ce3900...</td>\n",
       "      <td>...</td>\n",
       "      <td>847a067597e39838f1f85b0774f44e68b4d6e64d3ec4dd...</td>\n",
       "      <td>4c8006c7e513057a9138641abc2a9e65f4b014a8045259...</td>\n",
       "      <td>f6bafdefb3c04b392adc1d139ea55a565c8829627bb7d3...</td>\n",
       "      <td>884c59e2814e352d318a8447c2f32a0370955af64838e3...</td>\n",
       "      <td>393b930ad3c40c6af1c14ce8572f39a3a2027ef70dd21e...</td>\n",
       "      <td>de60eee3c057eab83a9987275b3ecfb080026c3297b036...</td>\n",
       "      <td>ef7d8d2e02aec8c328dafde95486f7181c37d07be3d167...</td>\n",
       "      <td>208.041667</td>\n",
       "      <td>c4aebf95aa0044c5230c104faa9ef2b5ccfab836b764d4...</td>\n",
       "      <td>ca8c396e7422e324d4454a911e0319d07b85a4fb89b006...</td>\n",
       "    </tr>\n",
       "  </tbody>\n",
       "</table>\n",
       "<p>2 rows × 29 columns</p>\n",
       "</div>"
      ],
      "text/plain": [
       "                                            query_id  \\\n",
       "0  92d4dd491a874a2cf92c8d311a44a42b597c64a5ede23d...   \n",
       "1  541a93bd95c3f4127a53e6b0d4b41db55ad9cb9e19d34a...   \n",
       "\n",
       "                                             user_id  \\\n",
       "0  e5e4c71b1b9456dafece1338762d4ee3db698cf32c384c...   \n",
       "1  fca847f7eb5a5a21991421354b0f26afb4a517e540541f...   \n",
       "\n",
       "                                          session_id  \\\n",
       "0  2740b0d77b4e6fafd75321f7d0794210afa8bd650955e7...   \n",
       "1  d5feab37634fd140e85b8f98dcb909a8779b4f0417c73a...   \n",
       "\n",
       "                                          product_id  \\\n",
       "0  bf056e3841dd3a358c6aacb1f9e74e4c7c4adc62e33b45...   \n",
       "1  c6513ec49c8e04c265c907933799ff76f24c075c6308c4...   \n",
       "\n",
       "                                           page_type  \\\n",
       "0  596618814963e496d74434df8b8fe3306892f2e4ce6aaa...   \n",
       "1  06a7f8e972f61aeb0e06335699518079a444e4450ff766...   \n",
       "\n",
       "                                  previous_page_type  \\\n",
       "0  c9f34437ce0e536fefd11a34b9a411b541d2dabfec872a...   \n",
       "1  d74a5cebc23c56af60a5768c22d44b52f598629d4011fa...   \n",
       "\n",
       "                                     device_category  \\\n",
       "0  d6538f13ace825448d0af4fa5e58d2d08fa2d0850e5e14...   \n",
       "1  d6538f13ace825448d0af4fa5e58d2d08fa2d0850e5e14...   \n",
       "\n",
       "                                     device_platform  \\\n",
       "0  d6538f13ace825448d0af4fa5e58d2d08fa2d0850e5e14...   \n",
       "1  d6538f13ace825448d0af4fa5e58d2d08fa2d0850e5e14...   \n",
       "\n",
       "                                           user_tier  \\\n",
       "0  d74a5cebc23c56af60a5768c22d44b52f598629d4011fa...   \n",
       "1  d179859aac8f7c1f88e1ee29b6655596873318c55127d3...   \n",
       "\n",
       "                                        user_country  ...  \\\n",
       "0  fec032cb05435471f2305006f4a1ba994c9d2f4bcad8ef...  ...   \n",
       "1  8c82855f15d05cd74fa59956434df17522fc68e4ce3900...  ...   \n",
       "\n",
       "                                              season  \\\n",
       "0  9db35d237f5873f0410d3ca18c07430270086eb1e7838d...   \n",
       "1  847a067597e39838f1f85b0774f44e68b4d6e64d3ec4dd...   \n",
       "\n",
       "                                          collection  \\\n",
       "0  4c8006c7e513057a9138641abc2a9e65f4b014a8045259...   \n",
       "1  4c8006c7e513057a9138641abc2a9e65f4b014a8045259...   \n",
       "\n",
       "                                      category_id_l1  \\\n",
       "0  642878c18e40a1028b6610cd3396d4ee4fb6ad9623f5bb...   \n",
       "1  f6bafdefb3c04b392adc1d139ea55a565c8829627bb7d3...   \n",
       "\n",
       "                                      category_id_l2  \\\n",
       "0  a37fdccd28723fba01a2f0a68d3bb1a3b847e550a7b0c2...   \n",
       "1  884c59e2814e352d318a8447c2f32a0370955af64838e3...   \n",
       "\n",
       "                                      category_id_l3  \\\n",
       "0  ca8c396e7422e324d4454a911e0319d07b85a4fb89b006...   \n",
       "1  393b930ad3c40c6af1c14ce8572f39a3a2027ef70dd21e...   \n",
       "\n",
       "                                            brand_id  \\\n",
       "0  206b88b91a241cc6ed5af856ce3ddda4dccf91ae2ec798...   \n",
       "1  de60eee3c057eab83a9987275b3ecfb080026c3297b036...   \n",
       "\n",
       "                                         season_year start_online_date  \\\n",
       "0  dc1194ba428d5cd4c49f8a769a6577ac1042162da38bc1...        570.041667   \n",
       "1  ef7d8d2e02aec8c328dafde95486f7181c37d07be3d167...        208.041667   \n",
       "\n",
       "                                     material_values  \\\n",
       "0  f61ecea9b45f1590e57706b88207449bdd4cb703b917ad...   \n",
       "1  c4aebf95aa0044c5230c104faa9ef2b5ccfab836b764d4...   \n",
       "\n",
       "                                    attribute_values  \n",
       "0  28d2b1e7b0970e2c58966c47b4c7ab7426e43a8689007e...  \n",
       "1  ca8c396e7422e324d4454a911e0319d07b85a4fb89b006...  \n",
       "\n",
       "[2 rows x 29 columns]"
      ]
     },
     "execution_count": 6,
     "metadata": {},
     "output_type": "execute_result"
    }
   ],
   "source": [
    "train.head(2)"
   ]
  },
  {
   "cell_type": "code",
   "execution_count": null,
   "metadata": {},
   "outputs": [],
   "source": []
  },
  {
   "cell_type": "code",
   "execution_count": 7,
   "metadata": {},
   "outputs": [],
   "source": [
    "def reduce_mem_usage(df):\n",
    "    start_mem = df.memory_usage().sum() / 1024 ** 2\n",
    "    print('Memory usage of dataframe is {:.2f} MB'.format(start_mem))\n",
    "\n",
    "    for col in df.columns:\n",
    "        col_type = df[col].dtype\n",
    "\n",
    "        if col_type != object:\n",
    "            c_min = df[col].min()\n",
    "            c_max = df[col].max()\n",
    "            if str(col_type)[:3] == 'int':\n",
    "                if c_min > np.iinfo(np.int8).min and c_max < np.iinfo(np.int8).max:\n",
    "                    df[col] = df[col].astype(np.int8)\n",
    "                elif c_min > np.iinfo(np.int16).min and c_max < np.iinfo(np.int16).max:\n",
    "                    df[col] = df[col].astype(np.int16)\n",
    "                elif c_min > np.iinfo(np.int32).min and c_max < np.iinfo(np.int32).max:\n",
    "                    df[col] = df[col].astype(np.int32)\n",
    "                elif c_min > np.iinfo(np.int64).min and c_max < np.iinfo(np.int64).max:\n",
    "                    df[col] = df[col].astype(np.int64)\n",
    "            else:\n",
    "                if c_min > np.finfo(np.float16).min and c_max < np.finfo(np.float16).max:\n",
    "                    df[col] = df[col].astype(np.float16)\n",
    "                elif c_min > np.finfo(np.float32).min and c_max < np.finfo(np.float32).max:\n",
    "                    df[col] = df[col].astype(np.float32)\n",
    "                else:\n",
    "                    df[col] = df[col].astype(np.float64)\n",
    "        else:\n",
    "            df[col] = df[col].astype('category')\n",
    "\n",
    "    end_mem = df.memory_usage().sum() / 1024 ** 2\n",
    "    print('Memory usage after optimization is: {:.2f} MB'.format(end_mem))\n",
    "    print('Decreased by {:.1f}%'.format(100 * (start_mem - end_mem) / start_mem))\n",
    "\n",
    "    return df\n"
   ]
  },
  {
   "cell_type": "code",
   "execution_count": 8,
   "metadata": {},
   "outputs": [
    {
     "name": "stdout",
     "output_type": "stream",
     "text": [
      "Memory usage of dataframe is 802.92 MB\n",
      "Memory usage after optimization is: 274.46 MB\n",
      "Decreased by 65.8%\n",
      "Memory usage of dataframe is 152.04 MB\n",
      "Memory usage after optimization is: 67.06 MB\n",
      "Decreased by 55.9%\n"
     ]
    }
   ],
   "source": [
    "train = reduce_mem_usage(train)\n",
    "val = reduce_mem_usage(val)\n"
   ]
  },
  {
   "cell_type": "code",
   "execution_count": 9,
   "metadata": {},
   "outputs": [
    {
     "data": {
      "text/plain": [
       "22"
      ]
     },
     "execution_count": 9,
     "metadata": {},
     "output_type": "execute_result"
    }
   ],
   "source": [
    "gc.collect()"
   ]
  },
  {
   "cell_type": "code",
   "execution_count": 10,
   "metadata": {},
   "outputs": [
    {
     "data": {
      "text/plain": [
       "((3507990, 29), (687192, 28))"
      ]
     },
     "execution_count": 10,
     "metadata": {},
     "output_type": "execute_result"
    }
   ],
   "source": [
    "train.shape, val.shape"
   ]
  },
  {
   "cell_type": "code",
   "execution_count": null,
   "metadata": {},
   "outputs": [],
   "source": []
  },
  {
   "cell_type": "code",
   "execution_count": 11,
   "metadata": {},
   "outputs": [],
   "source": [
    "BASE_PATH = \"../preprocessed_data/\""
   ]
  },
  {
   "cell_type": "code",
   "execution_count": 12,
   "metadata": {},
   "outputs": [],
   "source": [
    "merge_paths = list(set(glob(BASE_PATH+\"*.csv\")) - \\\n",
    "                   set([BASE_PATH+\"session_wise_product_attribute_frequency_agg_features.csv\", \\\n",
    "                        BASE_PATH+\"product_click_features_by_session.csv\", \\\n",
    "                        BASE_PATH+\"product_material_attribute_one-hot.csv\"]))\n",
    "\n"
   ]
  },
  {
   "cell_type": "code",
   "execution_count": 13,
   "metadata": {},
   "outputs": [
    {
     "data": {
      "text/plain": [
       "['../preprocessed_data/brand_id_freq_data.csv',\n",
       " '../preprocessed_data/collection_popularity_df.csv',\n",
       " '../preprocessed_data/gender_frequency.csv',\n",
       " '../preprocessed_data/collection_freq_data.csv',\n",
       " '../preprocessed_data/main_colour_popularity_df.csv',\n",
       " '../preprocessed_data/unique_user_interactions_per_product.csv',\n",
       " '../preprocessed_data/query_wise_price_features.csv',\n",
       " '../preprocessed_data/season_year_freq_data.csv',\n",
       " '../preprocessed_data/season_frequency.csv',\n",
       " '../preprocessed_data/category_id_l1_popularity_df.csv',\n",
       " '../preprocessed_data/second_colour_popularity_df.csv',\n",
       " '../preprocessed_data/global_product_frequency.csv',\n",
       " '../preprocessed_data/query_wise_start_online_date_features.csv',\n",
       " '../preprocessed_data/user_time_features.csv',\n",
       " '../preprocessed_data/category_id_l2_popularity_df.csv',\n",
       " '../preprocessed_data/brand_popularity_df.csv',\n",
       " '../preprocessed_data/second_colour_frequency.csv',\n",
       " '../preprocessed_data/category_id_l1_freq_data.csv',\n",
       " '../preprocessed_data/user_tier_features.csv',\n",
       " '../preprocessed_data/category_id_l2_freq_data.csv',\n",
       " '../preprocessed_data/main_colour_frequency.csv']"
      ]
     },
     "execution_count": 13,
     "metadata": {},
     "output_type": "execute_result"
    }
   ],
   "source": [
    "merge_paths"
   ]
  },
  {
   "cell_type": "code",
   "execution_count": 14,
   "metadata": {},
   "outputs": [
    {
     "data": {
      "text/plain": [
       "21"
      ]
     },
     "execution_count": 14,
     "metadata": {},
     "output_type": "execute_result"
    }
   ],
   "source": [
    "len(merge_paths)"
   ]
  },
  {
   "cell_type": "code",
   "execution_count": 15,
   "metadata": {},
   "outputs": [],
   "source": [
    "done_files = []"
   ]
  },
  {
   "cell_type": "code",
   "execution_count": 16,
   "metadata": {},
   "outputs": [],
   "source": [
    "def merge_data(train_data, val_data, merge_data_path_list, merge_cols='', flag=0):\n",
    "    compulsory_cols = [\"query_id\", \"user_id\", \"session_id\", \"product_id\"]\n",
    "    for path in merge_data_path_list:\n",
    "        print(\"Merging file...\", path.split('/')[-1])\n",
    "        prev_cols_train = set(train_data.columns.tolist())\n",
    "        prev_cols_val = set(val_data.columns.tolist())\n",
    "        d = pd.read_csv(path)\n",
    "#         d = reduce_mem_usage(d)\n",
    "        if 'is_click' in d.columns.tolist():\n",
    "            d = d.drop('is_click', 1)\n",
    "        if flag==0:\n",
    "            merge_cols = [d.columns[0]]\n",
    "            \n",
    "        for col in d.columns.tolist():\n",
    "            if col in train.columns.tolist() and col not in compulsory_cols and col not in merge_cols:\n",
    "                d = d.drop(col, 1)\n",
    "            \n",
    "        train_data = train_data.merge(d, on=merge_cols, how='left')\n",
    "        val_data = val_data.merge(d, on=merge_cols, how='left')\n",
    "        print(\"Train: \", train_data.shape, \"Val: \", val_data.shape)\n",
    "        done_files.append(path)\n",
    "        print(\"Added columns train: \", set(train_data.columns.tolist()) - prev_cols_train)\n",
    "        print(\"Added columns val: \", set(val_data.columns.tolist()) - prev_cols_val)\n",
    "        del d\n",
    "        gc.collect()\n",
    "    \n",
    "    return train_data, val_data\n"
   ]
  },
  {
   "cell_type": "code",
   "execution_count": 17,
   "metadata": {},
   "outputs": [],
   "source": [
    "# d = pd.read_csv(\"../preprocessed_data/brand_id_freq_data.csv\")\n",
    "# d.columns[0]\n",
    "# d.head(2)"
   ]
  },
  {
   "cell_type": "code",
   "execution_count": 18,
   "metadata": {},
   "outputs": [
    {
     "name": "stdout",
     "output_type": "stream",
     "text": [
      "Merging file... brand_id_freq_data.csv\n",
      "Train:  (3507990, 30) Val:  (687192, 29)\n",
      "Added columns train:  {'brand_id_perc'}\n",
      "Added columns val:  {'brand_id_perc'}\n",
      "Merging file... collection_popularity_df.csv\n",
      "Train:  (3507990, 33) Val:  (687192, 32)\n",
      "Added columns train:  {'collection_click_count', 'collection_popularity_score', 'collection_impression_count'}\n",
      "Added columns val:  {'collection_click_count', 'collection_popularity_score', 'collection_impression_count'}\n",
      "Merging file... gender_frequency.csv\n",
      "Train:  (3507990, 34) Val:  (687192, 33)\n",
      "Added columns train:  {'gender_perc'}\n",
      "Added columns val:  {'gender_perc'}\n",
      "Merging file... collection_freq_data.csv\n",
      "Train:  (3507990, 35) Val:  (687192, 34)\n",
      "Added columns train:  {'collection_perc'}\n",
      "Added columns val:  {'collection_perc'}\n",
      "Merging file... main_colour_popularity_df.csv\n",
      "Train:  (3507990, 38) Val:  (687192, 37)\n",
      "Added columns train:  {'main_colour_impression_count', 'main_colour_click_count', 'main_colour_popularity_score'}\n",
      "Added columns val:  {'main_colour_impression_count', 'main_colour_click_count', 'main_colour_popularity_score'}\n",
      "Merging file... unique_user_interactions_per_product.csv\n",
      "Train:  (3507990, 39) Val:  (687192, 38)\n",
      "Added columns train:  {'#unique_users_interacted'}\n",
      "Added columns val:  {'#unique_users_interacted'}\n"
     ]
    }
   ],
   "source": [
    "train, val = merge_data(train, val, merge_paths[:6])\n"
   ]
  },
  {
   "cell_type": "code",
   "execution_count": 19,
   "metadata": {},
   "outputs": [
    {
     "data": {
      "text/plain": [
       "Index(['query_id', 'user_id', 'session_id', 'product_id', 'page_type',\n",
       "       'previous_page_type', 'device_category', 'device_platform', 'user_tier',\n",
       "       'user_country', 'context_type', 'context_value', 'product_price',\n",
       "       'week', 'week_day', 'is_click', 'gender', 'main_colour',\n",
       "       'second_colour', 'season', 'collection', 'category_id_l1',\n",
       "       'category_id_l2', 'category_id_l3', 'brand_id', 'season_year',\n",
       "       'start_online_date', 'material_values', 'attribute_values',\n",
       "       'brand_id_perc', 'collection_impression_count',\n",
       "       'collection_click_count', 'collection_popularity_score', 'gender_perc',\n",
       "       'collection_perc', 'main_colour_impression_count',\n",
       "       'main_colour_click_count', 'main_colour_popularity_score',\n",
       "       '#unique_users_interacted'],\n",
       "      dtype='object')"
      ]
     },
     "execution_count": 19,
     "metadata": {},
     "output_type": "execute_result"
    }
   ],
   "source": [
    "train.columns"
   ]
  },
  {
   "cell_type": "code",
   "execution_count": null,
   "metadata": {},
   "outputs": [],
   "source": []
  },
  {
   "cell_type": "code",
   "execution_count": 20,
   "metadata": {},
   "outputs": [
    {
     "data": {
      "text/plain": [
       "['brand_id_freq_data.csv',\n",
       " 'collection_popularity_df.csv',\n",
       " 'gender_frequency.csv',\n",
       " 'collection_freq_data.csv',\n",
       " 'main_colour_popularity_df.csv',\n",
       " 'unique_user_interactions_per_product.csv']"
      ]
     },
     "execution_count": 20,
     "metadata": {},
     "output_type": "execute_result"
    }
   ],
   "source": [
    "[each.split('/')[-1] for each in done_files]\n"
   ]
  },
  {
   "cell_type": "code",
   "execution_count": 21,
   "metadata": {},
   "outputs": [],
   "source": [
    "# done_files = [BASE_PATH+each for each in done_files]\n",
    "# done_files"
   ]
  },
  {
   "cell_type": "code",
   "execution_count": 22,
   "metadata": {},
   "outputs": [
    {
     "data": {
      "text/plain": [
       "((3507990, 39), (687192, 38))"
      ]
     },
     "execution_count": 22,
     "metadata": {},
     "output_type": "execute_result"
    }
   ],
   "source": [
    "train.shape, val.shape"
   ]
  },
  {
   "cell_type": "code",
   "execution_count": 23,
   "metadata": {},
   "outputs": [
    {
     "data": {
      "text/plain": [
       "(0.6117381323128939, 0.12694331631064415)"
      ]
     },
     "execution_count": 23,
     "metadata": {},
     "output_type": "execute_result"
    }
   ],
   "source": [
    "train.memory_usage().sum()/(1024*1024*1024), val.memory_usage().sum()/(1024*1024*1024)"
   ]
  },
  {
   "cell_type": "code",
   "execution_count": 24,
   "metadata": {},
   "outputs": [],
   "source": [
    "# train.to_csv(\"../preprocessed_data/merged_data/train_static_merged_v1.csv\", index=False, chunksize=10000)"
   ]
  },
  {
   "cell_type": "code",
   "execution_count": 25,
   "metadata": {},
   "outputs": [],
   "source": [
    "# val.to_csv(\"../preprocessed_data/merged_data/val_static_merged_v1.csv\", index=False)"
   ]
  },
  {
   "cell_type": "code",
   "execution_count": null,
   "metadata": {},
   "outputs": [],
   "source": []
  },
  {
   "cell_type": "code",
   "execution_count": 26,
   "metadata": {},
   "outputs": [
    {
     "data": {
      "text/plain": [
       "['../preprocessed_data/second_colour_popularity_df.csv',\n",
       " '../preprocessed_data/global_product_frequency.csv',\n",
       " '../preprocessed_data/query_wise_start_online_date_features.csv',\n",
       " '../preprocessed_data/main_colour_frequency.csv',\n",
       " '../preprocessed_data/user_time_features.csv',\n",
       " '../preprocessed_data/category_id_l2_popularity_df.csv',\n",
       " '../preprocessed_data/brand_popularity_df.csv',\n",
       " '../preprocessed_data/second_colour_frequency.csv',\n",
       " '../preprocessed_data/query_wise_price_features.csv',\n",
       " '../preprocessed_data/category_id_l1_freq_data.csv',\n",
       " '../preprocessed_data/season_year_freq_data.csv',\n",
       " '../preprocessed_data/user_tier_features.csv',\n",
       " '../preprocessed_data/category_id_l2_freq_data.csv',\n",
       " '../preprocessed_data/season_frequency.csv',\n",
       " '../preprocessed_data/category_id_l1_popularity_df.csv']"
      ]
     },
     "execution_count": 26,
     "metadata": {},
     "output_type": "execute_result"
    }
   ],
   "source": [
    "merge_paths = list(set(merge_paths) - set(done_files))\n",
    "merge_paths"
   ]
  },
  {
   "cell_type": "code",
   "execution_count": 27,
   "metadata": {},
   "outputs": [
    {
     "name": "stdout",
     "output_type": "stream",
     "text": [
      "Merging file... second_colour_popularity_df.csv\n",
      "Train:  (3507990, 42) Val:  (687192, 41)\n",
      "Added columns train:  {'second_colour_click_count', 'second_colour_popularity_score', 'second_colour_impression_count'}\n",
      "Added columns val:  {'second_colour_click_count', 'second_colour_popularity_score', 'second_colour_impression_count'}\n",
      "Merging file... global_product_frequency.csv\n",
      "Train:  (3507990, 45) Val:  (687192, 44)\n",
      "Added columns train:  {'global_product_percentage', '#impressions_for_product', 'global_product_frequency'}\n",
      "Added columns val:  {'global_product_percentage', '#impressions_for_product', 'global_product_frequency'}\n",
      "Merging file... query_wise_start_online_date_features.csv\n",
      "Train:  (3507990, 48) Val:  (687192, 47)\n",
      "Added columns train:  {'max_query_start_online_date', 'min_query_start_online_date', 'mean_query_start_online_date'}\n",
      "Added columns val:  {'max_query_start_online_date', 'min_query_start_online_date', 'mean_query_start_online_date'}\n",
      "Merging file... main_colour_frequency.csv\n",
      "Train:  (3507990, 49) Val:  (687192, 48)\n",
      "Added columns train:  {'main_colour_perc'}\n",
      "Added columns val:  {'main_colour_perc'}\n",
      "Merging file... user_time_features.csv\n",
      "Train:  (3507990, 51) Val:  (687192, 50)\n",
      "Added columns train:  {'single_session_user_flag', 'first_user_action_days_elapsed'}\n",
      "Added columns val:  {'single_session_user_flag', 'first_user_action_days_elapsed'}\n",
      "Merging file... category_id_l2_popularity_df.csv\n",
      "Train:  (3507990, 54) Val:  (687192, 53)\n",
      "Added columns train:  {'category_id_l2_popularity_score', 'category_id_l2_impression_count', 'category_id_l2_click_count'}\n",
      "Added columns val:  {'category_id_l2_popularity_score', 'category_id_l2_impression_count', 'category_id_l2_click_count'}\n",
      "Merging file... brand_popularity_df.csv\n",
      "Train:  (3507990, 57) Val:  (687192, 56)\n",
      "Added columns train:  {'brand_click_count', 'brand_impression_count', 'brand_popularity_score'}\n",
      "Added columns val:  {'brand_click_count', 'brand_impression_count', 'brand_popularity_score'}\n"
     ]
    }
   ],
   "source": [
    "train, val = merge_data(train, val, merge_paths[:7])\n"
   ]
  },
  {
   "cell_type": "code",
   "execution_count": null,
   "metadata": {},
   "outputs": [],
   "source": []
  },
  {
   "cell_type": "code",
   "execution_count": 28,
   "metadata": {},
   "outputs": [
    {
     "data": {
      "text/plain": [
       "['../preprocessed_data/second_colour_frequency.csv',\n",
       " '../preprocessed_data/query_wise_price_features.csv',\n",
       " '../preprocessed_data/category_id_l1_freq_data.csv',\n",
       " '../preprocessed_data/season_year_freq_data.csv',\n",
       " '../preprocessed_data/user_tier_features.csv',\n",
       " '../preprocessed_data/category_id_l2_freq_data.csv',\n",
       " '../preprocessed_data/season_frequency.csv',\n",
       " '../preprocessed_data/category_id_l1_popularity_df.csv']"
      ]
     },
     "execution_count": 28,
     "metadata": {},
     "output_type": "execute_result"
    }
   ],
   "source": [
    "merge_paths = list(set(merge_paths) - set(done_files))\n",
    "merge_paths"
   ]
  },
  {
   "cell_type": "code",
   "execution_count": 29,
   "metadata": {},
   "outputs": [
    {
     "name": "stdout",
     "output_type": "stream",
     "text": [
      "Merging file... second_colour_frequency.csv\n",
      "Train:  (3507990, 58) Val:  (687192, 57)\n",
      "Added columns train:  {'second_colour_perc'}\n",
      "Added columns val:  {'second_colour_perc'}\n",
      "Merging file... query_wise_price_features.csv\n",
      "Train:  (3507990, 61) Val:  (687192, 60)\n",
      "Added columns train:  {'mean_query_price', 'max_query_price', 'min_query_price'}\n",
      "Added columns val:  {'mean_query_price', 'max_query_price', 'min_query_price'}\n",
      "Merging file... category_id_l1_freq_data.csv\n",
      "Train:  (3507990, 62) Val:  (687192, 61)\n",
      "Added columns train:  {'category_id_l1_perc'}\n",
      "Added columns val:  {'category_id_l1_perc'}\n",
      "Merging file... season_year_freq_data.csv\n",
      "Train:  (3507990, 63) Val:  (687192, 62)\n",
      "Added columns train:  {'season_year_perc'}\n",
      "Added columns val:  {'season_year_perc'}\n",
      "Merging file... user_tier_features.csv\n",
      "Train:  (3507990, 75) Val:  (687192, 74)\n",
      "Added columns train:  {'user_tier_min_click_product_start_online_date', 'user_tier_mean_product_start_online_date', 'user_tier_mean_click_product_price', 'user_tier_max_product_price', 'user_tier_min_product_price', 'user_tier_max_product_start_online_date', 'user_tier_min_product_start_online_date', 'user_tier_max_click_product_price', 'user_tier_mean_click_product_start_online_date', 'user_tier_max_click_product_start_online_date', 'user_tier_mean_product_price', 'user_tier_min_click_product_price'}\n",
      "Added columns val:  {'user_tier_min_click_product_start_online_date', 'user_tier_mean_product_start_online_date', 'user_tier_mean_click_product_price', 'user_tier_max_product_price', 'user_tier_min_product_price', 'user_tier_max_product_start_online_date', 'user_tier_min_product_start_online_date', 'user_tier_max_click_product_price', 'user_tier_mean_click_product_start_online_date', 'user_tier_max_click_product_start_online_date', 'user_tier_mean_product_price', 'user_tier_min_click_product_price'}\n",
      "Merging file... category_id_l2_freq_data.csv\n",
      "Train:  (3507990, 76) Val:  (687192, 75)\n",
      "Added columns train:  {'category_id_l2_perc'}\n",
      "Added columns val:  {'category_id_l2_perc'}\n",
      "Merging file... season_frequency.csv\n",
      "Train:  (3507990, 77) Val:  (687192, 76)\n",
      "Added columns train:  {'season_perc'}\n",
      "Added columns val:  {'season_perc'}\n",
      "Merging file... category_id_l1_popularity_df.csv\n",
      "Train:  (3507990, 80) Val:  (687192, 79)\n",
      "Added columns train:  {'category_id_l1_popularity_score', 'category_id_l1_click_count', 'category_id_l1_impression_count'}\n",
      "Added columns val:  {'category_id_l1_popularity_score', 'category_id_l1_click_count', 'category_id_l1_impression_count'}\n"
     ]
    }
   ],
   "source": [
    "train, val = merge_data(train, val, merge_paths)\n"
   ]
  },
  {
   "cell_type": "code",
   "execution_count": null,
   "metadata": {},
   "outputs": [],
   "source": []
  },
  {
   "cell_type": "code",
   "execution_count": null,
   "metadata": {},
   "outputs": [],
   "source": []
  },
  {
   "cell_type": "code",
   "execution_count": 30,
   "metadata": {},
   "outputs": [
    {
     "name": "stdout",
     "output_type": "stream",
     "text": [
      "Merging file... session_wise_product_attribute_frequency_agg_features.csv\n",
      "Train:  (3507990, 93) Val:  (687192, 92)\n",
      "Added columns train:  {'mean_session_start_online_date', 'session_category_id_l2_frequency', 'main_colour_freq_in session', 'gender_freq_in session', 'session_start_online_date_mean', 'second_colour_freq_in session', 'session_category_id_l1_frequency', 'session_brand_id_frequency', 'session_start_online_date_max', 'session_collection_frequency', 'session_season_frequency', 'count_session_items', 'session_start_online_date_min'}\n",
      "Added columns val:  {'mean_session_start_online_date', 'session_category_id_l2_frequency', 'main_colour_freq_in session', 'gender_freq_in session', 'session_start_online_date_mean', 'second_colour_freq_in session', 'session_category_id_l1_frequency', 'session_brand_id_frequency', 'session_start_online_date_max', 'session_collection_frequency', 'session_season_frequency', 'count_session_items', 'session_start_online_date_min'}\n"
     ]
    }
   ],
   "source": [
    "train, val = merge_data(train, val, [BASE_PATH+\"session_wise_product_attribute_frequency_agg_features.csv\"], merge_cols=[\"session_id\", \"product_id\"], flag=1)\n",
    "\n"
   ]
  },
  {
   "cell_type": "code",
   "execution_count": 31,
   "metadata": {},
   "outputs": [
    {
     "name": "stdout",
     "output_type": "stream",
     "text": [
      "Merging file... product_click_features_by_session.csv\n",
      "Train:  (3507990, 99) Val:  (687192, 98)\n",
      "Added columns train:  {'session_impression_count', 'mean_session_product_price', 'product_session_frequency', 'min_session_product_price', 'max_session_product_price', 'product_session_click_proportion'}\n",
      "Added columns val:  {'session_impression_count', 'mean_session_product_price', 'product_session_frequency', 'min_session_product_price', 'max_session_product_price', 'product_session_click_proportion'}\n"
     ]
    }
   ],
   "source": [
    "train, val = merge_data(train, val, [BASE_PATH+\"product_click_features_by_session.csv\"], merge_cols=[\"session_id\", \"product_id\"], flag=1)\n"
   ]
  },
  {
   "cell_type": "code",
   "execution_count": 32,
   "metadata": {},
   "outputs": [
    {
     "data": {
      "text/plain": [
       "Index(['query_id', 'user_id', 'session_id', 'product_id', 'page_type',\n",
       "       'previous_page_type', 'device_category', 'device_platform', 'user_tier',\n",
       "       'user_country', 'context_type', 'context_value', 'product_price',\n",
       "       'week', 'week_day', 'is_click', 'gender', 'main_colour',\n",
       "       'second_colour', 'season', 'collection', 'category_id_l1',\n",
       "       'category_id_l2', 'category_id_l3', 'brand_id', 'season_year',\n",
       "       'start_online_date', 'material_values', 'attribute_values',\n",
       "       'brand_id_perc', 'collection_impression_count',\n",
       "       'collection_click_count', 'collection_popularity_score', 'gender_perc',\n",
       "       'collection_perc', 'main_colour_impression_count',\n",
       "       'main_colour_click_count', 'main_colour_popularity_score',\n",
       "       '#unique_users_interacted', 'second_colour_impression_count',\n",
       "       'second_colour_click_count', 'second_colour_popularity_score',\n",
       "       'global_product_frequency', 'global_product_percentage',\n",
       "       '#impressions_for_product', 'mean_query_start_online_date',\n",
       "       'max_query_start_online_date', 'min_query_start_online_date',\n",
       "       'main_colour_perc', 'first_user_action_days_elapsed',\n",
       "       'single_session_user_flag', 'category_id_l2_impression_count',\n",
       "       'category_id_l2_click_count', 'category_id_l2_popularity_score',\n",
       "       'brand_impression_count', 'brand_click_count', 'brand_popularity_score',\n",
       "       'second_colour_perc', 'mean_query_price', 'max_query_price',\n",
       "       'min_query_price', 'category_id_l1_perc', 'season_year_perc',\n",
       "       'user_tier_mean_product_price', 'user_tier_max_product_price',\n",
       "       'user_tier_min_product_price',\n",
       "       'user_tier_mean_product_start_online_date',\n",
       "       'user_tier_max_product_start_online_date',\n",
       "       'user_tier_min_product_start_online_date',\n",
       "       'user_tier_mean_click_product_price',\n",
       "       'user_tier_max_click_product_price',\n",
       "       'user_tier_min_click_product_price',\n",
       "       'user_tier_mean_click_product_start_online_date',\n",
       "       'user_tier_max_click_product_start_online_date',\n",
       "       'user_tier_min_click_product_start_online_date', 'category_id_l2_perc',\n",
       "       'season_perc', 'category_id_l1_impression_count',\n",
       "       'category_id_l1_click_count', 'category_id_l1_popularity_score',\n",
       "       'session_season_frequency', 'session_collection_frequency',\n",
       "       'session_category_id_l1_frequency', 'session_category_id_l2_frequency',\n",
       "       'session_brand_id_frequency', 'main_colour_freq_in session',\n",
       "       'second_colour_freq_in session', 'gender_freq_in session',\n",
       "       'session_start_online_date_mean', 'session_start_online_date_max',\n",
       "       'session_start_online_date_min', 'mean_session_start_online_date',\n",
       "       'count_session_items', 'product_session_frequency',\n",
       "       'product_session_click_proportion', 'session_impression_count',\n",
       "       'mean_session_product_price', 'max_session_product_price',\n",
       "       'min_session_product_price'],\n",
       "      dtype='object')"
      ]
     },
     "execution_count": 32,
     "metadata": {},
     "output_type": "execute_result"
    }
   ],
   "source": [
    "train.columns"
   ]
  },
  {
   "cell_type": "code",
   "execution_count": null,
   "metadata": {},
   "outputs": [],
   "source": []
  },
  {
   "cell_type": "code",
   "execution_count": null,
   "metadata": {},
   "outputs": [],
   "source": []
  },
  {
   "cell_type": "code",
   "execution_count": null,
   "metadata": {},
   "outputs": [],
   "source": []
  },
  {
   "cell_type": "code",
   "execution_count": 33,
   "metadata": {},
   "outputs": [],
   "source": [
    "train[\"diff_prod_price_from_user_tier_mean\"] = train[\"product_price\"] - train[\"user_tier_mean_product_price\"]\n",
    "train[\"diff_prod_start_online_date_from_user_tier_mean\"] = train[\"product_price\"] - train[\"user_tier_mean_product_start_online_date\"]\n",
    "\n",
    "val[\"diff_prod_price_from_user_tier_mean\"] = val[\"product_price\"] - val[\"user_tier_mean_product_price\"]\n",
    "val[\"diff_prod_start_online_date_from_user_tier_mean\"] = val[\"product_price\"] - val[\"user_tier_mean_product_start_online_date\"]\n"
   ]
  },
  {
   "cell_type": "code",
   "execution_count": 34,
   "metadata": {},
   "outputs": [],
   "source": [
    "train[\"diff_start_online_date_from_user_tier_clicked_mean\"] = train[\"start_online_date\"] - train[\"user_tier_mean_click_product_price\"]\n",
    "train[\"diff_start_online_date_from_user_tier_clicked_mean\"] = train[\"start_online_date\"] - train[\"user_tier_mean_click_product_start_online_date\"]\n",
    "\n",
    "val[\"diff_start_online_date_from_user_tier_clicked_mean\"] = val[\"start_online_date\"] - val[\"user_tier_mean_click_product_price\"]\n",
    "val[\"diff_start_online_date_from_user_tier_clicked_mean\"] = val[\"start_online_date\"] - val[\"user_tier_mean_click_product_start_online_date\"]\n"
   ]
  },
  {
   "cell_type": "code",
   "execution_count": null,
   "metadata": {},
   "outputs": [],
   "source": []
  },
  {
   "cell_type": "code",
   "execution_count": 35,
   "metadata": {},
   "outputs": [],
   "source": [
    "train[\"diff_prod_price_from_session_mean\"] = train[\"product_price\"] - train[\"mean_session_product_price\"]\n",
    "train[\"diff_prod_price_from_query_mean\"] = train[\"product_price\"] - train[\"max_query_price\"]\n",
    "\n",
    "val[\"diff_prod_price_from_session_mean\"] = val[\"product_price\"] - val[\"mean_session_product_price\"]\n",
    "val[\"diff_prod_price_from_query_mean\"] = val[\"product_price\"] - val[\"max_query_price\"]\n"
   ]
  },
  {
   "cell_type": "code",
   "execution_count": 36,
   "metadata": {},
   "outputs": [],
   "source": [
    "dic = json.load(open(\"../preprocessed_data/average_click_values.json\", \"r\"))\n"
   ]
  },
  {
   "cell_type": "code",
   "execution_count": 37,
   "metadata": {},
   "outputs": [
    {
     "data": {
      "text/plain": [
       "{'mean_click_price': 0.0017881393432617188,\n",
       " 'mean_click_start_online_date': 414.747518851918}"
      ]
     },
     "execution_count": 37,
     "metadata": {},
     "output_type": "execute_result"
    }
   ],
   "source": [
    "dic"
   ]
  },
  {
   "cell_type": "code",
   "execution_count": 38,
   "metadata": {},
   "outputs": [],
   "source": [
    "train[\"diff_prod_price_from_click_mean\"] = train[\"product_price\"] - dic[\"mean_click_price\"]\n",
    "val[\"diff_prod_price_from_click_mean\"] = val[\"product_price\"] - dic[\"mean_click_price\"]\n"
   ]
  },
  {
   "cell_type": "code",
   "execution_count": 39,
   "metadata": {},
   "outputs": [],
   "source": [
    "train[\"diff_start_online_date_from_session_mean\"] = train[\"start_online_date\"] - train[\"session_start_online_date_mean\"]\n",
    "train[\"diff_start_online_date_from_query_mean\"] = train[\"start_online_date\"] - train[\"mean_query_start_online_date\"]\n",
    "\n",
    "val[\"diff_start_online_date_from_session_mean\"] = val[\"start_online_date\"] - val[\"session_start_online_date_mean\"]\n",
    "val[\"diff_start_online_date_from_query_mean\"] = val[\"start_online_date\"] - val[\"mean_query_start_online_date\"]\n"
   ]
  },
  {
   "cell_type": "code",
   "execution_count": 40,
   "metadata": {},
   "outputs": [],
   "source": [
    "train[\"diff_start_online_date_from_click_mean\"] = train[\"start_online_date\"] - dic[\"mean_click_start_online_date\"]\n",
    "val[\"diff_start_online_date_from_click_mean\"] = val[\"start_online_date\"] - dic[\"mean_click_start_online_date\"]\n"
   ]
  },
  {
   "cell_type": "code",
   "execution_count": null,
   "metadata": {},
   "outputs": [],
   "source": []
  },
  {
   "cell_type": "code",
   "execution_count": 41,
   "metadata": {},
   "outputs": [
    {
     "data": {
      "text/plain": [
       "66"
      ]
     },
     "execution_count": 41,
     "metadata": {},
     "output_type": "execute_result"
    }
   ],
   "source": [
    "del attribute_df\n",
    "gc.collect()\n"
   ]
  },
  {
   "cell_type": "code",
   "execution_count": null,
   "metadata": {},
   "outputs": [],
   "source": []
  },
  {
   "cell_type": "code",
   "execution_count": 42,
   "metadata": {},
   "outputs": [],
   "source": [
    "train_rank_features = pd.read_csv(\"../preprocessed_data/rank_features/train_rank_features_and_query_prod_list.csv\")\n"
   ]
  },
  {
   "cell_type": "code",
   "execution_count": 43,
   "metadata": {},
   "outputs": [],
   "source": [
    "val_rank_features = pd.read_csv(\"../preprocessed_data/rank_features/val_rank_features_and_query_prod_list.csv\")\n"
   ]
  },
  {
   "cell_type": "code",
   "execution_count": 44,
   "metadata": {},
   "outputs": [],
   "source": [
    "train_rank_features = train_rank_features[['query_id', 'user_id', 'session_id', 'product_id', 'price_rank', \\\n",
    "                                           'start_online_date_rank', 'user_step']]\n",
    "val_rank_features = val_rank_features[['query_id', 'user_id', 'session_id', 'product_id', 'price_rank', \\\n",
    "                                           'start_online_date_rank', 'user_step']]\n"
   ]
  },
  {
   "cell_type": "code",
   "execution_count": 45,
   "metadata": {},
   "outputs": [],
   "source": [
    "train = train.merge(train_rank_features, on=[\"query_id\", \"user_id\", \"session_id\", \"product_id\"], how=\"left\")\n",
    "val = val.merge(val_rank_features, on=[\"query_id\", \"user_id\", \"session_id\", \"product_id\"], how=\"left\")\n"
   ]
  },
  {
   "cell_type": "code",
   "execution_count": 46,
   "metadata": {},
   "outputs": [
    {
     "data": {
      "text/plain": [
       "Index(['query_id', 'user_id', 'session_id', 'product_id', 'price_rank',\n",
       "       'start_online_date_rank', 'user_step'],\n",
       "      dtype='object')"
      ]
     },
     "execution_count": 46,
     "metadata": {},
     "output_type": "execute_result"
    }
   ],
   "source": [
    "train_rank_features.columns"
   ]
  },
  {
   "cell_type": "code",
   "execution_count": 47,
   "metadata": {},
   "outputs": [
    {
     "data": {
      "text/plain": [
       "((3507990, 111), (687192, 110))"
      ]
     },
     "execution_count": 47,
     "metadata": {},
     "output_type": "execute_result"
    }
   ],
   "source": [
    "train.shape, val.shape"
   ]
  },
  {
   "cell_type": "code",
   "execution_count": 48,
   "metadata": {},
   "outputs": [],
   "source": [
    "# train = train.drop([\"is_click_y\"], 1)\n",
    "# train = train.rename(columns = {\"is_click_x\": \"is_click\"})"
   ]
  },
  {
   "cell_type": "code",
   "execution_count": 49,
   "metadata": {},
   "outputs": [
    {
     "data": {
      "text/plain": [
       "{'is_click'}"
      ]
     },
     "execution_count": 49,
     "metadata": {},
     "output_type": "execute_result"
    }
   ],
   "source": [
    "set(train.columns)-set(val.columns)"
   ]
  },
  {
   "cell_type": "code",
   "execution_count": 50,
   "metadata": {},
   "outputs": [],
   "source": [
    "is_click = train.is_click.values\n",
    "train = train.drop([\"is_click\"], 1)\n",
    "train[\"is_click\"] = is_click\n"
   ]
  },
  {
   "cell_type": "code",
   "execution_count": 51,
   "metadata": {},
   "outputs": [
    {
     "data": {
      "text/plain": [
       "(2.587738648056984, 0.5074375830590725)"
      ]
     },
     "execution_count": 51,
     "metadata": {},
     "output_type": "execute_result"
    }
   ],
   "source": [
    "train.memory_usage().sum()/(1024*1024*1024), val.memory_usage().sum()/(1024*1024*1024)\n"
   ]
  },
  {
   "cell_type": "code",
   "execution_count": 52,
   "metadata": {},
   "outputs": [],
   "source": [
    "# train.to_csv(\"../preprocessed_data/merged_data/train.csv\", index=False, chunksize=10000)\n"
   ]
  },
  {
   "cell_type": "code",
   "execution_count": 53,
   "metadata": {},
   "outputs": [
    {
     "data": {
      "text/html": [
       "<div>\n",
       "<style scoped>\n",
       "    .dataframe tbody tr th:only-of-type {\n",
       "        vertical-align: middle;\n",
       "    }\n",
       "\n",
       "    .dataframe tbody tr th {\n",
       "        vertical-align: top;\n",
       "    }\n",
       "\n",
       "    .dataframe thead th {\n",
       "        text-align: right;\n",
       "    }\n",
       "</style>\n",
       "<table border=\"1\" class=\"dataframe\">\n",
       "  <thead>\n",
       "    <tr style=\"text-align: right;\">\n",
       "      <th></th>\n",
       "      <th>query_id</th>\n",
       "      <th>user_id</th>\n",
       "      <th>session_id</th>\n",
       "      <th>product_id</th>\n",
       "      <th>page_type</th>\n",
       "      <th>previous_page_type</th>\n",
       "      <th>device_category</th>\n",
       "      <th>device_platform</th>\n",
       "      <th>user_tier</th>\n",
       "      <th>user_country</th>\n",
       "      <th>...</th>\n",
       "      <th>diff_prod_price_from_session_mean</th>\n",
       "      <th>diff_prod_price_from_query_mean</th>\n",
       "      <th>diff_prod_price_from_click_mean</th>\n",
       "      <th>diff_start_online_date_from_session_mean</th>\n",
       "      <th>diff_start_online_date_from_query_mean</th>\n",
       "      <th>diff_start_online_date_from_click_mean</th>\n",
       "      <th>price_rank</th>\n",
       "      <th>start_online_date_rank</th>\n",
       "      <th>user_step</th>\n",
       "      <th>is_click</th>\n",
       "    </tr>\n",
       "  </thead>\n",
       "  <tbody>\n",
       "    <tr>\n",
       "      <th>0</th>\n",
       "      <td>92d4dd491a874a2cf92c8d311a44a42b597c64a5ede23d...</td>\n",
       "      <td>e5e4c71b1b9456dafece1338762d4ee3db698cf32c384c...</td>\n",
       "      <td>2740b0d77b4e6fafd75321f7d0794210afa8bd650955e7...</td>\n",
       "      <td>bf056e3841dd3a358c6aacb1f9e74e4c7c4adc62e33b45...</td>\n",
       "      <td>596618814963e496d74434df8b8fe3306892f2e4ce6aaa...</td>\n",
       "      <td>c9f34437ce0e536fefd11a34b9a411b541d2dabfec872a...</td>\n",
       "      <td>d6538f13ace825448d0af4fa5e58d2d08fa2d0850e5e14...</td>\n",
       "      <td>d6538f13ace825448d0af4fa5e58d2d08fa2d0850e5e14...</td>\n",
       "      <td>d74a5cebc23c56af60a5768c22d44b52f598629d4011fa...</td>\n",
       "      <td>fec032cb05435471f2305006f4a1ba994c9d2f4bcad8ef...</td>\n",
       "      <td>...</td>\n",
       "      <td>-0.002363</td>\n",
       "      <td>-1.989655e-02</td>\n",
       "      <td>-0.001525</td>\n",
       "      <td>73.171875</td>\n",
       "      <td>222.465278</td>\n",
       "      <td>155.25</td>\n",
       "      <td>3</td>\n",
       "      <td>5</td>\n",
       "      <td>2</td>\n",
       "      <td>0</td>\n",
       "    </tr>\n",
       "    <tr>\n",
       "      <th>1</th>\n",
       "      <td>541a93bd95c3f4127a53e6b0d4b41db55ad9cb9e19d34a...</td>\n",
       "      <td>fca847f7eb5a5a21991421354b0f26afb4a517e540541f...</td>\n",
       "      <td>d5feab37634fd140e85b8f98dcb909a8779b4f0417c73a...</td>\n",
       "      <td>c6513ec49c8e04c265c907933799ff76f24c075c6308c4...</td>\n",
       "      <td>06a7f8e972f61aeb0e06335699518079a444e4450ff766...</td>\n",
       "      <td>d74a5cebc23c56af60a5768c22d44b52f598629d4011fa...</td>\n",
       "      <td>d6538f13ace825448d0af4fa5e58d2d08fa2d0850e5e14...</td>\n",
       "      <td>d6538f13ace825448d0af4fa5e58d2d08fa2d0850e5e14...</td>\n",
       "      <td>d179859aac8f7c1f88e1ee29b6655596873318c55127d3...</td>\n",
       "      <td>8c82855f15d05cd74fa59956434df17522fc68e4ce3900...</td>\n",
       "      <td>...</td>\n",
       "      <td>-0.025978</td>\n",
       "      <td>-1.105777e-01</td>\n",
       "      <td>0.011177</td>\n",
       "      <td>-33.944444</td>\n",
       "      <td>-56.034722</td>\n",
       "      <td>-206.75</td>\n",
       "      <td>1</td>\n",
       "      <td>1</td>\n",
       "      <td>19</td>\n",
       "      <td>0</td>\n",
       "    </tr>\n",
       "    <tr>\n",
       "      <th>2</th>\n",
       "      <td>263ea1e38126fe0c7bfbff24a33b1a09f4dac4f8cd4bb4...</td>\n",
       "      <td>90ea15d8d96a9d3e7ab463d990e5f4565cac9477498d37...</td>\n",
       "      <td>18ae37a1a05faa7fd54818794a1a8e44073e00a56fa05f...</td>\n",
       "      <td>b4d5e28da10318aa7776b364528dc92f83ba45326018b5...</td>\n",
       "      <td>06a7f8e972f61aeb0e06335699518079a444e4450ff766...</td>\n",
       "      <td>c9f34437ce0e536fefd11a34b9a411b541d2dabfec872a...</td>\n",
       "      <td>bf2241c08d92d32a6782b4041a2c11ca58882ca88454b3...</td>\n",
       "      <td>702e4598004745673c0f6b50387bef9e1d5f503bd8c1c0...</td>\n",
       "      <td>d74a5cebc23c56af60a5768c22d44b52f598629d4011fa...</td>\n",
       "      <td>c94ddcb9053eae77ab9abec807ef2b0bb4efac14404d17...</td>\n",
       "      <td>...</td>\n",
       "      <td>-0.000527</td>\n",
       "      <td>-1.756769e-03</td>\n",
       "      <td>0.000945</td>\n",
       "      <td>-211.541667</td>\n",
       "      <td>-208.375000</td>\n",
       "      <td>134.25</td>\n",
       "      <td>2</td>\n",
       "      <td>1</td>\n",
       "      <td>1</td>\n",
       "      <td>0</td>\n",
       "    </tr>\n",
       "    <tr>\n",
       "      <th>3</th>\n",
       "      <td>3727580d84ce2fbe42ff8bc6f732331f65ea659864a04c...</td>\n",
       "      <td>8f88d89f2a71e2adf42f885fa6adedd09bf039843b535c...</td>\n",
       "      <td>10667a5a6047aa173d13997cdcd996cbdaf9b0149f9655...</td>\n",
       "      <td>5a36f600d3c01763c28e2dafc53119fba7bcc6a867ab8f...</td>\n",
       "      <td>06a7f8e972f61aeb0e06335699518079a444e4450ff766...</td>\n",
       "      <td>c9f34437ce0e536fefd11a34b9a411b541d2dabfec872a...</td>\n",
       "      <td>d6538f13ace825448d0af4fa5e58d2d08fa2d0850e5e14...</td>\n",
       "      <td>d6538f13ace825448d0af4fa5e58d2d08fa2d0850e5e14...</td>\n",
       "      <td>d74a5cebc23c56af60a5768c22d44b52f598629d4011fa...</td>\n",
       "      <td>8c82855f15d05cd74fa59956434df17522fc68e4ce3900...</td>\n",
       "      <td>...</td>\n",
       "      <td>-0.000231</td>\n",
       "      <td>-1.554665e-04</td>\n",
       "      <td>-0.001718</td>\n",
       "      <td>322.381944</td>\n",
       "      <td>324.125000</td>\n",
       "      <td>166.25</td>\n",
       "      <td>1</td>\n",
       "      <td>6</td>\n",
       "      <td>1</td>\n",
       "      <td>0</td>\n",
       "    </tr>\n",
       "    <tr>\n",
       "      <th>4</th>\n",
       "      <td>1fcf5d263785455311cecf2f864eaa2eeca4da488383d9...</td>\n",
       "      <td>6b21688d90dfd9677fa7979dfc6da5b963c0e1e3d68a38...</td>\n",
       "      <td>8b39f00bfc9d45ed6f64dd39a72548936a157f9f03e7f4...</td>\n",
       "      <td>314d20e9e9ec3e97d1867c8bf8c6feb0c23d918021e175...</td>\n",
       "      <td>06a7f8e972f61aeb0e06335699518079a444e4450ff766...</td>\n",
       "      <td>c9f34437ce0e536fefd11a34b9a411b541d2dabfec872a...</td>\n",
       "      <td>bf2241c08d92d32a6782b4041a2c11ca58882ca88454b3...</td>\n",
       "      <td>702e4598004745673c0f6b50387bef9e1d5f503bd8c1c0...</td>\n",
       "      <td>d74a5cebc23c56af60a5768c22d44b52f598629d4011fa...</td>\n",
       "      <td>ea2f413bd8fda0b91a814a68aa520044b204796991a343...</td>\n",
       "      <td>...</td>\n",
       "      <td>0.000021</td>\n",
       "      <td>3.408966e-09</td>\n",
       "      <td>-0.001698</td>\n",
       "      <td>147.326389</td>\n",
       "      <td>148.659722</td>\n",
       "      <td>209.25</td>\n",
       "      <td>4</td>\n",
       "      <td>4</td>\n",
       "      <td>1</td>\n",
       "      <td>0</td>\n",
       "    </tr>\n",
       "  </tbody>\n",
       "</table>\n",
       "<p>5 rows × 111 columns</p>\n",
       "</div>"
      ],
      "text/plain": [
       "                                            query_id  \\\n",
       "0  92d4dd491a874a2cf92c8d311a44a42b597c64a5ede23d...   \n",
       "1  541a93bd95c3f4127a53e6b0d4b41db55ad9cb9e19d34a...   \n",
       "2  263ea1e38126fe0c7bfbff24a33b1a09f4dac4f8cd4bb4...   \n",
       "3  3727580d84ce2fbe42ff8bc6f732331f65ea659864a04c...   \n",
       "4  1fcf5d263785455311cecf2f864eaa2eeca4da488383d9...   \n",
       "\n",
       "                                             user_id  \\\n",
       "0  e5e4c71b1b9456dafece1338762d4ee3db698cf32c384c...   \n",
       "1  fca847f7eb5a5a21991421354b0f26afb4a517e540541f...   \n",
       "2  90ea15d8d96a9d3e7ab463d990e5f4565cac9477498d37...   \n",
       "3  8f88d89f2a71e2adf42f885fa6adedd09bf039843b535c...   \n",
       "4  6b21688d90dfd9677fa7979dfc6da5b963c0e1e3d68a38...   \n",
       "\n",
       "                                          session_id  \\\n",
       "0  2740b0d77b4e6fafd75321f7d0794210afa8bd650955e7...   \n",
       "1  d5feab37634fd140e85b8f98dcb909a8779b4f0417c73a...   \n",
       "2  18ae37a1a05faa7fd54818794a1a8e44073e00a56fa05f...   \n",
       "3  10667a5a6047aa173d13997cdcd996cbdaf9b0149f9655...   \n",
       "4  8b39f00bfc9d45ed6f64dd39a72548936a157f9f03e7f4...   \n",
       "\n",
       "                                          product_id  \\\n",
       "0  bf056e3841dd3a358c6aacb1f9e74e4c7c4adc62e33b45...   \n",
       "1  c6513ec49c8e04c265c907933799ff76f24c075c6308c4...   \n",
       "2  b4d5e28da10318aa7776b364528dc92f83ba45326018b5...   \n",
       "3  5a36f600d3c01763c28e2dafc53119fba7bcc6a867ab8f...   \n",
       "4  314d20e9e9ec3e97d1867c8bf8c6feb0c23d918021e175...   \n",
       "\n",
       "                                           page_type  \\\n",
       "0  596618814963e496d74434df8b8fe3306892f2e4ce6aaa...   \n",
       "1  06a7f8e972f61aeb0e06335699518079a444e4450ff766...   \n",
       "2  06a7f8e972f61aeb0e06335699518079a444e4450ff766...   \n",
       "3  06a7f8e972f61aeb0e06335699518079a444e4450ff766...   \n",
       "4  06a7f8e972f61aeb0e06335699518079a444e4450ff766...   \n",
       "\n",
       "                                  previous_page_type  \\\n",
       "0  c9f34437ce0e536fefd11a34b9a411b541d2dabfec872a...   \n",
       "1  d74a5cebc23c56af60a5768c22d44b52f598629d4011fa...   \n",
       "2  c9f34437ce0e536fefd11a34b9a411b541d2dabfec872a...   \n",
       "3  c9f34437ce0e536fefd11a34b9a411b541d2dabfec872a...   \n",
       "4  c9f34437ce0e536fefd11a34b9a411b541d2dabfec872a...   \n",
       "\n",
       "                                     device_category  \\\n",
       "0  d6538f13ace825448d0af4fa5e58d2d08fa2d0850e5e14...   \n",
       "1  d6538f13ace825448d0af4fa5e58d2d08fa2d0850e5e14...   \n",
       "2  bf2241c08d92d32a6782b4041a2c11ca58882ca88454b3...   \n",
       "3  d6538f13ace825448d0af4fa5e58d2d08fa2d0850e5e14...   \n",
       "4  bf2241c08d92d32a6782b4041a2c11ca58882ca88454b3...   \n",
       "\n",
       "                                     device_platform  \\\n",
       "0  d6538f13ace825448d0af4fa5e58d2d08fa2d0850e5e14...   \n",
       "1  d6538f13ace825448d0af4fa5e58d2d08fa2d0850e5e14...   \n",
       "2  702e4598004745673c0f6b50387bef9e1d5f503bd8c1c0...   \n",
       "3  d6538f13ace825448d0af4fa5e58d2d08fa2d0850e5e14...   \n",
       "4  702e4598004745673c0f6b50387bef9e1d5f503bd8c1c0...   \n",
       "\n",
       "                                           user_tier  \\\n",
       "0  d74a5cebc23c56af60a5768c22d44b52f598629d4011fa...   \n",
       "1  d179859aac8f7c1f88e1ee29b6655596873318c55127d3...   \n",
       "2  d74a5cebc23c56af60a5768c22d44b52f598629d4011fa...   \n",
       "3  d74a5cebc23c56af60a5768c22d44b52f598629d4011fa...   \n",
       "4  d74a5cebc23c56af60a5768c22d44b52f598629d4011fa...   \n",
       "\n",
       "                                        user_country  ...  \\\n",
       "0  fec032cb05435471f2305006f4a1ba994c9d2f4bcad8ef...  ...   \n",
       "1  8c82855f15d05cd74fa59956434df17522fc68e4ce3900...  ...   \n",
       "2  c94ddcb9053eae77ab9abec807ef2b0bb4efac14404d17...  ...   \n",
       "3  8c82855f15d05cd74fa59956434df17522fc68e4ce3900...  ...   \n",
       "4  ea2f413bd8fda0b91a814a68aa520044b204796991a343...  ...   \n",
       "\n",
       "  diff_prod_price_from_session_mean diff_prod_price_from_query_mean  \\\n",
       "0                         -0.002363                   -1.989655e-02   \n",
       "1                         -0.025978                   -1.105777e-01   \n",
       "2                         -0.000527                   -1.756769e-03   \n",
       "3                         -0.000231                   -1.554665e-04   \n",
       "4                          0.000021                    3.408966e-09   \n",
       "\n",
       "   diff_prod_price_from_click_mean  diff_start_online_date_from_session_mean  \\\n",
       "0                        -0.001525                                 73.171875   \n",
       "1                         0.011177                                -33.944444   \n",
       "2                         0.000945                               -211.541667   \n",
       "3                        -0.001718                                322.381944   \n",
       "4                        -0.001698                                147.326389   \n",
       "\n",
       "   diff_start_online_date_from_query_mean  \\\n",
       "0                              222.465278   \n",
       "1                              -56.034722   \n",
       "2                             -208.375000   \n",
       "3                              324.125000   \n",
       "4                              148.659722   \n",
       "\n",
       "  diff_start_online_date_from_click_mean price_rank start_online_date_rank  \\\n",
       "0                                 155.25          3                      5   \n",
       "1                                -206.75          1                      1   \n",
       "2                                 134.25          2                      1   \n",
       "3                                 166.25          1                      6   \n",
       "4                                 209.25          4                      4   \n",
       "\n",
       "  user_step is_click  \n",
       "0         2        0  \n",
       "1        19        0  \n",
       "2         1        0  \n",
       "3         1        0  \n",
       "4         1        0  \n",
       "\n",
       "[5 rows x 111 columns]"
      ]
     },
     "execution_count": 53,
     "metadata": {},
     "output_type": "execute_result"
    }
   ],
   "source": [
    "train.head()"
   ]
  },
  {
   "cell_type": "code",
   "execution_count": 54,
   "metadata": {},
   "outputs": [
    {
     "data": {
      "text/html": [
       "<div>\n",
       "<style scoped>\n",
       "    .dataframe tbody tr th:only-of-type {\n",
       "        vertical-align: middle;\n",
       "    }\n",
       "\n",
       "    .dataframe tbody tr th {\n",
       "        vertical-align: top;\n",
       "    }\n",
       "\n",
       "    .dataframe thead th {\n",
       "        text-align: right;\n",
       "    }\n",
       "</style>\n",
       "<table border=\"1\" class=\"dataframe\">\n",
       "  <thead>\n",
       "    <tr style=\"text-align: right;\">\n",
       "      <th></th>\n",
       "      <th>query_id</th>\n",
       "      <th>user_id</th>\n",
       "      <th>session_id</th>\n",
       "      <th>product_id</th>\n",
       "      <th>page_type</th>\n",
       "      <th>previous_page_type</th>\n",
       "      <th>device_category</th>\n",
       "      <th>device_platform</th>\n",
       "      <th>user_tier</th>\n",
       "      <th>user_country</th>\n",
       "      <th>...</th>\n",
       "      <th>diff_start_online_date_from_user_tier_clicked_mean</th>\n",
       "      <th>diff_prod_price_from_session_mean</th>\n",
       "      <th>diff_prod_price_from_query_mean</th>\n",
       "      <th>diff_prod_price_from_click_mean</th>\n",
       "      <th>diff_start_online_date_from_session_mean</th>\n",
       "      <th>diff_start_online_date_from_query_mean</th>\n",
       "      <th>diff_start_online_date_from_click_mean</th>\n",
       "      <th>price_rank</th>\n",
       "      <th>start_online_date_rank</th>\n",
       "      <th>user_step</th>\n",
       "    </tr>\n",
       "  </thead>\n",
       "  <tbody>\n",
       "    <tr>\n",
       "      <th>0</th>\n",
       "      <td>45dbde6284f13d59b04c5d2a5ab2513c896ba8f7a7dde0...</td>\n",
       "      <td>4d66a7c430e1f1f7da454f4e8c4bf3e7cf2435741329c0...</td>\n",
       "      <td>b677570c68f211d9543e96fe46750b66ebdfaa0fb2df0e...</td>\n",
       "      <td>d52833e4925f40de987bb732847a8dbc07c2ba1e33711a...</td>\n",
       "      <td>06a7f8e972f61aeb0e06335699518079a444e4450ff766...</td>\n",
       "      <td>c9f34437ce0e536fefd11a34b9a411b541d2dabfec872a...</td>\n",
       "      <td>bf2241c08d92d32a6782b4041a2c11ca58882ca88454b3...</td>\n",
       "      <td>702e4598004745673c0f6b50387bef9e1d5f503bd8c1c0...</td>\n",
       "      <td>d74a5cebc23c56af60a5768c22d44b52f598629d4011fa...</td>\n",
       "      <td>95d5a1bd42a07143383299c081524278a16ef5ce55507c...</td>\n",
       "      <td>...</td>\n",
       "      <td>-150.511957</td>\n",
       "      <td>-0.000770</td>\n",
       "      <td>-1.390766e-03</td>\n",
       "      <td>-0.001335</td>\n",
       "      <td>-163.994444</td>\n",
       "      <td>-265.854167</td>\n",
       "      <td>-138.75</td>\n",
       "      <td>1</td>\n",
       "      <td>1</td>\n",
       "      <td>1</td>\n",
       "    </tr>\n",
       "    <tr>\n",
       "      <th>1</th>\n",
       "      <td>6728f8b02604af603d65faa0a2a4e36307f2498c4bdd88...</td>\n",
       "      <td>9ff86157cc29dd17330d2e714318770884adf936794c66...</td>\n",
       "      <td>d1f1a8e13d81de690a968db95dd1960482143f59e6c69b...</td>\n",
       "      <td>ca58ed0a66cb8990221552d0d93de82713641b66465a86...</td>\n",
       "      <td>06a7f8e972f61aeb0e06335699518079a444e4450ff766...</td>\n",
       "      <td>c9f34437ce0e536fefd11a34b9a411b541d2dabfec872a...</td>\n",
       "      <td>bf2241c08d92d32a6782b4041a2c11ca58882ca88454b3...</td>\n",
       "      <td>702e4598004745673c0f6b50387bef9e1d5f503bd8c1c0...</td>\n",
       "      <td>d74a5cebc23c56af60a5768c22d44b52f598629d4011fa...</td>\n",
       "      <td>c45f0825291fd1a087ef31abbcf9fd0ef10c915edf3041...</td>\n",
       "      <td>...</td>\n",
       "      <td>-12.511957</td>\n",
       "      <td>0.311558</td>\n",
       "      <td>-2.637422e-01</td>\n",
       "      <td>0.612305</td>\n",
       "      <td>-33.833333</td>\n",
       "      <td>-33.833333</td>\n",
       "      <td>-0.75</td>\n",
       "      <td>5</td>\n",
       "      <td>2</td>\n",
       "      <td>1</td>\n",
       "    </tr>\n",
       "    <tr>\n",
       "      <th>2</th>\n",
       "      <td>9d1d782fab18c98c8a8d4dab9cbc0cb3f786b5d5e5fd24...</td>\n",
       "      <td>b67c2b47e18777596747b94d0ae3e4a9f023a406fa5b5e...</td>\n",
       "      <td>d572b385d62d7eaaa4872e07ed2771b107d4db0b547212...</td>\n",
       "      <td>6374ef1b29e3046f9ae1607cd62cde1eb6305d4d9b1de5...</td>\n",
       "      <td>06a7f8e972f61aeb0e06335699518079a444e4450ff766...</td>\n",
       "      <td>14fc80e2d6821260d291ff47ce6d8d7534d4cb5aa4ab0d...</td>\n",
       "      <td>d6538f13ace825448d0af4fa5e58d2d08fa2d0850e5e14...</td>\n",
       "      <td>d6538f13ace825448d0af4fa5e58d2d08fa2d0850e5e14...</td>\n",
       "      <td>d74a5cebc23c56af60a5768c22d44b52f598629d4011fa...</td>\n",
       "      <td>58f6d97120664752ed0851301aa78457fe882f67453c58...</td>\n",
       "      <td>...</td>\n",
       "      <td>-258.511957</td>\n",
       "      <td>0.000271</td>\n",
       "      <td>-2.313843e-07</td>\n",
       "      <td>-0.000589</td>\n",
       "      <td>-223.534722</td>\n",
       "      <td>-223.534722</td>\n",
       "      <td>-246.75</td>\n",
       "      <td>6</td>\n",
       "      <td>1</td>\n",
       "      <td>1</td>\n",
       "    </tr>\n",
       "    <tr>\n",
       "      <th>3</th>\n",
       "      <td>f23d6751b37c235047a64a20ffe732483f487743dc8812...</td>\n",
       "      <td>8e28240e0b0c5629959d76727906afa17ea5d89821cbac...</td>\n",
       "      <td>c5df0c490099d1e4a20173ecbb67880998bc4faf8210a9...</td>\n",
       "      <td>e74667d17676e39561716943bc7cf8ba8a94ce96a0dc41...</td>\n",
       "      <td>06a7f8e972f61aeb0e06335699518079a444e4450ff766...</td>\n",
       "      <td>c9f34437ce0e536fefd11a34b9a411b541d2dabfec872a...</td>\n",
       "      <td>bf2241c08d92d32a6782b4041a2c11ca58882ca88454b3...</td>\n",
       "      <td>702e4598004745673c0f6b50387bef9e1d5f503bd8c1c0...</td>\n",
       "      <td>d74a5cebc23c56af60a5768c22d44b52f598629d4011fa...</td>\n",
       "      <td>f319f71fd9b14532cf715e601fe3b5c2473b58d4302e88...</td>\n",
       "      <td>...</td>\n",
       "      <td>-259.511957</td>\n",
       "      <td>0.000029</td>\n",
       "      <td>-6.575394e-06</td>\n",
       "      <td>-0.001369</td>\n",
       "      <td>-25.699074</td>\n",
       "      <td>-32.027778</td>\n",
       "      <td>-247.75</td>\n",
       "      <td>5</td>\n",
       "      <td>2</td>\n",
       "      <td>1</td>\n",
       "    </tr>\n",
       "    <tr>\n",
       "      <th>4</th>\n",
       "      <td>fe162740ab90f69597b14253e6f0fc6fb87ad8e2146cd8...</td>\n",
       "      <td>2173a7fa04d32abcb18cf8652e427f13a21156f7ff0bf5...</td>\n",
       "      <td>1e5f3aaf57b4863421d5019fe834f5e6979876f3d44e43...</td>\n",
       "      <td>a85298cf45012b8bfe8e5ec39108361e6083cad362dff3...</td>\n",
       "      <td>06a7f8e972f61aeb0e06335699518079a444e4450ff766...</td>\n",
       "      <td>c9f34437ce0e536fefd11a34b9a411b541d2dabfec872a...</td>\n",
       "      <td>d6538f13ace825448d0af4fa5e58d2d08fa2d0850e5e14...</td>\n",
       "      <td>d6538f13ace825448d0af4fa5e58d2d08fa2d0850e5e14...</td>\n",
       "      <td>d74a5cebc23c56af60a5768c22d44b52f598629d4011fa...</td>\n",
       "      <td>ea2f413bd8fda0b91a814a68aa520044b204796991a343...</td>\n",
       "      <td>...</td>\n",
       "      <td>-221.511957</td>\n",
       "      <td>0.000012</td>\n",
       "      <td>-4.198443e-05</td>\n",
       "      <td>-0.001639</td>\n",
       "      <td>-153.699074</td>\n",
       "      <td>-177.868056</td>\n",
       "      <td>-209.75</td>\n",
       "      <td>5</td>\n",
       "      <td>2</td>\n",
       "      <td>1</td>\n",
       "    </tr>\n",
       "  </tbody>\n",
       "</table>\n",
       "<p>5 rows × 110 columns</p>\n",
       "</div>"
      ],
      "text/plain": [
       "                                            query_id  \\\n",
       "0  45dbde6284f13d59b04c5d2a5ab2513c896ba8f7a7dde0...   \n",
       "1  6728f8b02604af603d65faa0a2a4e36307f2498c4bdd88...   \n",
       "2  9d1d782fab18c98c8a8d4dab9cbc0cb3f786b5d5e5fd24...   \n",
       "3  f23d6751b37c235047a64a20ffe732483f487743dc8812...   \n",
       "4  fe162740ab90f69597b14253e6f0fc6fb87ad8e2146cd8...   \n",
       "\n",
       "                                             user_id  \\\n",
       "0  4d66a7c430e1f1f7da454f4e8c4bf3e7cf2435741329c0...   \n",
       "1  9ff86157cc29dd17330d2e714318770884adf936794c66...   \n",
       "2  b67c2b47e18777596747b94d0ae3e4a9f023a406fa5b5e...   \n",
       "3  8e28240e0b0c5629959d76727906afa17ea5d89821cbac...   \n",
       "4  2173a7fa04d32abcb18cf8652e427f13a21156f7ff0bf5...   \n",
       "\n",
       "                                          session_id  \\\n",
       "0  b677570c68f211d9543e96fe46750b66ebdfaa0fb2df0e...   \n",
       "1  d1f1a8e13d81de690a968db95dd1960482143f59e6c69b...   \n",
       "2  d572b385d62d7eaaa4872e07ed2771b107d4db0b547212...   \n",
       "3  c5df0c490099d1e4a20173ecbb67880998bc4faf8210a9...   \n",
       "4  1e5f3aaf57b4863421d5019fe834f5e6979876f3d44e43...   \n",
       "\n",
       "                                          product_id  \\\n",
       "0  d52833e4925f40de987bb732847a8dbc07c2ba1e33711a...   \n",
       "1  ca58ed0a66cb8990221552d0d93de82713641b66465a86...   \n",
       "2  6374ef1b29e3046f9ae1607cd62cde1eb6305d4d9b1de5...   \n",
       "3  e74667d17676e39561716943bc7cf8ba8a94ce96a0dc41...   \n",
       "4  a85298cf45012b8bfe8e5ec39108361e6083cad362dff3...   \n",
       "\n",
       "                                           page_type  \\\n",
       "0  06a7f8e972f61aeb0e06335699518079a444e4450ff766...   \n",
       "1  06a7f8e972f61aeb0e06335699518079a444e4450ff766...   \n",
       "2  06a7f8e972f61aeb0e06335699518079a444e4450ff766...   \n",
       "3  06a7f8e972f61aeb0e06335699518079a444e4450ff766...   \n",
       "4  06a7f8e972f61aeb0e06335699518079a444e4450ff766...   \n",
       "\n",
       "                                  previous_page_type  \\\n",
       "0  c9f34437ce0e536fefd11a34b9a411b541d2dabfec872a...   \n",
       "1  c9f34437ce0e536fefd11a34b9a411b541d2dabfec872a...   \n",
       "2  14fc80e2d6821260d291ff47ce6d8d7534d4cb5aa4ab0d...   \n",
       "3  c9f34437ce0e536fefd11a34b9a411b541d2dabfec872a...   \n",
       "4  c9f34437ce0e536fefd11a34b9a411b541d2dabfec872a...   \n",
       "\n",
       "                                     device_category  \\\n",
       "0  bf2241c08d92d32a6782b4041a2c11ca58882ca88454b3...   \n",
       "1  bf2241c08d92d32a6782b4041a2c11ca58882ca88454b3...   \n",
       "2  d6538f13ace825448d0af4fa5e58d2d08fa2d0850e5e14...   \n",
       "3  bf2241c08d92d32a6782b4041a2c11ca58882ca88454b3...   \n",
       "4  d6538f13ace825448d0af4fa5e58d2d08fa2d0850e5e14...   \n",
       "\n",
       "                                     device_platform  \\\n",
       "0  702e4598004745673c0f6b50387bef9e1d5f503bd8c1c0...   \n",
       "1  702e4598004745673c0f6b50387bef9e1d5f503bd8c1c0...   \n",
       "2  d6538f13ace825448d0af4fa5e58d2d08fa2d0850e5e14...   \n",
       "3  702e4598004745673c0f6b50387bef9e1d5f503bd8c1c0...   \n",
       "4  d6538f13ace825448d0af4fa5e58d2d08fa2d0850e5e14...   \n",
       "\n",
       "                                           user_tier  \\\n",
       "0  d74a5cebc23c56af60a5768c22d44b52f598629d4011fa...   \n",
       "1  d74a5cebc23c56af60a5768c22d44b52f598629d4011fa...   \n",
       "2  d74a5cebc23c56af60a5768c22d44b52f598629d4011fa...   \n",
       "3  d74a5cebc23c56af60a5768c22d44b52f598629d4011fa...   \n",
       "4  d74a5cebc23c56af60a5768c22d44b52f598629d4011fa...   \n",
       "\n",
       "                                        user_country  ...  \\\n",
       "0  95d5a1bd42a07143383299c081524278a16ef5ce55507c...  ...   \n",
       "1  c45f0825291fd1a087ef31abbcf9fd0ef10c915edf3041...  ...   \n",
       "2  58f6d97120664752ed0851301aa78457fe882f67453c58...  ...   \n",
       "3  f319f71fd9b14532cf715e601fe3b5c2473b58d4302e88...  ...   \n",
       "4  ea2f413bd8fda0b91a814a68aa520044b204796991a343...  ...   \n",
       "\n",
       "  diff_start_online_date_from_user_tier_clicked_mean  \\\n",
       "0                                        -150.511957   \n",
       "1                                         -12.511957   \n",
       "2                                        -258.511957   \n",
       "3                                        -259.511957   \n",
       "4                                        -221.511957   \n",
       "\n",
       "  diff_prod_price_from_session_mean  diff_prod_price_from_query_mean  \\\n",
       "0                         -0.000770                    -1.390766e-03   \n",
       "1                          0.311558                    -2.637422e-01   \n",
       "2                          0.000271                    -2.313843e-07   \n",
       "3                          0.000029                    -6.575394e-06   \n",
       "4                          0.000012                    -4.198443e-05   \n",
       "\n",
       "   diff_prod_price_from_click_mean  diff_start_online_date_from_session_mean  \\\n",
       "0                        -0.001335                               -163.994444   \n",
       "1                         0.612305                                -33.833333   \n",
       "2                        -0.000589                               -223.534722   \n",
       "3                        -0.001369                                -25.699074   \n",
       "4                        -0.001639                               -153.699074   \n",
       "\n",
       "  diff_start_online_date_from_query_mean  \\\n",
       "0                            -265.854167   \n",
       "1                             -33.833333   \n",
       "2                            -223.534722   \n",
       "3                             -32.027778   \n",
       "4                            -177.868056   \n",
       "\n",
       "  diff_start_online_date_from_click_mean price_rank start_online_date_rank  \\\n",
       "0                                -138.75          1                      1   \n",
       "1                                  -0.75          5                      2   \n",
       "2                                -246.75          6                      1   \n",
       "3                                -247.75          5                      2   \n",
       "4                                -209.75          5                      2   \n",
       "\n",
       "  user_step  \n",
       "0         1  \n",
       "1         1  \n",
       "2         1  \n",
       "3         1  \n",
       "4         1  \n",
       "\n",
       "[5 rows x 110 columns]"
      ]
     },
     "execution_count": 54,
     "metadata": {},
     "output_type": "execute_result"
    }
   ],
   "source": [
    "val.head()"
   ]
  },
  {
   "cell_type": "code",
   "execution_count": 55,
   "metadata": {},
   "outputs": [
    {
     "data": {
      "text/plain": [
       "((3507990, 111), (687192, 110))"
      ]
     },
     "execution_count": 55,
     "metadata": {},
     "output_type": "execute_result"
    }
   ],
   "source": [
    "train.shape, val.shape"
   ]
  },
  {
   "cell_type": "code",
   "execution_count": null,
   "metadata": {},
   "outputs": [],
   "source": []
  },
  {
   "cell_type": "code",
   "execution_count": null,
   "metadata": {},
   "outputs": [],
   "source": []
  }
 ],
 "metadata": {
  "kernelspec": {
   "display_name": "Python 3",
   "language": "python",
   "name": "python3"
  },
  "language_info": {
   "codemirror_mode": {
    "name": "ipython",
    "version": 3
   },
   "file_extension": ".py",
   "mimetype": "text/x-python",
   "name": "python",
   "nbconvert_exporter": "python",
   "pygments_lexer": "ipython3",
   "version": "3.7.8"
  }
 },
 "nbformat": 4,
 "nbformat_minor": 4
}
