{
 "cells": [
  {
   "cell_type": "code",
   "execution_count": 1,
   "metadata": {},
   "outputs": [],
   "source": [
    "# ! pip install fastparquet"
   ]
  },
  {
   "cell_type": "code",
   "execution_count": null,
   "metadata": {},
   "outputs": [],
   "source": []
  },
  {
   "cell_type": "code",
   "execution_count": 2,
   "metadata": {},
   "outputs": [],
   "source": [
    "import pandas as pd\n",
    "from tqdm import tqdm\n",
    "import swifter\n",
    "import numpy as np\n",
    "from glob import glob\n",
    "import json\n",
    "import gc\n"
   ]
  },
  {
   "cell_type": "code",
   "execution_count": 3,
   "metadata": {},
   "outputs": [],
   "source": [
    "train = pd.read_parquet(\"../data_phase1/train.parquet\")\n",
    "val = pd.read_parquet(\"../data_phase1/validation.parquet\")\n"
   ]
  },
  {
   "cell_type": "code",
   "execution_count": 4,
   "metadata": {},
   "outputs": [],
   "source": [
    "train[[\"context_type\"]] = train[[\"context_type\"]].fillna(value=\"NA\")\n",
    "val[[\"context_type\"]] = val[[\"context_type\"]].fillna(value=\"NA\")\n"
   ]
  },
  {
   "cell_type": "code",
   "execution_count": null,
   "metadata": {},
   "outputs": [],
   "source": []
  },
  {
   "cell_type": "code",
   "execution_count": 5,
   "metadata": {},
   "outputs": [
    {
     "data": {
      "text/html": [
       "<div>\n",
       "<style scoped>\n",
       "    .dataframe tbody tr th:only-of-type {\n",
       "        vertical-align: middle;\n",
       "    }\n",
       "\n",
       "    .dataframe tbody tr th {\n",
       "        vertical-align: top;\n",
       "    }\n",
       "\n",
       "    .dataframe thead th {\n",
       "        text-align: right;\n",
       "    }\n",
       "</style>\n",
       "<table border=\"1\" class=\"dataframe\">\n",
       "  <thead>\n",
       "    <tr style=\"text-align: right;\">\n",
       "      <th></th>\n",
       "      <th>query_id</th>\n",
       "      <th>user_id</th>\n",
       "      <th>session_id</th>\n",
       "      <th>product_id</th>\n",
       "      <th>page_type</th>\n",
       "      <th>previous_page_type</th>\n",
       "      <th>device_category</th>\n",
       "      <th>device_platform</th>\n",
       "      <th>user_tier</th>\n",
       "      <th>user_country</th>\n",
       "      <th>context_type</th>\n",
       "      <th>context_value</th>\n",
       "      <th>product_price</th>\n",
       "      <th>week</th>\n",
       "      <th>week_day</th>\n",
       "      <th>is_click</th>\n",
       "    </tr>\n",
       "  </thead>\n",
       "  <tbody>\n",
       "    <tr>\n",
       "      <th>0</th>\n",
       "      <td>92d4dd491a874a2cf92c8d311a44a42b597c64a5ede23d...</td>\n",
       "      <td>e5e4c71b1b9456dafece1338762d4ee3db698cf32c384c...</td>\n",
       "      <td>2740b0d77b4e6fafd75321f7d0794210afa8bd650955e7...</td>\n",
       "      <td>bf056e3841dd3a358c6aacb1f9e74e4c7c4adc62e33b45...</td>\n",
       "      <td>596618814963e496d74434df8b8fe3306892f2e4ce6aaa...</td>\n",
       "      <td>c9f34437ce0e536fefd11a34b9a411b541d2dabfec872a...</td>\n",
       "      <td>d6538f13ace825448d0af4fa5e58d2d08fa2d0850e5e14...</td>\n",
       "      <td>d6538f13ace825448d0af4fa5e58d2d08fa2d0850e5e14...</td>\n",
       "      <td>d74a5cebc23c56af60a5768c22d44b52f598629d4011fa...</td>\n",
       "      <td>fec032cb05435471f2305006f4a1ba994c9d2f4bcad8ef...</td>\n",
       "      <td>designer_id</td>\n",
       "      <td>e5315dbea15a033bc6974a0bccf5fae4a017648bcd92ab...</td>\n",
       "      <td>0.000263</td>\n",
       "      <td>7</td>\n",
       "      <td>6</td>\n",
       "      <td>0</td>\n",
       "    </tr>\n",
       "    <tr>\n",
       "      <th>1</th>\n",
       "      <td>541a93bd95c3f4127a53e6b0d4b41db55ad9cb9e19d34a...</td>\n",
       "      <td>fca847f7eb5a5a21991421354b0f26afb4a517e540541f...</td>\n",
       "      <td>d5feab37634fd140e85b8f98dcb909a8779b4f0417c73a...</td>\n",
       "      <td>c6513ec49c8e04c265c907933799ff76f24c075c6308c4...</td>\n",
       "      <td>06a7f8e972f61aeb0e06335699518079a444e4450ff766...</td>\n",
       "      <td>d74a5cebc23c56af60a5768c22d44b52f598629d4011fa...</td>\n",
       "      <td>d6538f13ace825448d0af4fa5e58d2d08fa2d0850e5e14...</td>\n",
       "      <td>d6538f13ace825448d0af4fa5e58d2d08fa2d0850e5e14...</td>\n",
       "      <td>d179859aac8f7c1f88e1ee29b6655596873318c55127d3...</td>\n",
       "      <td>8c82855f15d05cd74fa59956434df17522fc68e4ce3900...</td>\n",
       "      <td>product_id</td>\n",
       "      <td>61205c20046f2688cb7ed03cad29d5a5dbdc360ff48290...</td>\n",
       "      <td>0.012966</td>\n",
       "      <td>6</td>\n",
       "      <td>5</td>\n",
       "      <td>0</td>\n",
       "    </tr>\n",
       "  </tbody>\n",
       "</table>\n",
       "</div>"
      ],
      "text/plain": [
       "                                            query_id  \\\n",
       "0  92d4dd491a874a2cf92c8d311a44a42b597c64a5ede23d...   \n",
       "1  541a93bd95c3f4127a53e6b0d4b41db55ad9cb9e19d34a...   \n",
       "\n",
       "                                             user_id  \\\n",
       "0  e5e4c71b1b9456dafece1338762d4ee3db698cf32c384c...   \n",
       "1  fca847f7eb5a5a21991421354b0f26afb4a517e540541f...   \n",
       "\n",
       "                                          session_id  \\\n",
       "0  2740b0d77b4e6fafd75321f7d0794210afa8bd650955e7...   \n",
       "1  d5feab37634fd140e85b8f98dcb909a8779b4f0417c73a...   \n",
       "\n",
       "                                          product_id  \\\n",
       "0  bf056e3841dd3a358c6aacb1f9e74e4c7c4adc62e33b45...   \n",
       "1  c6513ec49c8e04c265c907933799ff76f24c075c6308c4...   \n",
       "\n",
       "                                           page_type  \\\n",
       "0  596618814963e496d74434df8b8fe3306892f2e4ce6aaa...   \n",
       "1  06a7f8e972f61aeb0e06335699518079a444e4450ff766...   \n",
       "\n",
       "                                  previous_page_type  \\\n",
       "0  c9f34437ce0e536fefd11a34b9a411b541d2dabfec872a...   \n",
       "1  d74a5cebc23c56af60a5768c22d44b52f598629d4011fa...   \n",
       "\n",
       "                                     device_category  \\\n",
       "0  d6538f13ace825448d0af4fa5e58d2d08fa2d0850e5e14...   \n",
       "1  d6538f13ace825448d0af4fa5e58d2d08fa2d0850e5e14...   \n",
       "\n",
       "                                     device_platform  \\\n",
       "0  d6538f13ace825448d0af4fa5e58d2d08fa2d0850e5e14...   \n",
       "1  d6538f13ace825448d0af4fa5e58d2d08fa2d0850e5e14...   \n",
       "\n",
       "                                           user_tier  \\\n",
       "0  d74a5cebc23c56af60a5768c22d44b52f598629d4011fa...   \n",
       "1  d179859aac8f7c1f88e1ee29b6655596873318c55127d3...   \n",
       "\n",
       "                                        user_country context_type  \\\n",
       "0  fec032cb05435471f2305006f4a1ba994c9d2f4bcad8ef...  designer_id   \n",
       "1  8c82855f15d05cd74fa59956434df17522fc68e4ce3900...   product_id   \n",
       "\n",
       "                                       context_value  product_price  week  \\\n",
       "0  e5315dbea15a033bc6974a0bccf5fae4a017648bcd92ab...       0.000263     7   \n",
       "1  61205c20046f2688cb7ed03cad29d5a5dbdc360ff48290...       0.012966     6   \n",
       "\n",
       "   week_day  is_click  \n",
       "0         6         0  \n",
       "1         5         0  "
      ]
     },
     "execution_count": 5,
     "metadata": {},
     "output_type": "execute_result"
    }
   ],
   "source": [
    "train.head(2)"
   ]
  },
  {
   "cell_type": "code",
   "execution_count": null,
   "metadata": {},
   "outputs": [],
   "source": []
  },
  {
   "cell_type": "code",
   "execution_count": 6,
   "metadata": {},
   "outputs": [],
   "source": [
    "def reduce_mem_usage(df):\n",
    "    start_mem = df.memory_usage().sum() / 1024 ** 2\n",
    "    print('Memory usage of dataframe is {:.2f} MB'.format(start_mem))\n",
    "\n",
    "    for col in df.columns:\n",
    "        col_type = df[col].dtype\n",
    "\n",
    "        if col_type != object:\n",
    "            c_min = df[col].min()\n",
    "            c_max = df[col].max()\n",
    "            if str(col_type)[:3] == 'int':\n",
    "                if c_min > np.iinfo(np.int8).min and c_max < np.iinfo(np.int8).max:\n",
    "                    df[col] = df[col].astype(np.int8)\n",
    "                elif c_min > np.iinfo(np.int16).min and c_max < np.iinfo(np.int16).max:\n",
    "                    df[col] = df[col].astype(np.int16)\n",
    "                elif c_min > np.iinfo(np.int32).min and c_max < np.iinfo(np.int32).max:\n",
    "                    df[col] = df[col].astype(np.int32)\n",
    "                elif c_min > np.iinfo(np.int64).min and c_max < np.iinfo(np.int64).max:\n",
    "                    df[col] = df[col].astype(np.int64)\n",
    "            else:\n",
    "                if c_min > np.finfo(np.float16).min and c_max < np.finfo(np.float16).max:\n",
    "                    df[col] = df[col].astype(np.float16)\n",
    "                elif c_min > np.finfo(np.float32).min and c_max < np.finfo(np.float32).max:\n",
    "                    df[col] = df[col].astype(np.float32)\n",
    "                else:\n",
    "                    df[col] = df[col].astype(np.float64)\n",
    "        else:\n",
    "            df[col] = df[col].astype('category')\n",
    "\n",
    "    end_mem = df.memory_usage().sum() / 1024 ** 2\n",
    "    print('Memory usage after optimization is: {:.2f} MB'.format(end_mem))\n",
    "    print('Decreased by {:.1f}%'.format(100 * (start_mem - end_mem) / start_mem))\n",
    "\n",
    "    return df\n"
   ]
  },
  {
   "cell_type": "code",
   "execution_count": 7,
   "metadata": {},
   "outputs": [
    {
     "name": "stdout",
     "output_type": "stream",
     "text": [
      "Memory usage of dataframe is 428.22 MB\n",
      "Memory usage after optimization is: 175.85 MB\n",
      "Decreased by 58.9%\n",
      "Memory usage of dataframe is 78.64 MB\n",
      "Memory usage after optimization is: 47.95 MB\n",
      "Decreased by 39.0%\n"
     ]
    }
   ],
   "source": [
    "train = reduce_mem_usage(train)\n",
    "val = reduce_mem_usage(val)\n"
   ]
  },
  {
   "cell_type": "code",
   "execution_count": 8,
   "metadata": {},
   "outputs": [
    {
     "data": {
      "text/plain": [
       "521"
      ]
     },
     "execution_count": 8,
     "metadata": {},
     "output_type": "execute_result"
    }
   ],
   "source": [
    "gc.collect()"
   ]
  },
  {
   "cell_type": "code",
   "execution_count": 9,
   "metadata": {},
   "outputs": [
    {
     "data": {
      "text/plain": [
       "((3507990, 16), (687192, 15))"
      ]
     },
     "execution_count": 9,
     "metadata": {},
     "output_type": "execute_result"
    }
   ],
   "source": [
    "train.shape, val.shape"
   ]
  },
  {
   "cell_type": "code",
   "execution_count": 10,
   "metadata": {},
   "outputs": [
    {
     "data": {
      "text/plain": [
       "(0.1717264335602522, 0.04682622849941254)"
      ]
     },
     "execution_count": 10,
     "metadata": {},
     "output_type": "execute_result"
    }
   ],
   "source": [
    "train.memory_usage().sum()/(1024*1024*1024), val.memory_usage().sum()/(1024*1024*1024)"
   ]
  },
  {
   "cell_type": "code",
   "execution_count": 11,
   "metadata": {},
   "outputs": [],
   "source": [
    "full_df = pd.concat([train, val], 0)\n"
   ]
  },
  {
   "cell_type": "code",
   "execution_count": 12,
   "metadata": {},
   "outputs": [
    {
     "data": {
      "text/plain": [
       "(158194, 2)"
      ]
     },
     "execution_count": 12,
     "metadata": {},
     "output_type": "execute_result"
    }
   ],
   "source": [
    "d = full_df.groupby([\"user_id\"]).agg({\"session_id\": \"nunique\"}).reset_index()\n",
    "d[d[\"session_id\"]==1].shape"
   ]
  },
  {
   "cell_type": "code",
   "execution_count": 13,
   "metadata": {},
   "outputs": [],
   "source": [
    "single_session_users = set(d.user_id.unique().tolist())"
   ]
  },
  {
   "cell_type": "code",
   "execution_count": 14,
   "metadata": {},
   "outputs": [],
   "source": [
    "all_users = full_df.user_id.unique().tolist()"
   ]
  },
  {
   "cell_type": "code",
   "execution_count": 15,
   "metadata": {},
   "outputs": [
    {
     "name": "stderr",
     "output_type": "stream",
     "text": [
      "100%|██████████| 219035/219035 [00:00<00:00, 2027470.01it/s]\n"
     ]
    }
   ],
   "source": [
    "dic = {\"user_id\": [], \"single_session_user_flag\": []}\n",
    "\n",
    "for user in tqdm(all_users):\n",
    "    dic[\"user_id\"].append(user)\n",
    "    if user in single_session_users:\n",
    "        dic[\"single_session_user_flag\"].append(1)\n",
    "    else:\n",
    "        dic[\"single_session_user_flag\"].append(0)\n",
    "        "
   ]
  },
  {
   "cell_type": "code",
   "execution_count": 16,
   "metadata": {},
   "outputs": [
    {
     "data": {
      "text/html": [
       "<div>\n",
       "<style scoped>\n",
       "    .dataframe tbody tr th:only-of-type {\n",
       "        vertical-align: middle;\n",
       "    }\n",
       "\n",
       "    .dataframe tbody tr th {\n",
       "        vertical-align: top;\n",
       "    }\n",
       "\n",
       "    .dataframe thead th {\n",
       "        text-align: right;\n",
       "    }\n",
       "</style>\n",
       "<table border=\"1\" class=\"dataframe\">\n",
       "  <thead>\n",
       "    <tr style=\"text-align: right;\">\n",
       "      <th></th>\n",
       "      <th>user_id</th>\n",
       "      <th>single_session_user_flag</th>\n",
       "    </tr>\n",
       "  </thead>\n",
       "  <tbody>\n",
       "    <tr>\n",
       "      <th>0</th>\n",
       "      <td>e5e4c71b1b9456dafece1338762d4ee3db698cf32c384c...</td>\n",
       "      <td>1</td>\n",
       "    </tr>\n",
       "    <tr>\n",
       "      <th>1</th>\n",
       "      <td>fca847f7eb5a5a21991421354b0f26afb4a517e540541f...</td>\n",
       "      <td>1</td>\n",
       "    </tr>\n",
       "    <tr>\n",
       "      <th>2</th>\n",
       "      <td>90ea15d8d96a9d3e7ab463d990e5f4565cac9477498d37...</td>\n",
       "      <td>1</td>\n",
       "    </tr>\n",
       "  </tbody>\n",
       "</table>\n",
       "</div>"
      ],
      "text/plain": [
       "                                             user_id  single_session_user_flag\n",
       "0  e5e4c71b1b9456dafece1338762d4ee3db698cf32c384c...                         1\n",
       "1  fca847f7eb5a5a21991421354b0f26afb4a517e540541f...                         1\n",
       "2  90ea15d8d96a9d3e7ab463d990e5f4565cac9477498d37...                         1"
      ]
     },
     "execution_count": 16,
     "metadata": {},
     "output_type": "execute_result"
    }
   ],
   "source": [
    "single_session_user_df = pd.DataFrame(dic, columns=[\"user_id\", \"single_session_user_flag\"])\n",
    "single_session_user_df.head(3)"
   ]
  },
  {
   "cell_type": "code",
   "execution_count": 17,
   "metadata": {},
   "outputs": [
    {
     "data": {
      "text/plain": [
       "(219035, (219035, 2))"
      ]
     },
     "execution_count": 17,
     "metadata": {},
     "output_type": "execute_result"
    }
   ],
   "source": [
    "single_session_user_df.user_id.nunique(), single_session_user_df.shape"
   ]
  },
  {
   "cell_type": "code",
   "execution_count": null,
   "metadata": {},
   "outputs": [],
   "source": []
  },
  {
   "cell_type": "code",
   "execution_count": 18,
   "metadata": {},
   "outputs": [
    {
     "data": {
      "text/html": [
       "<div>\n",
       "<style scoped>\n",
       "    .dataframe tbody tr th:only-of-type {\n",
       "        vertical-align: middle;\n",
       "    }\n",
       "\n",
       "    .dataframe tbody tr th {\n",
       "        vertical-align: top;\n",
       "    }\n",
       "\n",
       "    .dataframe thead th {\n",
       "        text-align: right;\n",
       "    }\n",
       "</style>\n",
       "<table border=\"1\" class=\"dataframe\">\n",
       "  <thead>\n",
       "    <tr style=\"text-align: right;\">\n",
       "      <th></th>\n",
       "      <th>query_id</th>\n",
       "      <th>user_id</th>\n",
       "      <th>session_id</th>\n",
       "      <th>product_id</th>\n",
       "      <th>page_type</th>\n",
       "      <th>previous_page_type</th>\n",
       "      <th>device_category</th>\n",
       "      <th>device_platform</th>\n",
       "      <th>user_tier</th>\n",
       "      <th>user_country</th>\n",
       "      <th>context_type</th>\n",
       "      <th>context_value</th>\n",
       "      <th>product_price</th>\n",
       "      <th>week</th>\n",
       "      <th>week_day</th>\n",
       "      <th>is_click</th>\n",
       "      <th>days_elapsed</th>\n",
       "    </tr>\n",
       "  </thead>\n",
       "  <tbody>\n",
       "    <tr>\n",
       "      <th>0</th>\n",
       "      <td>92d4dd491a874a2cf92c8d311a44a42b597c64a5ede23d...</td>\n",
       "      <td>e5e4c71b1b9456dafece1338762d4ee3db698cf32c384c...</td>\n",
       "      <td>2740b0d77b4e6fafd75321f7d0794210afa8bd650955e7...</td>\n",
       "      <td>bf056e3841dd3a358c6aacb1f9e74e4c7c4adc62e33b45...</td>\n",
       "      <td>596618814963e496d74434df8b8fe3306892f2e4ce6aaa...</td>\n",
       "      <td>c9f34437ce0e536fefd11a34b9a411b541d2dabfec872a...</td>\n",
       "      <td>d6538f13ace825448d0af4fa5e58d2d08fa2d0850e5e14...</td>\n",
       "      <td>d6538f13ace825448d0af4fa5e58d2d08fa2d0850e5e14...</td>\n",
       "      <td>d74a5cebc23c56af60a5768c22d44b52f598629d4011fa...</td>\n",
       "      <td>fec032cb05435471f2305006f4a1ba994c9d2f4bcad8ef...</td>\n",
       "      <td>designer_id</td>\n",
       "      <td>e5315dbea15a033bc6974a0bccf5fae4a017648bcd92ab...</td>\n",
       "      <td>0.000263</td>\n",
       "      <td>7</td>\n",
       "      <td>6</td>\n",
       "      <td>0.0</td>\n",
       "      <td>48</td>\n",
       "    </tr>\n",
       "    <tr>\n",
       "      <th>1</th>\n",
       "      <td>541a93bd95c3f4127a53e6b0d4b41db55ad9cb9e19d34a...</td>\n",
       "      <td>fca847f7eb5a5a21991421354b0f26afb4a517e540541f...</td>\n",
       "      <td>d5feab37634fd140e85b8f98dcb909a8779b4f0417c73a...</td>\n",
       "      <td>c6513ec49c8e04c265c907933799ff76f24c075c6308c4...</td>\n",
       "      <td>06a7f8e972f61aeb0e06335699518079a444e4450ff766...</td>\n",
       "      <td>d74a5cebc23c56af60a5768c22d44b52f598629d4011fa...</td>\n",
       "      <td>d6538f13ace825448d0af4fa5e58d2d08fa2d0850e5e14...</td>\n",
       "      <td>d6538f13ace825448d0af4fa5e58d2d08fa2d0850e5e14...</td>\n",
       "      <td>d179859aac8f7c1f88e1ee29b6655596873318c55127d3...</td>\n",
       "      <td>8c82855f15d05cd74fa59956434df17522fc68e4ce3900...</td>\n",
       "      <td>product_id</td>\n",
       "      <td>61205c20046f2688cb7ed03cad29d5a5dbdc360ff48290...</td>\n",
       "      <td>0.012962</td>\n",
       "      <td>6</td>\n",
       "      <td>5</td>\n",
       "      <td>0.0</td>\n",
       "      <td>40</td>\n",
       "    </tr>\n",
       "  </tbody>\n",
       "</table>\n",
       "</div>"
      ],
      "text/plain": [
       "                                            query_id  \\\n",
       "0  92d4dd491a874a2cf92c8d311a44a42b597c64a5ede23d...   \n",
       "1  541a93bd95c3f4127a53e6b0d4b41db55ad9cb9e19d34a...   \n",
       "\n",
       "                                             user_id  \\\n",
       "0  e5e4c71b1b9456dafece1338762d4ee3db698cf32c384c...   \n",
       "1  fca847f7eb5a5a21991421354b0f26afb4a517e540541f...   \n",
       "\n",
       "                                          session_id  \\\n",
       "0  2740b0d77b4e6fafd75321f7d0794210afa8bd650955e7...   \n",
       "1  d5feab37634fd140e85b8f98dcb909a8779b4f0417c73a...   \n",
       "\n",
       "                                          product_id  \\\n",
       "0  bf056e3841dd3a358c6aacb1f9e74e4c7c4adc62e33b45...   \n",
       "1  c6513ec49c8e04c265c907933799ff76f24c075c6308c4...   \n",
       "\n",
       "                                           page_type  \\\n",
       "0  596618814963e496d74434df8b8fe3306892f2e4ce6aaa...   \n",
       "1  06a7f8e972f61aeb0e06335699518079a444e4450ff766...   \n",
       "\n",
       "                                  previous_page_type  \\\n",
       "0  c9f34437ce0e536fefd11a34b9a411b541d2dabfec872a...   \n",
       "1  d74a5cebc23c56af60a5768c22d44b52f598629d4011fa...   \n",
       "\n",
       "                                     device_category  \\\n",
       "0  d6538f13ace825448d0af4fa5e58d2d08fa2d0850e5e14...   \n",
       "1  d6538f13ace825448d0af4fa5e58d2d08fa2d0850e5e14...   \n",
       "\n",
       "                                     device_platform  \\\n",
       "0  d6538f13ace825448d0af4fa5e58d2d08fa2d0850e5e14...   \n",
       "1  d6538f13ace825448d0af4fa5e58d2d08fa2d0850e5e14...   \n",
       "\n",
       "                                           user_tier  \\\n",
       "0  d74a5cebc23c56af60a5768c22d44b52f598629d4011fa...   \n",
       "1  d179859aac8f7c1f88e1ee29b6655596873318c55127d3...   \n",
       "\n",
       "                                        user_country context_type  \\\n",
       "0  fec032cb05435471f2305006f4a1ba994c9d2f4bcad8ef...  designer_id   \n",
       "1  8c82855f15d05cd74fa59956434df17522fc68e4ce3900...   product_id   \n",
       "\n",
       "                                       context_value  product_price  week  \\\n",
       "0  e5315dbea15a033bc6974a0bccf5fae4a017648bcd92ab...       0.000263     7   \n",
       "1  61205c20046f2688cb7ed03cad29d5a5dbdc360ff48290...       0.012962     6   \n",
       "\n",
       "   week_day  is_click  days_elapsed  \n",
       "0         6       0.0            48  \n",
       "1         5       0.0            40  "
      ]
     },
     "execution_count": 18,
     "metadata": {},
     "output_type": "execute_result"
    }
   ],
   "source": [
    "full_df['days_elapsed'] = (full_df['week'].astype(int)-1)*7 + full_df['week_day'].astype(int)\n",
    "full_df.head(2)"
   ]
  },
  {
   "cell_type": "code",
   "execution_count": 19,
   "metadata": {},
   "outputs": [
    {
     "data": {
      "text/html": [
       "<div>\n",
       "<style scoped>\n",
       "    .dataframe tbody tr th:only-of-type {\n",
       "        vertical-align: middle;\n",
       "    }\n",
       "\n",
       "    .dataframe tbody tr th {\n",
       "        vertical-align: top;\n",
       "    }\n",
       "\n",
       "    .dataframe thead th {\n",
       "        text-align: right;\n",
       "    }\n",
       "</style>\n",
       "<table border=\"1\" class=\"dataframe\">\n",
       "  <thead>\n",
       "    <tr style=\"text-align: right;\">\n",
       "      <th></th>\n",
       "      <th>user_id</th>\n",
       "      <th>first_user_action_days_elapsed</th>\n",
       "    </tr>\n",
       "  </thead>\n",
       "  <tbody>\n",
       "    <tr>\n",
       "      <th>0</th>\n",
       "      <td>00001039003fd7fbc902f30fb6d78eaa5176f7291cba9a...</td>\n",
       "      <td>9</td>\n",
       "    </tr>\n",
       "    <tr>\n",
       "      <th>1</th>\n",
       "      <td>000032873c3c3fbab4ebc172399290d56247cbc1ef692c...</td>\n",
       "      <td>28</td>\n",
       "    </tr>\n",
       "    <tr>\n",
       "      <th>2</th>\n",
       "      <td>0000511b406188f830c5fbf3b3be20b6883ec872e418a1...</td>\n",
       "      <td>31</td>\n",
       "    </tr>\n",
       "    <tr>\n",
       "      <th>3</th>\n",
       "      <td>00008e290e495a3980448ae65d3de9d8857ab945949cc0...</td>\n",
       "      <td>13</td>\n",
       "    </tr>\n",
       "    <tr>\n",
       "      <th>4</th>\n",
       "      <td>0000b8fe24d60b23e0c70707e21eba6e3d28b45a85060b...</td>\n",
       "      <td>17</td>\n",
       "    </tr>\n",
       "  </tbody>\n",
       "</table>\n",
       "</div>"
      ],
      "text/plain": [
       "                                             user_id  \\\n",
       "0  00001039003fd7fbc902f30fb6d78eaa5176f7291cba9a...   \n",
       "1  000032873c3c3fbab4ebc172399290d56247cbc1ef692c...   \n",
       "2  0000511b406188f830c5fbf3b3be20b6883ec872e418a1...   \n",
       "3  00008e290e495a3980448ae65d3de9d8857ab945949cc0...   \n",
       "4  0000b8fe24d60b23e0c70707e21eba6e3d28b45a85060b...   \n",
       "\n",
       "   first_user_action_days_elapsed  \n",
       "0                               9  \n",
       "1                              28  \n",
       "2                              31  \n",
       "3                              13  \n",
       "4                              17  "
      ]
     },
     "execution_count": 19,
     "metadata": {},
     "output_type": "execute_result"
    }
   ],
   "source": [
    "first_user_action_days_elapsed = pd.DataFrame(full_df.sort_values([\"user_id\", \"days_elapsed\"]).groupby([\"user_id\"])[\"days_elapsed\"].first()).reset_index()\n",
    "first_user_action_days_elapsed = first_user_action_days_elapsed.rename(columns={\"days_elapsed\": \"first_user_action_days_elapsed\"})\n",
    "first_user_action_days_elapsed.head()\n",
    "\n"
   ]
  },
  {
   "cell_type": "code",
   "execution_count": 20,
   "metadata": {},
   "outputs": [
    {
     "data": {
      "text/plain": [
       "(219035, 219035)"
      ]
     },
     "execution_count": 20,
     "metadata": {},
     "output_type": "execute_result"
    }
   ],
   "source": [
    "first_user_action_days_elapsed.user_id.nunique(), len(first_user_action_days_elapsed)"
   ]
  },
  {
   "cell_type": "code",
   "execution_count": 21,
   "metadata": {},
   "outputs": [
    {
     "data": {
      "text/plain": [
       "219035"
      ]
     },
     "execution_count": 21,
     "metadata": {},
     "output_type": "execute_result"
    }
   ],
   "source": [
    "len(list(set(first_user_action_days_elapsed.user_id.tolist()).intersection(set(single_session_user_df.user_id.tolist()))))\n"
   ]
  },
  {
   "cell_type": "code",
   "execution_count": 22,
   "metadata": {},
   "outputs": [
    {
     "data": {
      "text/html": [
       "<div>\n",
       "<style scoped>\n",
       "    .dataframe tbody tr th:only-of-type {\n",
       "        vertical-align: middle;\n",
       "    }\n",
       "\n",
       "    .dataframe tbody tr th {\n",
       "        vertical-align: top;\n",
       "    }\n",
       "\n",
       "    .dataframe thead th {\n",
       "        text-align: right;\n",
       "    }\n",
       "</style>\n",
       "<table border=\"1\" class=\"dataframe\">\n",
       "  <thead>\n",
       "    <tr style=\"text-align: right;\">\n",
       "      <th></th>\n",
       "      <th>user_id</th>\n",
       "      <th>first_user_action_days_elapsed</th>\n",
       "      <th>single_session_user_flag</th>\n",
       "    </tr>\n",
       "  </thead>\n",
       "  <tbody>\n",
       "    <tr>\n",
       "      <th>0</th>\n",
       "      <td>00001039003fd7fbc902f30fb6d78eaa5176f7291cba9a...</td>\n",
       "      <td>9</td>\n",
       "      <td>1</td>\n",
       "    </tr>\n",
       "    <tr>\n",
       "      <th>1</th>\n",
       "      <td>000032873c3c3fbab4ebc172399290d56247cbc1ef692c...</td>\n",
       "      <td>28</td>\n",
       "      <td>1</td>\n",
       "    </tr>\n",
       "    <tr>\n",
       "      <th>2</th>\n",
       "      <td>0000511b406188f830c5fbf3b3be20b6883ec872e418a1...</td>\n",
       "      <td>31</td>\n",
       "      <td>1</td>\n",
       "    </tr>\n",
       "  </tbody>\n",
       "</table>\n",
       "</div>"
      ],
      "text/plain": [
       "                                             user_id  \\\n",
       "0  00001039003fd7fbc902f30fb6d78eaa5176f7291cba9a...   \n",
       "1  000032873c3c3fbab4ebc172399290d56247cbc1ef692c...   \n",
       "2  0000511b406188f830c5fbf3b3be20b6883ec872e418a1...   \n",
       "\n",
       "   first_user_action_days_elapsed  single_session_user_flag  \n",
       "0                               9                         1  \n",
       "1                              28                         1  \n",
       "2                              31                         1  "
      ]
     },
     "execution_count": 22,
     "metadata": {},
     "output_type": "execute_result"
    }
   ],
   "source": [
    "user_feature_df = first_user_action_days_elapsed.merge(single_session_user_df, on=[\"user_id\"], how=\"inner\")\n",
    "user_feature_df.head(3)"
   ]
  },
  {
   "cell_type": "code",
   "execution_count": 23,
   "metadata": {},
   "outputs": [
    {
     "data": {
      "text/plain": [
       "(219035, 3)"
      ]
     },
     "execution_count": 23,
     "metadata": {},
     "output_type": "execute_result"
    }
   ],
   "source": [
    "user_feature_df.shape"
   ]
  },
  {
   "cell_type": "code",
   "execution_count": 24,
   "metadata": {},
   "outputs": [],
   "source": [
    "# user_feature_df.to_csv(\"../preprocessed_data/user_time_features.csv\", index=False)"
   ]
  },
  {
   "cell_type": "code",
   "execution_count": null,
   "metadata": {},
   "outputs": [],
   "source": []
  },
  {
   "cell_type": "markdown",
   "metadata": {},
   "source": [
    "# Non-click"
   ]
  },
  {
   "cell_type": "code",
   "execution_count": 25,
   "metadata": {},
   "outputs": [],
   "source": [
    "full_df = full_df[[\"query_id\", \"session_id\", \"user_id\", \"product_id\", \"user_tier\", \"product_price\"]]"
   ]
  },
  {
   "cell_type": "code",
   "execution_count": 26,
   "metadata": {},
   "outputs": [],
   "source": [
    "attribute_df = pd.read_parquet(\"../data_phase1/attributes.parquet\")\n"
   ]
  },
  {
   "cell_type": "code",
   "execution_count": 27,
   "metadata": {},
   "outputs": [],
   "source": [
    "attribute_df = attribute_df[[\"product_id\", \"start_online_date\"]]"
   ]
  },
  {
   "cell_type": "code",
   "execution_count": 28,
   "metadata": {},
   "outputs": [],
   "source": [
    "full_df = full_df.merge(attribute_df, on=[\"product_id\"], how=\"left\")\n"
   ]
  },
  {
   "cell_type": "code",
   "execution_count": 29,
   "metadata": {},
   "outputs": [
    {
     "data": {
      "text/html": [
       "<div>\n",
       "<style scoped>\n",
       "    .dataframe tbody tr th:only-of-type {\n",
       "        vertical-align: middle;\n",
       "    }\n",
       "\n",
       "    .dataframe tbody tr th {\n",
       "        vertical-align: top;\n",
       "    }\n",
       "\n",
       "    .dataframe thead th {\n",
       "        text-align: right;\n",
       "    }\n",
       "</style>\n",
       "<table border=\"1\" class=\"dataframe\">\n",
       "  <thead>\n",
       "    <tr style=\"text-align: right;\">\n",
       "      <th></th>\n",
       "      <th>query_id</th>\n",
       "      <th>session_id</th>\n",
       "      <th>user_id</th>\n",
       "      <th>product_id</th>\n",
       "      <th>user_tier</th>\n",
       "      <th>product_price</th>\n",
       "      <th>start_online_date</th>\n",
       "    </tr>\n",
       "  </thead>\n",
       "  <tbody>\n",
       "    <tr>\n",
       "      <th>0</th>\n",
       "      <td>92d4dd491a874a2cf92c8d311a44a42b597c64a5ede23d...</td>\n",
       "      <td>2740b0d77b4e6fafd75321f7d0794210afa8bd650955e7...</td>\n",
       "      <td>e5e4c71b1b9456dafece1338762d4ee3db698cf32c384c...</td>\n",
       "      <td>bf056e3841dd3a358c6aacb1f9e74e4c7c4adc62e33b45...</td>\n",
       "      <td>d74a5cebc23c56af60a5768c22d44b52f598629d4011fa...</td>\n",
       "      <td>0.000263</td>\n",
       "      <td>570.041667</td>\n",
       "    </tr>\n",
       "    <tr>\n",
       "      <th>1</th>\n",
       "      <td>541a93bd95c3f4127a53e6b0d4b41db55ad9cb9e19d34a...</td>\n",
       "      <td>d5feab37634fd140e85b8f98dcb909a8779b4f0417c73a...</td>\n",
       "      <td>fca847f7eb5a5a21991421354b0f26afb4a517e540541f...</td>\n",
       "      <td>c6513ec49c8e04c265c907933799ff76f24c075c6308c4...</td>\n",
       "      <td>d179859aac8f7c1f88e1ee29b6655596873318c55127d3...</td>\n",
       "      <td>0.012962</td>\n",
       "      <td>208.041667</td>\n",
       "    </tr>\n",
       "  </tbody>\n",
       "</table>\n",
       "</div>"
      ],
      "text/plain": [
       "                                            query_id  \\\n",
       "0  92d4dd491a874a2cf92c8d311a44a42b597c64a5ede23d...   \n",
       "1  541a93bd95c3f4127a53e6b0d4b41db55ad9cb9e19d34a...   \n",
       "\n",
       "                                          session_id  \\\n",
       "0  2740b0d77b4e6fafd75321f7d0794210afa8bd650955e7...   \n",
       "1  d5feab37634fd140e85b8f98dcb909a8779b4f0417c73a...   \n",
       "\n",
       "                                             user_id  \\\n",
       "0  e5e4c71b1b9456dafece1338762d4ee3db698cf32c384c...   \n",
       "1  fca847f7eb5a5a21991421354b0f26afb4a517e540541f...   \n",
       "\n",
       "                                          product_id  \\\n",
       "0  bf056e3841dd3a358c6aacb1f9e74e4c7c4adc62e33b45...   \n",
       "1  c6513ec49c8e04c265c907933799ff76f24c075c6308c4...   \n",
       "\n",
       "                                           user_tier  product_price  \\\n",
       "0  d74a5cebc23c56af60a5768c22d44b52f598629d4011fa...       0.000263   \n",
       "1  d179859aac8f7c1f88e1ee29b6655596873318c55127d3...       0.012962   \n",
       "\n",
       "   start_online_date  \n",
       "0         570.041667  \n",
       "1         208.041667  "
      ]
     },
     "execution_count": 29,
     "metadata": {},
     "output_type": "execute_result"
    }
   ],
   "source": [
    "full_df.head(2)"
   ]
  },
  {
   "cell_type": "code",
   "execution_count": null,
   "metadata": {},
   "outputs": [],
   "source": []
  },
  {
   "cell_type": "code",
   "execution_count": 33,
   "metadata": {},
   "outputs": [
    {
     "data": {
      "text/html": [
       "<div>\n",
       "<style scoped>\n",
       "    .dataframe tbody tr th:only-of-type {\n",
       "        vertical-align: middle;\n",
       "    }\n",
       "\n",
       "    .dataframe tbody tr th {\n",
       "        vertical-align: top;\n",
       "    }\n",
       "\n",
       "    .dataframe thead th {\n",
       "        text-align: right;\n",
       "    }\n",
       "</style>\n",
       "<table border=\"1\" class=\"dataframe\">\n",
       "  <thead>\n",
       "    <tr style=\"text-align: right;\">\n",
       "      <th></th>\n",
       "      <th>user_tier</th>\n",
       "      <th>user_tier_mean_product_price</th>\n",
       "      <th>user_tier_max_product_price</th>\n",
       "      <th>user_tier_min_product_price</th>\n",
       "    </tr>\n",
       "  </thead>\n",
       "  <tbody>\n",
       "    <tr>\n",
       "      <th>0</th>\n",
       "      <td>747e44b477c7693ebc24bee9538cad9155ba5132eeb81f...</td>\n",
       "      <td>0.001414</td>\n",
       "      <td>0.597656</td>\n",
       "      <td>0.000008</td>\n",
       "    </tr>\n",
       "    <tr>\n",
       "      <th>1</th>\n",
       "      <td>b366ccda4ef57a5cdc3f1c5afa6147dd30d0849bb88613...</td>\n",
       "      <td>0.001095</td>\n",
       "      <td>0.877930</td>\n",
       "      <td>0.000006</td>\n",
       "    </tr>\n",
       "    <tr>\n",
       "      <th>2</th>\n",
       "      <td>be303dabea69281312bc30730bcef52abb9d27331f2809...</td>\n",
       "      <td>0.001064</td>\n",
       "      <td>0.877930</td>\n",
       "      <td>0.000000</td>\n",
       "    </tr>\n",
       "    <tr>\n",
       "      <th>3</th>\n",
       "      <td>d179859aac8f7c1f88e1ee29b6655596873318c55127d3...</td>\n",
       "      <td>0.001194</td>\n",
       "      <td>0.847656</td>\n",
       "      <td>0.000007</td>\n",
       "    </tr>\n",
       "    <tr>\n",
       "      <th>4</th>\n",
       "      <td>d74a5cebc23c56af60a5768c22d44b52f598629d4011fa...</td>\n",
       "      <td>0.001904</td>\n",
       "      <td>1.000000</td>\n",
       "      <td>0.000000</td>\n",
       "    </tr>\n",
       "  </tbody>\n",
       "</table>\n",
       "</div>"
      ],
      "text/plain": [
       "                                           user_tier  \\\n",
       "0  747e44b477c7693ebc24bee9538cad9155ba5132eeb81f...   \n",
       "1  b366ccda4ef57a5cdc3f1c5afa6147dd30d0849bb88613...   \n",
       "2  be303dabea69281312bc30730bcef52abb9d27331f2809...   \n",
       "3  d179859aac8f7c1f88e1ee29b6655596873318c55127d3...   \n",
       "4  d74a5cebc23c56af60a5768c22d44b52f598629d4011fa...   \n",
       "\n",
       "   user_tier_mean_product_price  user_tier_max_product_price  \\\n",
       "0                      0.001414                     0.597656   \n",
       "1                      0.001095                     0.877930   \n",
       "2                      0.001064                     0.877930   \n",
       "3                      0.001194                     0.847656   \n",
       "4                      0.001904                     1.000000   \n",
       "\n",
       "   user_tier_min_product_price  \n",
       "0                     0.000008  \n",
       "1                     0.000006  \n",
       "2                     0.000000  \n",
       "3                     0.000007  \n",
       "4                     0.000000  "
      ]
     },
     "execution_count": 33,
     "metadata": {},
     "output_type": "execute_result"
    }
   ],
   "source": [
    "user_tier_mean_price = full_df.groupby([\"user_tier\"]).agg({\"product_price\": \"mean\"}).reset_index()\n",
    "user_tier_mean_price = user_tier_mean_price.rename(columns={\"product_price\": \"user_tier_mean_product_price\"})\n",
    "\n",
    "user_tier_max_price = full_df.groupby([\"user_tier\"]).agg({\"product_price\": \"max\"}).reset_index()\n",
    "user_tier_max_price = user_tier_max_price.rename(columns={\"product_price\": \"user_tier_max_product_price\"})\n",
    "user_tier_max_price = user_tier_mean_price.merge(user_tier_max_price, on=[\"user_tier\"], how=\"inner\")\n",
    "\n",
    "user_tier_min_price = full_df.groupby([\"user_tier\"]).agg({\"product_price\": \"min\"}).reset_index()\n",
    "user_tier_min_price = user_tier_min_price.rename(columns={\"product_price\": \"user_tier_min_product_price\"})\n",
    "user_tier_min_price = user_tier_max_price.merge(user_tier_min_price, on=[\"user_tier\"], how=\"inner\")\n",
    "\n",
    "user_tier_min_price.head()"
   ]
  },
  {
   "cell_type": "code",
   "execution_count": null,
   "metadata": {},
   "outputs": [],
   "source": []
  },
  {
   "cell_type": "code",
   "execution_count": 34,
   "metadata": {},
   "outputs": [
    {
     "data": {
      "text/html": [
       "<div>\n",
       "<style scoped>\n",
       "    .dataframe tbody tr th:only-of-type {\n",
       "        vertical-align: middle;\n",
       "    }\n",
       "\n",
       "    .dataframe tbody tr th {\n",
       "        vertical-align: top;\n",
       "    }\n",
       "\n",
       "    .dataframe thead th {\n",
       "        text-align: right;\n",
       "    }\n",
       "</style>\n",
       "<table border=\"1\" class=\"dataframe\">\n",
       "  <thead>\n",
       "    <tr style=\"text-align: right;\">\n",
       "      <th></th>\n",
       "      <th>user_tier</th>\n",
       "      <th>user_tier_mean_product_start_online_date</th>\n",
       "      <th>user_tier_max_product_start_online_date</th>\n",
       "      <th>user_tier_min_product_start_online_date</th>\n",
       "    </tr>\n",
       "  </thead>\n",
       "  <tbody>\n",
       "    <tr>\n",
       "      <th>0</th>\n",
       "      <td>747e44b477c7693ebc24bee9538cad9155ba5132eeb81f...</td>\n",
       "      <td>357.263766</td>\n",
       "      <td>3214.041667</td>\n",
       "      <td>0.0</td>\n",
       "    </tr>\n",
       "    <tr>\n",
       "      <th>1</th>\n",
       "      <td>b366ccda4ef57a5cdc3f1c5afa6147dd30d0849bb88613...</td>\n",
       "      <td>380.305476</td>\n",
       "      <td>3214.041667</td>\n",
       "      <td>0.0</td>\n",
       "    </tr>\n",
       "    <tr>\n",
       "      <th>2</th>\n",
       "      <td>be303dabea69281312bc30730bcef52abb9d27331f2809...</td>\n",
       "      <td>386.106489</td>\n",
       "      <td>3214.041667</td>\n",
       "      <td>0.0</td>\n",
       "    </tr>\n",
       "    <tr>\n",
       "      <th>3</th>\n",
       "      <td>d179859aac8f7c1f88e1ee29b6655596873318c55127d3...</td>\n",
       "      <td>362.882202</td>\n",
       "      <td>3214.041667</td>\n",
       "      <td>118.0</td>\n",
       "    </tr>\n",
       "    <tr>\n",
       "      <th>4</th>\n",
       "      <td>d74a5cebc23c56af60a5768c22d44b52f598629d4011fa...</td>\n",
       "      <td>425.663298</td>\n",
       "      <td>3214.041667</td>\n",
       "      <td>0.0</td>\n",
       "    </tr>\n",
       "  </tbody>\n",
       "</table>\n",
       "</div>"
      ],
      "text/plain": [
       "                                           user_tier  \\\n",
       "0  747e44b477c7693ebc24bee9538cad9155ba5132eeb81f...   \n",
       "1  b366ccda4ef57a5cdc3f1c5afa6147dd30d0849bb88613...   \n",
       "2  be303dabea69281312bc30730bcef52abb9d27331f2809...   \n",
       "3  d179859aac8f7c1f88e1ee29b6655596873318c55127d3...   \n",
       "4  d74a5cebc23c56af60a5768c22d44b52f598629d4011fa...   \n",
       "\n",
       "   user_tier_mean_product_start_online_date  \\\n",
       "0                                357.263766   \n",
       "1                                380.305476   \n",
       "2                                386.106489   \n",
       "3                                362.882202   \n",
       "4                                425.663298   \n",
       "\n",
       "   user_tier_max_product_start_online_date  \\\n",
       "0                              3214.041667   \n",
       "1                              3214.041667   \n",
       "2                              3214.041667   \n",
       "3                              3214.041667   \n",
       "4                              3214.041667   \n",
       "\n",
       "   user_tier_min_product_start_online_date  \n",
       "0                                      0.0  \n",
       "1                                      0.0  \n",
       "2                                      0.0  \n",
       "3                                    118.0  \n",
       "4                                      0.0  "
      ]
     },
     "execution_count": 34,
     "metadata": {},
     "output_type": "execute_result"
    }
   ],
   "source": [
    "user_tier_mean_start_online_date = full_df.groupby([\"user_tier\"]).agg({\"start_online_date\": \"mean\"}).reset_index()\n",
    "user_tier_mean_start_online_date = user_tier_mean_start_online_date.rename(columns={\"start_online_date\": \"user_tier_mean_product_start_online_date\"})\n",
    "\n",
    "user_tier_max_start_online_date = full_df.groupby([\"user_tier\"]).agg({\"start_online_date\": \"max\"}).reset_index()\n",
    "user_tier_max_start_online_date = user_tier_max_start_online_date.rename(columns={\"start_online_date\": \"user_tier_max_product_start_online_date\"})\n",
    "user_tier_max_start_online_date = user_tier_mean_start_online_date.merge(user_tier_max_start_online_date, on=[\"user_tier\"], how=\"inner\")\n",
    "\n",
    "user_tier_min_start_online_date = full_df.groupby([\"user_tier\"]).agg({\"start_online_date\": \"min\"}).reset_index()\n",
    "user_tier_min_start_online_date = user_tier_min_start_online_date.rename(columns={\"start_online_date\": \"user_tier_min_product_start_online_date\"})\n",
    "user_tier_min_start_online_date = user_tier_max_start_online_date.merge(user_tier_min_start_online_date, on=[\"user_tier\"], how=\"inner\")\n",
    "\n",
    "user_tier_min_start_online_date.head()\n"
   ]
  },
  {
   "cell_type": "code",
   "execution_count": null,
   "metadata": {},
   "outputs": [],
   "source": []
  },
  {
   "cell_type": "markdown",
   "metadata": {},
   "source": [
    "# Click"
   ]
  },
  {
   "cell_type": "code",
   "execution_count": 37,
   "metadata": {},
   "outputs": [
    {
     "data": {
      "text/html": [
       "<div>\n",
       "<style scoped>\n",
       "    .dataframe tbody tr th:only-of-type {\n",
       "        vertical-align: middle;\n",
       "    }\n",
       "\n",
       "    .dataframe tbody tr th {\n",
       "        vertical-align: top;\n",
       "    }\n",
       "\n",
       "    .dataframe thead th {\n",
       "        text-align: right;\n",
       "    }\n",
       "</style>\n",
       "<table border=\"1\" class=\"dataframe\">\n",
       "  <thead>\n",
       "    <tr style=\"text-align: right;\">\n",
       "      <th></th>\n",
       "      <th>query_id</th>\n",
       "      <th>session_id</th>\n",
       "      <th>user_id</th>\n",
       "      <th>product_id</th>\n",
       "      <th>user_tier</th>\n",
       "      <th>product_price</th>\n",
       "      <th>start_online_date</th>\n",
       "    </tr>\n",
       "  </thead>\n",
       "  <tbody>\n",
       "    <tr>\n",
       "      <th>0</th>\n",
       "      <td>207454e43755700a650c30fa0b655226e4a6d4c3a6fde2...</td>\n",
       "      <td>ec2877a9ea2383289d46b7ad8a5208a59c8e67d3783edb...</td>\n",
       "      <td>c2a9051f311a1f5a116a5b990c01421db70e17ce7b1fbd...</td>\n",
       "      <td>49463bcf36dd614f33ddd3acd6312e79a538301d5fbbbc...</td>\n",
       "      <td>d74a5cebc23c56af60a5768c22d44b52f598629d4011fa...</td>\n",
       "      <td>0.007858</td>\n",
       "      <td>272.041667</td>\n",
       "    </tr>\n",
       "    <tr>\n",
       "      <th>1</th>\n",
       "      <td>aa277f6a6bb9138964f3b75b32cc9bc8a7695a2350a4ba...</td>\n",
       "      <td>e2431d5d6e15857a6d901be25fcd8ac733b3424609f1ee...</td>\n",
       "      <td>8c895f8be59c089f91fea0fce424e66189b973246fcb4a...</td>\n",
       "      <td>feddd77c4d8453645c8bb9bdc45d8e6f1abfda041db06d...</td>\n",
       "      <td>d74a5cebc23c56af60a5768c22d44b52f598629d4011fa...</td>\n",
       "      <td>0.000201</td>\n",
       "      <td>163.041667</td>\n",
       "    </tr>\n",
       "  </tbody>\n",
       "</table>\n",
       "</div>"
      ],
      "text/plain": [
       "                                            query_id  \\\n",
       "0  207454e43755700a650c30fa0b655226e4a6d4c3a6fde2...   \n",
       "1  aa277f6a6bb9138964f3b75b32cc9bc8a7695a2350a4ba...   \n",
       "\n",
       "                                          session_id  \\\n",
       "0  ec2877a9ea2383289d46b7ad8a5208a59c8e67d3783edb...   \n",
       "1  e2431d5d6e15857a6d901be25fcd8ac733b3424609f1ee...   \n",
       "\n",
       "                                             user_id  \\\n",
       "0  c2a9051f311a1f5a116a5b990c01421db70e17ce7b1fbd...   \n",
       "1  8c895f8be59c089f91fea0fce424e66189b973246fcb4a...   \n",
       "\n",
       "                                          product_id  \\\n",
       "0  49463bcf36dd614f33ddd3acd6312e79a538301d5fbbbc...   \n",
       "1  feddd77c4d8453645c8bb9bdc45d8e6f1abfda041db06d...   \n",
       "\n",
       "                                           user_tier  product_price  \\\n",
       "0  d74a5cebc23c56af60a5768c22d44b52f598629d4011fa...       0.007858   \n",
       "1  d74a5cebc23c56af60a5768c22d44b52f598629d4011fa...       0.000201   \n",
       "\n",
       "   start_online_date  \n",
       "0         272.041667  \n",
       "1         163.041667  "
      ]
     },
     "execution_count": 37,
     "metadata": {},
     "output_type": "execute_result"
    }
   ],
   "source": [
    "click_data = train[train[\"is_click\"]==1]\n",
    "click_data = click_data[[\"query_id\", \"session_id\", \"user_id\", \"product_id\", \"user_tier\", \"product_price\"]]\n",
    "click_data = click_data.merge(attribute_df, on=[\"product_id\"], how=\"left\")\n",
    "click_data.head(2)\n"
   ]
  },
  {
   "cell_type": "code",
   "execution_count": null,
   "metadata": {},
   "outputs": [],
   "source": []
  },
  {
   "cell_type": "code",
   "execution_count": 39,
   "metadata": {},
   "outputs": [
    {
     "data": {
      "text/html": [
       "<div>\n",
       "<style scoped>\n",
       "    .dataframe tbody tr th:only-of-type {\n",
       "        vertical-align: middle;\n",
       "    }\n",
       "\n",
       "    .dataframe tbody tr th {\n",
       "        vertical-align: top;\n",
       "    }\n",
       "\n",
       "    .dataframe thead th {\n",
       "        text-align: right;\n",
       "    }\n",
       "</style>\n",
       "<table border=\"1\" class=\"dataframe\">\n",
       "  <thead>\n",
       "    <tr style=\"text-align: right;\">\n",
       "      <th></th>\n",
       "      <th>user_tier</th>\n",
       "      <th>user_tier_mean_click_product_price</th>\n",
       "      <th>user_tier_max_click_product_price</th>\n",
       "      <th>user_tier_min_click_product_price</th>\n",
       "    </tr>\n",
       "  </thead>\n",
       "  <tbody>\n",
       "    <tr>\n",
       "      <th>0</th>\n",
       "      <td>747e44b477c7693ebc24bee9538cad9155ba5132eeb81f...</td>\n",
       "      <td>0.001503</td>\n",
       "      <td>0.597656</td>\n",
       "      <td>0.000016</td>\n",
       "    </tr>\n",
       "    <tr>\n",
       "      <th>1</th>\n",
       "      <td>b366ccda4ef57a5cdc3f1c5afa6147dd30d0849bb88613...</td>\n",
       "      <td>0.001082</td>\n",
       "      <td>0.877930</td>\n",
       "      <td>0.000008</td>\n",
       "    </tr>\n",
       "    <tr>\n",
       "      <th>2</th>\n",
       "      <td>be303dabea69281312bc30730bcef52abb9d27331f2809...</td>\n",
       "      <td>0.001056</td>\n",
       "      <td>0.867188</td>\n",
       "      <td>0.000008</td>\n",
       "    </tr>\n",
       "    <tr>\n",
       "      <th>3</th>\n",
       "      <td>d179859aac8f7c1f88e1ee29b6655596873318c55127d3...</td>\n",
       "      <td>0.001158</td>\n",
       "      <td>0.436035</td>\n",
       "      <td>0.000016</td>\n",
       "    </tr>\n",
       "    <tr>\n",
       "      <th>4</th>\n",
       "      <td>d74a5cebc23c56af60a5768c22d44b52f598629d4011fa...</td>\n",
       "      <td>0.001987</td>\n",
       "      <td>0.934082</td>\n",
       "      <td>0.000003</td>\n",
       "    </tr>\n",
       "  </tbody>\n",
       "</table>\n",
       "</div>"
      ],
      "text/plain": [
       "                                           user_tier  \\\n",
       "0  747e44b477c7693ebc24bee9538cad9155ba5132eeb81f...   \n",
       "1  b366ccda4ef57a5cdc3f1c5afa6147dd30d0849bb88613...   \n",
       "2  be303dabea69281312bc30730bcef52abb9d27331f2809...   \n",
       "3  d179859aac8f7c1f88e1ee29b6655596873318c55127d3...   \n",
       "4  d74a5cebc23c56af60a5768c22d44b52f598629d4011fa...   \n",
       "\n",
       "   user_tier_mean_click_product_price  user_tier_max_click_product_price  \\\n",
       "0                            0.001503                           0.597656   \n",
       "1                            0.001082                           0.877930   \n",
       "2                            0.001056                           0.867188   \n",
       "3                            0.001158                           0.436035   \n",
       "4                            0.001987                           0.934082   \n",
       "\n",
       "   user_tier_min_click_product_price  \n",
       "0                           0.000016  \n",
       "1                           0.000008  \n",
       "2                           0.000008  \n",
       "3                           0.000016  \n",
       "4                           0.000003  "
      ]
     },
     "execution_count": 39,
     "metadata": {},
     "output_type": "execute_result"
    }
   ],
   "source": [
    "user_tier_mean_click_price = click_data.groupby([\"user_tier\"]).agg({\"product_price\": \"mean\"}).reset_index()\n",
    "user_tier_mean_click_price = user_tier_mean_click_price.rename(columns={\"product_price\": \"user_tier_mean_click_product_price\"})\n",
    "\n",
    "user_tier_max_click_price = click_data.groupby([\"user_tier\"]).agg({\"product_price\": \"max\"}).reset_index()\n",
    "user_tier_max_click_price = user_tier_max_click_price.rename(columns={\"product_price\": \"user_tier_max_click_product_price\"})\n",
    "user_tier_max_click_price = user_tier_mean_click_price.merge(user_tier_max_click_price, on=[\"user_tier\"], how=\"inner\")\n",
    "\n",
    "user_tier_min_click_price = click_data.groupby([\"user_tier\"]).agg({\"product_price\": \"min\"}).reset_index()\n",
    "user_tier_min_click_price = user_tier_min_click_price.rename(columns={\"product_price\": \"user_tier_min_click_product_price\"})\n",
    "user_tier_min_click_price = user_tier_max_click_price.merge(user_tier_min_click_price, on=[\"user_tier\"], how=\"inner\")\n",
    "\n",
    "user_tier_min_click_price.head()\n"
   ]
  },
  {
   "cell_type": "code",
   "execution_count": 42,
   "metadata": {},
   "outputs": [
    {
     "data": {
      "text/html": [
       "<div>\n",
       "<style scoped>\n",
       "    .dataframe tbody tr th:only-of-type {\n",
       "        vertical-align: middle;\n",
       "    }\n",
       "\n",
       "    .dataframe tbody tr th {\n",
       "        vertical-align: top;\n",
       "    }\n",
       "\n",
       "    .dataframe thead th {\n",
       "        text-align: right;\n",
       "    }\n",
       "</style>\n",
       "<table border=\"1\" class=\"dataframe\">\n",
       "  <thead>\n",
       "    <tr style=\"text-align: right;\">\n",
       "      <th></th>\n",
       "      <th>user_tier</th>\n",
       "      <th>user_tier_mean_click_product_start_online_date</th>\n",
       "      <th>user_tier_max_click_product_start_online_date</th>\n",
       "      <th>user_tier_min_click_product_start_online_date</th>\n",
       "    </tr>\n",
       "  </thead>\n",
       "  <tbody>\n",
       "    <tr>\n",
       "      <th>0</th>\n",
       "      <td>747e44b477c7693ebc24bee9538cad9155ba5132eeb81f...</td>\n",
       "      <td>355.391213</td>\n",
       "      <td>3214.041667</td>\n",
       "      <td>126.0</td>\n",
       "    </tr>\n",
       "    <tr>\n",
       "      <th>1</th>\n",
       "      <td>b366ccda4ef57a5cdc3f1c5afa6147dd30d0849bb88613...</td>\n",
       "      <td>378.023500</td>\n",
       "      <td>3214.041667</td>\n",
       "      <td>125.0</td>\n",
       "    </tr>\n",
       "    <tr>\n",
       "      <th>2</th>\n",
       "      <td>be303dabea69281312bc30730bcef52abb9d27331f2809...</td>\n",
       "      <td>385.404646</td>\n",
       "      <td>3214.041667</td>\n",
       "      <td>125.0</td>\n",
       "    </tr>\n",
       "    <tr>\n",
       "      <th>3</th>\n",
       "      <td>d179859aac8f7c1f88e1ee29b6655596873318c55127d3...</td>\n",
       "      <td>357.790215</td>\n",
       "      <td>3214.041667</td>\n",
       "      <td>125.0</td>\n",
       "    </tr>\n",
       "    <tr>\n",
       "      <th>4</th>\n",
       "      <td>d74a5cebc23c56af60a5768c22d44b52f598629d4011fa...</td>\n",
       "      <td>426.511957</td>\n",
       "      <td>3214.041667</td>\n",
       "      <td>120.0</td>\n",
       "    </tr>\n",
       "  </tbody>\n",
       "</table>\n",
       "</div>"
      ],
      "text/plain": [
       "                                           user_tier  \\\n",
       "0  747e44b477c7693ebc24bee9538cad9155ba5132eeb81f...   \n",
       "1  b366ccda4ef57a5cdc3f1c5afa6147dd30d0849bb88613...   \n",
       "2  be303dabea69281312bc30730bcef52abb9d27331f2809...   \n",
       "3  d179859aac8f7c1f88e1ee29b6655596873318c55127d3...   \n",
       "4  d74a5cebc23c56af60a5768c22d44b52f598629d4011fa...   \n",
       "\n",
       "   user_tier_mean_click_product_start_online_date  \\\n",
       "0                                      355.391213   \n",
       "1                                      378.023500   \n",
       "2                                      385.404646   \n",
       "3                                      357.790215   \n",
       "4                                      426.511957   \n",
       "\n",
       "   user_tier_max_click_product_start_online_date  \\\n",
       "0                                    3214.041667   \n",
       "1                                    3214.041667   \n",
       "2                                    3214.041667   \n",
       "3                                    3214.041667   \n",
       "4                                    3214.041667   \n",
       "\n",
       "   user_tier_min_click_product_start_online_date  \n",
       "0                                          126.0  \n",
       "1                                          125.0  \n",
       "2                                          125.0  \n",
       "3                                          125.0  \n",
       "4                                          120.0  "
      ]
     },
     "execution_count": 42,
     "metadata": {},
     "output_type": "execute_result"
    }
   ],
   "source": [
    "user_tier_mean_click_start_online_date = click_data.groupby([\"user_tier\"]).agg({\"start_online_date\": \"mean\"}).reset_index()\n",
    "user_tier_mean_click_start_online_date = user_tier_mean_click_start_online_date.rename(columns={\"start_online_date\": \"user_tier_mean_click_product_start_online_date\"})\n",
    "\n",
    "user_tier_max_click_start_online_date = click_data.groupby([\"user_tier\"]).agg({\"start_online_date\": \"max\"}).reset_index()\n",
    "user_tier_max_click_start_online_date = user_tier_max_click_start_online_date.rename(columns={\"start_online_date\": \"user_tier_max_click_product_start_online_date\"})\n",
    "user_tier_max_click_start_online_date = user_tier_mean_click_start_online_date.merge(user_tier_max_click_start_online_date, on=[\"user_tier\"], how=\"inner\")\n",
    "\n",
    "user_tier_min_click_start_online_date = click_data.groupby([\"user_tier\"]).agg({\"start_online_date\": \"min\"}).reset_index()\n",
    "user_tier_min_click_start_online_date = user_tier_min_click_start_online_date.rename(columns={\"start_online_date\": \"user_tier_min_click_product_start_online_date\"})\n",
    "user_tier_min_click_start_online_date = user_tier_max_click_start_online_date.merge(user_tier_min_click_start_online_date, on=[\"user_tier\"], how=\"inner\")\n",
    "\n",
    "user_tier_min_click_start_online_date.head()\n"
   ]
  },
  {
   "cell_type": "code",
   "execution_count": null,
   "metadata": {},
   "outputs": [],
   "source": []
  },
  {
   "cell_type": "code",
   "execution_count": 44,
   "metadata": {},
   "outputs": [
    {
     "data": {
      "text/html": [
       "<div>\n",
       "<style scoped>\n",
       "    .dataframe tbody tr th:only-of-type {\n",
       "        vertical-align: middle;\n",
       "    }\n",
       "\n",
       "    .dataframe tbody tr th {\n",
       "        vertical-align: top;\n",
       "    }\n",
       "\n",
       "    .dataframe thead th {\n",
       "        text-align: right;\n",
       "    }\n",
       "</style>\n",
       "<table border=\"1\" class=\"dataframe\">\n",
       "  <thead>\n",
       "    <tr style=\"text-align: right;\">\n",
       "      <th></th>\n",
       "      <th>user_tier</th>\n",
       "      <th>user_tier_mean_product_price</th>\n",
       "      <th>user_tier_max_product_price</th>\n",
       "      <th>user_tier_min_product_price</th>\n",
       "      <th>user_tier_mean_product_start_online_date</th>\n",
       "      <th>user_tier_max_product_start_online_date</th>\n",
       "      <th>user_tier_min_product_start_online_date</th>\n",
       "      <th>user_tier_mean_click_product_price</th>\n",
       "      <th>user_tier_max_click_product_price</th>\n",
       "      <th>user_tier_min_click_product_price</th>\n",
       "      <th>user_tier_mean_click_product_start_online_date</th>\n",
       "      <th>user_tier_max_click_product_start_online_date</th>\n",
       "      <th>user_tier_min_click_product_start_online_date</th>\n",
       "    </tr>\n",
       "  </thead>\n",
       "  <tbody>\n",
       "    <tr>\n",
       "      <th>0</th>\n",
       "      <td>747e44b477c7693ebc24bee9538cad9155ba5132eeb81f...</td>\n",
       "      <td>0.001414</td>\n",
       "      <td>0.597656</td>\n",
       "      <td>0.000008</td>\n",
       "      <td>357.263766</td>\n",
       "      <td>3214.041667</td>\n",
       "      <td>0.0</td>\n",
       "      <td>0.001503</td>\n",
       "      <td>0.597656</td>\n",
       "      <td>0.000016</td>\n",
       "      <td>355.391213</td>\n",
       "      <td>3214.041667</td>\n",
       "      <td>126.0</td>\n",
       "    </tr>\n",
       "    <tr>\n",
       "      <th>1</th>\n",
       "      <td>b366ccda4ef57a5cdc3f1c5afa6147dd30d0849bb88613...</td>\n",
       "      <td>0.001095</td>\n",
       "      <td>0.877930</td>\n",
       "      <td>0.000006</td>\n",
       "      <td>380.305476</td>\n",
       "      <td>3214.041667</td>\n",
       "      <td>0.0</td>\n",
       "      <td>0.001082</td>\n",
       "      <td>0.877930</td>\n",
       "      <td>0.000008</td>\n",
       "      <td>378.023500</td>\n",
       "      <td>3214.041667</td>\n",
       "      <td>125.0</td>\n",
       "    </tr>\n",
       "    <tr>\n",
       "      <th>2</th>\n",
       "      <td>be303dabea69281312bc30730bcef52abb9d27331f2809...</td>\n",
       "      <td>0.001064</td>\n",
       "      <td>0.877930</td>\n",
       "      <td>0.000000</td>\n",
       "      <td>386.106489</td>\n",
       "      <td>3214.041667</td>\n",
       "      <td>0.0</td>\n",
       "      <td>0.001056</td>\n",
       "      <td>0.867188</td>\n",
       "      <td>0.000008</td>\n",
       "      <td>385.404646</td>\n",
       "      <td>3214.041667</td>\n",
       "      <td>125.0</td>\n",
       "    </tr>\n",
       "    <tr>\n",
       "      <th>3</th>\n",
       "      <td>d179859aac8f7c1f88e1ee29b6655596873318c55127d3...</td>\n",
       "      <td>0.001194</td>\n",
       "      <td>0.847656</td>\n",
       "      <td>0.000007</td>\n",
       "      <td>362.882202</td>\n",
       "      <td>3214.041667</td>\n",
       "      <td>118.0</td>\n",
       "      <td>0.001158</td>\n",
       "      <td>0.436035</td>\n",
       "      <td>0.000016</td>\n",
       "      <td>357.790215</td>\n",
       "      <td>3214.041667</td>\n",
       "      <td>125.0</td>\n",
       "    </tr>\n",
       "    <tr>\n",
       "      <th>4</th>\n",
       "      <td>d74a5cebc23c56af60a5768c22d44b52f598629d4011fa...</td>\n",
       "      <td>0.001904</td>\n",
       "      <td>1.000000</td>\n",
       "      <td>0.000000</td>\n",
       "      <td>425.663298</td>\n",
       "      <td>3214.041667</td>\n",
       "      <td>0.0</td>\n",
       "      <td>0.001987</td>\n",
       "      <td>0.934082</td>\n",
       "      <td>0.000003</td>\n",
       "      <td>426.511957</td>\n",
       "      <td>3214.041667</td>\n",
       "      <td>120.0</td>\n",
       "    </tr>\n",
       "  </tbody>\n",
       "</table>\n",
       "</div>"
      ],
      "text/plain": [
       "                                           user_tier  \\\n",
       "0  747e44b477c7693ebc24bee9538cad9155ba5132eeb81f...   \n",
       "1  b366ccda4ef57a5cdc3f1c5afa6147dd30d0849bb88613...   \n",
       "2  be303dabea69281312bc30730bcef52abb9d27331f2809...   \n",
       "3  d179859aac8f7c1f88e1ee29b6655596873318c55127d3...   \n",
       "4  d74a5cebc23c56af60a5768c22d44b52f598629d4011fa...   \n",
       "\n",
       "   user_tier_mean_product_price  user_tier_max_product_price  \\\n",
       "0                      0.001414                     0.597656   \n",
       "1                      0.001095                     0.877930   \n",
       "2                      0.001064                     0.877930   \n",
       "3                      0.001194                     0.847656   \n",
       "4                      0.001904                     1.000000   \n",
       "\n",
       "   user_tier_min_product_price  user_tier_mean_product_start_online_date  \\\n",
       "0                     0.000008                                357.263766   \n",
       "1                     0.000006                                380.305476   \n",
       "2                     0.000000                                386.106489   \n",
       "3                     0.000007                                362.882202   \n",
       "4                     0.000000                                425.663298   \n",
       "\n",
       "   user_tier_max_product_start_online_date  \\\n",
       "0                              3214.041667   \n",
       "1                              3214.041667   \n",
       "2                              3214.041667   \n",
       "3                              3214.041667   \n",
       "4                              3214.041667   \n",
       "\n",
       "   user_tier_min_product_start_online_date  \\\n",
       "0                                      0.0   \n",
       "1                                      0.0   \n",
       "2                                      0.0   \n",
       "3                                    118.0   \n",
       "4                                      0.0   \n",
       "\n",
       "   user_tier_mean_click_product_price  user_tier_max_click_product_price  \\\n",
       "0                            0.001503                           0.597656   \n",
       "1                            0.001082                           0.877930   \n",
       "2                            0.001056                           0.867188   \n",
       "3                            0.001158                           0.436035   \n",
       "4                            0.001987                           0.934082   \n",
       "\n",
       "   user_tier_min_click_product_price  \\\n",
       "0                           0.000016   \n",
       "1                           0.000008   \n",
       "2                           0.000008   \n",
       "3                           0.000016   \n",
       "4                           0.000003   \n",
       "\n",
       "   user_tier_mean_click_product_start_online_date  \\\n",
       "0                                      355.391213   \n",
       "1                                      378.023500   \n",
       "2                                      385.404646   \n",
       "3                                      357.790215   \n",
       "4                                      426.511957   \n",
       "\n",
       "   user_tier_max_click_product_start_online_date  \\\n",
       "0                                    3214.041667   \n",
       "1                                    3214.041667   \n",
       "2                                    3214.041667   \n",
       "3                                    3214.041667   \n",
       "4                                    3214.041667   \n",
       "\n",
       "   user_tier_min_click_product_start_online_date  \n",
       "0                                          126.0  \n",
       "1                                          125.0  \n",
       "2                                          125.0  \n",
       "3                                          125.0  \n",
       "4                                          120.0  "
      ]
     },
     "execution_count": 44,
     "metadata": {},
     "output_type": "execute_result"
    }
   ],
   "source": [
    "merged_user_tier_df = user_tier_min_price.merge(user_tier_min_start_online_date, on=\"user_tier\", how=\"left\")\n",
    "merged_user_tier_df = merged_user_tier_df.merge(user_tier_min_click_price, on=\"user_tier\", how=\"left\")\n",
    "merged_user_tier_df = merged_user_tier_df.merge(user_tier_min_click_start_online_date, on=\"user_tier\", how=\"left\")\n",
    "merged_user_tier_df.head()\n"
   ]
  },
  {
   "cell_type": "code",
   "execution_count": 45,
   "metadata": {},
   "outputs": [],
   "source": [
    "# merged_user_tier_df.to_csv(\"../preprocessed_data/user_tier_features.csv\", index=False)\n"
   ]
  },
  {
   "cell_type": "code",
   "execution_count": null,
   "metadata": {},
   "outputs": [],
   "source": []
  },
  {
   "cell_type": "code",
   "execution_count": null,
   "metadata": {},
   "outputs": [],
   "source": []
  }
 ],
 "metadata": {
  "kernelspec": {
   "display_name": "Python 3",
   "language": "python",
   "name": "python3"
  },
  "language_info": {
   "codemirror_mode": {
    "name": "ipython",
    "version": 3
   },
   "file_extension": ".py",
   "mimetype": "text/x-python",
   "name": "python",
   "nbconvert_exporter": "python",
   "pygments_lexer": "ipython3",
   "version": "3.7.8"
  }
 },
 "nbformat": 4,
 "nbformat_minor": 4
}
